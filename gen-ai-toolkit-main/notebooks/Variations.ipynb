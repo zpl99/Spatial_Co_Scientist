{
 "cells": [
  {
   "cell_type": "code",
   "execution_count": 1,
   "id": "6bfd437336567c0b",
   "metadata": {
    "ExecuteTime": {
     "end_time": "2025-02-07T10:16:01.365559Z",
     "start_time": "2025-02-07T10:16:01.361762Z"
    }
   },
   "outputs": [],
   "source": [
    "import warnings\n",
    "\n",
    "warnings.simplefilter(action=\"ignore\", category=FutureWarning)\n",
    "warnings.simplefilter(action=\"ignore\", category=UserWarning)"
   ]
  },
  {
   "cell_type": "code",
   "execution_count": 2,
   "id": "75b1cd5ba7c6500",
   "metadata": {
    "ExecuteTime": {
     "end_time": "2025-02-07T10:16:04.664206Z",
     "start_time": "2025-02-07T10:16:03.814887Z"
    }
   },
   "outputs": [],
   "source": [
    "#\n",
    "import os\n",
    "import random\n",
    "from textwrap import dedent\n",
    "\n",
    "from gait import FEL, Layers, s_message, u_message, a_message\n",
    "from litellm import completion\n",
    "from rich.pretty import pprint"
   ]
  },
  {
   "cell_type": "code",
   "execution_count": 4,
   "id": "11b4f9ba-e50a-4af2-8c52-e62186f6dfc1",
   "metadata": {
    "ExecuteTime": {
     "end_time": "2025-02-07T10:16:05.456974Z",
     "start_time": "2025-02-07T10:16:05.449002Z"
    }
   },
   "outputs": [],
   "source": [
    "layers = Layers.load(os.path.expanduser(\"~/data/NorthSea.json\"))\n",
    "fel = FEL(layers=layers.layers)"
   ]
  },
  {
   "cell_type": "code",
   "execution_count": 5,
   "id": "1af4ad6c-d4af-420e-a308-4818b9297378",
   "metadata": {
    "ExecuteTime": {
     "end_time": "2025-02-07T10:16:06.576418Z",
     "start_time": "2025-02-07T10:16:06.568758Z"
    }
   },
   "outputs": [],
   "source": [
    "attributes = fel.attributes()\n",
    "# print(attributes)"
   ]
  },
  {
   "cell_type": "code",
   "execution_count": 6,
   "id": "fd115638-1294-4779-9699-642f26e56160",
   "metadata": {
    "ExecuteTime": {
     "end_time": "2025-02-07T10:16:52.856522Z",
     "start_time": "2025-02-07T10:16:52.851918Z"
    }
   },
   "outputs": [],
   "source": [
    "# model = \"qwen2:7b-instruct-q8_0\"\n",
    "# model = \"dolphin3:8b-llama3.1-q8_0\"\n",
    "model = \"ollama_chat/phi4:14b-q8_0\"\n",
    "# model = \"command-r7b:7b-12-2024-q8_0\"\n",
    "# model = f\"azure/{os.environ['AZURE_API_DEPLOYMENT']}\""
   ]
  },
  {
   "cell_type": "code",
   "execution_count": 7,
   "id": "76912785-e606-41ed-ae09-e53edf74321f",
   "metadata": {
    "ExecuteTime": {
     "end_time": "2025-02-07T10:16:57.363524Z",
     "start_time": "2025-02-07T10:16:57.356497Z"
    }
   },
   "outputs": [],
   "source": [
    "system = dedent(\n",
    "    f\"\"\"\n",
    "You are an AI specialized in creating variations of geospatial and non-geospatial queries.\n",
    "Your task is to generate one variation of a user's prompt, incorporating spatial relations, non-spatial relations, and spatial layer filter attributes as appropriate.\n",
    "Adapt to the context while maintaining logical consistency and relevance to the original query.\n",
    "\n",
    "Guidelines:\n",
    "1. Analyze the original query to identify spatial and non-spatial elements.\n",
    "2. Create ONE variation that rephrases the query with a distinct focus or intent.\n",
    "3. Incorporate relevant spatial relations (e.g., \"intersects,\" \"within,\" \"near\"), non-spatial relations (e.g., attribute-based filtering, temporal aspects), and spatial layer filter attributes based on the provided schema.\n",
    "4. Use clear, concise language in your variation.\n",
    "5. Maintain the original query's core intent and logic.\n",
    "6. Do not add spatial context if it doesn't exist in the original prompt.\n",
    "7. Output only the variation without explanations.\n",
    "\n",
    "If the query lacks clear spatial or non-spatial elements, focus on enhancing the existing elements or clarifying the intent.\n",
    "\n",
    "Schema for spatial layers:\n",
    "{attributes}\n",
    "\n",
    "Respond with only the variation, without additional commentary.\n",
    "\"\"\"\n",
    ").strip()"
   ]
  },
  {
   "cell_type": "code",
   "execution_count": 8,
   "id": "47588ea5-86e4-4b97-8101-59bf021c867e",
   "metadata": {},
   "outputs": [
    {
     "name": "stdout",
     "output_type": "stream",
     "text": [
      "You are an AI specialized in creating variations of geospatial and non-geospatial queries.\n",
      "Your task is to generate one variation of a user's prompt, incorporating spatial relations, non-spatial relations, and spatial layer filter attributes as appropriate.\n",
      "Adapt to the context while maintaining logical consistency and relevance to the original query.\n",
      "\n",
      "Guidelines:\n",
      "1. Analyze the original query to identify spatial and non-spatial elements.\n",
      "2. Create ONE variation that rephrases the query with a distinct focus or intent.\n",
      "3. Incorporate relevant spatial relations (e.g., \"intersects,\" \"within,\" \"near\"), non-spatial relations (e.g., attribute-based filtering, temporal aspects), and spatial layer filter attributes based on the provided schema.\n",
      "4. Use clear, concise language in your variation.\n",
      "5. Maintain the original query's core intent and logic.\n",
      "6. Do not add spatial context if it doesn't exist in the original prompt.\n",
      "7. Output only the variation without explanations.\n",
      "\n",
      "If the query lacks clear spatial or non-spatial elements, focus on enhancing the existing elements or clarifying the intent.\n",
      "\n",
      "Schema for spatial layers:\n",
      "Layer: wellbores\n",
      "- Shape: Geometry (Point)\n",
      "- Attributes:\n",
      "\twell_name (String): well name\n",
      "\twellbore_name (String): well bore name\n",
      "\tpurpose (String): purpose\n",
      "\tcontent (String): content\n",
      "\tfield_name (String): field name\n",
      "\tmultilateral (String): multilateral\n",
      "\tentry_date (Date): entry date\n",
      "\tcompletion_date (Date): completion date\n",
      "\tstatus (String): status\n",
      "\twater_depth (Double): water depth\n",
      "\tsource (String): source\n",
      "\twell_type (String): well type\n",
      "\tdiscovery_wellbore (String): discovery well bore\n",
      "\tdrilling_operator (String): drilling operator\n",
      "\tdrilling_facility (String): drilling facility\n",
      "\tproduction_licence (String): production licence\n",
      "\tcountry (String): country\n",
      "\tentity_id (String): entity id\n",
      "\tcasing_lot (SmallInteger): casing lot\n",
      "\tcomposite_log (SmallInteger): composite log\n",
      "\tcore_photo (SmallInteger): core photo\n",
      "\tcores (SmallInteger): cores\n",
      "\tcuttings (SmallInteger): cuttings\n",
      "\tdst (SmallInteger): dst\n",
      "\tformation_tops (SmallInteger): formation tops\n",
      "\tgeochem_info (SmallInteger): geo chem info\n",
      "\tlog (SmallInteger): log\n",
      "\tmud (SmallInteger): mud\n",
      "\toil_samples (SmallInteger): oil samples\n",
      "\told_wdss (SmallInteger): old wds s\n",
      "\tpaly_slides (SmallInteger): p aly slides\n",
      "\twellbore_history (SmallInteger): well bore history\n",
      "\tnpd_papers (SmallInteger): core sample\n",
      "\tcuttings_sample (String): cuttings sample\n",
      "\tcore_sample (String): core sample\n",
      "\tdoc_by_licensee (SmallInteger): doc by licensee\n",
      "\tCountryName (String): country name\n",
      "\n",
      "\n",
      "Layer: pipelines\n",
      "- Shape: Geometry (Polyline)\n",
      "- Attributes:\n",
      "\tcountry (String): country\n",
      "\tcurrent_operator (String): current operator\n",
      "\tcurrent_phase (String): current phase\n",
      "\tdimension (Double): dimension\n",
      "\tfrom_facility (String): from facility\n",
      "\tmedium (String): medium\n",
      "\tpipe_name (String): pipe name\n",
      "\tto_facility (String): to facility\n",
      "\n",
      "\n",
      "Layer: discoveries\n",
      "- Shape: Geometry (Polygon)\n",
      "- Attributes:\n",
      "\tdiscovery_name (String): discovery name\n",
      "\tdiscovery_type (Integer): discovery type\n",
      "\tincluded_in_field (String): included in field\n",
      "\tincluded_in_discovery_name (String): included in discovery name\n",
      "\tfield_label (String): field label\n",
      "\tdiscovery_hc_type (String): discovery hc type\n",
      "\tsource (String): source\n",
      "\tfield_name (String): field name\n",
      "\tfield_hc_type (String): field hc type\n",
      "\tfield_current_activity_status (String): field current activity status\n",
      "\tdiscovery_current_activity_sta (String): discovery current activity st a\n",
      "\tdiscovery_wellbore_name (String): discovery well bore name\n",
      "\tcountry (String): country\n",
      "\n",
      "\n",
      "\n",
      "Respond with only the variation, without additional commentary.\n"
     ]
    }
   ],
   "source": [
    "print(system)"
   ]
  },
  {
   "cell_type": "code",
   "execution_count": 9,
   "id": "873aea4666780787",
   "metadata": {
    "ExecuteTime": {
     "end_time": "2025-02-07T10:17:11.262066Z",
     "start_time": "2025-02-07T10:17:11.254905Z"
    }
   },
   "outputs": [],
   "source": [
    "def variation(content: str) -> str:\n",
    "    response = completion(\n",
    "        model=model,\n",
    "        temperature=0.35,\n",
    "        messages=[\n",
    "            s_message(system),\n",
    "            u_message(\"Find pipelines where dimension < 20.0 that are inside wellbores\"),\n",
    "            a_message(\"Identify pipelines with dimensions less than 20.0 meters that intersect with wellbore locations\"),\n",
    "            u_message(\n",
    "                \"Identify all discoveries with discovery type > 3 and discovery current activity state is production ceased\"),\n",
    "            a_message(\n",
    "                \"Locate all discoveries where the discovery type exceeds 3 and the discovery's current activity status is marked as 'production ceased.'\"),\n",
    "            u_message(\"Find pipelines that are inside discoveries where field type is not like gas\"),\n",
    "            a_message(\"Locate pipelines within discoveries where the field type does not include 'gas'\"),\n",
    "            u_message(content),\n",
    "        ],\n",
    "    )\n",
    "    return response.choices[0].message.content"
   ]
  },
  {
   "cell_type": "code",
   "execution_count": 10,
   "id": "1d1c88c66ea9aba4",
   "metadata": {
    "ExecuteTime": {
     "end_time": "2025-02-07T10:30:35.553351Z",
     "start_time": "2025-02-07T10:30:33.454492Z"
    }
   },
   "outputs": [
    {
     "name": "stdout",
     "output_type": "stream",
     "text": [
      "Identify pipelines where dimension is not 42.0 and dimension not exceeding 26.0 or pipe name <> 36\" gas troll a, kollsnes\n"
     ]
    },
    {
     "data": {
      "text/html": [
       "<pre style=\"white-space:pre;overflow-x:auto;line-height:normal;font-family:Menlo,'DejaVu Sans Mono',consolas,'Courier New',monospace\"><span style=\"color: #800080; text-decoration-color: #800080; font-weight: bold\">LineFEL</span><span style=\"font-weight: bold\">(</span>\n",
       "<span style=\"color: #7fbf7f; text-decoration-color: #7fbf7f\">│   </span><span style=\"color: #808000; text-decoration-color: #808000\">line</span>=<span style=\"color: #008000; text-decoration-color: #008000\">'Identify pipelines where dimension is not 42.0 and dimension not exceeding 26.0 or pipe name &lt;&gt; 36\" gas troll a, kollsnes'</span><span style=\"color: #000000; text-decoration-color: #000000\">,</span>\n",
       "<span style=\"color: #7fbf7f; text-decoration-color: #7fbf7f\">│   </span><span style=\"color: #808000; text-decoration-color: #808000\">fel</span><span style=\"color: #000000; text-decoration-color: #000000\">=</span><span style=\"color: #800080; text-decoration-color: #800080; font-weight: bold\">FEL1</span><span style=\"color: #000000; text-decoration-color: #000000; font-weight: bold\">(</span>\n",
       "<span style=\"color: #7fbf7f; text-decoration-color: #7fbf7f\">│   │   </span><span style=\"color: #808000; text-decoration-color: #808000\">layer</span><span style=\"color: #000000; text-decoration-color: #000000\">=</span><span style=\"color: #008000; text-decoration-color: #008000\">'Pipelines'</span><span style=\"color: #000000; text-decoration-color: #000000\">,</span>\n",
       "<span style=\"color: #7fbf7f; text-decoration-color: #7fbf7f\">│   │   </span><span style=\"color: #808000; text-decoration-color: #808000\">where</span><span style=\"color: #000000; text-decoration-color: #000000\">=</span><span style=\"color: #008000; text-decoration-color: #008000\">'dimension &lt;&gt; 42.0 and dimension &lt; 26.0 or pipe_name &lt;&gt; \\'36\" Gas TROLL A, KOLLSNES\\''</span>\n",
       "<span style=\"color: #7fbf7f; text-decoration-color: #7fbf7f\">│   </span><span style=\"font-weight: bold\">)</span>\n",
       "<span style=\"font-weight: bold\">)</span>\n",
       "</pre>\n"
      ],
      "text/plain": [
       "\u001b[1;35mLineFEL\u001b[0m\u001b[1m(\u001b[0m\n",
       "\u001b[2;32m│   \u001b[0m\u001b[33mline\u001b[0m=\u001b[32m'Identify pipelines where dimension is not 42.0 and dimension not exceeding 26.0 or pipe name \u001b[0m\u001b[32m<\u001b[0m\u001b[32m> 36\" gas troll a, kollsnes'\u001b[0m\u001b[39m,\u001b[0m\n",
       "\u001b[2;32m│   \u001b[0m\u001b[33mfel\u001b[0m\u001b[39m=\u001b[0m\u001b[1;35mFEL1\u001b[0m\u001b[1;39m(\u001b[0m\n",
       "\u001b[2;32m│   │   \u001b[0m\u001b[33mlayer\u001b[0m\u001b[39m=\u001b[0m\u001b[32m'Pipelines'\u001b[0m\u001b[39m,\u001b[0m\n",
       "\u001b[2;32m│   │   \u001b[0m\u001b[33mwhere\u001b[0m\u001b[39m=\u001b[0m\u001b[32m'dimension <> 42.0 and dimension < 26.0 or pipe_name <\u001b[0m\u001b[32m>\u001b[0m\u001b[32m \\'36\" Gas TROLL A, KOLLSNES\\''\u001b[0m\n",
       "\u001b[2;32m│   \u001b[0m\u001b[1m)\u001b[0m\n",
       "\u001b[1m)\u001b[0m\n"
      ]
     },
     "metadata": {},
     "output_type": "display_data"
    },
    {
     "name": "stdout",
     "output_type": "stream",
     "text": [
      "\n",
      "Find pipelines with dimensions that are neither exactly 42.0 nor greater than 26.0, excluding those named '36\" gas troll A, Kollsnes.'\n"
     ]
    }
   ],
   "source": [
    "line_fel = random.choice([fel.create_line_1, fel.create_line_2])()\n",
    "# line_fel = fel.create_line_1()\n",
    "print(line_fel.line)\n",
    "pprint(line_fel, expand_all=True)\n",
    "print()\n",
    "print(variation(line_fel.line))"
   ]
  },
  {
   "cell_type": "code",
   "execution_count": null,
   "id": "e6958a44-ee47-4767-b708-441834565d9e",
   "metadata": {},
   "outputs": [],
   "source": []
  }
 ],
 "metadata": {
  "kernelspec": {
   "display_name": "Python 3 (ipykernel)",
   "language": "python",
   "name": "python3"
  },
  "language_info": {
   "codemirror_mode": {
    "name": "ipython",
    "version": 3
   },
   "file_extension": ".py",
   "mimetype": "text/x-python",
   "name": "python",
   "nbconvert_exporter": "python",
   "pygments_lexer": "ipython3",
   "version": "3.11.12"
  }
 },
 "nbformat": 4,
 "nbformat_minor": 5
}
