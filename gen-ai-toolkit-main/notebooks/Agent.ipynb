{
 "cells": [
  {
   "cell_type": "markdown",
   "id": "2470c96dbc136a5b",
   "metadata": {},
   "source": [
    "## Notebook to demo Agent class"
   ]
  },
  {
   "cell_type": "code",
   "id": "83f95a25ddc1fccb",
   "metadata": {
    "ExecuteTime": {
     "end_time": "2025-07-15T19:34:40.543991Z",
     "start_time": "2025-07-15T19:34:40.541397Z"
    }
   },
   "source": [
    "import os\n",
    "import warnings\n",
    "\n",
    "warnings.simplefilter(action=\"ignore\", category=FutureWarning)\n",
    "warnings.simplefilter(action=\"ignore\", category=UserWarning)"
   ],
   "outputs": [],
   "execution_count": 2
  },
  {
   "cell_type": "code",
   "id": "5e93ce61cbbb7341",
   "metadata": {
    "ExecuteTime": {
     "end_time": "2025-07-15T19:33:05.727955Z",
     "start_time": "2025-07-15T19:33:01.868388Z"
    }
   },
   "source": [
    "from gait import Agent\n",
    "from rich.pretty import pprint"
   ],
   "outputs": [],
   "execution_count": 2
  },
  {
   "cell_type": "code",
   "id": "47ff5411e92eaee1",
   "metadata": {
    "ExecuteTime": {
     "end_time": "2025-07-15T19:35:45.209549Z",
     "start_time": "2025-07-15T19:35:45.206472Z"
    }
   },
   "source": [
    "# import litellm\n",
    "\n",
    "# litellm._turn_on_debug()\n",
    "\n",
    "import os"
   ],
   "outputs": [
    {
     "name": "stdout",
     "output_type": "stream",
     "text": [
      "None\n"
     ]
    }
   ],
   "execution_count": 9
  },
  {
   "cell_type": "code",
   "id": "7ed203c1-e7ce-4047-a64c-5aee27c296da",
   "metadata": {
    "ExecuteTime": {
     "end_time": "2025-07-15T19:35:12.933181Z",
     "start_time": "2025-07-15T19:35:12.920833Z"
    }
   },
   "source": [
    "model = \"gpt-4.1-nano\"\n",
    "azure_url = os.environ[\"AZURE_API_URL\"]\n",
    "azure_version = os.environ[\"AZURE_API_VERSION\"]\n"
   ],
   "outputs": [
    {
     "ename": "KeyError",
     "evalue": "'AZURE_API_URL'",
     "output_type": "error",
     "traceback": [
      "\u001B[31m---------------------------------------------------------------------------\u001B[39m",
      "\u001B[31mKeyError\u001B[39m                                  Traceback (most recent call last)",
      "\u001B[36mCell\u001B[39m\u001B[36m \u001B[39m\u001B[32mIn[4]\u001B[39m\u001B[32m, line 2\u001B[39m\n\u001B[32m      1\u001B[39m model = \u001B[33m\"\u001B[39m\u001B[33mgpt-4.1-nano\u001B[39m\u001B[33m\"\u001B[39m\n\u001B[32m----> \u001B[39m\u001B[32m2\u001B[39m azure_url = \u001B[43mos\u001B[49m\u001B[43m.\u001B[49m\u001B[43menviron\u001B[49m\u001B[43m[\u001B[49m\u001B[33;43m\"\u001B[39;49m\u001B[33;43mAZURE_API_URL\u001B[39;49m\u001B[33;43m\"\u001B[39;49m\u001B[43m]\u001B[49m\n\u001B[32m      3\u001B[39m azure_version = os.environ[\u001B[33m\"\u001B[39m\u001B[33mAZURE_API_VERSION\u001B[39m\u001B[33m\"\u001B[39m]\n",
      "\u001B[36mFile \u001B[39m\u001B[32m<frozen os>:679\u001B[39m, in \u001B[36m__getitem__\u001B[39m\u001B[34m(self, key)\u001B[39m\n",
      "\u001B[31mKeyError\u001B[39m: 'AZURE_API_URL'"
     ]
    }
   ],
   "execution_count": 4
  },
  {
   "cell_type": "markdown",
   "id": "255afaf3-3f50-40c2-80e2-34eb7bf22734",
   "metadata": {},
   "source": [
    "### Create an Agent instance."
   ]
  },
  {
   "cell_type": "code",
   "execution_count": 5,
   "id": "5b7cdc14-d0aa-4f0d-a4b0-235c6dbe0d1b",
   "metadata": {
    "ExecuteTime": {
     "end_time": "2025-04-25T17:41:16.323032Z",
     "start_time": "2025-04-25T17:41:16.320659Z"
    }
   },
   "outputs": [],
   "source": [
    "agent = Agent(\n",
    "    # model=\"ollama_chat/mistral-small3.1\",\n",
    "    model=f\"azure/{model}\",\n",
    "    base_url=f\"{azure_url}/{model}\",\n",
    "    api_version=azure_version,\n",
    ")"
   ]
  },
  {
   "cell_type": "markdown",
   "id": "2329fc30-ec5b-4aec-af7b-9b11ef93a3de",
   "metadata": {},
   "source": [
    "### Invoke the agent with a user prompt."
   ]
  },
  {
   "cell_type": "code",
   "execution_count": 6,
   "id": "2dc0ad60-fc3c-40fe-a8dc-1e3646b1872f",
   "metadata": {
    "ExecuteTime": {
     "end_time": "2025-04-25T17:42:20.160350Z",
     "start_time": "2025-04-25T17:42:18.875509Z"
    }
   },
   "outputs": [],
   "source": [
    "resp = agent(\n",
    "    \"Please respond in one short concise sentence what is the significance of the number 42!\"\n",
    ")"
   ]
  },
  {
   "cell_type": "markdown",
   "id": "a956184a-aea6-4b26-bfcf-b8e4ceafc64f",
   "metadata": {},
   "source": [
    "### See the content of the response."
   ]
  },
  {
   "cell_type": "code",
   "execution_count": 7,
   "id": "4502e862e0926313",
   "metadata": {
    "ExecuteTime": {
     "end_time": "2025-04-25T17:42:57.104941Z",
     "start_time": "2025-04-25T17:42:57.098454Z"
    }
   },
   "outputs": [
    {
     "data": {
      "text/html": [
       "<pre style=\"white-space:pre;overflow-x:auto;line-height:normal;font-family:Menlo,'DejaVu Sans Mono',consolas,'Courier New',monospace\"><span style=\"color: #800080; text-decoration-color: #800080; font-weight: bold\">AgentResponse</span><span style=\"font-weight: bold\">(</span>\n",
       "<span style=\"color: #7fbf7f; text-decoration-color: #7fbf7f\">│   </span><span style=\"color: #808000; text-decoration-color: #808000\">finish_reason</span>=<span style=\"color: #008000; text-decoration-color: #008000\">'stop'</span>,\n",
       "<span style=\"color: #7fbf7f; text-decoration-color: #7fbf7f\">│   </span><span style=\"color: #808000; text-decoration-color: #808000\">content</span>=<span style=\"color: #008000; text-decoration-color: #008000\">'The number 42 is famously known as \"the Answer to the Ultimate Question of Life, the Universe, and Everything\" from Douglas Adams\\' novel *The Hitchhiker\\'s Guide to the Galaxy*.'</span>,\n",
       "<span style=\"color: #7fbf7f; text-decoration-color: #7fbf7f\">│   </span><span style=\"color: #808000; text-decoration-color: #808000\">agent</span>=<span style=\"color: #800080; text-decoration-color: #800080; font-weight: bold\">Agent</span><span style=\"font-weight: bold\">(</span>\n",
       "<span style=\"color: #7fbf7f; text-decoration-color: #7fbf7f\">│   │   </span><span style=\"color: #808000; text-decoration-color: #808000\">model</span>=<span style=\"color: #008000; text-decoration-color: #008000\">'azure/gpt-4.1-nano'</span>,\n",
       "<span style=\"color: #7fbf7f; text-decoration-color: #7fbf7f\">│   │   </span><span style=\"color: #808000; text-decoration-color: #808000\">name</span>=<span style=\"color: #800080; text-decoration-color: #800080; font-style: italic\">None</span>,\n",
       "<span style=\"color: #7fbf7f; text-decoration-color: #7fbf7f\">│   │   </span><span style=\"color: #808000; text-decoration-color: #808000\">description</span>=<span style=\"color: #008000; text-decoration-color: #008000\">'You are a helpful AI agent.'</span>,\n",
       "<span style=\"color: #7fbf7f; text-decoration-color: #7fbf7f\">│   │   </span><span style=\"color: #808000; text-decoration-color: #808000\">instructions</span>=<span style=\"color: #008000; text-decoration-color: #008000\">'You are a helpful AI agent.'</span>,\n",
       "<span style=\"color: #7fbf7f; text-decoration-color: #7fbf7f\">│   │   </span><span style=\"color: #808000; text-decoration-color: #808000\">functions</span>=<span style=\"font-weight: bold\">[]</span>,\n",
       "<span style=\"color: #7fbf7f; text-decoration-color: #7fbf7f\">│   │   </span><span style=\"color: #808000; text-decoration-color: #808000\">params</span>=<span style=\"font-weight: bold\">{</span>\n",
       "<span style=\"color: #7fbf7f; text-decoration-color: #7fbf7f\">│   │   │   </span><span style=\"color: #008000; text-decoration-color: #008000\">'base_url'</span>: <span style=\"color: #008000; text-decoration-color: #008000\">'https://ist-apim-aoai.azure-api.net/load-balancing/gpt-4.1-nano'</span>,\n",
       "<span style=\"color: #7fbf7f; text-decoration-color: #7fbf7f\">│   │   │   </span><span style=\"color: #008000; text-decoration-color: #008000\">'api_version'</span>: <span style=\"color: #008000; text-decoration-color: #008000\">'2024-10-21'</span>\n",
       "<span style=\"color: #7fbf7f; text-decoration-color: #7fbf7f\">│   │   </span><span style=\"font-weight: bold\">}</span>,\n",
       "<span style=\"color: #7fbf7f; text-decoration-color: #7fbf7f\">│   │   </span><span style=\"color: #808000; text-decoration-color: #808000\">messages</span>=<span style=\"font-weight: bold\">[</span>\n",
       "<span style=\"color: #7fbf7f; text-decoration-color: #7fbf7f\">│   │   │   </span><span style=\"font-weight: bold\">{</span>\n",
       "<span style=\"color: #7fbf7f; text-decoration-color: #7fbf7f\">│   │   │   │   </span><span style=\"color: #008000; text-decoration-color: #008000\">'role'</span>: <span style=\"color: #008000; text-decoration-color: #008000\">'user'</span>,\n",
       "<span style=\"color: #7fbf7f; text-decoration-color: #7fbf7f\">│   │   │   │   </span><span style=\"color: #008000; text-decoration-color: #008000\">'content'</span>: <span style=\"color: #008000; text-decoration-color: #008000\">'Please respond in one short concise sentence what is the significance of the number 42!'</span>\n",
       "<span style=\"color: #7fbf7f; text-decoration-color: #7fbf7f\">│   │   │   </span><span style=\"font-weight: bold\">}</span>,\n",
       "<span style=\"color: #7fbf7f; text-decoration-color: #7fbf7f\">│   │   │   </span><span style=\"color: #800080; text-decoration-color: #800080; font-weight: bold\">Message</span><span style=\"font-weight: bold\">(</span>\n",
       "<span style=\"color: #7fbf7f; text-decoration-color: #7fbf7f\">│   │   │   │   </span><span style=\"color: #808000; text-decoration-color: #808000\">content</span>=<span style=\"color: #008000; text-decoration-color: #008000\">'The number 42 is famously known as \"the Answer to the Ultimate Question of Life, the Universe, and Everything\" from Douglas Adams\\' novel *The Hitchhiker\\'s Guide to the Galaxy*.'</span>,\n",
       "<span style=\"color: #7fbf7f; text-decoration-color: #7fbf7f\">│   │   │   │   </span><span style=\"color: #808000; text-decoration-color: #808000\">role</span>=<span style=\"color: #008000; text-decoration-color: #008000\">'assistant'</span>,\n",
       "<span style=\"color: #7fbf7f; text-decoration-color: #7fbf7f\">│   │   │   │   </span><span style=\"color: #808000; text-decoration-color: #808000\">tool_calls</span>=<span style=\"color: #800080; text-decoration-color: #800080; font-style: italic\">None</span>,\n",
       "<span style=\"color: #7fbf7f; text-decoration-color: #7fbf7f\">│   │   │   │   </span><span style=\"color: #808000; text-decoration-color: #808000\">function_call</span>=<span style=\"color: #800080; text-decoration-color: #800080; font-style: italic\">None</span>,\n",
       "<span style=\"color: #7fbf7f; text-decoration-color: #7fbf7f\">│   │   │   │   </span><span style=\"color: #808000; text-decoration-color: #808000\">provider_specific_fields</span>=<span style=\"font-weight: bold\">{</span>\n",
       "<span style=\"color: #7fbf7f; text-decoration-color: #7fbf7f\">│   │   │   │   │   </span><span style=\"color: #008000; text-decoration-color: #008000\">'refusal'</span>: <span style=\"color: #800080; text-decoration-color: #800080; font-style: italic\">None</span>\n",
       "<span style=\"color: #7fbf7f; text-decoration-color: #7fbf7f\">│   │   │   │   </span><span style=\"font-weight: bold\">}</span>,\n",
       "<span style=\"color: #7fbf7f; text-decoration-color: #7fbf7f\">│   │   │   │   </span><span style=\"color: #808000; text-decoration-color: #808000\">annotations</span>=<span style=\"font-weight: bold\">[]</span>\n",
       "<span style=\"color: #7fbf7f; text-decoration-color: #7fbf7f\">│   │   │   </span><span style=\"font-weight: bold\">)</span>\n",
       "<span style=\"color: #7fbf7f; text-decoration-color: #7fbf7f\">│   │   </span><span style=\"font-weight: bold\">]</span>\n",
       "<span style=\"color: #7fbf7f; text-decoration-color: #7fbf7f\">│   </span><span style=\"font-weight: bold\">)</span>\n",
       "<span style=\"font-weight: bold\">)</span>\n",
       "</pre>\n"
      ],
      "text/plain": [
       "\u001B[1;35mAgentResponse\u001B[0m\u001B[1m(\u001B[0m\n",
       "\u001B[2;32m│   \u001B[0m\u001B[33mfinish_reason\u001B[0m=\u001B[32m'stop'\u001B[0m,\n",
       "\u001B[2;32m│   \u001B[0m\u001B[33mcontent\u001B[0m=\u001B[32m'The number 42 is famously known as \"the Answer to the Ultimate Question of Life, the Universe, and Everything\" from Douglas Adams\\' novel *The Hitchhiker\\'s Guide to the Galaxy*.'\u001B[0m,\n",
       "\u001B[2;32m│   \u001B[0m\u001B[33magent\u001B[0m=\u001B[1;35mAgent\u001B[0m\u001B[1m(\u001B[0m\n",
       "\u001B[2;32m│   │   \u001B[0m\u001B[33mmodel\u001B[0m=\u001B[32m'azure/gpt-4.1-nano'\u001B[0m,\n",
       "\u001B[2;32m│   │   \u001B[0m\u001B[33mname\u001B[0m=\u001B[3;35mNone\u001B[0m,\n",
       "\u001B[2;32m│   │   \u001B[0m\u001B[33mdescription\u001B[0m=\u001B[32m'You are a helpful AI agent.'\u001B[0m,\n",
       "\u001B[2;32m│   │   \u001B[0m\u001B[33minstructions\u001B[0m=\u001B[32m'You are a helpful AI agent.'\u001B[0m,\n",
       "\u001B[2;32m│   │   \u001B[0m\u001B[33mfunctions\u001B[0m=\u001B[1m[\u001B[0m\u001B[1m]\u001B[0m,\n",
       "\u001B[2;32m│   │   \u001B[0m\u001B[33mparams\u001B[0m=\u001B[1m{\u001B[0m\n",
       "\u001B[2;32m│   │   │   \u001B[0m\u001B[32m'base_url'\u001B[0m: \u001B[32m'https://ist-apim-aoai.azure-api.net/load-balancing/gpt-4.1-nano'\u001B[0m,\n",
       "\u001B[2;32m│   │   │   \u001B[0m\u001B[32m'api_version'\u001B[0m: \u001B[32m'2024-10-21'\u001B[0m\n",
       "\u001B[2;32m│   │   \u001B[0m\u001B[1m}\u001B[0m,\n",
       "\u001B[2;32m│   │   \u001B[0m\u001B[33mmessages\u001B[0m=\u001B[1m[\u001B[0m\n",
       "\u001B[2;32m│   │   │   \u001B[0m\u001B[1m{\u001B[0m\n",
       "\u001B[2;32m│   │   │   │   \u001B[0m\u001B[32m'role'\u001B[0m: \u001B[32m'user'\u001B[0m,\n",
       "\u001B[2;32m│   │   │   │   \u001B[0m\u001B[32m'content'\u001B[0m: \u001B[32m'Please respond in one short concise sentence what is the significance of the number 42!'\u001B[0m\n",
       "\u001B[2;32m│   │   │   \u001B[0m\u001B[1m}\u001B[0m,\n",
       "\u001B[2;32m│   │   │   \u001B[0m\u001B[1;35mMessage\u001B[0m\u001B[1m(\u001B[0m\n",
       "\u001B[2;32m│   │   │   │   \u001B[0m\u001B[33mcontent\u001B[0m=\u001B[32m'The number 42 is famously known as \"the Answer to the Ultimate Question of Life, the Universe, and Everything\" from Douglas Adams\\' novel *The Hitchhiker\\'s Guide to the Galaxy*.'\u001B[0m,\n",
       "\u001B[2;32m│   │   │   │   \u001B[0m\u001B[33mrole\u001B[0m=\u001B[32m'assistant'\u001B[0m,\n",
       "\u001B[2;32m│   │   │   │   \u001B[0m\u001B[33mtool_calls\u001B[0m=\u001B[3;35mNone\u001B[0m,\n",
       "\u001B[2;32m│   │   │   │   \u001B[0m\u001B[33mfunction_call\u001B[0m=\u001B[3;35mNone\u001B[0m,\n",
       "\u001B[2;32m│   │   │   │   \u001B[0m\u001B[33mprovider_specific_fields\u001B[0m=\u001B[1m{\u001B[0m\n",
       "\u001B[2;32m│   │   │   │   │   \u001B[0m\u001B[32m'refusal'\u001B[0m: \u001B[3;35mNone\u001B[0m\n",
       "\u001B[2;32m│   │   │   │   \u001B[0m\u001B[1m}\u001B[0m,\n",
       "\u001B[2;32m│   │   │   │   \u001B[0m\u001B[33mannotations\u001B[0m=\u001B[1m[\u001B[0m\u001B[1m]\u001B[0m\n",
       "\u001B[2;32m│   │   │   \u001B[0m\u001B[1m)\u001B[0m\n",
       "\u001B[2;32m│   │   \u001B[0m\u001B[1m]\u001B[0m\n",
       "\u001B[2;32m│   \u001B[0m\u001B[1m)\u001B[0m\n",
       "\u001B[1m)\u001B[0m\n"
      ]
     },
     "metadata": {},
     "output_type": "display_data"
    }
   ],
   "source": [
    "pprint(resp, expand_all=True)"
   ]
  },
  {
   "cell_type": "markdown",
   "id": "d1479b41-7ab5-4d51-82cb-e07ba3f0eb7e",
   "metadata": {},
   "source": [
    "### Show only the content."
   ]
  },
  {
   "cell_type": "code",
   "execution_count": 8,
   "id": "bff7645b-7e53-4a70-8eb1-0d0962a61ebe",
   "metadata": {
    "ExecuteTime": {
     "end_time": "2025-04-25T17:43:25.790905Z",
     "start_time": "2025-04-25T17:43:25.788820Z"
    }
   },
   "outputs": [
    {
     "name": "stdout",
     "output_type": "stream",
     "text": [
      "The number 42 is famously known as \"the Answer to the Ultimate Question of Life, the Universe, and Everything\" from Douglas Adams' novel *The Hitchhiker's Guide to the Galaxy*.\n"
     ]
    }
   ],
   "source": [
    "print(resp.content)"
   ]
  },
  {
   "cell_type": "markdown",
   "id": "57bc98d1-bab1-4a9e-b298-e9292280340c",
   "metadata": {},
   "source": [
    "### Show all the internal messages."
   ]
  },
  {
   "cell_type": "code",
   "execution_count": 9,
   "id": "6c64246813b65978",
   "metadata": {},
   "outputs": [
    {
     "data": {
      "text/html": [
       "<pre style=\"white-space:pre;overflow-x:auto;line-height:normal;font-family:Menlo,'DejaVu Sans Mono',consolas,'Courier New',monospace\"><span style=\"font-weight: bold\">{</span>\n",
       "<span style=\"color: #7fbf7f; text-decoration-color: #7fbf7f\">│   </span><span style=\"color: #008000; text-decoration-color: #008000\">'role'</span>: <span style=\"color: #008000; text-decoration-color: #008000\">'user'</span>,\n",
       "<span style=\"color: #7fbf7f; text-decoration-color: #7fbf7f\">│   </span><span style=\"color: #008000; text-decoration-color: #008000\">'content'</span>: <span style=\"color: #008000; text-decoration-color: #008000\">'Please respond in one short concise sentence what is the significance of the number 42!'</span>\n",
       "<span style=\"font-weight: bold\">}</span>\n",
       "</pre>\n"
      ],
      "text/plain": [
       "\u001B[1m{\u001B[0m\n",
       "\u001B[2;32m│   \u001B[0m\u001B[32m'role'\u001B[0m: \u001B[32m'user'\u001B[0m,\n",
       "\u001B[2;32m│   \u001B[0m\u001B[32m'content'\u001B[0m: \u001B[32m'Please respond in one short concise sentence what is the significance of the number 42!'\u001B[0m\n",
       "\u001B[1m}\u001B[0m\n"
      ]
     },
     "metadata": {},
     "output_type": "display_data"
    },
    {
     "data": {
      "text/html": [
       "<pre style=\"white-space:pre;overflow-x:auto;line-height:normal;font-family:Menlo,'DejaVu Sans Mono',consolas,'Courier New',monospace\"><span style=\"color: #800080; text-decoration-color: #800080; font-weight: bold\">Message</span><span style=\"font-weight: bold\">(</span>\n",
       "<span style=\"color: #7fbf7f; text-decoration-color: #7fbf7f\">│   </span><span style=\"color: #808000; text-decoration-color: #808000\">content</span>=<span style=\"color: #008000; text-decoration-color: #008000\">'The number 42 is famously known as \"the Answer to the Ultimate Question of Life, the Universe, and Everything\" from Douglas Adams\\' novel *The Hitchhiker\\'s Guide to the Galaxy*.'</span>,\n",
       "<span style=\"color: #7fbf7f; text-decoration-color: #7fbf7f\">│   </span><span style=\"color: #808000; text-decoration-color: #808000\">role</span>=<span style=\"color: #008000; text-decoration-color: #008000\">'assistant'</span>,\n",
       "<span style=\"color: #7fbf7f; text-decoration-color: #7fbf7f\">│   </span><span style=\"color: #808000; text-decoration-color: #808000\">tool_calls</span>=<span style=\"color: #800080; text-decoration-color: #800080; font-style: italic\">None</span>,\n",
       "<span style=\"color: #7fbf7f; text-decoration-color: #7fbf7f\">│   </span><span style=\"color: #808000; text-decoration-color: #808000\">function_call</span>=<span style=\"color: #800080; text-decoration-color: #800080; font-style: italic\">None</span>,\n",
       "<span style=\"color: #7fbf7f; text-decoration-color: #7fbf7f\">│   </span><span style=\"color: #808000; text-decoration-color: #808000\">provider_specific_fields</span>=<span style=\"font-weight: bold\">{</span>\n",
       "<span style=\"color: #7fbf7f; text-decoration-color: #7fbf7f\">│   │   </span><span style=\"color: #008000; text-decoration-color: #008000\">'refusal'</span>: <span style=\"color: #800080; text-decoration-color: #800080; font-style: italic\">None</span>\n",
       "<span style=\"color: #7fbf7f; text-decoration-color: #7fbf7f\">│   </span><span style=\"font-weight: bold\">}</span>,\n",
       "<span style=\"color: #7fbf7f; text-decoration-color: #7fbf7f\">│   </span><span style=\"color: #808000; text-decoration-color: #808000\">annotations</span>=<span style=\"font-weight: bold\">[]</span>\n",
       "<span style=\"font-weight: bold\">)</span>\n",
       "</pre>\n"
      ],
      "text/plain": [
       "\u001B[1;35mMessage\u001B[0m\u001B[1m(\u001B[0m\n",
       "\u001B[2;32m│   \u001B[0m\u001B[33mcontent\u001B[0m=\u001B[32m'The number 42 is famously known as \"the Answer to the Ultimate Question of Life, the Universe, and Everything\" from Douglas Adams\\' novel *The Hitchhiker\\'s Guide to the Galaxy*.'\u001B[0m,\n",
       "\u001B[2;32m│   \u001B[0m\u001B[33mrole\u001B[0m=\u001B[32m'assistant'\u001B[0m,\n",
       "\u001B[2;32m│   \u001B[0m\u001B[33mtool_calls\u001B[0m=\u001B[3;35mNone\u001B[0m,\n",
       "\u001B[2;32m│   \u001B[0m\u001B[33mfunction_call\u001B[0m=\u001B[3;35mNone\u001B[0m,\n",
       "\u001B[2;32m│   \u001B[0m\u001B[33mprovider_specific_fields\u001B[0m=\u001B[1m{\u001B[0m\n",
       "\u001B[2;32m│   │   \u001B[0m\u001B[32m'refusal'\u001B[0m: \u001B[3;35mNone\u001B[0m\n",
       "\u001B[2;32m│   \u001B[0m\u001B[1m}\u001B[0m,\n",
       "\u001B[2;32m│   \u001B[0m\u001B[33mannotations\u001B[0m=\u001B[1m[\u001B[0m\u001B[1m]\u001B[0m\n",
       "\u001B[1m)\u001B[0m\n"
      ]
     },
     "metadata": {},
     "output_type": "display_data"
    }
   ],
   "source": [
    "for message in agent.messages:\n",
    "    pprint(message, expand_all=True)"
   ]
  }
 ],
 "metadata": {
  "kernelspec": {
   "display_name": "Python 3 (ipykernel)",
   "language": "python",
   "name": "python3"
  },
  "language_info": {
   "codemirror_mode": {
    "name": "ipython",
    "version": 3
   },
   "file_extension": ".py",
   "mimetype": "text/x-python",
   "name": "python",
   "nbconvert_exporter": "python",
   "pygments_lexer": "ipython3",
   "version": "3.11.13"
  }
 },
 "nbformat": 4,
 "nbformat_minor": 5
}
