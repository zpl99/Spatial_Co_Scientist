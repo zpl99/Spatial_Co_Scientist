{
 "cells": [
  {
   "cell_type": "markdown",
   "id": "195fa13d-4e70-49b4-aa21-7b178335f482",
   "metadata": {},
   "source": [
    "# Notebook to demo the usage of the built-in `current_time` functions."
   ]
  },
  {
   "cell_type": "code",
   "execution_count": 8,
   "id": "9993c3ff-1eb8-4a7f-a22a-b053acb6f532",
   "metadata": {},
   "outputs": [],
   "source": [
    "import os\n",
    "import warnings\n",
    "\n",
    "warnings.simplefilter(action=\"ignore\", category=FutureWarning)\n",
    "warnings.simplefilter(action=\"ignore\", category=UserWarning)"
   ]
  },
  {
   "cell_type": "code",
   "execution_count": 9,
   "id": "541d7206-8418-4d40-bd2a-0dc2e44513aa",
   "metadata": {},
   "outputs": [],
   "source": [
    "from gait import MAO, Agent, ObserverLoguru, current_time"
   ]
  },
  {
   "cell_type": "code",
   "execution_count": 10,
   "id": "25e1db71-454f-4183-a43a-aa2e5017fa10",
   "metadata": {},
   "outputs": [],
   "source": [
    "agent = Agent(\n",
    "    functions=[current_time],\n",
    "    temperature=0.0,\n",
    ")\n",
    "mao = MAO(\n",
    "    agent,\n",
    "    observer=ObserverLoguru(),\n",
    ")"
   ]
  },
  {
   "cell_type": "code",
   "execution_count": 13,
   "id": "bf2cb2b0-434c-4126-9cab-e4ff90274747",
   "metadata": {},
   "outputs": [
    {
     "name": "stderr",
     "output_type": "stream",
     "text": [
      "11:17:02 | INFO | Iteration 1 (Agent) started.\n",
      "11:17:03 | INFO | Content: \n",
      "11:17:03 | INFO | Function: current_time({\"timezone\": \"Asia/Tokyo\"})\n",
      "11:17:03 | INFO | Observation: Current time in Asia/Tokyo is: 2025-06-05T01:17:03.284318+09:00\n",
      "11:17:03 | INFO | Iteration 2 (Agent) started.\n",
      "11:17:03 | INFO | Content: The current time in Japan is 01:17:03 +09:00 (UTC+9).\n"
     ]
    }
   ],
   "source": [
    "for _ in mao(\n",
    "    \"What is the time in Japan right now? Make sure to report the time in 24 hour format.\"\n",
    "):\n",
    "    if _.content:\n",
    "        mao.terminate()"
   ]
  }
 ],
 "metadata": {
  "kernelspec": {
   "display_name": "Python 3 (ipykernel)",
   "language": "python",
   "name": "python3"
  },
  "language_info": {
   "codemirror_mode": {
    "name": "ipython",
    "version": 3
   },
   "file_extension": ".py",
   "mimetype": "text/x-python",
   "name": "python",
   "nbconvert_exporter": "python",
   "pygments_lexer": "ipython3",
   "version": "3.11.13"
  }
 },
 "nbformat": 4,
 "nbformat_minor": 5
}
