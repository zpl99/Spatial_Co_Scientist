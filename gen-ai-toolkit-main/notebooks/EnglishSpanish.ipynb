{
 "cells": [
  {
   "cell_type": "markdown",
   "id": "e83c99d2fe87356d",
   "metadata": {},
   "source": [
    "## English and Spanish Agents\n",
    "\n",
    "This notebook demonstrates how to create two agents, one for English and one for Spanish, and use them in a conversation."
   ]
  },
  {
   "cell_type": "code",
   "execution_count": 1,
   "id": "ce7fd1b2-8ffc-4a00-af85-a2411f49e3aa",
   "metadata": {},
   "outputs": [],
   "source": [
    "import os\n",
    "\n",
    "from gait import Agency, Agent, OperatorLiteLLM"
   ]
  },
  {
   "cell_type": "markdown",
   "id": "84858e1cbad14fe6",
   "metadata": {},
   "source": [
    "### Create a spanish agent."
   ]
  },
  {
   "cell_type": "code",
   "execution_count": 2,
   "id": "4b007977-4839-4531-9822-761478c48029",
   "metadata": {},
   "outputs": [],
   "source": [
    "sp_agent = Agent(name=\"sp_agent\", description=\"Handle conversations in Spanish\")"
   ]
  },
  {
   "cell_type": "markdown",
   "id": "dbca8875a878409",
   "metadata": {},
   "source": [
    "### Create an english agent."
   ]
  },
  {
   "cell_type": "code",
   "execution_count": 3,
   "id": "3becd8a6-f79e-4e9b-b258-f85037350a69",
   "metadata": {},
   "outputs": [],
   "source": [
    "en_agent = Agent(name=\"en_agent\", description=\"Handle conversations in English\")"
   ]
  },
  {
   "cell_type": "markdown",
   "id": "50f204f8dd71c110",
   "metadata": {},
   "source": [
    "### Create an operator with references to the agents."
   ]
  },
  {
   "cell_type": "code",
   "execution_count": null,
   "id": "a3b337d0-19a8-423d-8a4c-3e177f5cddd0",
   "metadata": {},
   "outputs": [],
   "source": [
    "operator = OperatorLiteLLM(\n",
    "    model=\"azure/\" + os.environ[\"AZURE_API_DEPLOYMENT\"],\n",
    "    # model=\"ollama_chat/llama3.2:latest\",\n",
    "    agents=[sp_agent, en_agent],\n",
    "    # params=dict(top_p=0.9),\n",
    ")"
   ]
  },
  {
   "cell_type": "markdown",
   "id": "ae2327e5ec09e92f",
   "metadata": {},
   "source": [
    "### Create an agency with the operator."
   ]
  },
  {
   "cell_type": "code",
   "execution_count": null,
   "id": "32fc52f9-c1ae-44ca-8079-8a82c93e04ef",
   "metadata": {},
   "outputs": [],
   "source": [
    "agency = Agency(operator)"
   ]
  },
  {
   "cell_type": "markdown",
   "id": "156444e2bd431333",
   "metadata": {},
   "source": [
    "## Start the conversation."
   ]
  },
  {
   "cell_type": "code",
   "execution_count": null,
   "id": "36ff0e2f-8d51-429e-a19e-1d49472d2875",
   "metadata": {},
   "outputs": [],
   "source": [
    "for _ in agency(\"Hola, ¿cómo estás?\"):\n",
    "    print(_.content)\n",
    "    agency.terminate()"
   ]
  },
  {
   "cell_type": "code",
   "execution_count": null,
   "id": "782b7c7e209add2a",
   "metadata": {},
   "outputs": [],
   "source": [
    "for _ in agency(\"Please explain the previous conversation in English.\"):\n",
    "    print(_.content)\n",
    "    agency.terminate()"
   ]
  }
 ],
 "metadata": {
  "kernelspec": {
   "display_name": "Python 3 (ipykernel)",
   "language": "python",
   "name": "python3"
  },
  "language_info": {
   "codemirror_mode": {
    "name": "ipython",
    "version": 3
   },
   "file_extension": ".py",
   "mimetype": "text/x-python",
   "name": "python",
   "nbconvert_exporter": "python",
   "pygments_lexer": "ipython3",
   "version": "3.11.12"
  }
 },
 "nbformat": 4,
 "nbformat_minor": 5
}
