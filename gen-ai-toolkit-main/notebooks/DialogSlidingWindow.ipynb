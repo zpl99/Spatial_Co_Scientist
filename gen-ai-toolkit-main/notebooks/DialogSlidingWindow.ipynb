{
 "cells": [
  {
   "cell_type": "markdown",
   "id": "6b1dd0d0-59a6-481b-b04b-538a5634875e",
   "metadata": {},
   "source": [
    "# Notebook to demo DialogSlidingWindow usage."
   ]
  },
  {
   "cell_type": "code",
   "execution_count": 5,
   "id": "4ff3627c-2bf8-4e06-96fd-d98ab58f69df",
   "metadata": {},
   "outputs": [],
   "source": [
    "from gait import DialogSlidingWindow"
   ]
  },
  {
   "cell_type": "markdown",
   "id": "57a4856e-7c9d-4c07-b312-bb9db99e4a4c",
   "metadata": {},
   "source": [
    "## Create a Dialog with Sliding Window"
   ]
  },
  {
   "cell_type": "code",
   "execution_count": 6,
   "id": "0f217092-6bce-41cf-b690-a83b304249e1",
   "metadata": {},
   "outputs": [],
   "source": [
    "dialog = DialogSlidingWindow(window_size=3)"
   ]
  },
  {
   "cell_type": "markdown",
   "id": "4b5e8a2f-f503-46ae-8c12-3ac4b96c175a",
   "metadata": {},
   "source": [
    "## Add some messages."
   ]
  },
  {
   "cell_type": "code",
   "execution_count": 7,
   "id": "fbef9350-fd1e-4320-8691-384e04a5ebf4",
   "metadata": {},
   "outputs": [],
   "source": [
    "dialog += \"A\"\n",
    "dialog += \"B\"\n",
    "dialog += \"C\"\n",
    "dialog += \"D\""
   ]
  },
  {
   "cell_type": "markdown",
   "id": "52e9ce27-1bd9-4510-bcc6-0ca62e5673a6",
   "metadata": {},
   "source": [
    "## Let's see what message do we have now."
   ]
  },
  {
   "cell_type": "code",
   "execution_count": 8,
   "id": "61693e3c-16a4-4742-b29a-5cd00f091e90",
   "metadata": {},
   "outputs": [
    {
     "name": "stdout",
     "output_type": "stream",
     "text": [
      "{'role': 'user', 'content': 'B'}\n",
      "{'role': 'user', 'content': 'C'}\n",
      "{'role': 'user', 'content': 'D'}\n"
     ]
    }
   ],
   "source": [
    "for _ in dialog:\n",
    "    print(_)"
   ]
  }
 ],
 "metadata": {
  "kernelspec": {
   "display_name": "Python 3 (ipykernel)",
   "language": "python",
   "name": "python3"
  },
  "language_info": {
   "codemirror_mode": {
    "name": "ipython",
    "version": 3
   },
   "file_extension": ".py",
   "mimetype": "text/x-python",
   "name": "python",
   "nbconvert_exporter": "python",
   "pygments_lexer": "ipython3",
   "version": "3.11.13"
  }
 },
 "nbformat": 4,
 "nbformat_minor": 5
}
