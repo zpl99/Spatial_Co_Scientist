{
 "cells": [
  {
   "cell_type": "code",
   "execution_count": 1,
   "id": "a36ec2c7-66dd-4186-857a-76d6f534fd1d",
   "metadata": {},
   "outputs": [],
   "source": [
    "import warnings\n",
    "\n",
    "warnings.simplefilter(action=\"ignore\", category=FutureWarning)\n",
    "warnings.simplefilter(action=\"ignore\", category=UserWarning)"
   ]
  },
  {
   "cell_type": "code",
   "execution_count": 2,
   "id": "7e1c27c4-aa88-4fec-92a2-34c19b60d715",
   "metadata": {},
   "outputs": [],
   "source": [
    "from textwrap import dedent\n",
    "from IPython.display import display, Markdown\n",
    "\n",
    "import gait as G"
   ]
  },
  {
   "cell_type": "code",
   "execution_count": 3,
   "id": "f6714303-074f-421d-8001-aefaca052712",
   "metadata": {},
   "outputs": [],
   "source": [
    "cot_instructions = dedent(\n",
    "    f\"\"\"\n",
    "Think step by step when answering the following question.\n",
    "Make sure to respond with the final answer after the separator ####.\n",
    "\"\"\"\n",
    ").strip()\n",
    "\n",
    "cod_instructions = dedent(\n",
    "    f\"\"\"\n",
    "Think step by step when answering the following question.\n",
    "But only keep a minimum draft of each thinking step, with 5 words at most.\n",
    "Make sure to respond with the final answer after the separator ####.\n",
    "\"\"\"\n",
    ").strip()"
   ]
  },
  {
   "cell_type": "code",
   "execution_count": 4,
   "id": "83832183-332e-413e-b112-261440207817",
   "metadata": {},
   "outputs": [],
   "source": [
    "agent = G.Agent(\n",
    "    # model=f\"azure/{os.environ['AZURE_API_DEPLOYMENT']}\",\n",
    "    # model=\"ollama_chat/phi4:14b-q8_0\",\n",
    "    # model=\"ollama/qwen2.5:7b-instruct-fp16\",\n",
    "    model=\"ollama_chat/granite3.2:8b-instruct-q8_0\",\n",
    "    instructions=cod_instructions,\n",
    "    temperature=0.0,\n",
    ")"
   ]
  },
  {
   "cell_type": "code",
   "execution_count": 5,
   "id": "a74ad4a5-1c7f-4222-ab2c-28862f2b8652",
   "metadata": {},
   "outputs": [],
   "source": [
    "resp = agent(\"12 - 8 + 9\")\n",
    "# pprint(resp, expand_all=True)"
   ]
  },
  {
   "cell_type": "code",
   "execution_count": 13,
   "id": "ffc0f18e-0ad8-4013-8c69-e3d5f877b569",
   "metadata": {},
   "outputs": [
    {
     "data": {
      "text/markdown": [
       "12 - 8 = 4<br>4 + 9 = 13<br>#### 13"
      ],
      "text/plain": [
       "<IPython.core.display.Markdown object>"
      ]
     },
     "metadata": {},
     "output_type": "display_data"
    }
   ],
   "source": [
    "display(Markdown(resp.content.replace(\"\\n\", \"<br>\")))"
   ]
  },
  {
   "cell_type": "code",
   "execution_count": 12,
   "id": "78670408-bf0e-4b6e-9a7b-08e07918f6aa",
   "metadata": {},
   "outputs": [
    {
     "name": "stdout",
     "output_type": "stream",
     "text": [
      "12 - 8 = 4\n",
      "4 + 9 = 13\n",
      "#### 13\n"
     ]
    }
   ],
   "source": [
    "mao = G.MAO(\n",
    "    G.Agent(\n",
    "        # model=f\"azure/{os.environ['AZURE_API_DEPLOYMENT']}\",\n",
    "        # model=\"ollama_chat/phi4:14b-q8_0\",\n",
    "        # model=\"ollama/qwen2.5:7b-instruct-fp16\",\n",
    "        model=\"ollama_chat/granite3.2:8b-instruct-q8_0\",\n",
    "        instructions=cod_instructions,\n",
    "        temperature=0.0,\n",
    "    )\n",
    ")\n",
    "for _ in mao(\"12 - 8 + 9\"):\n",
    "    if _.content:\n",
    "        mao.terminate()\n",
    "        print(_.content)"
   ]
  },
  {
   "cell_type": "code",
   "execution_count": null,
   "id": "87e0dab1",
   "metadata": {},
   "outputs": [],
   "source": []
  }
 ],
 "metadata": {
  "kernelspec": {
   "display_name": "Python 3 (ipykernel)",
   "language": "python",
   "name": "python3"
  },
  "language_info": {
   "codemirror_mode": {
    "name": "ipython",
    "version": 3
   },
   "file_extension": ".py",
   "mimetype": "text/x-python",
   "name": "python",
   "nbconvert_exporter": "python",
   "pygments_lexer": "ipython3",
   "version": "3.11.13"
  }
 },
 "nbformat": 4,
 "nbformat_minor": 5
}
