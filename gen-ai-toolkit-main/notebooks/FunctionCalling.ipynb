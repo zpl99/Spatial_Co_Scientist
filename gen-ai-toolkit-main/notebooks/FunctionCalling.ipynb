{
 "cells": [
  {
   "cell_type": "markdown",
   "id": "36313314373864cf",
   "metadata": {},
   "source": [
    "# Notebook to demo function calling with Pydantic response model."
   ]
  },
  {
   "cell_type": "code",
   "execution_count": 1,
   "id": "33a13857-d9bb-4e26-807b-27641808cb36",
   "metadata": {},
   "outputs": [],
   "source": [
    "import os\n",
    "import warnings\n",
    "\n",
    "warnings.simplefilter(action=\"ignore\", category=FutureWarning)\n",
    "warnings.simplefilter(action=\"ignore\", category=UserWarning)"
   ]
  },
  {
   "cell_type": "markdown",
   "id": "2453e1e2-8158-4186-802f-c45530e91c3a",
   "metadata": {},
   "source": [
    "## Import needed modules."
   ]
  },
  {
   "cell_type": "code",
   "execution_count": 2,
   "id": "d44737305f74e671",
   "metadata": {},
   "outputs": [],
   "source": [
    "from faker import Faker\n",
    "from gait import MAO, Agent, Dialog, ObserverLoguru\n",
    "from pydantic import BaseModel, Field\n",
    "from rich.pretty import pprint"
   ]
  },
  {
   "cell_type": "code",
   "execution_count": 3,
   "id": "0efa7812-39fc-45f5-a50f-132bd715d3cf",
   "metadata": {},
   "outputs": [],
   "source": [
    "# litellm._turn_on_debug()  # 👈 this is the 1-line change you need to make"
   ]
  },
  {
   "cell_type": "markdown",
   "id": "0a66d041-9cfa-4a5b-9987-def1cb8d2c8c",
   "metadata": {},
   "source": [
    "## Create a faker instance."
   ]
  },
  {
   "cell_type": "code",
   "execution_count": 4,
   "id": "7a4de5ac-6619-4e28-a5c5-39458820da25",
   "metadata": {},
   "outputs": [],
   "source": [
    "fake = Faker()"
   ]
  },
  {
   "cell_type": "markdown",
   "id": "a9734dfd-3d34-4a67-bbd0-b87a5af7a4e4",
   "metadata": {},
   "source": [
    "## Define functions that the agent will use.\n",
    "\n",
    "**Make sure to docstring the functions**"
   ]
  },
  {
   "cell_type": "code",
   "execution_count": 5,
   "id": "b19eefff-fec7-4859-95ae-5284382a351d",
   "metadata": {},
   "outputs": [],
   "source": [
    "def calculate_percentage(value: float, percentage: float) -> float:\n",
    "    \"\"\"Calculate what percentage of a value is.\n",
    "\n",
    "    :param value: The value to calculate the percentage of.\n",
    "    :param percentage: The percent value. Has to be betwee 0 and 100.\n",
    "    :return: The percentage value.\n",
    "    \"\"\"\n",
    "    return value * percentage / 100.0"
   ]
  },
  {
   "cell_type": "code",
   "execution_count": 6,
   "id": "616e7db2-9af3-46ef-bce6-96784992f4a7",
   "metadata": {},
   "outputs": [],
   "source": [
    "def subtract(a: float, b: float) -> float:\n",
    "    \"\"\"Subtract b from a.\n",
    "\n",
    "    :param a: The value to subtract from.\n",
    "    :param b: How much to subtract from a.\n",
    "    :return: The residual.\n",
    "    \"\"\"\n",
    "    return a - b"
   ]
  },
  {
   "cell_type": "code",
   "execution_count": 7,
   "id": "801f9ead2ceefd23",
   "metadata": {},
   "outputs": [],
   "source": [
    "class TemperatureModel(BaseModel):\n",
    "    location: str = Field(..., description=\"The location where to get the temperature.\")\n",
    "    temperature: float = Field(..., description=\"The temperature at the location.\")\n",
    "    unit: str = Field(..., description=\"The unit of the temperature.\")"
   ]
  },
  {
   "cell_type": "code",
   "execution_count": 8,
   "id": "095d2174-e9d7-4480-aca1-9cb774b25845",
   "metadata": {},
   "outputs": [],
   "source": [
    "def get_temperature_at_location(location: str) -> TemperatureModel:\n",
    "    \"\"\"Get temperature in Fahrenheit at a location.\n",
    "\n",
    "    :param location: The location where to get the temperature. Location can be a place, city, state, zipcode or a country.\n",
    "    \"\"\"\n",
    "    return TemperatureModel(\n",
    "        location=location,\n",
    "        temperature=fake.random_int(-5, 40),\n",
    "        unit=\"F\",\n",
    "    )"
   ]
  },
  {
   "cell_type": "code",
   "execution_count": 9,
   "id": "a789eaa4-a813-4ae6-b491-0e26ac24c00d",
   "metadata": {},
   "outputs": [],
   "source": [
    "def logger_fn_pprint(call_dict) -> None:\n",
    "    pprint(call_dict, expand_all=True)"
   ]
  },
  {
   "cell_type": "markdown",
   "id": "af4d3388-8ec6-4806-8882-043539ca9e96",
   "metadata": {},
   "source": [
    "## Define the agent with references to the supporting functions."
   ]
  },
  {
   "cell_type": "code",
   "execution_count": 10,
   "id": "c61b08ba-7ac0-4a99-b98c-b8080d735601",
   "metadata": {},
   "outputs": [],
   "source": [
    "agent = Agent(\n",
    "    # model=\"ollama_chat/llama3.2:latest\",\n",
    "    # model=\"ollama_chat/driaforall/tiny-agent-a:3b-q8_0\",\n",
    "    # model=\"ollama_chat/qwen2.5:7b-instruct-fp16\",\n",
    "    model=f\"azure/{os.environ['AZURE_API_DEPLOYMENT']}\",\n",
    "    # model=\"ollama_chat/granite3.2:8b-instruct-q8_0\",\n",
    "    functions=[\n",
    "        get_temperature_at_location,\n",
    "        calculate_percentage,\n",
    "        subtract,\n",
    "    ],\n",
    "    temperature=0.0,\n",
    "    # logger_fn=logger_fn_pprint,\n",
    ")"
   ]
  },
  {
   "cell_type": "code",
   "execution_count": 11,
   "id": "97012aa8-5483-4b4b-96fb-51adb9b3d2d8",
   "metadata": {},
   "outputs": [],
   "source": [
    "observer = ObserverLoguru()"
   ]
  },
  {
   "cell_type": "code",
   "execution_count": 12,
   "id": "9b765324-9e65-4d88-938b-cac8f8f06856",
   "metadata": {},
   "outputs": [
    {
     "name": "stderr",
     "output_type": "stream",
     "text": [
      "07:18:39 | INFO | GAIT started.\n",
      "07:18:39 | INFO | Iteration 1 (None) started.\n",
      "07:18:41 | INFO | Content: None\n",
      "07:18:41 | INFO | Function: get_temperature_at_location({\"location\":\"West Julieland\"})\n",
      "07:18:41 | INFO | Observation: {\"location\":\"West Julieland\",\"temperature\":21.0,\"unit\":\"F\"}\n",
      "07:18:41 | INFO | Iteration 2 (None) started.\n",
      "07:18:41 | INFO | Content: The temperature in West Julieland is 21°F. If you need more weather details or information about another location, let me know!\n",
      "07:18:41 | INFO | GAIT ended after 2 iterations.\n"
     ]
    }
   ],
   "source": [
    "mao = MAO(agent, observer=observer)\n",
    "for _ in mao(f\"Get the temperature in {fake.city()}\"):\n",
    "    if _.content:\n",
    "        mao.terminate()"
   ]
  },
  {
   "cell_type": "code",
   "execution_count": 13,
   "id": "77b58b9d-fe70-4251-8278-ae82b2a892d5",
   "metadata": {},
   "outputs": [
    {
     "name": "stderr",
     "output_type": "stream",
     "text": [
      "07:18:53 | INFO | GAIT started.\n",
      "07:18:53 | INFO | Iteration 1 (None) started.\n",
      "07:18:54 | INFO | Content: None\n",
      "07:18:54 | INFO | Function: calculate_percentage({\"value\":15,\"percentage\":40})\n",
      "07:18:54 | INFO | Observation: 6.0\n",
      "07:18:54 | INFO | Iteration 2 (None) started.\n",
      "07:18:55 | INFO | Content: None\n",
      "07:18:55 | INFO | Function: subtract({\"a\":15,\"b\":6})\n",
      "07:18:55 | INFO | Observation: 9\n",
      "07:18:55 | INFO | Iteration 3 (None) started.\n",
      "07:18:56 | INFO | Content: If you have 15 apples and give away 40%, you will have 9 apples left.\n",
      "07:18:56 | INFO | GAIT ended after 3 iterations.\n"
     ]
    }
   ],
   "source": [
    "mao = MAO(agent, observer=observer)\n",
    "for _ in mao(\"If I have 15 apples and give away 40%, how many are left?\"):\n",
    "    if _.content:\n",
    "        mao.terminate()"
   ]
  }
 ],
 "metadata": {
  "kernelspec": {
   "display_name": "Python 3 (ipykernel)",
   "language": "python",
   "name": "python3"
  },
  "language_info": {
   "codemirror_mode": {
    "name": "ipython",
    "version": 3
   },
   "file_extension": ".py",
   "mimetype": "text/x-python",
   "name": "python",
   "nbconvert_exporter": "python",
   "pygments_lexer": "ipython3",
   "version": "3.11.13"
  }
 },
 "nbformat": 4,
 "nbformat_minor": 5
}
