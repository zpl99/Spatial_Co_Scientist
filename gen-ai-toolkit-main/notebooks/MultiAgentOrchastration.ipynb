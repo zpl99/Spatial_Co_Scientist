{
 "cells": [
  {
   "cell_type": "markdown",
   "id": "d1df1db8-21c0-49b9-bcbe-6520be9648ae",
   "metadata": {},
   "source": [
    "# Notebook to demo MAO (Multi Agent Orchestration)"
   ]
  },
  {
   "cell_type": "code",
   "execution_count": 1,
   "id": "2bae17e2-51e8-417a-afdb-6562918602d8",
   "metadata": {},
   "outputs": [],
   "source": [
    "import os\n",
    "import warnings\n",
    "\n",
    "warnings.simplefilter(action=\"ignore\", category=FutureWarning)\n",
    "warnings.simplefilter(action=\"ignore\", category=UserWarning)"
   ]
  },
  {
   "cell_type": "code",
   "execution_count": 2,
   "id": "8d370c81a9843501",
   "metadata": {},
   "outputs": [],
   "source": [
    "import os\n",
    "import uuid\n",
    "from textwrap import dedent\n",
    "\n",
    "import shapely\n",
    "from gait import MAO, Agent, ObserverLoguru, Scratchpad\n",
    "from rich.pretty import pprint"
   ]
  },
  {
   "cell_type": "code",
   "execution_count": 3,
   "id": "d1035026-eac5-4c73-8722-d70c01856e13",
   "metadata": {},
   "outputs": [],
   "source": [
    "model = f\"azure/{os.environ['AZURE_API_DEPLOYMENT']}\""
   ]
  },
  {
   "cell_type": "code",
   "execution_count": 5,
   "id": "c6d7c093-39dc-4fe4-ae92-a01fb46b4245",
   "metadata": {},
   "outputs": [],
   "source": [
    "## Define the functions."
   ]
  },
  {
   "cell_type": "code",
   "execution_count": 6,
   "id": "41bb034b-e3c3-4600-a89d-a8c3d513e096",
   "metadata": {},
   "outputs": [],
   "source": [
    "def buffer_geometry(\n",
    "    geom_uuid: str,\n",
    "    distance_in_meters: float,\n",
    "    scratchpad: Scratchpad,\n",
    ") -> str:\n",
    "    \"\"\"Buffer a geometry referenced by a UUID by a distance in meters.\n",
    "    Return the buffered geometry UUID.\n",
    "\n",
    "    :param geom_uuid: UUID of a geometry to buffer.\n",
    "    :param distance_in_meters: The buffer distance in meters.\n",
    "    :param scratchpad: Scratchpad instance injected at runtime.\n",
    "    \"\"\"\n",
    "    geom = scratchpad[geom_uuid]\n",
    "    buff = shapely.buffer(geom, distance_in_meters)\n",
    "    buff_uuid = str(uuid.uuid4())\n",
    "    scratchpad[buff_uuid] = buff\n",
    "    return buff_uuid"
   ]
  },
  {
   "cell_type": "code",
   "execution_count": 7,
   "id": "855018dd-1617-4011-b11f-a3d266778a07",
   "metadata": {},
   "outputs": [],
   "source": [
    "def wkt_to_geometry(\n",
    "    wkt: str,\n",
    "    scratchpad: Scratchpad,\n",
    ") -> str:\n",
    "    \"\"\"Parse WKT string into a geometry UUID. The following are WKT string samples: POINT (30 10) LINESTRING (30 10, 10 30, 40 40) POLYGON ((30 10, 40 40, 20 40, 10 20, 30 10))\n",
    "\n",
    "    :param wkt: The well known text to convert to a geometry UUID.\n",
    "    :param scratchpad:  Scratchpad instance injected at runtime.\n",
    "    \"\"\"\n",
    "    geom = shapely.from_wkt(wkt, on_invalid=\"ignore\")\n",
    "    geom_uuid = str(uuid.uuid4())\n",
    "    scratchpad[geom_uuid] = geom\n",
    "    return geom_uuid"
   ]
  },
  {
   "cell_type": "code",
   "execution_count": 8,
   "id": "608f93aa-cc7e-4ac3-b9f9-de376a8e2959",
   "metadata": {},
   "outputs": [],
   "source": [
    "buffer_agent = Agent(\n",
    "    model=model,\n",
    "    name=\"BufferAgent\",\n",
    "    description=\"Buffer a geometry by a distance\",\n",
    "    functions=[buffer_geometry],\n",
    "    temperature=0.0,\n",
    ")"
   ]
  },
  {
   "cell_type": "code",
   "execution_count": 9,
   "id": "80648eba-c50f-4e39-ad9d-b91750c77af0",
   "metadata": {},
   "outputs": [],
   "source": [
    "def send_to_buffer_agent():\n",
    "    \"\"\"Return a reference to an agent that will buffer a geometry.\"\"\"\n",
    "    return buffer_agent"
   ]
  },
  {
   "cell_type": "code",
   "execution_count": 10,
   "id": "56c35e40-8779-4b34-84cb-97948b70b722",
   "metadata": {},
   "outputs": [],
   "source": [
    "wkt_to_geometry_agent = Agent(\n",
    "    model=model,\n",
    "    name=\"WKTAgent\",\n",
    "    description=\"Convert WKT string to geometry UUID\",\n",
    "    functions=[wkt_to_geometry],\n",
    "    temperature=0.0,\n",
    ")"
   ]
  },
  {
   "cell_type": "code",
   "execution_count": 11,
   "id": "84efa064-3ce6-4b3d-aab2-c5ec934f13fc",
   "metadata": {},
   "outputs": [],
   "source": [
    "def send_to_wkt_to_geometry_agent():\n",
    "    \"\"\"Return a reference to an agent that will parse WKT string into a geometry UUID.\"\"\"\n",
    "    return wkt_to_geometry_agent"
   ]
  },
  {
   "cell_type": "code",
   "execution_count": 12,
   "id": "a4dcc2d9-05f9-4707-9a60-8689cd3b81d1",
   "metadata": {},
   "outputs": [],
   "source": [
    "instructions = dedent(\n",
    "    \"\"\"\n",
    "Classify the user request and send it to the correct agent.\n",
    "If the use request contains a geometry in WKT, make sure to first parse it before performing any operation.\n",
    "\n",
    "The following are WKT string samples:\n",
    "    POINT (30 10)\n",
    "    LINESTRING (30 10, 10 30, 40 40)\n",
    "    POLYGON ((30 10, 40 40, 20 40, 10 20, 30 10))\n",
    "\n",
    "Make sure to send the request to one agent at the time if they are depending on each other.\n",
    "\"\"\"\n",
    ").strip()"
   ]
  },
  {
   "cell_type": "code",
   "execution_count": 13,
   "id": "5426e4f3-1aed-4cb0-9989-d48175afa061",
   "metadata": {},
   "outputs": [],
   "source": [
    "classifier = Agent(\n",
    "    model=model,\n",
    "    name=\"Classifier\",\n",
    "    instructions=instructions,\n",
    "    functions=[\n",
    "        # send_to_buffer_agent,\n",
    "        # send_to_wkt_to_geometry_agent,\n",
    "        buffer_geometry,\n",
    "        wkt_to_geometry,\n",
    "    ],\n",
    "    temperature=0.0,\n",
    ")"
   ]
  },
  {
   "cell_type": "code",
   "execution_count": 14,
   "id": "adaaaf12-644a-434b-9fda-3b8a64bc5910",
   "metadata": {},
   "outputs": [],
   "source": [
    "geom_uuid = None"
   ]
  },
  {
   "cell_type": "code",
   "execution_count": 15,
   "id": "99231fbd-aa94-452e-8303-756ff82073e0",
   "metadata": {},
   "outputs": [],
   "source": [
    "mao = MAO(\n",
    "    agent=classifier,\n",
    "    observer=ObserverLoguru(),\n",
    ")"
   ]
  },
  {
   "cell_type": "code",
   "execution_count": 16,
   "id": "c41a203e-d175-410f-9586-d162d1474300",
   "metadata": {},
   "outputs": [
    {
     "name": "stderr",
     "output_type": "stream",
     "text": [
      "17:14:02 | INFO | Iteration 1 (Classifier) started.\n",
      "17:14:03 | INFO | Content: None\n",
      "17:14:03 | INFO | Function: wkt_to_geometry({\"wkt\":\"POINT (10 30)\"})\n",
      "17:14:03 | INFO | Observation: 2b7abc07-8ea6-400a-a16b-4d9a7a18607e\n",
      "17:14:03 | INFO | Iteration 2 (Classifier) started.\n",
      "17:14:03 | INFO | Content: None\n",
      "17:14:03 | INFO | Function: buffer_geometry({\"geom_uuid\":\"2b7abc07-8ea6-400a-a16b-4d9a7a18607e\",\"distance_in_meters\":20})\n",
      "17:14:03 | INFO | Observation: 4ff91dbf-9f33-4654-ad57-0ae10d8cce18\n",
      "17:14:03 | INFO | Iteration 3 (Classifier) started.\n",
      "17:14:04 | INFO | Content: 4ff91dbf-9f33-4654-ad57-0ae10d8cce18\n"
     ]
    }
   ],
   "source": [
    "for _ in mao(\"Buffer by 20 meters POINT (10 30). Make sure to response with ONLY the geometry identifer.\"):\n",
    "    if _.content:\n",
    "        mao.terminate()\n",
    "        geom_uuid = _.content"
   ]
  },
  {
   "cell_type": "code",
   "execution_count": 17,
   "id": "d7545e0e-f685-43a5-a8ea-9febeb5db046",
   "metadata": {},
   "outputs": [
    {
     "data": {
      "text/html": [
       "<pre style=\"white-space:pre;overflow-x:auto;line-height:normal;font-family:Menlo,'DejaVu Sans Mono',consolas,'Courier New',monospace\"><span style=\"font-weight: bold\">{</span>\n",
       "<span style=\"color: #7fbf7f; text-decoration-color: #7fbf7f\">│   </span><span style=\"color: #008000; text-decoration-color: #008000\">'role'</span>: <span style=\"color: #008000; text-decoration-color: #008000\">'user'</span>,\n",
       "<span style=\"color: #7fbf7f; text-decoration-color: #7fbf7f\">│   </span><span style=\"color: #008000; text-decoration-color: #008000\">'content'</span>: <span style=\"color: #008000; text-decoration-color: #008000\">'Buffer by 20 meters POINT (10 30). Make sure to response with ONLY the geometry identifer.'</span>\n",
       "<span style=\"font-weight: bold\">}</span>\n",
       "</pre>\n"
      ],
      "text/plain": [
       "\u001b[1m{\u001b[0m\n",
       "\u001b[2;32m│   \u001b[0m\u001b[32m'role'\u001b[0m: \u001b[32m'user'\u001b[0m,\n",
       "\u001b[2;32m│   \u001b[0m\u001b[32m'content'\u001b[0m: \u001b[32m'Buffer by 20 meters POINT \u001b[0m\u001b[32m(\u001b[0m\u001b[32m10 30\u001b[0m\u001b[32m)\u001b[0m\u001b[32m. Make sure to response with ONLY the geometry identifer.'\u001b[0m\n",
       "\u001b[1m}\u001b[0m\n"
      ]
     },
     "metadata": {},
     "output_type": "display_data"
    },
    {
     "data": {
      "text/html": [
       "<pre style=\"white-space:pre;overflow-x:auto;line-height:normal;font-family:Menlo,'DejaVu Sans Mono',consolas,'Courier New',monospace\"><span style=\"color: #800080; text-decoration-color: #800080; font-weight: bold\">Message</span><span style=\"font-weight: bold\">(</span>\n",
       "<span style=\"color: #7fbf7f; text-decoration-color: #7fbf7f\">│   </span><span style=\"color: #808000; text-decoration-color: #808000\">content</span>=<span style=\"color: #800080; text-decoration-color: #800080; font-style: italic\">None</span>,\n",
       "<span style=\"color: #7fbf7f; text-decoration-color: #7fbf7f\">│   </span><span style=\"color: #808000; text-decoration-color: #808000\">role</span>=<span style=\"color: #008000; text-decoration-color: #008000\">'assistant'</span>,\n",
       "<span style=\"color: #7fbf7f; text-decoration-color: #7fbf7f\">│   </span><span style=\"color: #808000; text-decoration-color: #808000\">tool_calls</span>=<span style=\"font-weight: bold\">[</span>\n",
       "<span style=\"color: #7fbf7f; text-decoration-color: #7fbf7f\">│   │   </span><span style=\"font-weight: bold\">{</span>\n",
       "<span style=\"color: #7fbf7f; text-decoration-color: #7fbf7f\">│   │   │   </span><span style=\"color: #008000; text-decoration-color: #008000\">'function'</span>: <span style=\"font-weight: bold\">{</span>\n",
       "<span style=\"color: #7fbf7f; text-decoration-color: #7fbf7f\">│   │   │   │   </span><span style=\"color: #008000; text-decoration-color: #008000\">'arguments'</span>: <span style=\"color: #008000; text-decoration-color: #008000\">'{\"wkt\":\"POINT (10 30)\"}'</span>,\n",
       "<span style=\"color: #7fbf7f; text-decoration-color: #7fbf7f\">│   │   │   │   </span><span style=\"color: #008000; text-decoration-color: #008000\">'name'</span>: <span style=\"color: #008000; text-decoration-color: #008000\">'wkt_to_geometry'</span>\n",
       "<span style=\"color: #7fbf7f; text-decoration-color: #7fbf7f\">│   │   │   </span><span style=\"font-weight: bold\">}</span>,\n",
       "<span style=\"color: #7fbf7f; text-decoration-color: #7fbf7f\">│   │   │   </span><span style=\"color: #008000; text-decoration-color: #008000\">'id'</span>: <span style=\"color: #008000; text-decoration-color: #008000\">'call_Fqqe0jFI4vYHGwX0I6LwxV3Y'</span>,\n",
       "<span style=\"color: #7fbf7f; text-decoration-color: #7fbf7f\">│   │   │   </span><span style=\"color: #008000; text-decoration-color: #008000\">'type'</span>: <span style=\"color: #008000; text-decoration-color: #008000\">'function'</span>\n",
       "<span style=\"color: #7fbf7f; text-decoration-color: #7fbf7f\">│   │   </span><span style=\"font-weight: bold\">}</span>\n",
       "<span style=\"color: #7fbf7f; text-decoration-color: #7fbf7f\">│   </span><span style=\"font-weight: bold\">]</span>,\n",
       "<span style=\"color: #7fbf7f; text-decoration-color: #7fbf7f\">│   </span><span style=\"color: #808000; text-decoration-color: #808000\">function_call</span>=<span style=\"color: #800080; text-decoration-color: #800080; font-style: italic\">None</span>,\n",
       "<span style=\"color: #7fbf7f; text-decoration-color: #7fbf7f\">│   </span><span style=\"color: #808000; text-decoration-color: #808000\">provider_specific_fields</span>=<span style=\"font-weight: bold\">{</span>\n",
       "<span style=\"color: #7fbf7f; text-decoration-color: #7fbf7f\">│   │   </span><span style=\"color: #008000; text-decoration-color: #008000\">'refusal'</span>: <span style=\"color: #800080; text-decoration-color: #800080; font-style: italic\">None</span>\n",
       "<span style=\"color: #7fbf7f; text-decoration-color: #7fbf7f\">│   </span><span style=\"font-weight: bold\">}</span>,\n",
       "<span style=\"color: #7fbf7f; text-decoration-color: #7fbf7f\">│   </span><span style=\"color: #808000; text-decoration-color: #808000\">annotations</span>=<span style=\"font-weight: bold\">[]</span>\n",
       "<span style=\"font-weight: bold\">)</span>\n",
       "</pre>\n"
      ],
      "text/plain": [
       "\u001b[1;35mMessage\u001b[0m\u001b[1m(\u001b[0m\n",
       "\u001b[2;32m│   \u001b[0m\u001b[33mcontent\u001b[0m=\u001b[3;35mNone\u001b[0m,\n",
       "\u001b[2;32m│   \u001b[0m\u001b[33mrole\u001b[0m=\u001b[32m'assistant'\u001b[0m,\n",
       "\u001b[2;32m│   \u001b[0m\u001b[33mtool_calls\u001b[0m=\u001b[1m[\u001b[0m\n",
       "\u001b[2;32m│   │   \u001b[0m\u001b[1m{\u001b[0m\n",
       "\u001b[2;32m│   │   │   \u001b[0m\u001b[32m'function'\u001b[0m: \u001b[1m{\u001b[0m\n",
       "\u001b[2;32m│   │   │   │   \u001b[0m\u001b[32m'arguments'\u001b[0m: \u001b[32m'\u001b[0m\u001b[32m{\u001b[0m\u001b[32m\"wkt\":\"POINT \u001b[0m\u001b[32m(\u001b[0m\u001b[32m10 30\u001b[0m\u001b[32m)\u001b[0m\u001b[32m\"\u001b[0m\u001b[32m}\u001b[0m\u001b[32m'\u001b[0m,\n",
       "\u001b[2;32m│   │   │   │   \u001b[0m\u001b[32m'name'\u001b[0m: \u001b[32m'wkt_to_geometry'\u001b[0m\n",
       "\u001b[2;32m│   │   │   \u001b[0m\u001b[1m}\u001b[0m,\n",
       "\u001b[2;32m│   │   │   \u001b[0m\u001b[32m'id'\u001b[0m: \u001b[32m'call_Fqqe0jFI4vYHGwX0I6LwxV3Y'\u001b[0m,\n",
       "\u001b[2;32m│   │   │   \u001b[0m\u001b[32m'type'\u001b[0m: \u001b[32m'function'\u001b[0m\n",
       "\u001b[2;32m│   │   \u001b[0m\u001b[1m}\u001b[0m\n",
       "\u001b[2;32m│   \u001b[0m\u001b[1m]\u001b[0m,\n",
       "\u001b[2;32m│   \u001b[0m\u001b[33mfunction_call\u001b[0m=\u001b[3;35mNone\u001b[0m,\n",
       "\u001b[2;32m│   \u001b[0m\u001b[33mprovider_specific_fields\u001b[0m=\u001b[1m{\u001b[0m\n",
       "\u001b[2;32m│   │   \u001b[0m\u001b[32m'refusal'\u001b[0m: \u001b[3;35mNone\u001b[0m\n",
       "\u001b[2;32m│   \u001b[0m\u001b[1m}\u001b[0m,\n",
       "\u001b[2;32m│   \u001b[0m\u001b[33mannotations\u001b[0m=\u001b[1m[\u001b[0m\u001b[1m]\u001b[0m\n",
       "\u001b[1m)\u001b[0m\n"
      ]
     },
     "metadata": {},
     "output_type": "display_data"
    },
    {
     "data": {
      "text/html": [
       "<pre style=\"white-space:pre;overflow-x:auto;line-height:normal;font-family:Menlo,'DejaVu Sans Mono',consolas,'Courier New',monospace\"><span style=\"font-weight: bold\">{</span>\n",
       "<span style=\"color: #7fbf7f; text-decoration-color: #7fbf7f\">│   </span><span style=\"color: #008000; text-decoration-color: #008000\">'role'</span>: <span style=\"color: #008000; text-decoration-color: #008000\">'tool'</span>,\n",
       "<span style=\"color: #7fbf7f; text-decoration-color: #7fbf7f\">│   </span><span style=\"color: #008000; text-decoration-color: #008000\">'content'</span>: <span style=\"color: #008000; text-decoration-color: #008000\">'2b7abc07-8ea6-400a-a16b-4d9a7a18607e'</span>,\n",
       "<span style=\"color: #7fbf7f; text-decoration-color: #7fbf7f\">│   </span><span style=\"color: #008000; text-decoration-color: #008000\">'name'</span>: <span style=\"color: #008000; text-decoration-color: #008000\">'wkt_to_geometry'</span>,\n",
       "<span style=\"color: #7fbf7f; text-decoration-color: #7fbf7f\">│   </span><span style=\"color: #008000; text-decoration-color: #008000\">'tool_call_id'</span>: <span style=\"color: #008000; text-decoration-color: #008000\">'call_Fqqe0jFI4vYHGwX0I6LwxV3Y'</span>\n",
       "<span style=\"font-weight: bold\">}</span>\n",
       "</pre>\n"
      ],
      "text/plain": [
       "\u001b[1m{\u001b[0m\n",
       "\u001b[2;32m│   \u001b[0m\u001b[32m'role'\u001b[0m: \u001b[32m'tool'\u001b[0m,\n",
       "\u001b[2;32m│   \u001b[0m\u001b[32m'content'\u001b[0m: \u001b[32m'2b7abc07-8ea6-400a-a16b-4d9a7a18607e'\u001b[0m,\n",
       "\u001b[2;32m│   \u001b[0m\u001b[32m'name'\u001b[0m: \u001b[32m'wkt_to_geometry'\u001b[0m,\n",
       "\u001b[2;32m│   \u001b[0m\u001b[32m'tool_call_id'\u001b[0m: \u001b[32m'call_Fqqe0jFI4vYHGwX0I6LwxV3Y'\u001b[0m\n",
       "\u001b[1m}\u001b[0m\n"
      ]
     },
     "metadata": {},
     "output_type": "display_data"
    },
    {
     "data": {
      "text/html": [
       "<pre style=\"white-space:pre;overflow-x:auto;line-height:normal;font-family:Menlo,'DejaVu Sans Mono',consolas,'Courier New',monospace\"><span style=\"color: #800080; text-decoration-color: #800080; font-weight: bold\">Message</span><span style=\"font-weight: bold\">(</span>\n",
       "<span style=\"color: #7fbf7f; text-decoration-color: #7fbf7f\">│   </span><span style=\"color: #808000; text-decoration-color: #808000\">content</span>=<span style=\"color: #800080; text-decoration-color: #800080; font-style: italic\">None</span>,\n",
       "<span style=\"color: #7fbf7f; text-decoration-color: #7fbf7f\">│   </span><span style=\"color: #808000; text-decoration-color: #808000\">role</span>=<span style=\"color: #008000; text-decoration-color: #008000\">'assistant'</span>,\n",
       "<span style=\"color: #7fbf7f; text-decoration-color: #7fbf7f\">│   </span><span style=\"color: #808000; text-decoration-color: #808000\">tool_calls</span>=<span style=\"font-weight: bold\">[</span>\n",
       "<span style=\"color: #7fbf7f; text-decoration-color: #7fbf7f\">│   │   </span><span style=\"font-weight: bold\">{</span>\n",
       "<span style=\"color: #7fbf7f; text-decoration-color: #7fbf7f\">│   │   │   </span><span style=\"color: #008000; text-decoration-color: #008000\">'function'</span>: <span style=\"font-weight: bold\">{</span>\n",
       "<span style=\"color: #7fbf7f; text-decoration-color: #7fbf7f\">│   │   │   │   </span><span style=\"color: #008000; text-decoration-color: #008000\">'arguments'</span>: <span style=\"color: #008000; text-decoration-color: #008000\">'{\"geom_uuid\":\"2b7abc07-8ea6-400a-a16b-4d9a7a18607e\",\"distance_in_meters\":20}'</span>,\n",
       "<span style=\"color: #7fbf7f; text-decoration-color: #7fbf7f\">│   │   │   │   </span><span style=\"color: #008000; text-decoration-color: #008000\">'name'</span>: <span style=\"color: #008000; text-decoration-color: #008000\">'buffer_geometry'</span>\n",
       "<span style=\"color: #7fbf7f; text-decoration-color: #7fbf7f\">│   │   │   </span><span style=\"font-weight: bold\">}</span>,\n",
       "<span style=\"color: #7fbf7f; text-decoration-color: #7fbf7f\">│   │   │   </span><span style=\"color: #008000; text-decoration-color: #008000\">'id'</span>: <span style=\"color: #008000; text-decoration-color: #008000\">'call_6kA2hDFNcq2og2wuAkAJNy4B'</span>,\n",
       "<span style=\"color: #7fbf7f; text-decoration-color: #7fbf7f\">│   │   │   </span><span style=\"color: #008000; text-decoration-color: #008000\">'type'</span>: <span style=\"color: #008000; text-decoration-color: #008000\">'function'</span>\n",
       "<span style=\"color: #7fbf7f; text-decoration-color: #7fbf7f\">│   │   </span><span style=\"font-weight: bold\">}</span>\n",
       "<span style=\"color: #7fbf7f; text-decoration-color: #7fbf7f\">│   </span><span style=\"font-weight: bold\">]</span>,\n",
       "<span style=\"color: #7fbf7f; text-decoration-color: #7fbf7f\">│   </span><span style=\"color: #808000; text-decoration-color: #808000\">function_call</span>=<span style=\"color: #800080; text-decoration-color: #800080; font-style: italic\">None</span>,\n",
       "<span style=\"color: #7fbf7f; text-decoration-color: #7fbf7f\">│   </span><span style=\"color: #808000; text-decoration-color: #808000\">provider_specific_fields</span>=<span style=\"font-weight: bold\">{</span>\n",
       "<span style=\"color: #7fbf7f; text-decoration-color: #7fbf7f\">│   │   </span><span style=\"color: #008000; text-decoration-color: #008000\">'refusal'</span>: <span style=\"color: #800080; text-decoration-color: #800080; font-style: italic\">None</span>\n",
       "<span style=\"color: #7fbf7f; text-decoration-color: #7fbf7f\">│   </span><span style=\"font-weight: bold\">}</span>,\n",
       "<span style=\"color: #7fbf7f; text-decoration-color: #7fbf7f\">│   </span><span style=\"color: #808000; text-decoration-color: #808000\">annotations</span>=<span style=\"font-weight: bold\">[]</span>\n",
       "<span style=\"font-weight: bold\">)</span>\n",
       "</pre>\n"
      ],
      "text/plain": [
       "\u001b[1;35mMessage\u001b[0m\u001b[1m(\u001b[0m\n",
       "\u001b[2;32m│   \u001b[0m\u001b[33mcontent\u001b[0m=\u001b[3;35mNone\u001b[0m,\n",
       "\u001b[2;32m│   \u001b[0m\u001b[33mrole\u001b[0m=\u001b[32m'assistant'\u001b[0m,\n",
       "\u001b[2;32m│   \u001b[0m\u001b[33mtool_calls\u001b[0m=\u001b[1m[\u001b[0m\n",
       "\u001b[2;32m│   │   \u001b[0m\u001b[1m{\u001b[0m\n",
       "\u001b[2;32m│   │   │   \u001b[0m\u001b[32m'function'\u001b[0m: \u001b[1m{\u001b[0m\n",
       "\u001b[2;32m│   │   │   │   \u001b[0m\u001b[32m'arguments'\u001b[0m: \u001b[32m'\u001b[0m\u001b[32m{\u001b[0m\u001b[32m\"geom_uuid\":\"2b7abc07-8ea6-400a-a16b-4d9a7a18607e\",\"distance_in_meters\":20\u001b[0m\u001b[32m}\u001b[0m\u001b[32m'\u001b[0m,\n",
       "\u001b[2;32m│   │   │   │   \u001b[0m\u001b[32m'name'\u001b[0m: \u001b[32m'buffer_geometry'\u001b[0m\n",
       "\u001b[2;32m│   │   │   \u001b[0m\u001b[1m}\u001b[0m,\n",
       "\u001b[2;32m│   │   │   \u001b[0m\u001b[32m'id'\u001b[0m: \u001b[32m'call_6kA2hDFNcq2og2wuAkAJNy4B'\u001b[0m,\n",
       "\u001b[2;32m│   │   │   \u001b[0m\u001b[32m'type'\u001b[0m: \u001b[32m'function'\u001b[0m\n",
       "\u001b[2;32m│   │   \u001b[0m\u001b[1m}\u001b[0m\n",
       "\u001b[2;32m│   \u001b[0m\u001b[1m]\u001b[0m,\n",
       "\u001b[2;32m│   \u001b[0m\u001b[33mfunction_call\u001b[0m=\u001b[3;35mNone\u001b[0m,\n",
       "\u001b[2;32m│   \u001b[0m\u001b[33mprovider_specific_fields\u001b[0m=\u001b[1m{\u001b[0m\n",
       "\u001b[2;32m│   │   \u001b[0m\u001b[32m'refusal'\u001b[0m: \u001b[3;35mNone\u001b[0m\n",
       "\u001b[2;32m│   \u001b[0m\u001b[1m}\u001b[0m,\n",
       "\u001b[2;32m│   \u001b[0m\u001b[33mannotations\u001b[0m=\u001b[1m[\u001b[0m\u001b[1m]\u001b[0m\n",
       "\u001b[1m)\u001b[0m\n"
      ]
     },
     "metadata": {},
     "output_type": "display_data"
    },
    {
     "data": {
      "text/html": [
       "<pre style=\"white-space:pre;overflow-x:auto;line-height:normal;font-family:Menlo,'DejaVu Sans Mono',consolas,'Courier New',monospace\"><span style=\"font-weight: bold\">{</span>\n",
       "<span style=\"color: #7fbf7f; text-decoration-color: #7fbf7f\">│   </span><span style=\"color: #008000; text-decoration-color: #008000\">'role'</span>: <span style=\"color: #008000; text-decoration-color: #008000\">'tool'</span>,\n",
       "<span style=\"color: #7fbf7f; text-decoration-color: #7fbf7f\">│   </span><span style=\"color: #008000; text-decoration-color: #008000\">'content'</span>: <span style=\"color: #008000; text-decoration-color: #008000\">'4ff91dbf-9f33-4654-ad57-0ae10d8cce18'</span>,\n",
       "<span style=\"color: #7fbf7f; text-decoration-color: #7fbf7f\">│   </span><span style=\"color: #008000; text-decoration-color: #008000\">'name'</span>: <span style=\"color: #008000; text-decoration-color: #008000\">'buffer_geometry'</span>,\n",
       "<span style=\"color: #7fbf7f; text-decoration-color: #7fbf7f\">│   </span><span style=\"color: #008000; text-decoration-color: #008000\">'tool_call_id'</span>: <span style=\"color: #008000; text-decoration-color: #008000\">'call_6kA2hDFNcq2og2wuAkAJNy4B'</span>\n",
       "<span style=\"font-weight: bold\">}</span>\n",
       "</pre>\n"
      ],
      "text/plain": [
       "\u001b[1m{\u001b[0m\n",
       "\u001b[2;32m│   \u001b[0m\u001b[32m'role'\u001b[0m: \u001b[32m'tool'\u001b[0m,\n",
       "\u001b[2;32m│   \u001b[0m\u001b[32m'content'\u001b[0m: \u001b[32m'4ff91dbf-9f33-4654-ad57-0ae10d8cce18'\u001b[0m,\n",
       "\u001b[2;32m│   \u001b[0m\u001b[32m'name'\u001b[0m: \u001b[32m'buffer_geometry'\u001b[0m,\n",
       "\u001b[2;32m│   \u001b[0m\u001b[32m'tool_call_id'\u001b[0m: \u001b[32m'call_6kA2hDFNcq2og2wuAkAJNy4B'\u001b[0m\n",
       "\u001b[1m}\u001b[0m\n"
      ]
     },
     "metadata": {},
     "output_type": "display_data"
    },
    {
     "data": {
      "text/html": [
       "<pre style=\"white-space:pre;overflow-x:auto;line-height:normal;font-family:Menlo,'DejaVu Sans Mono',consolas,'Courier New',monospace\"><span style=\"color: #800080; text-decoration-color: #800080; font-weight: bold\">Message</span><span style=\"font-weight: bold\">(</span>\n",
       "<span style=\"color: #7fbf7f; text-decoration-color: #7fbf7f\">│   </span><span style=\"color: #808000; text-decoration-color: #808000\">content</span>=<span style=\"color: #008000; text-decoration-color: #008000\">'4ff91dbf-9f33-4654-ad57-0ae10d8cce18'</span>,\n",
       "<span style=\"color: #7fbf7f; text-decoration-color: #7fbf7f\">│   </span><span style=\"color: #808000; text-decoration-color: #808000\">role</span>=<span style=\"color: #008000; text-decoration-color: #008000\">'assistant'</span>,\n",
       "<span style=\"color: #7fbf7f; text-decoration-color: #7fbf7f\">│   </span><span style=\"color: #808000; text-decoration-color: #808000\">tool_calls</span>=<span style=\"color: #800080; text-decoration-color: #800080; font-style: italic\">None</span>,\n",
       "<span style=\"color: #7fbf7f; text-decoration-color: #7fbf7f\">│   </span><span style=\"color: #808000; text-decoration-color: #808000\">function_call</span>=<span style=\"color: #800080; text-decoration-color: #800080; font-style: italic\">None</span>,\n",
       "<span style=\"color: #7fbf7f; text-decoration-color: #7fbf7f\">│   </span><span style=\"color: #808000; text-decoration-color: #808000\">provider_specific_fields</span>=<span style=\"font-weight: bold\">{</span>\n",
       "<span style=\"color: #7fbf7f; text-decoration-color: #7fbf7f\">│   │   </span><span style=\"color: #008000; text-decoration-color: #008000\">'refusal'</span>: <span style=\"color: #800080; text-decoration-color: #800080; font-style: italic\">None</span>\n",
       "<span style=\"color: #7fbf7f; text-decoration-color: #7fbf7f\">│   </span><span style=\"font-weight: bold\">}</span>,\n",
       "<span style=\"color: #7fbf7f; text-decoration-color: #7fbf7f\">│   </span><span style=\"color: #808000; text-decoration-color: #808000\">annotations</span>=<span style=\"font-weight: bold\">[]</span>\n",
       "<span style=\"font-weight: bold\">)</span>\n",
       "</pre>\n"
      ],
      "text/plain": [
       "\u001b[1;35mMessage\u001b[0m\u001b[1m(\u001b[0m\n",
       "\u001b[2;32m│   \u001b[0m\u001b[33mcontent\u001b[0m=\u001b[32m'4ff91dbf-9f33-4654-ad57-0ae10d8cce18'\u001b[0m,\n",
       "\u001b[2;32m│   \u001b[0m\u001b[33mrole\u001b[0m=\u001b[32m'assistant'\u001b[0m,\n",
       "\u001b[2;32m│   \u001b[0m\u001b[33mtool_calls\u001b[0m=\u001b[3;35mNone\u001b[0m,\n",
       "\u001b[2;32m│   \u001b[0m\u001b[33mfunction_call\u001b[0m=\u001b[3;35mNone\u001b[0m,\n",
       "\u001b[2;32m│   \u001b[0m\u001b[33mprovider_specific_fields\u001b[0m=\u001b[1m{\u001b[0m\n",
       "\u001b[2;32m│   │   \u001b[0m\u001b[32m'refusal'\u001b[0m: \u001b[3;35mNone\u001b[0m\n",
       "\u001b[2;32m│   \u001b[0m\u001b[1m}\u001b[0m,\n",
       "\u001b[2;32m│   \u001b[0m\u001b[33mannotations\u001b[0m=\u001b[1m[\u001b[0m\u001b[1m]\u001b[0m\n",
       "\u001b[1m)\u001b[0m\n"
      ]
     },
     "metadata": {},
     "output_type": "display_data"
    }
   ],
   "source": [
    "for _ in mao.dialog:\n",
    "    pprint(_, expand_all=True)"
   ]
  },
  {
   "cell_type": "code",
   "execution_count": 18,
   "id": "2d6614ed-197d-4f91-95fc-98b6810ca308",
   "metadata": {},
   "outputs": [
    {
     "data": {
      "text/html": [
       "<pre style=\"white-space:pre;overflow-x:auto;line-height:normal;font-family:Menlo,'DejaVu Sans Mono',consolas,'Courier New',monospace\"><span style=\"font-weight: bold\">(</span>\n",
       "<span style=\"color: #7fbf7f; text-decoration-color: #7fbf7f\">│   </span><span style=\"color: #008000; text-decoration-color: #008000\">'2b7abc07-8ea6-400a-a16b-4d9a7a18607e'</span>,\n",
       "<span style=\"color: #7fbf7f; text-decoration-color: #7fbf7f\">│   </span><span style=\"font-weight: bold\">&lt;</span><span style=\"color: #ff00ff; text-decoration-color: #ff00ff; font-weight: bold\">POINT</span><span style=\"color: #000000; text-decoration-color: #000000\"> </span><span style=\"color: #000000; text-decoration-color: #000000; font-weight: bold\">(</span><span style=\"color: #008080; text-decoration-color: #008080; font-weight: bold\">10</span><span style=\"color: #000000; text-decoration-color: #000000\"> </span><span style=\"color: #008080; text-decoration-color: #008080; font-weight: bold\">30</span><span style=\"color: #000000; text-decoration-color: #000000; font-weight: bold\">)</span><span style=\"font-weight: bold\">&gt;</span>\n",
       "<span style=\"font-weight: bold\">)</span>\n",
       "</pre>\n"
      ],
      "text/plain": [
       "\u001b[1m(\u001b[0m\n",
       "\u001b[2;32m│   \u001b[0m\u001b[32m'2b7abc07-8ea6-400a-a16b-4d9a7a18607e'\u001b[0m,\n",
       "\u001b[2;32m│   \u001b[0m\u001b[1m<\u001b[0m\u001b[1;95mPOINT\u001b[0m\u001b[39m \u001b[0m\u001b[1;39m(\u001b[0m\u001b[1;36m10\u001b[0m\u001b[39m \u001b[0m\u001b[1;36m30\u001b[0m\u001b[1;39m)\u001b[0m\u001b[1m>\u001b[0m\n",
       "\u001b[1m)\u001b[0m\n"
      ]
     },
     "metadata": {},
     "output_type": "display_data"
    },
    {
     "data": {
      "text/html": [
       "<pre style=\"white-space:pre;overflow-x:auto;line-height:normal;font-family:Menlo,'DejaVu Sans Mono',consolas,'Courier New',monospace\"><span style=\"font-weight: bold\">(</span>\n",
       "<span style=\"color: #7fbf7f; text-decoration-color: #7fbf7f\">│   </span><span style=\"color: #008000; text-decoration-color: #008000\">'4ff91dbf-9f33-4654-ad57-0ae10d8cce18'</span>,\n",
       "<span style=\"color: #7fbf7f; text-decoration-color: #7fbf7f\">│   </span><span style=\"font-weight: bold\">&lt;</span><span style=\"color: #ff00ff; text-decoration-color: #ff00ff; font-weight: bold\">POLYGON</span><span style=\"color: #000000; text-decoration-color: #000000\"> </span><span style=\"color: #000000; text-decoration-color: #000000; font-weight: bold\">((</span><span style=\"color: #008080; text-decoration-color: #008080; font-weight: bold\">30</span><span style=\"color: #000000; text-decoration-color: #000000\"> </span><span style=\"color: #008080; text-decoration-color: #008080; font-weight: bold\">30</span><span style=\"color: #000000; text-decoration-color: #000000\">, </span><span style=\"color: #008080; text-decoration-color: #008080; font-weight: bold\">29.616</span><span style=\"color: #000000; text-decoration-color: #000000\"> </span><span style=\"color: #008080; text-decoration-color: #008080; font-weight: bold\">26.098</span><span style=\"color: #000000; text-decoration-color: #000000\">, </span><span style=\"color: #008080; text-decoration-color: #008080; font-weight: bold\">28.478</span><span style=\"color: #000000; text-decoration-color: #000000\"> </span><span style=\"color: #008080; text-decoration-color: #008080; font-weight: bold\">22.346</span><span style=\"color: #000000; text-decoration-color: #000000\">, </span><span style=\"color: #008080; text-decoration-color: #008080; font-weight: bold\">26.629</span><span style=\"color: #000000; text-decoration-color: #000000\"> </span><span style=\"color: #008080; text-decoration-color: #008080; font-weight: bold\">18.889</span><span style=\"color: #000000; text-decoration-color: #000000\">, </span><span style=\"color: #008080; text-decoration-color: #008080; font-weight: bold\">24.142</span><span style=\"color: #000000; text-decoration-color: #000000\"> </span><span style=\"color: #008080; text-decoration-color: #008080; font-weight: bold\">15.858</span><span style=\"color: #808000; text-decoration-color: #808000\">...</span><span style=\"font-weight: bold\">&gt;</span>\n",
       "<span style=\"font-weight: bold\">)</span>\n",
       "</pre>\n"
      ],
      "text/plain": [
       "\u001b[1m(\u001b[0m\n",
       "\u001b[2;32m│   \u001b[0m\u001b[32m'4ff91dbf-9f33-4654-ad57-0ae10d8cce18'\u001b[0m,\n",
       "\u001b[2;32m│   \u001b[0m\u001b[1m<\u001b[0m\u001b[1;95mPOLYGON\u001b[0m\u001b[39m \u001b[0m\u001b[1;39m(\u001b[0m\u001b[1;39m(\u001b[0m\u001b[1;36m30\u001b[0m\u001b[39m \u001b[0m\u001b[1;36m30\u001b[0m\u001b[39m, \u001b[0m\u001b[1;36m29.616\u001b[0m\u001b[39m \u001b[0m\u001b[1;36m26.098\u001b[0m\u001b[39m, \u001b[0m\u001b[1;36m28.478\u001b[0m\u001b[39m \u001b[0m\u001b[1;36m22.346\u001b[0m\u001b[39m, \u001b[0m\u001b[1;36m26.629\u001b[0m\u001b[39m \u001b[0m\u001b[1;36m18.889\u001b[0m\u001b[39m, \u001b[0m\u001b[1;36m24.142\u001b[0m\u001b[39m \u001b[0m\u001b[1;36m15.858\u001b[0m\u001b[33m...\u001b[0m\u001b[1m>\u001b[0m\n",
       "\u001b[1m)\u001b[0m\n"
      ]
     },
     "metadata": {},
     "output_type": "display_data"
    }
   ],
   "source": [
    "for _ in mao.scratchpad:\n",
    "    pprint(_, expand_all=True)"
   ]
  },
  {
   "cell_type": "markdown",
   "id": "dc1e7fb9-106e-45da-ad2c-64dc3d3d88cc",
   "metadata": {},
   "source": [
    "## View the geometry."
   ]
  },
  {
   "cell_type": "code",
   "execution_count": 19,
   "id": "43e147c2-9901-4d49-94b5-c211d90ff8c0",
   "metadata": {},
   "outputs": [
    {
     "data": {
      "image/svg+xml": [
       "<svg xmlns=\"http://www.w3.org/2000/svg\" xmlns:xlink=\"http://www.w3.org/1999/xlink\" width=\"100.0\" height=\"100.0\" viewBox=\"-11.6 8.4 43.2 43.2\" preserveAspectRatio=\"xMinYMin meet\"><g transform=\"matrix(1,0,0,-1,0,60.0)\"><path fill-rule=\"evenodd\" fill=\"#66cc99\" stroke=\"#555555\" stroke-width=\"0.8640000000000001\" opacity=\"0.6\" d=\"M 30.0,30.0 L 29.61570560806461,26.098193559677433 L 28.477590650225736,22.346331352698204 L 26.629392246050905,18.888595339607956 L 24.14213562373095,15.85786437626905 L 21.111404660392047,13.370607753949095 L 17.653668647301796,11.522409349774264 L 13.901806440322567,10.384294391935391 L 10.0,10.0 L 6.098193559677436,10.384294391935391 L 2.346331352698206,11.522409349774264 L -1.11140466039204,13.370607753949095 L -4.142135623730949,15.857864376269049 L -6.629392246050905,18.888595339607956 L -8.477590650225736,22.3463313526982 L -9.615705608064609,26.098193559677426 L -10.0,30.0 L -9.615705608064609,33.90180644032257 L -8.477590650225736,37.65366864730179 L -6.629392246050909,41.11140466039204 L -4.142135623730955,44.14213562373095 L -1.1114046603920436,46.629392246050905 L 2.3463313526981935,48.47759065022573 L 6.098193559677426,49.6157056080646 L 10.0,50.0 L 13.901806440322567,49.61570560806461 L 17.6536686473018,48.477590650225736 L 21.111404660392036,46.62939224605091 L 24.142135623730947,44.14213562373095 L 26.629392246050905,41.11140466039204 L 28.47759065022573,37.65366864730181 L 29.615705608064605,33.901806440322574 L 30.0,30.0 z\" /></g></svg>"
      ],
      "text/plain": [
       "<POLYGON ((30 30, 29.616 26.098, 28.478 22.346, 26.629 18.889, 24.142 15.858...>"
      ]
     },
     "execution_count": 19,
     "metadata": {},
     "output_type": "execute_result"
    }
   ],
   "source": [
    "mao.scratchpad[geom_uuid]"
   ]
  }
 ],
 "metadata": {
  "kernelspec": {
   "display_name": "Python 3 (ipykernel)",
   "language": "python",
   "name": "python3"
  },
  "language_info": {
   "codemirror_mode": {
    "name": "ipython",
    "version": 3
   },
   "file_extension": ".py",
   "mimetype": "text/x-python",
   "name": "python",
   "nbconvert_exporter": "python",
   "pygments_lexer": "ipython3",
   "version": "3.11.13"
  }
 },
 "nbformat": 4,
 "nbformat_minor": 5
}
