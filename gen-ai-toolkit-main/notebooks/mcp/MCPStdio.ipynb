{
 "cells": [
  {
   "cell_type": "markdown",
   "id": "752b1bf4-ba54-407e-8deb-c48a42c4425f",
   "metadata": {},
   "source": [
    "# Notebook to demo connecting to an Stdio MCP Server.\n",
    "\n",
    "```bash\n",
    "docker pull mcp/time\n",
    "```\n",
    "\n",
    "```json\n",
    "{\n",
    "  \"mcpServers\": {\n",
    "    \"time\": {\n",
    "      \"command\": \"docker\",\n",
    "      \"args\": [\n",
    "        \"run\",\n",
    "        \"-i\",\n",
    "        \"--rm\",\n",
    "        \"mcp/time\"\n",
    "      ]\n",
    "    }\n",
    "  }\n",
    "}\n",
    "```"
   ]
  },
  {
   "cell_type": "code",
   "id": "62d18c14-b978-4870-89bf-093af3af8325",
   "metadata": {},
   "source": [
    "import os\n",
    "\n",
    "from faker import Faker\n",
    "from gait import MCPServer, MCPServerStdio\n",
    "from mcp import StdioServerParameters\n",
    "from rich.pretty import pprint"
   ],
   "outputs": [],
   "execution_count": null
  },
  {
   "cell_type": "code",
   "id": "707c3bea-3dc7-454a-88f4-e62e32e03022",
   "metadata": {},
   "source": [
    "parameters = StdioServerParameters(\n",
    "    command=os.path.expanduser(\n",
    "        os.path.join(\n",
    "            \"~\",\n",
    "            \".local\",\n",
    "            \"bin\",\n",
    "            \"docker\",\n",
    "        )\n",
    "    ),\n",
    "    args=[\n",
    "        \"run\",\n",
    "        \"-i\",\n",
    "        \"--rm\",\n",
    "        \"mcp/time\",\n",
    "    ],\n",
    ")"
   ],
   "outputs": [],
   "execution_count": null
  },
  {
   "cell_type": "code",
   "id": "e2175a80-b11b-4bf1-8ff8-870020f80027",
   "metadata": {},
   "source": [
    "mcp_server = MCPServerStdio(parameters=parameters)"
   ],
   "outputs": [],
   "execution_count": null
  },
  {
   "cell_type": "code",
   "id": "69d064ac-a2ff-4761-b87e-19bbbe6b886e",
   "metadata": {},
   "source": [
    "await mcp_server.connect()"
   ],
   "outputs": [],
   "execution_count": null
  },
  {
   "cell_type": "code",
   "id": "c8593d31-8d68-4a71-a868-9a8833b695cc",
   "metadata": {},
   "source": [
    "tools = await mcp_server.list_tools()\n",
    "pprint(tools, expand_all=True)"
   ],
   "outputs": [],
   "execution_count": null
  },
  {
   "cell_type": "code",
   "id": "22f35ad1-641d-4ae4-b07f-7d72237da466",
   "metadata": {},
   "source": [
    "await mcp_server.close()"
   ],
   "outputs": [],
   "execution_count": null
  }
 ],
 "metadata": {
  "kernelspec": {
   "display_name": "Python 3 (ipykernel)",
   "language": "python",
   "name": "python3"
  },
  "language_info": {
   "codemirror_mode": {
    "name": "ipython",
    "version": 3
   },
   "file_extension": ".py",
   "mimetype": "text/x-python",
   "name": "python",
   "nbconvert_exporter": "python",
   "pygments_lexer": "ipython3",
   "version": "3.11.13"
  }
 },
 "nbformat": 4,
 "nbformat_minor": 5
}
