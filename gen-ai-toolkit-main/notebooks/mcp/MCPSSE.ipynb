{
 "cells": [
  {
   "cell_type": "markdown",
   "id": "f45ba2e4-4295-4fda-9795-4e3c323bc55a",
   "metadata": {},
   "source": [
    "# Notebook to demo connecting to an SSE MCP Server.\n",
    "\n",
    "This assumes that you started the server using:\n",
    "```bash\n",
    "python server.py\n",
    "```"
   ]
  },
  {
   "cell_type": "code",
   "id": "b73fed46e39437e1",
   "metadata": {},
   "source": [
    "from faker import Faker\n",
    "from gait import MCPServer, MCPServerSSE\n",
    "from rich.pretty import pprint"
   ],
   "outputs": [],
   "execution_count": null
  },
  {
   "cell_type": "code",
   "id": "cd59ac42-d42b-4d0f-b72d-54f9e6664c37",
   "metadata": {},
   "source": [
    "fake = Faker()"
   ],
   "outputs": [],
   "execution_count": null
  },
  {
   "cell_type": "code",
   "id": "ed9b89bd-c878-4e86-9773-52defde5dd78",
   "metadata": {},
   "source": [
    "mcp_server = MCPServerSSE(\"http://localhost:8000/sse\")"
   ],
   "outputs": [],
   "execution_count": null
  },
  {
   "cell_type": "code",
   "id": "431b76a5-5972-4429-9151-578906cc4b21",
   "metadata": {},
   "source": [
    "await mcp_server.connect()"
   ],
   "outputs": [],
   "execution_count": null
  },
  {
   "cell_type": "code",
   "id": "0a8de5b7-92d0-4816-9bfa-c79ce25d5388",
   "metadata": {},
   "source": [
    "tools = await mcp_server.list_tools()\n",
    "pprint(tools, expand_all=True)"
   ],
   "outputs": [],
   "execution_count": null
  },
  {
   "cell_type": "code",
   "id": "3b498a44-f5d1-4a26-9815-2380e7ffdc3b",
   "metadata": {},
   "source": [
    "resp = await mcp_server.call_tool(\n",
    "    \"get_temperature\",\n",
    "    dict(\n",
    "        location=fake.city(),\n",
    "    ),\n",
    ")\n",
    "pprint(resp, expand_all=True)"
   ],
   "outputs": [],
   "execution_count": null
  },
  {
   "cell_type": "code",
   "id": "dc88e406-3027-474b-9251-b10df69c16a8",
   "metadata": {},
   "source": [
    "await mcp_server.close()"
   ],
   "outputs": [],
   "execution_count": null
  }
 ],
 "metadata": {
  "kernelspec": {
   "display_name": "Python 3 (ipykernel)",
   "language": "python",
   "name": "python3"
  },
  "language_info": {
   "codemirror_mode": {
    "name": "ipython",
    "version": 3
   },
   "file_extension": ".py",
   "mimetype": "text/x-python",
   "name": "python",
   "nbconvert_exporter": "python",
   "pygments_lexer": "ipython3",
   "version": "3.11.13"
  }
 },
 "nbformat": 4,
 "nbformat_minor": 5
}
