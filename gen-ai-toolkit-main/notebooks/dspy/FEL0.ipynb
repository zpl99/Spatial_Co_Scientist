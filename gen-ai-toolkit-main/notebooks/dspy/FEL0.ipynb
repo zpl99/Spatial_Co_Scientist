{
 "cells": [
  {
   "cell_type": "code",
   "execution_count": 1,
   "id": "ab90dfe9-3acb-45a5-a7cb-3f1d10be13ce",
   "metadata": {},
   "outputs": [],
   "source": [
    "from textwrap import dedent\n",
    "from typing import Literal\n",
    "\n",
    "import dspy\n",
    "import ujson\n",
    "from dspy.datasets import DataLoader"
   ]
  },
  {
   "cell_type": "code",
   "execution_count": 4,
   "id": "2f01faa6-f4ad-4a65-a872-fa510de7f968",
   "metadata": {},
   "outputs": [],
   "source": [
    "lm = dspy.LM(\n",
    "    \"ollama_chat/llama3.2\",\n",
    "    api_base=\"http://localhost:11434\",\n",
    "    api_key=\"ollama\",\n",
    ")\n",
    "dspy.configure(lm=lm)"
   ]
  },
  {
   "cell_type": "code",
   "execution_count": 5,
   "id": "16cbc582-f473-4007-a386-7c2d8d537e4c",
   "metadata": {},
   "outputs": [],
   "source": [
    "class FEL0(dspy.Signature):\n",
    "    \"\"\"Extract layer1 or layer2 from the input text.\"\"\"\n",
    "\n",
    "    text: str = dspy.InputField(\n",
    "        desc=dedent(\n",
    "            \"\"\"The query text about features in one layer or two layers.\n",
    "        A layer is a collection of features.\n",
    "        A feature has a shape (point, linestring, polygon) and attributes.\n",
    "        \"\"\"\n",
    "        ).strip(),\n",
    "    )\n",
    "    layer1: str = dspy.OutputField(\n",
    "        desc=\"The name of the first layer.\",\n",
    "    )\n",
    "    layer2: str = dspy.OutputField(\n",
    "        desc=\"The name of the second layer if applicable or 'none'.\",\n",
    "    )"
   ]
  },
  {
   "cell_type": "code",
   "execution_count": 6,
   "id": "ab0d3e33-9441-4da5-b1e7-c145039441f1",
   "metadata": {},
   "outputs": [],
   "source": [
    "matcher = dspy.Predict(FEL0)"
   ]
  },
  {
   "cell_type": "code",
   "execution_count": 7,
   "id": "9e8610e2-8c28-4134-88b7-e58c1431336a",
   "metadata": {},
   "outputs": [],
   "source": [
    "def metric_fel0(\n",
    "    data: FEL0,\n",
    "    pred: FEL0,\n",
    "    trace=None,\n",
    "):\n",
    "    return data.layer1 == pred.layer1 and data.layer2 == pred.layer2"
   ]
  },
  {
   "cell_type": "code",
   "execution_count": 8,
   "id": "b39caf09-a498-4e12-a64b-d7bdb59b2835",
   "metadata": {},
   "outputs": [],
   "source": [
    "with open(\"/Users/mraad/data/NorthSea0.json\", mode=\"r\", encoding=\"utf-8\") as fp:\n",
    "    docs = ujson.load(fp)"
   ]
  },
  {
   "cell_type": "code",
   "execution_count": 9,
   "id": "74915f81-4f03-4675-bbed-24f31f162cb9",
   "metadata": {},
   "outputs": [],
   "source": [
    "# dl = DataLoader()"
   ]
  },
  {
   "cell_type": "code",
   "execution_count": 10,
   "id": "f716f13e-d425-4e34-8049-a39716bbde2e",
   "metadata": {},
   "outputs": [],
   "source": [
    "# dl.from_json(\"/Users/mraad/data/NorthSea0.json\", input_keys=(\"text\"))"
   ]
  },
  {
   "cell_type": "code",
   "execution_count": 11,
   "id": "229cbd28-b008-44fb-b3bc-cf54faef460f",
   "metadata": {},
   "outputs": [],
   "source": [
    "# dspy.Example(dict(foo=\"bar\")).with_inputs(\"foo\")"
   ]
  },
  {
   "cell_type": "code",
   "execution_count": 12,
   "id": "13b572da-4af3-4be1-9694-364e9f999bbe",
   "metadata": {},
   "outputs": [],
   "source": [
    "def yield_example():\n",
    "    for doc in docs:\n",
    "        text = doc[\"text\"]\n",
    "        layer1 = doc[\"meta\"][\"layer1\"]\n",
    "        layer2 = doc[\"meta\"][\"layer2\"] or \"none\"\n",
    "        yield dspy.Example(dict(text=text, layer1=layer1, layer2=layer2)).with_inputs(\"text\")\n",
    "\n",
    "\n",
    "trainset = [_ for _ in yield_example()]"
   ]
  },
  {
   "cell_type": "code",
   "execution_count": null,
   "id": "af2f2cde-8dc9-4bbd-a389-32d8999281e1",
   "metadata": {},
   "outputs": [],
   "source": [
    "trainset[:5]"
   ]
  },
  {
   "cell_type": "code",
   "execution_count": null,
   "id": "5e852795-b5a2-4f82-a2bd-88df8da4c665",
   "metadata": {},
   "outputs": [],
   "source": [
    "compiler = dspy.SIMBA(\n",
    "    metric=metric_fel0,\n",
    "    max_steps=10,\n",
    "    max_demos=10,\n",
    ")\n",
    "compiled = compiler.compile(matcher, trainset=trainset)"
   ]
  },
  {
   "cell_type": "code",
   "execution_count": null,
   "id": "c8c39363-d5d4-49ee-a076-258c24cc5800",
   "metadata": {},
   "outputs": [],
   "source": []
  }
 ],
 "metadata": {
  "kernelspec": {
   "display_name": "Python 3 (ipykernel)",
   "language": "python",
   "name": "python3"
  },
  "language_info": {
   "codemirror_mode": {
    "name": "ipython",
    "version": 3
   },
   "file_extension": ".py",
   "mimetype": "text/x-python",
   "name": "python",
   "nbconvert_exporter": "python",
   "pygments_lexer": "ipython3",
   "version": "3.11.13"
  }
 },
 "nbformat": 4,
 "nbformat_minor": 5
}
