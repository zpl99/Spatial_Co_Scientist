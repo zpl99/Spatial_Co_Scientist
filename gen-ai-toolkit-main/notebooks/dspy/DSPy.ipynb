{
 "cells": [
  {
   "cell_type": "markdown",
   "id": "881e39cb-ff45-4335-a521-65a5bd6d6c89",
   "metadata": {},
   "source": [
    "# DSPy\n",
    "\n",
    "```terminal\n",
    "uv pip install -U dspy\n",
    "```"
   ]
  },
  {
   "cell_type": "code",
   "execution_count": 1,
   "id": "8b326532-a122-4b09-bef2-9827f1890c1c",
   "metadata": {},
   "outputs": [],
   "source": [
    "from textwrap import dedent\n",
    "\n",
    "import dspy\n",
    "from IPython.display import Latex, Markdown, display\n",
    "from rich.pretty import pprint\n",
    "from gait import s_message, u_message"
   ]
  },
  {
   "cell_type": "markdown",
   "id": "82ab3d27-56d0-49e4-95ee-f88650bd4991",
   "metadata": {},
   "source": [
    "## Define the LLM"
   ]
  },
  {
   "cell_type": "code",
   "execution_count": 2,
   "id": "04167a69-037c-4b07-b9b2-cfcb591367ec",
   "metadata": {},
   "outputs": [],
   "source": [
    "lm = dspy.LM(\n",
    "    \"ollama_chat/phi4:14b-q8_0\",\n",
    "    api_base=\"http://localhost:11434\",\n",
    "    api_key=\"ollama\",\n",
    ")\n",
    "dspy.configure(lm=lm)"
   ]
  },
  {
   "cell_type": "code",
   "execution_count": 3,
   "id": "351765c6-af24-4744-83b6-430269ce6907",
   "metadata": {},
   "outputs": [
    {
     "data": {
      "text/plain": [
       "['In science fiction, particularly within Douglas Adams\\' \"The Hitchhiker\\'s Guide to the Galaxy\" series, the number 42 holds a special significance as it is humorously presented as the \"Answer to the Ultimate Question of Life, the Universe, and Everything.\" This answer is provided by an enormous supercomputer named Deep Thought after seven and a half million years of computation.\\n\\nThe irony and humor in this concept stem from the fact that while the number 42 is given as the definitive answer, the actual question it answers remains unknown. Throughout the series, characters embark on various quests to discover what this ultimate question might be, highlighting themes of absurdity and the search for meaning in a seemingly indifferent universe.\\n\\nThe use of 42 has since become a cultural reference point and an inside joke among fans of science fiction and those who appreciate its satirical take on existential questions.']"
      ]
     },
     "execution_count": 3,
     "metadata": {},
     "output_type": "execute_result"
    }
   ],
   "source": [
    "lm(\"What is the meaning of the number 42 in SciFi?\")"
   ]
  },
  {
   "cell_type": "code",
   "execution_count": 4,
   "id": "254b3b13-e749-492b-960e-dc4c53b2c92f",
   "metadata": {},
   "outputs": [
    {
     "data": {
      "text/html": [
       "<pre style=\"white-space:pre;overflow-x:auto;line-height:normal;font-family:Menlo,'DejaVu Sans Mono',consolas,'Courier New',monospace\"><span style=\"font-weight: bold\">{</span>\n",
       "<span style=\"color: #7fbf7f; text-decoration-color: #7fbf7f\">│   </span><span style=\"color: #008000; text-decoration-color: #008000\">'prompt'</span>: <span style=\"color: #008000; text-decoration-color: #008000\">'What is the meaning of the number 42 in SciFi?'</span>,\n",
       "<span style=\"color: #7fbf7f; text-decoration-color: #7fbf7f\">│   </span><span style=\"color: #008000; text-decoration-color: #008000\">'messages'</span>: <span style=\"color: #800080; text-decoration-color: #800080; font-style: italic\">None</span>,\n",
       "<span style=\"color: #7fbf7f; text-decoration-color: #7fbf7f\">│   </span><span style=\"color: #008000; text-decoration-color: #008000\">'kwargs'</span>: <span style=\"font-weight: bold\">{}</span>,\n",
       "<span style=\"color: #7fbf7f; text-decoration-color: #7fbf7f\">│   </span><span style=\"color: #008000; text-decoration-color: #008000\">'response'</span>: <span style=\"color: #800080; text-decoration-color: #800080; font-weight: bold\">ModelResponse</span><span style=\"font-weight: bold\">(</span>\n",
       "<span style=\"color: #7fbf7f; text-decoration-color: #7fbf7f\">│   │   </span><span style=\"color: #808000; text-decoration-color: #808000\">id</span>=<span style=\"color: #008000; text-decoration-color: #008000\">'chatcmpl-0cf5cb90-bdf1-4983-941b-92782aeb3b6f'</span>,\n",
       "<span style=\"color: #7fbf7f; text-decoration-color: #7fbf7f\">│   │   </span><span style=\"color: #808000; text-decoration-color: #808000\">created</span>=<span style=\"color: #008080; text-decoration-color: #008080; font-weight: bold\">1749687659</span>,\n",
       "<span style=\"color: #7fbf7f; text-decoration-color: #7fbf7f\">│   │   </span><span style=\"color: #808000; text-decoration-color: #808000\">model</span>=<span style=\"color: #008000; text-decoration-color: #008000\">'ollama_chat/phi4:14b-q8_0'</span>,\n",
       "<span style=\"color: #7fbf7f; text-decoration-color: #7fbf7f\">│   │   </span><span style=\"color: #808000; text-decoration-color: #808000\">object</span>=<span style=\"color: #008000; text-decoration-color: #008000\">'chat.completion'</span>,\n",
       "<span style=\"color: #7fbf7f; text-decoration-color: #7fbf7f\">│   │   </span><span style=\"color: #808000; text-decoration-color: #808000\">system_fingerprint</span>=<span style=\"color: #800080; text-decoration-color: #800080; font-style: italic\">None</span>,\n",
       "<span style=\"color: #7fbf7f; text-decoration-color: #7fbf7f\">│   │   </span><span style=\"color: #808000; text-decoration-color: #808000\">choices</span>=<span style=\"font-weight: bold\">[</span>\n",
       "<span style=\"color: #7fbf7f; text-decoration-color: #7fbf7f\">│   │   │   </span><span style=\"color: #800080; text-decoration-color: #800080; font-weight: bold\">Choices</span><span style=\"font-weight: bold\">(</span>\n",
       "<span style=\"color: #7fbf7f; text-decoration-color: #7fbf7f\">│   │   │   │   </span><span style=\"color: #808000; text-decoration-color: #808000\">finish_reason</span>=<span style=\"color: #008000; text-decoration-color: #008000\">'stop'</span>,\n",
       "<span style=\"color: #7fbf7f; text-decoration-color: #7fbf7f\">│   │   │   │   </span><span style=\"color: #808000; text-decoration-color: #808000\">index</span>=<span style=\"color: #008080; text-decoration-color: #008080; font-weight: bold\">0</span>,\n",
       "<span style=\"color: #7fbf7f; text-decoration-color: #7fbf7f\">│   │   │   │   </span><span style=\"color: #808000; text-decoration-color: #808000\">message</span>=<span style=\"color: #800080; text-decoration-color: #800080; font-weight: bold\">Message</span><span style=\"font-weight: bold\">(</span>\n",
       "<span style=\"color: #7fbf7f; text-decoration-color: #7fbf7f\">│   │   │   │   │   </span><span style=\"color: #808000; text-decoration-color: #808000\">content</span>=<span style=\"color: #008000; text-decoration-color: #008000\">'In science fiction, particularly within Douglas Adams\\' \"The Hitchhiker\\'s Guide to the Galaxy\" series, the number 42 holds a special significance as it is humorously presented as the \"Answer to the Ultimate Question of Life, the Universe, and Everything.\" This answer is provided by an enormous supercomputer named Deep Thought after seven and a half million years of computation.\\n\\nThe irony and humor in this concept stem from the fact that while the number 42 is given as the definitive answer, the actual question it answers remains unknown. Throughout the series, characters embark on various quests to discover what this ultimate question might be, highlighting themes of absurdity and the search for meaning in a seemingly indifferent universe.\\n\\nThe use of 42 has since become a cultural reference point and an inside joke among fans of science fiction and those who appreciate its satirical take on existential questions.'</span>,\n",
       "<span style=\"color: #7fbf7f; text-decoration-color: #7fbf7f\">│   │   │   │   │   </span><span style=\"color: #808000; text-decoration-color: #808000\">role</span>=<span style=\"color: #008000; text-decoration-color: #008000\">'assistant'</span>,\n",
       "<span style=\"color: #7fbf7f; text-decoration-color: #7fbf7f\">│   │   │   │   │   </span><span style=\"color: #808000; text-decoration-color: #808000\">tool_calls</span>=<span style=\"color: #800080; text-decoration-color: #800080; font-style: italic\">None</span>,\n",
       "<span style=\"color: #7fbf7f; text-decoration-color: #7fbf7f\">│   │   │   │   │   </span><span style=\"color: #808000; text-decoration-color: #808000\">function_call</span>=<span style=\"color: #800080; text-decoration-color: #800080; font-style: italic\">None</span>,\n",
       "<span style=\"color: #7fbf7f; text-decoration-color: #7fbf7f\">│   │   │   │   │   </span><span style=\"color: #808000; text-decoration-color: #808000\">provider_specific_fields</span>=<span style=\"color: #800080; text-decoration-color: #800080; font-style: italic\">None</span>\n",
       "<span style=\"color: #7fbf7f; text-decoration-color: #7fbf7f\">│   │   │   │   </span><span style=\"font-weight: bold\">)</span>\n",
       "<span style=\"color: #7fbf7f; text-decoration-color: #7fbf7f\">│   │   │   </span><span style=\"font-weight: bold\">)</span>\n",
       "<span style=\"color: #7fbf7f; text-decoration-color: #7fbf7f\">│   │   </span><span style=\"font-weight: bold\">]</span>,\n",
       "<span style=\"color: #7fbf7f; text-decoration-color: #7fbf7f\">│   │   </span><span style=\"color: #808000; text-decoration-color: #808000\">usage</span>=<span style=\"font-weight: bold\">{}</span>\n",
       "<span style=\"color: #7fbf7f; text-decoration-color: #7fbf7f\">│   </span><span style=\"font-weight: bold\">)</span>,\n",
       "<span style=\"color: #7fbf7f; text-decoration-color: #7fbf7f\">│   </span><span style=\"color: #008000; text-decoration-color: #008000\">'outputs'</span>: <span style=\"font-weight: bold\">[</span>\n",
       "<span style=\"color: #7fbf7f; text-decoration-color: #7fbf7f\">│   │   </span><span style=\"color: #008000; text-decoration-color: #008000\">'In science fiction, particularly within Douglas Adams\\' \"The Hitchhiker\\'s Guide to the Galaxy\" series, the number 42 holds a special significance as it is humorously presented as the \"Answer to the Ultimate Question of Life, the Universe, and Everything.\" This answer is provided by an enormous supercomputer named Deep Thought after seven and a half million years of computation.\\n\\nThe irony and humor in this concept stem from the fact that while the number 42 is given as the definitive answer, the actual question it answers remains unknown. Throughout the series, characters embark on various quests to discover what this ultimate question might be, highlighting themes of absurdity and the search for meaning in a seemingly indifferent universe.\\n\\nThe use of 42 has since become a cultural reference point and an inside joke among fans of science fiction and those who appreciate its satirical take on existential questions.'</span>\n",
       "<span style=\"color: #7fbf7f; text-decoration-color: #7fbf7f\">│   </span><span style=\"font-weight: bold\">]</span>,\n",
       "<span style=\"color: #7fbf7f; text-decoration-color: #7fbf7f\">│   </span><span style=\"color: #008000; text-decoration-color: #008000\">'usage'</span>: <span style=\"font-weight: bold\">{}</span>,\n",
       "<span style=\"color: #7fbf7f; text-decoration-color: #7fbf7f\">│   </span><span style=\"color: #008000; text-decoration-color: #008000\">'cost'</span>: <span style=\"color: #008080; text-decoration-color: #008080; font-weight: bold\">0.0</span>,\n",
       "<span style=\"color: #7fbf7f; text-decoration-color: #7fbf7f\">│   </span><span style=\"color: #008000; text-decoration-color: #008000\">'timestamp'</span>: <span style=\"color: #008000; text-decoration-color: #008000\">'2025-06-12T06:52:23.124869'</span>,\n",
       "<span style=\"color: #7fbf7f; text-decoration-color: #7fbf7f\">│   </span><span style=\"color: #008000; text-decoration-color: #008000\">'uuid'</span>: <span style=\"color: #008000; text-decoration-color: #008000\">'11a173d0-0d96-441f-87c1-c669a8bd604a'</span>,\n",
       "<span style=\"color: #7fbf7f; text-decoration-color: #7fbf7f\">│   </span><span style=\"color: #008000; text-decoration-color: #008000\">'model'</span>: <span style=\"color: #008000; text-decoration-color: #008000\">'ollama_chat/phi4:14b-q8_0'</span>,\n",
       "<span style=\"color: #7fbf7f; text-decoration-color: #7fbf7f\">│   </span><span style=\"color: #008000; text-decoration-color: #008000\">'response_model'</span>: <span style=\"color: #008000; text-decoration-color: #008000\">'ollama_chat/phi4:14b-q8_0'</span>,\n",
       "<span style=\"color: #7fbf7f; text-decoration-color: #7fbf7f\">│   </span><span style=\"color: #008000; text-decoration-color: #008000\">'model_type'</span>: <span style=\"color: #008000; text-decoration-color: #008000\">'chat'</span>\n",
       "<span style=\"font-weight: bold\">}</span>\n",
       "</pre>\n"
      ],
      "text/plain": [
       "\u001b[1m{\u001b[0m\n",
       "\u001b[2;32m│   \u001b[0m\u001b[32m'prompt'\u001b[0m: \u001b[32m'What is the meaning of the number 42 in SciFi?'\u001b[0m,\n",
       "\u001b[2;32m│   \u001b[0m\u001b[32m'messages'\u001b[0m: \u001b[3;35mNone\u001b[0m,\n",
       "\u001b[2;32m│   \u001b[0m\u001b[32m'kwargs'\u001b[0m: \u001b[1m{\u001b[0m\u001b[1m}\u001b[0m,\n",
       "\u001b[2;32m│   \u001b[0m\u001b[32m'response'\u001b[0m: \u001b[1;35mModelResponse\u001b[0m\u001b[1m(\u001b[0m\n",
       "\u001b[2;32m│   │   \u001b[0m\u001b[33mid\u001b[0m=\u001b[32m'chatcmpl-0cf5cb90-bdf1-4983-941b-92782aeb3b6f'\u001b[0m,\n",
       "\u001b[2;32m│   │   \u001b[0m\u001b[33mcreated\u001b[0m=\u001b[1;36m1749687659\u001b[0m,\n",
       "\u001b[2;32m│   │   \u001b[0m\u001b[33mmodel\u001b[0m=\u001b[32m'ollama_chat/phi4:14b-q8_0'\u001b[0m,\n",
       "\u001b[2;32m│   │   \u001b[0m\u001b[33mobject\u001b[0m=\u001b[32m'chat.completion'\u001b[0m,\n",
       "\u001b[2;32m│   │   \u001b[0m\u001b[33msystem_fingerprint\u001b[0m=\u001b[3;35mNone\u001b[0m,\n",
       "\u001b[2;32m│   │   \u001b[0m\u001b[33mchoices\u001b[0m=\u001b[1m[\u001b[0m\n",
       "\u001b[2;32m│   │   │   \u001b[0m\u001b[1;35mChoices\u001b[0m\u001b[1m(\u001b[0m\n",
       "\u001b[2;32m│   │   │   │   \u001b[0m\u001b[33mfinish_reason\u001b[0m=\u001b[32m'stop'\u001b[0m,\n",
       "\u001b[2;32m│   │   │   │   \u001b[0m\u001b[33mindex\u001b[0m=\u001b[1;36m0\u001b[0m,\n",
       "\u001b[2;32m│   │   │   │   \u001b[0m\u001b[33mmessage\u001b[0m=\u001b[1;35mMessage\u001b[0m\u001b[1m(\u001b[0m\n",
       "\u001b[2;32m│   │   │   │   │   \u001b[0m\u001b[33mcontent\u001b[0m=\u001b[32m'In science fiction, particularly within Douglas Adams\\' \"The Hitchhiker\\'s Guide to the Galaxy\" series, the number 42 holds a special significance as it is humorously presented as the \"Answer to the Ultimate Question of Life, the Universe, and Everything.\" This answer is provided by an enormous supercomputer named Deep Thought after seven and a half million years of computation.\\n\\nThe irony and humor in this concept stem from the fact that while the number 42 is given as the definitive answer, the actual question it answers remains unknown. Throughout the series, characters embark on various quests to discover what this ultimate question might be, highlighting themes of absurdity and the search for meaning in a seemingly indifferent universe.\\n\\nThe use of 42 has since become a cultural reference point and an inside joke among fans of science fiction and those who appreciate its satirical take on existential questions.'\u001b[0m,\n",
       "\u001b[2;32m│   │   │   │   │   \u001b[0m\u001b[33mrole\u001b[0m=\u001b[32m'assistant'\u001b[0m,\n",
       "\u001b[2;32m│   │   │   │   │   \u001b[0m\u001b[33mtool_calls\u001b[0m=\u001b[3;35mNone\u001b[0m,\n",
       "\u001b[2;32m│   │   │   │   │   \u001b[0m\u001b[33mfunction_call\u001b[0m=\u001b[3;35mNone\u001b[0m,\n",
       "\u001b[2;32m│   │   │   │   │   \u001b[0m\u001b[33mprovider_specific_fields\u001b[0m=\u001b[3;35mNone\u001b[0m\n",
       "\u001b[2;32m│   │   │   │   \u001b[0m\u001b[1m)\u001b[0m\n",
       "\u001b[2;32m│   │   │   \u001b[0m\u001b[1m)\u001b[0m\n",
       "\u001b[2;32m│   │   \u001b[0m\u001b[1m]\u001b[0m,\n",
       "\u001b[2;32m│   │   \u001b[0m\u001b[33musage\u001b[0m=\u001b[1m{\u001b[0m\u001b[1m}\u001b[0m\n",
       "\u001b[2;32m│   \u001b[0m\u001b[1m)\u001b[0m,\n",
       "\u001b[2;32m│   \u001b[0m\u001b[32m'outputs'\u001b[0m: \u001b[1m[\u001b[0m\n",
       "\u001b[2;32m│   │   \u001b[0m\u001b[32m'In science fiction, particularly within Douglas Adams\\' \"The Hitchhiker\\'s Guide to the Galaxy\" series, the number 42 holds a special significance as it is humorously presented as the \"Answer to the Ultimate Question of Life, the Universe, and Everything.\" This answer is provided by an enormous supercomputer named Deep Thought after seven and a half million years of computation.\\n\\nThe irony and humor in this concept stem from the fact that while the number 42 is given as the definitive answer, the actual question it answers remains unknown. Throughout the series, characters embark on various quests to discover what this ultimate question might be, highlighting themes of absurdity and the search for meaning in a seemingly indifferent universe.\\n\\nThe use of 42 has since become a cultural reference point and an inside joke among fans of science fiction and those who appreciate its satirical take on existential questions.'\u001b[0m\n",
       "\u001b[2;32m│   \u001b[0m\u001b[1m]\u001b[0m,\n",
       "\u001b[2;32m│   \u001b[0m\u001b[32m'usage'\u001b[0m: \u001b[1m{\u001b[0m\u001b[1m}\u001b[0m,\n",
       "\u001b[2;32m│   \u001b[0m\u001b[32m'cost'\u001b[0m: \u001b[1;36m0.0\u001b[0m,\n",
       "\u001b[2;32m│   \u001b[0m\u001b[32m'timestamp'\u001b[0m: \u001b[32m'2025-06-12T06:52:23.124869'\u001b[0m,\n",
       "\u001b[2;32m│   \u001b[0m\u001b[32m'uuid'\u001b[0m: \u001b[32m'11a173d0-0d96-441f-87c1-c669a8bd604a'\u001b[0m,\n",
       "\u001b[2;32m│   \u001b[0m\u001b[32m'model'\u001b[0m: \u001b[32m'ollama_chat/phi4:14b-q8_0'\u001b[0m,\n",
       "\u001b[2;32m│   \u001b[0m\u001b[32m'response_model'\u001b[0m: \u001b[32m'ollama_chat/phi4:14b-q8_0'\u001b[0m,\n",
       "\u001b[2;32m│   \u001b[0m\u001b[32m'model_type'\u001b[0m: \u001b[32m'chat'\u001b[0m\n",
       "\u001b[1m}\u001b[0m\n"
      ]
     },
     "metadata": {},
     "output_type": "display_data"
    }
   ],
   "source": [
    "for _ in lm.history:\n",
    "    pprint(_, expand_all=True)"
   ]
  },
  {
   "cell_type": "code",
   "execution_count": 3,
   "id": "d18f627e-9f0a-415b-9253-43cdcb3d97b9",
   "metadata": {},
   "outputs": [],
   "source": [
    "math = dspy.ChainOfThought(\"question -> answer: float\")\n",
    "pred = math(\n",
    "    # question=\"Two dice are tossed. What is the probability that the sum equals two?\"\n",
    "    question=dedent(\n",
    "        \"\"\"\n",
    "    Think step by step when answering the following >>>question<<<.\n",
    "    But only keep a minimum draft of each thinking step, with 5 words at most.\n",
    "    >>>12 - 8 + 9<<<\n",
    "    \"\"\"\n",
    "    ).strip()\n",
    ")"
   ]
  },
  {
   "cell_type": "code",
   "execution_count": 4,
   "id": "446b27fb-5b85-4f39-a0fb-d0cc33dc9d2b",
   "metadata": {},
   "outputs": [
    {
     "data": {
      "text/html": [
       "<pre style=\"white-space:pre;overflow-x:auto;line-height:normal;font-family:Menlo,'DejaVu Sans Mono',consolas,'Courier New',monospace\"><span style=\"color: #800080; text-decoration-color: #800080; font-weight: bold\">Prediction</span><span style=\"font-weight: bold\">(</span>\n",
       "<span style=\"color: #7fbf7f; text-decoration-color: #7fbf7f\">│   </span><span style=\"color: #808000; text-decoration-color: #808000\">reasoning</span>=<span style=\"color: #008000; text-decoration-color: #008000\">'Subtract 8 from 12.  \\nResult is 4.  \\nAdd 9 to result.  \\nFinal sum is 13.'</span>,\n",
       "<span style=\"color: #7fbf7f; text-decoration-color: #7fbf7f\">│   </span><span style=\"color: #808000; text-decoration-color: #808000\">answer</span>=<span style=\"color: #008080; text-decoration-color: #008080; font-weight: bold\">13.0</span>\n",
       "<span style=\"font-weight: bold\">)</span>\n",
       "</pre>\n"
      ],
      "text/plain": [
       "\u001b[1;35mPrediction\u001b[0m\u001b[1m(\u001b[0m\n",
       "\u001b[2;32m│   \u001b[0m\u001b[33mreasoning\u001b[0m=\u001b[32m'Subtract 8 from 12.  \\nResult is 4.  \\nAdd 9 to result.  \\nFinal sum is 13.'\u001b[0m,\n",
       "\u001b[2;32m│   \u001b[0m\u001b[33manswer\u001b[0m=\u001b[1;36m13\u001b[0m\u001b[1;36m.0\u001b[0m\n",
       "\u001b[1m)\u001b[0m\n"
      ]
     },
     "metadata": {},
     "output_type": "display_data"
    }
   ],
   "source": [
    "pprint(pred, expand_all=True)"
   ]
  },
  {
   "cell_type": "code",
   "execution_count": 5,
   "id": "d6c42f23-6419-4c36-a342-f765ca0ebe2d",
   "metadata": {},
   "outputs": [
    {
     "name": "stdout",
     "output_type": "stream",
     "text": [
      "Subtract 8 from 12.  \n",
      "Result is 4.  \n",
      "Add 9 to result.  \n",
      "Final sum is 13.\n"
     ]
    }
   ],
   "source": [
    "print(pred.reasoning)"
   ]
  },
  {
   "cell_type": "code",
   "execution_count": 6,
   "id": "3f6dcf20-5781-430b-a38b-c72d36b111bd",
   "metadata": {},
   "outputs": [
    {
     "data": {
      "text/markdown": [
       "Subtract 8 from 12.  \n",
       "Result is 4.  \n",
       "Add 9 to result.  \n",
       "Final sum is 13."
      ],
      "text/plain": [
       "<IPython.core.display.Markdown object>"
      ]
     },
     "metadata": {},
     "output_type": "display_data"
    }
   ],
   "source": [
    "display(\n",
    "    Markdown(\n",
    "        pred.reasoning\n",
    "        # Fix Latex\n",
    "        .replace(\"\\\\(\", \"\\\\$\")\n",
    "        .replace(\"\\\\)\", \"\\\\$\")\n",
    "        .replace(\"\\\\[\", \"$$\")\n",
    "        .replace(\"\\\\]\", \"$$\")\n",
    "    )\n",
    ")"
   ]
  },
  {
   "cell_type": "code",
   "execution_count": 7,
   "id": "031eea22-f75f-4071-af54-ca73c8830b33",
   "metadata": {},
   "outputs": [
    {
     "name": "stdout",
     "output_type": "stream",
     "text": [
      "5761.6\n"
     ]
    }
   ],
   "source": [
    "def evaluate_math(expression: str):\n",
    "    return dspy.PythonInterpreter({}).execute(expression)\n",
    "\n",
    "def search_wikipedia(query: str):\n",
    "    results = dspy.ColBERTv2(url='http://20.102.90.50:2017/wiki17_abstracts')(query, k=3)\n",
    "    return [x['text'] for x in results]\n",
    "\n",
    "react = dspy.ReAct(\"question -> answer: float\", tools=[evaluate_math, search_wikipedia])\n",
    "\n",
    "pred = react(question=\"What is 9362158 divided by the year of birth of David Gregory of Kinnairdy castle?\")\n",
    "print(pred.answer)"
   ]
  },
  {
   "cell_type": "code",
   "execution_count": 16,
   "id": "dea5eedf-6df1-4a97-86cd-1efee117f7a0",
   "metadata": {},
   "outputs": [],
   "source": [
    "def calculate_percentage(value: float, percentage: float) -> float:\n",
    "    \"\"\"Calculate what percentage of a value is.\n",
    "\n",
    "    :param value: The value to calculate the percentage of.\n",
    "    :param percentage: The percent value. Has to be betwee 0 and 100.\n",
    "    :return: The percentage value.\n",
    "    \"\"\"\n",
    "    return value * percentage / 100.0\n",
    "\n",
    "\n",
    "def subtract(a: float, b: float) -> float:\n",
    "    \"\"\"Subtract b from a.\n",
    "\n",
    "    :param a: The value to subtract from.\n",
    "    :param b: How much to subtract from a.\n",
    "    :return: The residual.\n",
    "    \"\"\"\n",
    "    return a - b"
   ]
  },
  {
   "cell_type": "code",
   "execution_count": 17,
   "id": "c563d366-fd5d-4736-96d0-ed282eba9ed0",
   "metadata": {},
   "outputs": [
    {
     "name": "stdout",
     "output_type": "stream",
     "text": [
      "9.0\n"
     ]
    }
   ],
   "source": [
    "react = dspy.ReAct(\"question -> answer: float\", tools=[calculate_percentage, subtract])\n",
    "\n",
    "pred = react(question=\"If I have 15 apples and give away 40%, how many are left?\")\n",
    "print(pred.answer)"
   ]
  },
  {
   "cell_type": "code",
   "execution_count": 19,
   "id": "faeaf746-daeb-4a97-b153-acf946568ca4",
   "metadata": {},
   "outputs": [
    {
     "data": {
      "text/html": [
       "<pre style=\"white-space:pre;overflow-x:auto;line-height:normal;font-family:Menlo,'DejaVu Sans Mono',consolas,'Courier New',monospace\"><span style=\"font-weight: bold\">{</span>\n",
       "<span style=\"color: #7fbf7f; text-decoration-color: #7fbf7f\">│   </span><span style=\"color: #008000; text-decoration-color: #008000\">'prompt'</span>: <span style=\"color: #800080; text-decoration-color: #800080; font-style: italic\">None</span>,\n",
       "<span style=\"color: #7fbf7f; text-decoration-color: #7fbf7f\">│   </span><span style=\"color: #008000; text-decoration-color: #008000\">'messages'</span>: <span style=\"font-weight: bold\">[</span>\n",
       "<span style=\"color: #7fbf7f; text-decoration-color: #7fbf7f\">│   │   </span><span style=\"font-weight: bold\">{</span>\n",
       "<span style=\"color: #7fbf7f; text-decoration-color: #7fbf7f\">│   │   │   </span><span style=\"color: #008000; text-decoration-color: #008000\">'role'</span>: <span style=\"color: #008000; text-decoration-color: #008000\">'system'</span>,\n",
       "<span style=\"color: #7fbf7f; text-decoration-color: #7fbf7f\">│   │   │   </span><span style=\"color: #008000; text-decoration-color: #008000\">'content'</span>: <span style=\"color: #008000; text-decoration-color: #008000\">'Your input fields are:\\n1. `question` (str): \\n2. `trajectory` (str):\\nYour output fields are:\\n1. `next_thought` (str): \\n2. `next_tool_name` (Literal[\\'calculate_percentage\\', \\'subtract\\', \\'finish\\']): \\n3. `next_tool_args` (dict[str, Any]):\\nAll interactions will be structured in the following way, with the appropriate values filled in.\\n\\n[[ ## question ## ]]\\n{question}\\n\\n[[ ## trajectory ## ]]\\n{trajectory}\\n\\n[[ ## next_thought ## ]]\\n{next_thought}\\n\\n[[ ## next_tool_name ## ]]\\n{next_tool_name}        # note: the value you produce must exactly match (no extra characters) one of: calculate_percentage; subtract; finish\\n\\n[[ ## next_tool_args ## ]]\\n{next_tool_args}        # note: the value you produce must adhere to the JSON schema: {\"type\": \"object\", \"additionalProperties\": true}\\n\\n[[ ## completed ## ]]\\nIn adhering to this structure, your objective is: \\n        Given the fields `question`, produce the fields `answer`.\\n        \\n        You are an Agent. In each episode, you will be given the fields `question` as input. And you can see your past trajectory so far.\\n        Your goal is to use one or more of the supplied tools to collect any necessary information for producing `answer`.\\n        \\n        To do this, you will interleave next_thought, next_tool_name, and next_tool_args in each turn, and also when finishing the task.\\n        After each tool call, you receive a resulting observation, which gets appended to your trajectory.\\n        \\n        When writing next_thought, you may reason about the current situation and plan for future steps.\\n        When selecting the next_tool_name and its next_tool_args, the tool must be one of:\\n        \\n        (1) calculate_percentage, whose description is &lt;desc&gt;Calculate what percentage of a value is.        :param value: The value to calculate the percentage of.      :param percentage: The percent value. Has to be betwee 0 and 100.      :return: The percentage value.      &lt;/desc&gt;. It takes arguments {\\'value\\': {\\'type\\': \\'number\\'}, \\'percentage\\': {\\'type\\': \\'number\\'}}.\\n        (2) subtract, whose description is &lt;desc&gt;Subtract b from a.        :param a: The value to subtract from.      :param b: How much to subtract from a.      :return: The residual.      &lt;/desc&gt;. It takes arguments {\\'a\\': {\\'type\\': \\'number\\'}, \\'b\\': {\\'type\\': \\'number\\'}}.\\n        (3) finish, whose description is &lt;desc&gt;Marks the task as complete. That is, signals that all information for producing the outputs, i.e. `answer`, are now available to be extracted.&lt;/desc&gt;. It takes arguments {}.\\n        When providing `next_tool_args`, the value inside the field must be in JSON format'</span>\n",
       "<span style=\"color: #7fbf7f; text-decoration-color: #7fbf7f\">│   │   </span><span style=\"font-weight: bold\">}</span>,\n",
       "<span style=\"color: #7fbf7f; text-decoration-color: #7fbf7f\">│   │   </span><span style=\"font-weight: bold\">{</span>\n",
       "<span style=\"color: #7fbf7f; text-decoration-color: #7fbf7f\">│   │   │   </span><span style=\"color: #008000; text-decoration-color: #008000\">'role'</span>: <span style=\"color: #008000; text-decoration-color: #008000\">'user'</span>,\n",
       "<span style=\"color: #7fbf7f; text-decoration-color: #7fbf7f\">│   │   │   </span><span style=\"color: #008000; text-decoration-color: #008000\">'content'</span>: <span style=\"color: #008000; text-decoration-color: #008000\">\"[[ ## question ## ]]\\nIf I have 15 apples and give away 40%, how many are left?\\n\\n[[ ## trajectory ## ]]\\n\\n\\nRespond with the corresponding output fields, starting with the field `[[ ## next_thought ## ]]`, then `[[ ## next_tool_name ## ]]` (must be formatted as a valid Python Literal['calculate_percentage', 'subtract', 'finish']), then `[[ ## next_tool_args ## ]]` (must be formatted as a valid Python dict[str, Any]), and then ending with the marker for `[[ ## completed ## ]]`.\"</span>\n",
       "<span style=\"color: #7fbf7f; text-decoration-color: #7fbf7f\">│   │   </span><span style=\"font-weight: bold\">}</span>\n",
       "<span style=\"color: #7fbf7f; text-decoration-color: #7fbf7f\">│   </span><span style=\"font-weight: bold\">]</span>,\n",
       "<span style=\"color: #7fbf7f; text-decoration-color: #7fbf7f\">│   </span><span style=\"color: #008000; text-decoration-color: #008000\">'kwargs'</span>: <span style=\"font-weight: bold\">{}</span>,\n",
       "<span style=\"color: #7fbf7f; text-decoration-color: #7fbf7f\">│   </span><span style=\"color: #008000; text-decoration-color: #008000\">'response'</span>: <span style=\"color: #800080; text-decoration-color: #800080; font-weight: bold\">ModelResponse</span><span style=\"font-weight: bold\">(</span>\n",
       "<span style=\"color: #7fbf7f; text-decoration-color: #7fbf7f\">│   │   </span><span style=\"color: #808000; text-decoration-color: #808000\">id</span>=<span style=\"color: #008000; text-decoration-color: #008000\">'chatcmpl-6d1c4095-9b6c-46ef-b675-2bc236467a0c'</span>,\n",
       "<span style=\"color: #7fbf7f; text-decoration-color: #7fbf7f\">│   │   </span><span style=\"color: #808000; text-decoration-color: #808000\">created</span>=<span style=\"color: #008080; text-decoration-color: #008080; font-weight: bold\">1749674572</span>,\n",
       "<span style=\"color: #7fbf7f; text-decoration-color: #7fbf7f\">│   │   </span><span style=\"color: #808000; text-decoration-color: #808000\">model</span>=<span style=\"color: #008000; text-decoration-color: #008000\">'ollama_chat/phi4:14b-q8_0'</span>,\n",
       "<span style=\"color: #7fbf7f; text-decoration-color: #7fbf7f\">│   │   </span><span style=\"color: #808000; text-decoration-color: #808000\">object</span>=<span style=\"color: #008000; text-decoration-color: #008000\">'chat.completion'</span>,\n",
       "<span style=\"color: #7fbf7f; text-decoration-color: #7fbf7f\">│   │   </span><span style=\"color: #808000; text-decoration-color: #808000\">system_fingerprint</span>=<span style=\"color: #800080; text-decoration-color: #800080; font-style: italic\">None</span>,\n",
       "<span style=\"color: #7fbf7f; text-decoration-color: #7fbf7f\">│   │   </span><span style=\"color: #808000; text-decoration-color: #808000\">choices</span>=<span style=\"font-weight: bold\">[</span>\n",
       "<span style=\"color: #7fbf7f; text-decoration-color: #7fbf7f\">│   │   │   </span><span style=\"color: #800080; text-decoration-color: #800080; font-weight: bold\">Choices</span><span style=\"font-weight: bold\">(</span>\n",
       "<span style=\"color: #7fbf7f; text-decoration-color: #7fbf7f\">│   │   │   │   </span><span style=\"color: #808000; text-decoration-color: #808000\">finish_reason</span>=<span style=\"color: #008000; text-decoration-color: #008000\">'stop'</span>,\n",
       "<span style=\"color: #7fbf7f; text-decoration-color: #7fbf7f\">│   │   │   │   </span><span style=\"color: #808000; text-decoration-color: #808000\">index</span>=<span style=\"color: #008080; text-decoration-color: #008080; font-weight: bold\">0</span>,\n",
       "<span style=\"color: #7fbf7f; text-decoration-color: #7fbf7f\">│   │   │   │   </span><span style=\"color: #808000; text-decoration-color: #808000\">message</span>=<span style=\"color: #800080; text-decoration-color: #800080; font-weight: bold\">Message</span><span style=\"font-weight: bold\">(</span>\n",
       "<span style=\"color: #7fbf7f; text-decoration-color: #7fbf7f\">│   │   │   │   │   </span><span style=\"color: #808000; text-decoration-color: #808000\">content</span>=<span style=\"color: #008000; text-decoration-color: #008000\">'[[ ## next_thought ## ]]\\nTo determine how many apples are left after giving away 40%, I first need to calculate what 40% of 15 apples is. Once I have that number, I can subtract it from the original total of 15 apples.\\n\\n[[ ## next_tool_name ## ]]\\ncalculate_percentage\\n\\n[[ ## next_tool_args ## ]]\\n{\"value\": 15, \"percentage\": 40}\\n\\n[[ ## completed ## ]]'</span>,\n",
       "<span style=\"color: #7fbf7f; text-decoration-color: #7fbf7f\">│   │   │   │   │   </span><span style=\"color: #808000; text-decoration-color: #808000\">role</span>=<span style=\"color: #008000; text-decoration-color: #008000\">'assistant'</span>,\n",
       "<span style=\"color: #7fbf7f; text-decoration-color: #7fbf7f\">│   │   │   │   │   </span><span style=\"color: #808000; text-decoration-color: #808000\">tool_calls</span>=<span style=\"color: #800080; text-decoration-color: #800080; font-style: italic\">None</span>,\n",
       "<span style=\"color: #7fbf7f; text-decoration-color: #7fbf7f\">│   │   │   │   │   </span><span style=\"color: #808000; text-decoration-color: #808000\">function_call</span>=<span style=\"color: #800080; text-decoration-color: #800080; font-style: italic\">None</span>,\n",
       "<span style=\"color: #7fbf7f; text-decoration-color: #7fbf7f\">│   │   │   │   │   </span><span style=\"color: #808000; text-decoration-color: #808000\">provider_specific_fields</span>=<span style=\"color: #800080; text-decoration-color: #800080; font-style: italic\">None</span>\n",
       "<span style=\"color: #7fbf7f; text-decoration-color: #7fbf7f\">│   │   │   │   </span><span style=\"font-weight: bold\">)</span>\n",
       "<span style=\"color: #7fbf7f; text-decoration-color: #7fbf7f\">│   │   │   </span><span style=\"font-weight: bold\">)</span>\n",
       "<span style=\"color: #7fbf7f; text-decoration-color: #7fbf7f\">│   │   </span><span style=\"font-weight: bold\">]</span>,\n",
       "<span style=\"color: #7fbf7f; text-decoration-color: #7fbf7f\">│   │   </span><span style=\"color: #808000; text-decoration-color: #808000\">usage</span>=<span style=\"font-weight: bold\">{}</span>,\n",
       "<span style=\"color: #7fbf7f; text-decoration-color: #7fbf7f\">│   │   </span><span style=\"color: #808000; text-decoration-color: #808000\">cache_hit</span>=<span style=\"color: #800080; text-decoration-color: #800080; font-style: italic\">None</span>\n",
       "<span style=\"color: #7fbf7f; text-decoration-color: #7fbf7f\">│   </span><span style=\"font-weight: bold\">)</span>,\n",
       "<span style=\"color: #7fbf7f; text-decoration-color: #7fbf7f\">│   </span><span style=\"color: #008000; text-decoration-color: #008000\">'outputs'</span>: <span style=\"font-weight: bold\">[</span>\n",
       "<span style=\"color: #7fbf7f; text-decoration-color: #7fbf7f\">│   │   </span><span style=\"color: #008000; text-decoration-color: #008000\">'[[ ## next_thought ## ]]\\nTo determine how many apples are left after giving away 40%, I first need to calculate what 40% of 15 apples is. Once I have that number, I can subtract it from the original total of 15 apples.\\n\\n[[ ## next_tool_name ## ]]\\ncalculate_percentage\\n\\n[[ ## next_tool_args ## ]]\\n{\"value\": 15, \"percentage\": 40}\\n\\n[[ ## completed ## ]]'</span>\n",
       "<span style=\"color: #7fbf7f; text-decoration-color: #7fbf7f\">│   </span><span style=\"font-weight: bold\">]</span>,\n",
       "<span style=\"color: #7fbf7f; text-decoration-color: #7fbf7f\">│   </span><span style=\"color: #008000; text-decoration-color: #008000\">'usage'</span>: <span style=\"font-weight: bold\">{}</span>,\n",
       "<span style=\"color: #7fbf7f; text-decoration-color: #7fbf7f\">│   </span><span style=\"color: #008000; text-decoration-color: #008000\">'cost'</span>: <span style=\"color: #008080; text-decoration-color: #008080; font-weight: bold\">0.0</span>,\n",
       "<span style=\"color: #7fbf7f; text-decoration-color: #7fbf7f\">│   </span><span style=\"color: #008000; text-decoration-color: #008000\">'timestamp'</span>: <span style=\"color: #008000; text-decoration-color: #008000\">'2025-06-11T18:51:12.860337'</span>,\n",
       "<span style=\"color: #7fbf7f; text-decoration-color: #7fbf7f\">│   </span><span style=\"color: #008000; text-decoration-color: #008000\">'uuid'</span>: <span style=\"color: #008000; text-decoration-color: #008000\">'a2175c11-83c7-450e-9209-85f8876ba679'</span>,\n",
       "<span style=\"color: #7fbf7f; text-decoration-color: #7fbf7f\">│   </span><span style=\"color: #008000; text-decoration-color: #008000\">'model'</span>: <span style=\"color: #008000; text-decoration-color: #008000\">'ollama_chat/phi4:14b-q8_0'</span>,\n",
       "<span style=\"color: #7fbf7f; text-decoration-color: #7fbf7f\">│   </span><span style=\"color: #008000; text-decoration-color: #008000\">'response_model'</span>: <span style=\"color: #008000; text-decoration-color: #008000\">'ollama_chat/phi4:14b-q8_0'</span>,\n",
       "<span style=\"color: #7fbf7f; text-decoration-color: #7fbf7f\">│   </span><span style=\"color: #008000; text-decoration-color: #008000\">'model_type'</span>: <span style=\"color: #008000; text-decoration-color: #008000\">'chat'</span>\n",
       "<span style=\"font-weight: bold\">}</span>\n",
       "</pre>\n"
      ],
      "text/plain": [
       "\u001b[1m{\u001b[0m\n",
       "\u001b[2;32m│   \u001b[0m\u001b[32m'prompt'\u001b[0m: \u001b[3;35mNone\u001b[0m,\n",
       "\u001b[2;32m│   \u001b[0m\u001b[32m'messages'\u001b[0m: \u001b[1m[\u001b[0m\n",
       "\u001b[2;32m│   │   \u001b[0m\u001b[1m{\u001b[0m\n",
       "\u001b[2;32m│   │   │   \u001b[0m\u001b[32m'role'\u001b[0m: \u001b[32m'system'\u001b[0m,\n",
       "\u001b[2;32m│   │   │   \u001b[0m\u001b[32m'content'\u001b[0m: \u001b[32m'Your input fields are:\\n1. `question` \u001b[0m\u001b[32m(\u001b[0m\u001b[32mstr\u001b[0m\u001b[32m)\u001b[0m\u001b[32m: \\n2. `trajectory` \u001b[0m\u001b[32m(\u001b[0m\u001b[32mstr\u001b[0m\u001b[32m)\u001b[0m\u001b[32m:\\nYour output fields are:\\n1. `next_thought` \u001b[0m\u001b[32m(\u001b[0m\u001b[32mstr\u001b[0m\u001b[32m)\u001b[0m\u001b[32m: \\n2. `next_tool_name` \u001b[0m\u001b[32m(\u001b[0m\u001b[32mLiteral\u001b[0m\u001b[32m[\u001b[0m\u001b[32m\\'calculate_percentage\\', \\'subtract\\', \\'finish\\'\u001b[0m\u001b[32m]\u001b[0m\u001b[32m)\u001b[0m\u001b[32m: \\n3. `next_tool_args` \u001b[0m\u001b[32m(\u001b[0m\u001b[32mdict\u001b[0m\u001b[32m[\u001b[0m\u001b[32mstr, Any\u001b[0m\u001b[32m]\u001b[0m\u001b[32m)\u001b[0m\u001b[32m:\\nAll interactions will be structured in the following way, with the appropriate values filled in.\\n\\n\u001b[0m\u001b[32m[\u001b[0m\u001b[32m[\u001b[0m\u001b[32m ## question ## \u001b[0m\u001b[32m]\u001b[0m\u001b[32m]\u001b[0m\u001b[32m\\n\u001b[0m\u001b[32m{\u001b[0m\u001b[32mquestion\u001b[0m\u001b[32m}\u001b[0m\u001b[32m\\n\\n\u001b[0m\u001b[32m[\u001b[0m\u001b[32m[\u001b[0m\u001b[32m ## trajectory ## \u001b[0m\u001b[32m]\u001b[0m\u001b[32m]\u001b[0m\u001b[32m\\n\u001b[0m\u001b[32m{\u001b[0m\u001b[32mtrajectory\u001b[0m\u001b[32m}\u001b[0m\u001b[32m\\n\\n\u001b[0m\u001b[32m[\u001b[0m\u001b[32m[\u001b[0m\u001b[32m ## next_thought ## \u001b[0m\u001b[32m]\u001b[0m\u001b[32m]\u001b[0m\u001b[32m\\n\u001b[0m\u001b[32m{\u001b[0m\u001b[32mnext_thought\u001b[0m\u001b[32m}\u001b[0m\u001b[32m\\n\\n\u001b[0m\u001b[32m[\u001b[0m\u001b[32m[\u001b[0m\u001b[32m ## next_tool_name ## \u001b[0m\u001b[32m]\u001b[0m\u001b[32m]\u001b[0m\u001b[32m\\n\u001b[0m\u001b[32m{\u001b[0m\u001b[32mnext_tool_name\u001b[0m\u001b[32m}\u001b[0m\u001b[32m        # note: the value you produce must exactly match \u001b[0m\u001b[32m(\u001b[0m\u001b[32mno extra characters\u001b[0m\u001b[32m)\u001b[0m\u001b[32m one of: calculate_percentage; subtract; finish\\n\\n\u001b[0m\u001b[32m[\u001b[0m\u001b[32m[\u001b[0m\u001b[32m ## next_tool_args ## \u001b[0m\u001b[32m]\u001b[0m\u001b[32m]\u001b[0m\u001b[32m\\n\u001b[0m\u001b[32m{\u001b[0m\u001b[32mnext_tool_args\u001b[0m\u001b[32m}\u001b[0m\u001b[32m        # note: the value you produce must adhere to the JSON schema: \u001b[0m\u001b[32m{\u001b[0m\u001b[32m\"type\": \"object\", \"additionalProperties\": true\u001b[0m\u001b[32m}\u001b[0m\u001b[32m\\n\\n\u001b[0m\u001b[32m[\u001b[0m\u001b[32m[\u001b[0m\u001b[32m ## completed ## \u001b[0m\u001b[32m]\u001b[0m\u001b[32m]\u001b[0m\u001b[32m\\nIn adhering to this structure, your objective is: \\n        Given the fields `question`, produce the fields `answer`.\\n        \\n        You are an Agent. In each episode, you will be given the fields `question` as input. And you can see your past trajectory so far.\\n        Your goal is to use one or more of the supplied tools to collect any necessary information for producing `answer`.\\n        \\n        To do this, you will interleave next_thought, next_tool_name, and next_tool_args in each turn, and also when finishing the task.\\n        After each tool call, you receive a resulting observation, which gets appended to your trajectory.\\n        \\n        When writing next_thought, you may reason about the current situation and plan for future steps.\\n        When selecting the next_tool_name and its next_tool_args, the tool must be one of:\\n        \\n        \u001b[0m\u001b[32m(\u001b[0m\u001b[32m1\u001b[0m\u001b[32m)\u001b[0m\u001b[32m calculate_percentage, whose description is \u001b[0m\u001b[32m<\u001b[0m\u001b[32mdesc\u001b[0m\u001b[32m>Calculate what percentage of a value is.        :param value: The value to calculate the percentage of.      :param percentage: The percent value. Has to be betwee 0 and 100.      :return: The percentage value.      </desc>. It takes arguments \u001b[0m\u001b[32m{\u001b[0m\u001b[32m\\'value\\': \u001b[0m\u001b[32m{\u001b[0m\u001b[32m\\'type\\': \\'number\\'\u001b[0m\u001b[32m}\u001b[0m\u001b[32m, \\'percentage\\': \u001b[0m\u001b[32m{\u001b[0m\u001b[32m\\'type\\': \\'number\\'\u001b[0m\u001b[32m}\u001b[0m\u001b[32m}\u001b[0m\u001b[32m.\\n        \u001b[0m\u001b[32m(\u001b[0m\u001b[32m2\u001b[0m\u001b[32m)\u001b[0m\u001b[32m subtract, whose description is <desc>Subtract b from a.        :param a: The value to subtract from.      :param b: How much to subtract from a.      :return: The residual.      </desc>. It takes arguments \u001b[0m\u001b[32m{\u001b[0m\u001b[32m\\'a\\': \u001b[0m\u001b[32m{\u001b[0m\u001b[32m\\'type\\': \\'number\\'\u001b[0m\u001b[32m}\u001b[0m\u001b[32m, \\'b\\': \u001b[0m\u001b[32m{\u001b[0m\u001b[32m\\'type\\': \\'number\\'\u001b[0m\u001b[32m}\u001b[0m\u001b[32m}\u001b[0m\u001b[32m.\\n        \u001b[0m\u001b[32m(\u001b[0m\u001b[32m3\u001b[0m\u001b[32m)\u001b[0m\u001b[32m finish, whose description is <desc>Marks the task as complete. That is, signals that all information for producing the outputs, i.e. `answer`, are now available to be extracted.</desc\u001b[0m\u001b[32m>\u001b[0m\u001b[32m. It takes arguments \u001b[0m\u001b[32m{\u001b[0m\u001b[32m}\u001b[0m\u001b[32m.\\n        When providing `next_tool_args`, the value inside the field must be in JSON format'\u001b[0m\n",
       "\u001b[2;32m│   │   \u001b[0m\u001b[1m}\u001b[0m,\n",
       "\u001b[2;32m│   │   \u001b[0m\u001b[1m{\u001b[0m\n",
       "\u001b[2;32m│   │   │   \u001b[0m\u001b[32m'role'\u001b[0m: \u001b[32m'user'\u001b[0m,\n",
       "\u001b[2;32m│   │   │   \u001b[0m\u001b[32m'content'\u001b[0m: \u001b[32m\"\u001b[0m\u001b[32m[\u001b[0m\u001b[32m[\u001b[0m\u001b[32m ## question ## \u001b[0m\u001b[32m]\u001b[0m\u001b[32m]\u001b[0m\u001b[32m\\nIf I have 15 apples and give away 40%, how many are left?\\n\\n\u001b[0m\u001b[32m[\u001b[0m\u001b[32m[\u001b[0m\u001b[32m ## trajectory ## \u001b[0m\u001b[32m]\u001b[0m\u001b[32m]\u001b[0m\u001b[32m\\n\\n\\nRespond with the corresponding output fields, starting with the field `\u001b[0m\u001b[32m[\u001b[0m\u001b[32m[\u001b[0m\u001b[32m ## next_thought ## \u001b[0m\u001b[32m]\u001b[0m\u001b[32m]\u001b[0m\u001b[32m`, then `\u001b[0m\u001b[32m[\u001b[0m\u001b[32m[\u001b[0m\u001b[32m ## next_tool_name ## \u001b[0m\u001b[32m]\u001b[0m\u001b[32m]\u001b[0m\u001b[32m` \u001b[0m\u001b[32m(\u001b[0m\u001b[32mmust be formatted as a valid Python Literal\u001b[0m\u001b[32m[\u001b[0m\u001b[32m'calculate_percentage', 'subtract', 'finish'\u001b[0m\u001b[32m]\u001b[0m\u001b[32m)\u001b[0m\u001b[32m, then `\u001b[0m\u001b[32m[\u001b[0m\u001b[32m[\u001b[0m\u001b[32m ## next_tool_args ## \u001b[0m\u001b[32m]\u001b[0m\u001b[32m]\u001b[0m\u001b[32m` \u001b[0m\u001b[32m(\u001b[0m\u001b[32mmust be formatted as a valid Python dict\u001b[0m\u001b[32m[\u001b[0m\u001b[32mstr, Any\u001b[0m\u001b[32m]\u001b[0m\u001b[32m)\u001b[0m\u001b[32m, and then ending with the marker for `\u001b[0m\u001b[32m[\u001b[0m\u001b[32m[\u001b[0m\u001b[32m ## completed ## \u001b[0m\u001b[32m]\u001b[0m\u001b[32m]\u001b[0m\u001b[32m`.\"\u001b[0m\n",
       "\u001b[2;32m│   │   \u001b[0m\u001b[1m}\u001b[0m\n",
       "\u001b[2;32m│   \u001b[0m\u001b[1m]\u001b[0m,\n",
       "\u001b[2;32m│   \u001b[0m\u001b[32m'kwargs'\u001b[0m: \u001b[1m{\u001b[0m\u001b[1m}\u001b[0m,\n",
       "\u001b[2;32m│   \u001b[0m\u001b[32m'response'\u001b[0m: \u001b[1;35mModelResponse\u001b[0m\u001b[1m(\u001b[0m\n",
       "\u001b[2;32m│   │   \u001b[0m\u001b[33mid\u001b[0m=\u001b[32m'chatcmpl-6d1c4095-9b6c-46ef-b675-2bc236467a0c'\u001b[0m,\n",
       "\u001b[2;32m│   │   \u001b[0m\u001b[33mcreated\u001b[0m=\u001b[1;36m1749674572\u001b[0m,\n",
       "\u001b[2;32m│   │   \u001b[0m\u001b[33mmodel\u001b[0m=\u001b[32m'ollama_chat/phi4:14b-q8_0'\u001b[0m,\n",
       "\u001b[2;32m│   │   \u001b[0m\u001b[33mobject\u001b[0m=\u001b[32m'chat.completion'\u001b[0m,\n",
       "\u001b[2;32m│   │   \u001b[0m\u001b[33msystem_fingerprint\u001b[0m=\u001b[3;35mNone\u001b[0m,\n",
       "\u001b[2;32m│   │   \u001b[0m\u001b[33mchoices\u001b[0m=\u001b[1m[\u001b[0m\n",
       "\u001b[2;32m│   │   │   \u001b[0m\u001b[1;35mChoices\u001b[0m\u001b[1m(\u001b[0m\n",
       "\u001b[2;32m│   │   │   │   \u001b[0m\u001b[33mfinish_reason\u001b[0m=\u001b[32m'stop'\u001b[0m,\n",
       "\u001b[2;32m│   │   │   │   \u001b[0m\u001b[33mindex\u001b[0m=\u001b[1;36m0\u001b[0m,\n",
       "\u001b[2;32m│   │   │   │   \u001b[0m\u001b[33mmessage\u001b[0m=\u001b[1;35mMessage\u001b[0m\u001b[1m(\u001b[0m\n",
       "\u001b[2;32m│   │   │   │   │   \u001b[0m\u001b[33mcontent\u001b[0m=\u001b[32m'\u001b[0m\u001b[32m[\u001b[0m\u001b[32m[\u001b[0m\u001b[32m ## next_thought ## \u001b[0m\u001b[32m]\u001b[0m\u001b[32m]\u001b[0m\u001b[32m\\nTo determine how many apples are left after giving away 40%, I first need to calculate what 40% of 15 apples is. Once I have that number, I can subtract it from the original total of 15 apples.\\n\\n\u001b[0m\u001b[32m[\u001b[0m\u001b[32m[\u001b[0m\u001b[32m ## next_tool_name ## \u001b[0m\u001b[32m]\u001b[0m\u001b[32m]\u001b[0m\u001b[32m\\ncalculate_percentage\\n\\n\u001b[0m\u001b[32m[\u001b[0m\u001b[32m[\u001b[0m\u001b[32m ## next_tool_args ## \u001b[0m\u001b[32m]\u001b[0m\u001b[32m]\u001b[0m\u001b[32m\\n\u001b[0m\u001b[32m{\u001b[0m\u001b[32m\"value\": 15, \"percentage\": 40\u001b[0m\u001b[32m}\u001b[0m\u001b[32m\\n\\n\u001b[0m\u001b[32m[\u001b[0m\u001b[32m[\u001b[0m\u001b[32m ## completed ## \u001b[0m\u001b[32m]\u001b[0m\u001b[32m]\u001b[0m\u001b[32m'\u001b[0m,\n",
       "\u001b[2;32m│   │   │   │   │   \u001b[0m\u001b[33mrole\u001b[0m=\u001b[32m'assistant'\u001b[0m,\n",
       "\u001b[2;32m│   │   │   │   │   \u001b[0m\u001b[33mtool_calls\u001b[0m=\u001b[3;35mNone\u001b[0m,\n",
       "\u001b[2;32m│   │   │   │   │   \u001b[0m\u001b[33mfunction_call\u001b[0m=\u001b[3;35mNone\u001b[0m,\n",
       "\u001b[2;32m│   │   │   │   │   \u001b[0m\u001b[33mprovider_specific_fields\u001b[0m=\u001b[3;35mNone\u001b[0m\n",
       "\u001b[2;32m│   │   │   │   \u001b[0m\u001b[1m)\u001b[0m\n",
       "\u001b[2;32m│   │   │   \u001b[0m\u001b[1m)\u001b[0m\n",
       "\u001b[2;32m│   │   \u001b[0m\u001b[1m]\u001b[0m,\n",
       "\u001b[2;32m│   │   \u001b[0m\u001b[33musage\u001b[0m=\u001b[1m{\u001b[0m\u001b[1m}\u001b[0m,\n",
       "\u001b[2;32m│   │   \u001b[0m\u001b[33mcache_hit\u001b[0m=\u001b[3;35mNone\u001b[0m\n",
       "\u001b[2;32m│   \u001b[0m\u001b[1m)\u001b[0m,\n",
       "\u001b[2;32m│   \u001b[0m\u001b[32m'outputs'\u001b[0m: \u001b[1m[\u001b[0m\n",
       "\u001b[2;32m│   │   \u001b[0m\u001b[32m'\u001b[0m\u001b[32m[\u001b[0m\u001b[32m[\u001b[0m\u001b[32m ## next_thought ## \u001b[0m\u001b[32m]\u001b[0m\u001b[32m]\u001b[0m\u001b[32m\\nTo determine how many apples are left after giving away 40%, I first need to calculate what 40% of 15 apples is. Once I have that number, I can subtract it from the original total of 15 apples.\\n\\n\u001b[0m\u001b[32m[\u001b[0m\u001b[32m[\u001b[0m\u001b[32m ## next_tool_name ## \u001b[0m\u001b[32m]\u001b[0m\u001b[32m]\u001b[0m\u001b[32m\\ncalculate_percentage\\n\\n\u001b[0m\u001b[32m[\u001b[0m\u001b[32m[\u001b[0m\u001b[32m ## next_tool_args ## \u001b[0m\u001b[32m]\u001b[0m\u001b[32m]\u001b[0m\u001b[32m\\n\u001b[0m\u001b[32m{\u001b[0m\u001b[32m\"value\": 15, \"percentage\": 40\u001b[0m\u001b[32m}\u001b[0m\u001b[32m\\n\\n\u001b[0m\u001b[32m[\u001b[0m\u001b[32m[\u001b[0m\u001b[32m ## completed ## \u001b[0m\u001b[32m]\u001b[0m\u001b[32m]\u001b[0m\u001b[32m'\u001b[0m\n",
       "\u001b[2;32m│   \u001b[0m\u001b[1m]\u001b[0m,\n",
       "\u001b[2;32m│   \u001b[0m\u001b[32m'usage'\u001b[0m: \u001b[1m{\u001b[0m\u001b[1m}\u001b[0m,\n",
       "\u001b[2;32m│   \u001b[0m\u001b[32m'cost'\u001b[0m: \u001b[1;36m0.0\u001b[0m,\n",
       "\u001b[2;32m│   \u001b[0m\u001b[32m'timestamp'\u001b[0m: \u001b[32m'2025-06-11T18:51:12.860337'\u001b[0m,\n",
       "\u001b[2;32m│   \u001b[0m\u001b[32m'uuid'\u001b[0m: \u001b[32m'a2175c11-83c7-450e-9209-85f8876ba679'\u001b[0m,\n",
       "\u001b[2;32m│   \u001b[0m\u001b[32m'model'\u001b[0m: \u001b[32m'ollama_chat/phi4:14b-q8_0'\u001b[0m,\n",
       "\u001b[2;32m│   \u001b[0m\u001b[32m'response_model'\u001b[0m: \u001b[32m'ollama_chat/phi4:14b-q8_0'\u001b[0m,\n",
       "\u001b[2;32m│   \u001b[0m\u001b[32m'model_type'\u001b[0m: \u001b[32m'chat'\u001b[0m\n",
       "\u001b[1m}\u001b[0m\n"
      ]
     },
     "metadata": {},
     "output_type": "display_data"
    },
    {
     "data": {
      "text/html": [
       "<pre style=\"white-space:pre;overflow-x:auto;line-height:normal;font-family:Menlo,'DejaVu Sans Mono',consolas,'Courier New',monospace\"><span style=\"font-weight: bold\">{</span>\n",
       "<span style=\"color: #7fbf7f; text-decoration-color: #7fbf7f\">│   </span><span style=\"color: #008000; text-decoration-color: #008000\">'prompt'</span>: <span style=\"color: #800080; text-decoration-color: #800080; font-style: italic\">None</span>,\n",
       "<span style=\"color: #7fbf7f; text-decoration-color: #7fbf7f\">│   </span><span style=\"color: #008000; text-decoration-color: #008000\">'messages'</span>: <span style=\"font-weight: bold\">[</span>\n",
       "<span style=\"color: #7fbf7f; text-decoration-color: #7fbf7f\">│   │   </span><span style=\"font-weight: bold\">{</span>\n",
       "<span style=\"color: #7fbf7f; text-decoration-color: #7fbf7f\">│   │   │   </span><span style=\"color: #008000; text-decoration-color: #008000\">'role'</span>: <span style=\"color: #008000; text-decoration-color: #008000\">'system'</span>,\n",
       "<span style=\"color: #7fbf7f; text-decoration-color: #7fbf7f\">│   │   │   </span><span style=\"color: #008000; text-decoration-color: #008000\">'content'</span>: <span style=\"color: #008000; text-decoration-color: #008000\">'Your input fields are:\\n1. `question` (str): \\n2. `trajectory` (str):\\nYour output fields are:\\n1. `next_thought` (str): \\n2. `next_tool_name` (Literal[\\'calculate_percentage\\', \\'subtract\\', \\'finish\\']): \\n3. `next_tool_args` (dict[str, Any]):\\nAll interactions will be structured in the following way, with the appropriate values filled in.\\n\\n[[ ## question ## ]]\\n{question}\\n\\n[[ ## trajectory ## ]]\\n{trajectory}\\n\\n[[ ## next_thought ## ]]\\n{next_thought}\\n\\n[[ ## next_tool_name ## ]]\\n{next_tool_name}        # note: the value you produce must exactly match (no extra characters) one of: calculate_percentage; subtract; finish\\n\\n[[ ## next_tool_args ## ]]\\n{next_tool_args}        # note: the value you produce must adhere to the JSON schema: {\"type\": \"object\", \"additionalProperties\": true}\\n\\n[[ ## completed ## ]]\\nIn adhering to this structure, your objective is: \\n        Given the fields `question`, produce the fields `answer`.\\n        \\n        You are an Agent. In each episode, you will be given the fields `question` as input. And you can see your past trajectory so far.\\n        Your goal is to use one or more of the supplied tools to collect any necessary information for producing `answer`.\\n        \\n        To do this, you will interleave next_thought, next_tool_name, and next_tool_args in each turn, and also when finishing the task.\\n        After each tool call, you receive a resulting observation, which gets appended to your trajectory.\\n        \\n        When writing next_thought, you may reason about the current situation and plan for future steps.\\n        When selecting the next_tool_name and its next_tool_args, the tool must be one of:\\n        \\n        (1) calculate_percentage, whose description is &lt;desc&gt;Calculate what percentage of a value is.        :param value: The value to calculate the percentage of.      :param percentage: The percent value. Has to be betwee 0 and 100.      :return: The percentage value.      &lt;/desc&gt;. It takes arguments {\\'value\\': {\\'type\\': \\'number\\'}, \\'percentage\\': {\\'type\\': \\'number\\'}}.\\n        (2) subtract, whose description is &lt;desc&gt;Subtract b from a.        :param a: The value to subtract from.      :param b: How much to subtract from a.      :return: The residual.      &lt;/desc&gt;. It takes arguments {\\'a\\': {\\'type\\': \\'number\\'}, \\'b\\': {\\'type\\': \\'number\\'}}.\\n        (3) finish, whose description is &lt;desc&gt;Marks the task as complete. That is, signals that all information for producing the outputs, i.e. `answer`, are now available to be extracted.&lt;/desc&gt;. It takes arguments {}.\\n        When providing `next_tool_args`, the value inside the field must be in JSON format'</span>\n",
       "<span style=\"color: #7fbf7f; text-decoration-color: #7fbf7f\">│   │   </span><span style=\"font-weight: bold\">}</span>,\n",
       "<span style=\"color: #7fbf7f; text-decoration-color: #7fbf7f\">│   │   </span><span style=\"font-weight: bold\">{</span>\n",
       "<span style=\"color: #7fbf7f; text-decoration-color: #7fbf7f\">│   │   │   </span><span style=\"color: #008000; text-decoration-color: #008000\">'role'</span>: <span style=\"color: #008000; text-decoration-color: #008000\">'user'</span>,\n",
       "<span style=\"color: #7fbf7f; text-decoration-color: #7fbf7f\">│   │   │   </span><span style=\"color: #008000; text-decoration-color: #008000\">'content'</span>: <span style=\"color: #008000; text-decoration-color: #008000\">'[[ ## question ## ]]\\nIf I have 15 apples and give away 40%, how many are left?\\n\\n[[ ## trajectory ## ]]\\n[[ ## thought_0 ## ]]\\nTo determine how many apples are left after giving away 40%, I first need to calculate what 40% of 15 apples is. Once I have that number, I can subtract it from the original total of 15 apples.\\n\\n[[ ## tool_name_0 ## ]]\\ncalculate_percentage\\n\\n[[ ## tool_args_0 ## ]]\\n{\"value\": 15, \"percentage\": 40}\\n\\n[[ ## observation_0 ## ]]\\n6.0\\n\\nRespond with the corresponding output fields, starting with the field `[[ ## next_thought ## ]]`, then `[[ ## next_tool_name ## ]]` (must be formatted as a valid Python Literal[\\'calculate_percentage\\', \\'subtract\\', \\'finish\\']), then `[[ ## next_tool_args ## ]]` (must be formatted as a valid Python dict[str, Any]), and then ending with the marker for `[[ ## completed ## ]]`.'</span>\n",
       "<span style=\"color: #7fbf7f; text-decoration-color: #7fbf7f\">│   │   </span><span style=\"font-weight: bold\">}</span>\n",
       "<span style=\"color: #7fbf7f; text-decoration-color: #7fbf7f\">│   </span><span style=\"font-weight: bold\">]</span>,\n",
       "<span style=\"color: #7fbf7f; text-decoration-color: #7fbf7f\">│   </span><span style=\"color: #008000; text-decoration-color: #008000\">'kwargs'</span>: <span style=\"font-weight: bold\">{}</span>,\n",
       "<span style=\"color: #7fbf7f; text-decoration-color: #7fbf7f\">│   </span><span style=\"color: #008000; text-decoration-color: #008000\">'response'</span>: <span style=\"color: #800080; text-decoration-color: #800080; font-weight: bold\">ModelResponse</span><span style=\"font-weight: bold\">(</span>\n",
       "<span style=\"color: #7fbf7f; text-decoration-color: #7fbf7f\">│   │   </span><span style=\"color: #808000; text-decoration-color: #808000\">id</span>=<span style=\"color: #008000; text-decoration-color: #008000\">'chatcmpl-0fa2a38e-8eb3-4bd5-88c4-f6c6664ec3c4'</span>,\n",
       "<span style=\"color: #7fbf7f; text-decoration-color: #7fbf7f\">│   │   </span><span style=\"color: #808000; text-decoration-color: #808000\">created</span>=<span style=\"color: #008080; text-decoration-color: #008080; font-weight: bold\">1749674577</span>,\n",
       "<span style=\"color: #7fbf7f; text-decoration-color: #7fbf7f\">│   │   </span><span style=\"color: #808000; text-decoration-color: #808000\">model</span>=<span style=\"color: #008000; text-decoration-color: #008000\">'ollama_chat/phi4:14b-q8_0'</span>,\n",
       "<span style=\"color: #7fbf7f; text-decoration-color: #7fbf7f\">│   │   </span><span style=\"color: #808000; text-decoration-color: #808000\">object</span>=<span style=\"color: #008000; text-decoration-color: #008000\">'chat.completion'</span>,\n",
       "<span style=\"color: #7fbf7f; text-decoration-color: #7fbf7f\">│   │   </span><span style=\"color: #808000; text-decoration-color: #808000\">system_fingerprint</span>=<span style=\"color: #800080; text-decoration-color: #800080; font-style: italic\">None</span>,\n",
       "<span style=\"color: #7fbf7f; text-decoration-color: #7fbf7f\">│   │   </span><span style=\"color: #808000; text-decoration-color: #808000\">choices</span>=<span style=\"font-weight: bold\">[</span>\n",
       "<span style=\"color: #7fbf7f; text-decoration-color: #7fbf7f\">│   │   │   </span><span style=\"color: #800080; text-decoration-color: #800080; font-weight: bold\">Choices</span><span style=\"font-weight: bold\">(</span>\n",
       "<span style=\"color: #7fbf7f; text-decoration-color: #7fbf7f\">│   │   │   │   </span><span style=\"color: #808000; text-decoration-color: #808000\">finish_reason</span>=<span style=\"color: #008000; text-decoration-color: #008000\">'stop'</span>,\n",
       "<span style=\"color: #7fbf7f; text-decoration-color: #7fbf7f\">│   │   │   │   </span><span style=\"color: #808000; text-decoration-color: #808000\">index</span>=<span style=\"color: #008080; text-decoration-color: #008080; font-weight: bold\">0</span>,\n",
       "<span style=\"color: #7fbf7f; text-decoration-color: #7fbf7f\">│   │   │   │   </span><span style=\"color: #808000; text-decoration-color: #808000\">message</span>=<span style=\"color: #800080; text-decoration-color: #800080; font-weight: bold\">Message</span><span style=\"font-weight: bold\">(</span>\n",
       "<span style=\"color: #7fbf7f; text-decoration-color: #7fbf7f\">│   │   │   │   │   </span><span style=\"color: #808000; text-decoration-color: #808000\">content</span>=<span style=\"color: #008000; text-decoration-color: #008000\">'[[ ## next_thought ## ]]\\nI have calculated that 40% of 15 apples is 6 apples. Now, I need to subtract these 6 apples from the original total of 15 apples to find out how many are left.\\n\\n[[ ## next_tool_name ## ]]\\nsubtract\\n\\n[[ ## next_tool_args ## ]]\\n{\"a\": 15, \"b\": 6}\\n\\n[[ ## completed ## ]]'</span>,\n",
       "<span style=\"color: #7fbf7f; text-decoration-color: #7fbf7f\">│   │   │   │   │   </span><span style=\"color: #808000; text-decoration-color: #808000\">role</span>=<span style=\"color: #008000; text-decoration-color: #008000\">'assistant'</span>,\n",
       "<span style=\"color: #7fbf7f; text-decoration-color: #7fbf7f\">│   │   │   │   │   </span><span style=\"color: #808000; text-decoration-color: #808000\">tool_calls</span>=<span style=\"color: #800080; text-decoration-color: #800080; font-style: italic\">None</span>,\n",
       "<span style=\"color: #7fbf7f; text-decoration-color: #7fbf7f\">│   │   │   │   │   </span><span style=\"color: #808000; text-decoration-color: #808000\">function_call</span>=<span style=\"color: #800080; text-decoration-color: #800080; font-style: italic\">None</span>,\n",
       "<span style=\"color: #7fbf7f; text-decoration-color: #7fbf7f\">│   │   │   │   │   </span><span style=\"color: #808000; text-decoration-color: #808000\">provider_specific_fields</span>=<span style=\"color: #800080; text-decoration-color: #800080; font-style: italic\">None</span>\n",
       "<span style=\"color: #7fbf7f; text-decoration-color: #7fbf7f\">│   │   │   │   </span><span style=\"font-weight: bold\">)</span>\n",
       "<span style=\"color: #7fbf7f; text-decoration-color: #7fbf7f\">│   │   │   </span><span style=\"font-weight: bold\">)</span>\n",
       "<span style=\"color: #7fbf7f; text-decoration-color: #7fbf7f\">│   │   </span><span style=\"font-weight: bold\">]</span>,\n",
       "<span style=\"color: #7fbf7f; text-decoration-color: #7fbf7f\">│   │   </span><span style=\"color: #808000; text-decoration-color: #808000\">usage</span>=<span style=\"font-weight: bold\">{}</span>,\n",
       "<span style=\"color: #7fbf7f; text-decoration-color: #7fbf7f\">│   │   </span><span style=\"color: #808000; text-decoration-color: #808000\">cache_hit</span>=<span style=\"color: #800080; text-decoration-color: #800080; font-style: italic\">None</span>\n",
       "<span style=\"color: #7fbf7f; text-decoration-color: #7fbf7f\">│   </span><span style=\"font-weight: bold\">)</span>,\n",
       "<span style=\"color: #7fbf7f; text-decoration-color: #7fbf7f\">│   </span><span style=\"color: #008000; text-decoration-color: #008000\">'outputs'</span>: <span style=\"font-weight: bold\">[</span>\n",
       "<span style=\"color: #7fbf7f; text-decoration-color: #7fbf7f\">│   │   </span><span style=\"color: #008000; text-decoration-color: #008000\">'[[ ## next_thought ## ]]\\nI have calculated that 40% of 15 apples is 6 apples. Now, I need to subtract these 6 apples from the original total of 15 apples to find out how many are left.\\n\\n[[ ## next_tool_name ## ]]\\nsubtract\\n\\n[[ ## next_tool_args ## ]]\\n{\"a\": 15, \"b\": 6}\\n\\n[[ ## completed ## ]]'</span>\n",
       "<span style=\"color: #7fbf7f; text-decoration-color: #7fbf7f\">│   </span><span style=\"font-weight: bold\">]</span>,\n",
       "<span style=\"color: #7fbf7f; text-decoration-color: #7fbf7f\">│   </span><span style=\"color: #008000; text-decoration-color: #008000\">'usage'</span>: <span style=\"font-weight: bold\">{}</span>,\n",
       "<span style=\"color: #7fbf7f; text-decoration-color: #7fbf7f\">│   </span><span style=\"color: #008000; text-decoration-color: #008000\">'cost'</span>: <span style=\"color: #008080; text-decoration-color: #008080; font-weight: bold\">0.0</span>,\n",
       "<span style=\"color: #7fbf7f; text-decoration-color: #7fbf7f\">│   </span><span style=\"color: #008000; text-decoration-color: #008000\">'timestamp'</span>: <span style=\"color: #008000; text-decoration-color: #008000\">'2025-06-11T18:51:12.869743'</span>,\n",
       "<span style=\"color: #7fbf7f; text-decoration-color: #7fbf7f\">│   </span><span style=\"color: #008000; text-decoration-color: #008000\">'uuid'</span>: <span style=\"color: #008000; text-decoration-color: #008000\">'8e455618-26f2-4a26-bba4-bc551f49d3d5'</span>,\n",
       "<span style=\"color: #7fbf7f; text-decoration-color: #7fbf7f\">│   </span><span style=\"color: #008000; text-decoration-color: #008000\">'model'</span>: <span style=\"color: #008000; text-decoration-color: #008000\">'ollama_chat/phi4:14b-q8_0'</span>,\n",
       "<span style=\"color: #7fbf7f; text-decoration-color: #7fbf7f\">│   </span><span style=\"color: #008000; text-decoration-color: #008000\">'response_model'</span>: <span style=\"color: #008000; text-decoration-color: #008000\">'ollama_chat/phi4:14b-q8_0'</span>,\n",
       "<span style=\"color: #7fbf7f; text-decoration-color: #7fbf7f\">│   </span><span style=\"color: #008000; text-decoration-color: #008000\">'model_type'</span>: <span style=\"color: #008000; text-decoration-color: #008000\">'chat'</span>\n",
       "<span style=\"font-weight: bold\">}</span>\n",
       "</pre>\n"
      ],
      "text/plain": [
       "\u001b[1m{\u001b[0m\n",
       "\u001b[2;32m│   \u001b[0m\u001b[32m'prompt'\u001b[0m: \u001b[3;35mNone\u001b[0m,\n",
       "\u001b[2;32m│   \u001b[0m\u001b[32m'messages'\u001b[0m: \u001b[1m[\u001b[0m\n",
       "\u001b[2;32m│   │   \u001b[0m\u001b[1m{\u001b[0m\n",
       "\u001b[2;32m│   │   │   \u001b[0m\u001b[32m'role'\u001b[0m: \u001b[32m'system'\u001b[0m,\n",
       "\u001b[2;32m│   │   │   \u001b[0m\u001b[32m'content'\u001b[0m: \u001b[32m'Your input fields are:\\n1. `question` \u001b[0m\u001b[32m(\u001b[0m\u001b[32mstr\u001b[0m\u001b[32m)\u001b[0m\u001b[32m: \\n2. `trajectory` \u001b[0m\u001b[32m(\u001b[0m\u001b[32mstr\u001b[0m\u001b[32m)\u001b[0m\u001b[32m:\\nYour output fields are:\\n1. `next_thought` \u001b[0m\u001b[32m(\u001b[0m\u001b[32mstr\u001b[0m\u001b[32m)\u001b[0m\u001b[32m: \\n2. `next_tool_name` \u001b[0m\u001b[32m(\u001b[0m\u001b[32mLiteral\u001b[0m\u001b[32m[\u001b[0m\u001b[32m\\'calculate_percentage\\', \\'subtract\\', \\'finish\\'\u001b[0m\u001b[32m]\u001b[0m\u001b[32m)\u001b[0m\u001b[32m: \\n3. `next_tool_args` \u001b[0m\u001b[32m(\u001b[0m\u001b[32mdict\u001b[0m\u001b[32m[\u001b[0m\u001b[32mstr, Any\u001b[0m\u001b[32m]\u001b[0m\u001b[32m)\u001b[0m\u001b[32m:\\nAll interactions will be structured in the following way, with the appropriate values filled in.\\n\\n\u001b[0m\u001b[32m[\u001b[0m\u001b[32m[\u001b[0m\u001b[32m ## question ## \u001b[0m\u001b[32m]\u001b[0m\u001b[32m]\u001b[0m\u001b[32m\\n\u001b[0m\u001b[32m{\u001b[0m\u001b[32mquestion\u001b[0m\u001b[32m}\u001b[0m\u001b[32m\\n\\n\u001b[0m\u001b[32m[\u001b[0m\u001b[32m[\u001b[0m\u001b[32m ## trajectory ## \u001b[0m\u001b[32m]\u001b[0m\u001b[32m]\u001b[0m\u001b[32m\\n\u001b[0m\u001b[32m{\u001b[0m\u001b[32mtrajectory\u001b[0m\u001b[32m}\u001b[0m\u001b[32m\\n\\n\u001b[0m\u001b[32m[\u001b[0m\u001b[32m[\u001b[0m\u001b[32m ## next_thought ## \u001b[0m\u001b[32m]\u001b[0m\u001b[32m]\u001b[0m\u001b[32m\\n\u001b[0m\u001b[32m{\u001b[0m\u001b[32mnext_thought\u001b[0m\u001b[32m}\u001b[0m\u001b[32m\\n\\n\u001b[0m\u001b[32m[\u001b[0m\u001b[32m[\u001b[0m\u001b[32m ## next_tool_name ## \u001b[0m\u001b[32m]\u001b[0m\u001b[32m]\u001b[0m\u001b[32m\\n\u001b[0m\u001b[32m{\u001b[0m\u001b[32mnext_tool_name\u001b[0m\u001b[32m}\u001b[0m\u001b[32m        # note: the value you produce must exactly match \u001b[0m\u001b[32m(\u001b[0m\u001b[32mno extra characters\u001b[0m\u001b[32m)\u001b[0m\u001b[32m one of: calculate_percentage; subtract; finish\\n\\n\u001b[0m\u001b[32m[\u001b[0m\u001b[32m[\u001b[0m\u001b[32m ## next_tool_args ## \u001b[0m\u001b[32m]\u001b[0m\u001b[32m]\u001b[0m\u001b[32m\\n\u001b[0m\u001b[32m{\u001b[0m\u001b[32mnext_tool_args\u001b[0m\u001b[32m}\u001b[0m\u001b[32m        # note: the value you produce must adhere to the JSON schema: \u001b[0m\u001b[32m{\u001b[0m\u001b[32m\"type\": \"object\", \"additionalProperties\": true\u001b[0m\u001b[32m}\u001b[0m\u001b[32m\\n\\n\u001b[0m\u001b[32m[\u001b[0m\u001b[32m[\u001b[0m\u001b[32m ## completed ## \u001b[0m\u001b[32m]\u001b[0m\u001b[32m]\u001b[0m\u001b[32m\\nIn adhering to this structure, your objective is: \\n        Given the fields `question`, produce the fields `answer`.\\n        \\n        You are an Agent. In each episode, you will be given the fields `question` as input. And you can see your past trajectory so far.\\n        Your goal is to use one or more of the supplied tools to collect any necessary information for producing `answer`.\\n        \\n        To do this, you will interleave next_thought, next_tool_name, and next_tool_args in each turn, and also when finishing the task.\\n        After each tool call, you receive a resulting observation, which gets appended to your trajectory.\\n        \\n        When writing next_thought, you may reason about the current situation and plan for future steps.\\n        When selecting the next_tool_name and its next_tool_args, the tool must be one of:\\n        \\n        \u001b[0m\u001b[32m(\u001b[0m\u001b[32m1\u001b[0m\u001b[32m)\u001b[0m\u001b[32m calculate_percentage, whose description is \u001b[0m\u001b[32m<\u001b[0m\u001b[32mdesc\u001b[0m\u001b[32m>Calculate what percentage of a value is.        :param value: The value to calculate the percentage of.      :param percentage: The percent value. Has to be betwee 0 and 100.      :return: The percentage value.      </desc>. It takes arguments \u001b[0m\u001b[32m{\u001b[0m\u001b[32m\\'value\\': \u001b[0m\u001b[32m{\u001b[0m\u001b[32m\\'type\\': \\'number\\'\u001b[0m\u001b[32m}\u001b[0m\u001b[32m, \\'percentage\\': \u001b[0m\u001b[32m{\u001b[0m\u001b[32m\\'type\\': \\'number\\'\u001b[0m\u001b[32m}\u001b[0m\u001b[32m}\u001b[0m\u001b[32m.\\n        \u001b[0m\u001b[32m(\u001b[0m\u001b[32m2\u001b[0m\u001b[32m)\u001b[0m\u001b[32m subtract, whose description is <desc>Subtract b from a.        :param a: The value to subtract from.      :param b: How much to subtract from a.      :return: The residual.      </desc>. It takes arguments \u001b[0m\u001b[32m{\u001b[0m\u001b[32m\\'a\\': \u001b[0m\u001b[32m{\u001b[0m\u001b[32m\\'type\\': \\'number\\'\u001b[0m\u001b[32m}\u001b[0m\u001b[32m, \\'b\\': \u001b[0m\u001b[32m{\u001b[0m\u001b[32m\\'type\\': \\'number\\'\u001b[0m\u001b[32m}\u001b[0m\u001b[32m}\u001b[0m\u001b[32m.\\n        \u001b[0m\u001b[32m(\u001b[0m\u001b[32m3\u001b[0m\u001b[32m)\u001b[0m\u001b[32m finish, whose description is <desc>Marks the task as complete. That is, signals that all information for producing the outputs, i.e. `answer`, are now available to be extracted.</desc\u001b[0m\u001b[32m>\u001b[0m\u001b[32m. It takes arguments \u001b[0m\u001b[32m{\u001b[0m\u001b[32m}\u001b[0m\u001b[32m.\\n        When providing `next_tool_args`, the value inside the field must be in JSON format'\u001b[0m\n",
       "\u001b[2;32m│   │   \u001b[0m\u001b[1m}\u001b[0m,\n",
       "\u001b[2;32m│   │   \u001b[0m\u001b[1m{\u001b[0m\n",
       "\u001b[2;32m│   │   │   \u001b[0m\u001b[32m'role'\u001b[0m: \u001b[32m'user'\u001b[0m,\n",
       "\u001b[2;32m│   │   │   \u001b[0m\u001b[32m'content'\u001b[0m: \u001b[32m'\u001b[0m\u001b[32m[\u001b[0m\u001b[32m[\u001b[0m\u001b[32m ## question ## \u001b[0m\u001b[32m]\u001b[0m\u001b[32m]\u001b[0m\u001b[32m\\nIf I have 15 apples and give away 40%, how many are left?\\n\\n\u001b[0m\u001b[32m[\u001b[0m\u001b[32m[\u001b[0m\u001b[32m ## trajectory ## \u001b[0m\u001b[32m]\u001b[0m\u001b[32m]\u001b[0m\u001b[32m\\n\u001b[0m\u001b[32m[\u001b[0m\u001b[32m[\u001b[0m\u001b[32m ## thought_0 ## \u001b[0m\u001b[32m]\u001b[0m\u001b[32m]\u001b[0m\u001b[32m\\nTo determine how many apples are left after giving away 40%, I first need to calculate what 40% of 15 apples is. Once I have that number, I can subtract it from the original total of 15 apples.\\n\\n\u001b[0m\u001b[32m[\u001b[0m\u001b[32m[\u001b[0m\u001b[32m ## tool_name_0 ## \u001b[0m\u001b[32m]\u001b[0m\u001b[32m]\u001b[0m\u001b[32m\\ncalculate_percentage\\n\\n\u001b[0m\u001b[32m[\u001b[0m\u001b[32m[\u001b[0m\u001b[32m ## tool_args_0 ## \u001b[0m\u001b[32m]\u001b[0m\u001b[32m]\u001b[0m\u001b[32m\\n\u001b[0m\u001b[32m{\u001b[0m\u001b[32m\"value\": 15, \"percentage\": 40\u001b[0m\u001b[32m}\u001b[0m\u001b[32m\\n\\n\u001b[0m\u001b[32m[\u001b[0m\u001b[32m[\u001b[0m\u001b[32m ## observation_0 ## \u001b[0m\u001b[32m]\u001b[0m\u001b[32m]\u001b[0m\u001b[32m\\n6.0\\n\\nRespond with the corresponding output fields, starting with the field `\u001b[0m\u001b[32m[\u001b[0m\u001b[32m[\u001b[0m\u001b[32m ## next_thought ## \u001b[0m\u001b[32m]\u001b[0m\u001b[32m]\u001b[0m\u001b[32m`, then `\u001b[0m\u001b[32m[\u001b[0m\u001b[32m[\u001b[0m\u001b[32m ## next_tool_name ## \u001b[0m\u001b[32m]\u001b[0m\u001b[32m]\u001b[0m\u001b[32m` \u001b[0m\u001b[32m(\u001b[0m\u001b[32mmust be formatted as a valid Python Literal\u001b[0m\u001b[32m[\u001b[0m\u001b[32m\\'calculate_percentage\\', \\'subtract\\', \\'finish\\'\u001b[0m\u001b[32m]\u001b[0m\u001b[32m)\u001b[0m\u001b[32m, then `\u001b[0m\u001b[32m[\u001b[0m\u001b[32m[\u001b[0m\u001b[32m ## next_tool_args ## \u001b[0m\u001b[32m]\u001b[0m\u001b[32m]\u001b[0m\u001b[32m` \u001b[0m\u001b[32m(\u001b[0m\u001b[32mmust be formatted as a valid Python dict\u001b[0m\u001b[32m[\u001b[0m\u001b[32mstr, Any\u001b[0m\u001b[32m]\u001b[0m\u001b[32m)\u001b[0m\u001b[32m, and then ending with the marker for `\u001b[0m\u001b[32m[\u001b[0m\u001b[32m[\u001b[0m\u001b[32m ## completed ## \u001b[0m\u001b[32m]\u001b[0m\u001b[32m]\u001b[0m\u001b[32m`.'\u001b[0m\n",
       "\u001b[2;32m│   │   \u001b[0m\u001b[1m}\u001b[0m\n",
       "\u001b[2;32m│   \u001b[0m\u001b[1m]\u001b[0m,\n",
       "\u001b[2;32m│   \u001b[0m\u001b[32m'kwargs'\u001b[0m: \u001b[1m{\u001b[0m\u001b[1m}\u001b[0m,\n",
       "\u001b[2;32m│   \u001b[0m\u001b[32m'response'\u001b[0m: \u001b[1;35mModelResponse\u001b[0m\u001b[1m(\u001b[0m\n",
       "\u001b[2;32m│   │   \u001b[0m\u001b[33mid\u001b[0m=\u001b[32m'chatcmpl-0fa2a38e-8eb3-4bd5-88c4-f6c6664ec3c4'\u001b[0m,\n",
       "\u001b[2;32m│   │   \u001b[0m\u001b[33mcreated\u001b[0m=\u001b[1;36m1749674577\u001b[0m,\n",
       "\u001b[2;32m│   │   \u001b[0m\u001b[33mmodel\u001b[0m=\u001b[32m'ollama_chat/phi4:14b-q8_0'\u001b[0m,\n",
       "\u001b[2;32m│   │   \u001b[0m\u001b[33mobject\u001b[0m=\u001b[32m'chat.completion'\u001b[0m,\n",
       "\u001b[2;32m│   │   \u001b[0m\u001b[33msystem_fingerprint\u001b[0m=\u001b[3;35mNone\u001b[0m,\n",
       "\u001b[2;32m│   │   \u001b[0m\u001b[33mchoices\u001b[0m=\u001b[1m[\u001b[0m\n",
       "\u001b[2;32m│   │   │   \u001b[0m\u001b[1;35mChoices\u001b[0m\u001b[1m(\u001b[0m\n",
       "\u001b[2;32m│   │   │   │   \u001b[0m\u001b[33mfinish_reason\u001b[0m=\u001b[32m'stop'\u001b[0m,\n",
       "\u001b[2;32m│   │   │   │   \u001b[0m\u001b[33mindex\u001b[0m=\u001b[1;36m0\u001b[0m,\n",
       "\u001b[2;32m│   │   │   │   \u001b[0m\u001b[33mmessage\u001b[0m=\u001b[1;35mMessage\u001b[0m\u001b[1m(\u001b[0m\n",
       "\u001b[2;32m│   │   │   │   │   \u001b[0m\u001b[33mcontent\u001b[0m=\u001b[32m'\u001b[0m\u001b[32m[\u001b[0m\u001b[32m[\u001b[0m\u001b[32m ## next_thought ## \u001b[0m\u001b[32m]\u001b[0m\u001b[32m]\u001b[0m\u001b[32m\\nI have calculated that 40% of 15 apples is 6 apples. Now, I need to subtract these 6 apples from the original total of 15 apples to find out how many are left.\\n\\n\u001b[0m\u001b[32m[\u001b[0m\u001b[32m[\u001b[0m\u001b[32m ## next_tool_name ## \u001b[0m\u001b[32m]\u001b[0m\u001b[32m]\u001b[0m\u001b[32m\\nsubtract\\n\\n\u001b[0m\u001b[32m[\u001b[0m\u001b[32m[\u001b[0m\u001b[32m ## next_tool_args ## \u001b[0m\u001b[32m]\u001b[0m\u001b[32m]\u001b[0m\u001b[32m\\n\u001b[0m\u001b[32m{\u001b[0m\u001b[32m\"a\": 15, \"b\": 6\u001b[0m\u001b[32m}\u001b[0m\u001b[32m\\n\\n\u001b[0m\u001b[32m[\u001b[0m\u001b[32m[\u001b[0m\u001b[32m ## completed ## \u001b[0m\u001b[32m]\u001b[0m\u001b[32m]\u001b[0m\u001b[32m'\u001b[0m,\n",
       "\u001b[2;32m│   │   │   │   │   \u001b[0m\u001b[33mrole\u001b[0m=\u001b[32m'assistant'\u001b[0m,\n",
       "\u001b[2;32m│   │   │   │   │   \u001b[0m\u001b[33mtool_calls\u001b[0m=\u001b[3;35mNone\u001b[0m,\n",
       "\u001b[2;32m│   │   │   │   │   \u001b[0m\u001b[33mfunction_call\u001b[0m=\u001b[3;35mNone\u001b[0m,\n",
       "\u001b[2;32m│   │   │   │   │   \u001b[0m\u001b[33mprovider_specific_fields\u001b[0m=\u001b[3;35mNone\u001b[0m\n",
       "\u001b[2;32m│   │   │   │   \u001b[0m\u001b[1m)\u001b[0m\n",
       "\u001b[2;32m│   │   │   \u001b[0m\u001b[1m)\u001b[0m\n",
       "\u001b[2;32m│   │   \u001b[0m\u001b[1m]\u001b[0m,\n",
       "\u001b[2;32m│   │   \u001b[0m\u001b[33musage\u001b[0m=\u001b[1m{\u001b[0m\u001b[1m}\u001b[0m,\n",
       "\u001b[2;32m│   │   \u001b[0m\u001b[33mcache_hit\u001b[0m=\u001b[3;35mNone\u001b[0m\n",
       "\u001b[2;32m│   \u001b[0m\u001b[1m)\u001b[0m,\n",
       "\u001b[2;32m│   \u001b[0m\u001b[32m'outputs'\u001b[0m: \u001b[1m[\u001b[0m\n",
       "\u001b[2;32m│   │   \u001b[0m\u001b[32m'\u001b[0m\u001b[32m[\u001b[0m\u001b[32m[\u001b[0m\u001b[32m ## next_thought ## \u001b[0m\u001b[32m]\u001b[0m\u001b[32m]\u001b[0m\u001b[32m\\nI have calculated that 40% of 15 apples is 6 apples. Now, I need to subtract these 6 apples from the original total of 15 apples to find out how many are left.\\n\\n\u001b[0m\u001b[32m[\u001b[0m\u001b[32m[\u001b[0m\u001b[32m ## next_tool_name ## \u001b[0m\u001b[32m]\u001b[0m\u001b[32m]\u001b[0m\u001b[32m\\nsubtract\\n\\n\u001b[0m\u001b[32m[\u001b[0m\u001b[32m[\u001b[0m\u001b[32m ## next_tool_args ## \u001b[0m\u001b[32m]\u001b[0m\u001b[32m]\u001b[0m\u001b[32m\\n\u001b[0m\u001b[32m{\u001b[0m\u001b[32m\"a\": 15, \"b\": 6\u001b[0m\u001b[32m}\u001b[0m\u001b[32m\\n\\n\u001b[0m\u001b[32m[\u001b[0m\u001b[32m[\u001b[0m\u001b[32m ## completed ## \u001b[0m\u001b[32m]\u001b[0m\u001b[32m]\u001b[0m\u001b[32m'\u001b[0m\n",
       "\u001b[2;32m│   \u001b[0m\u001b[1m]\u001b[0m,\n",
       "\u001b[2;32m│   \u001b[0m\u001b[32m'usage'\u001b[0m: \u001b[1m{\u001b[0m\u001b[1m}\u001b[0m,\n",
       "\u001b[2;32m│   \u001b[0m\u001b[32m'cost'\u001b[0m: \u001b[1;36m0.0\u001b[0m,\n",
       "\u001b[2;32m│   \u001b[0m\u001b[32m'timestamp'\u001b[0m: \u001b[32m'2025-06-11T18:51:12.869743'\u001b[0m,\n",
       "\u001b[2;32m│   \u001b[0m\u001b[32m'uuid'\u001b[0m: \u001b[32m'8e455618-26f2-4a26-bba4-bc551f49d3d5'\u001b[0m,\n",
       "\u001b[2;32m│   \u001b[0m\u001b[32m'model'\u001b[0m: \u001b[32m'ollama_chat/phi4:14b-q8_0'\u001b[0m,\n",
       "\u001b[2;32m│   \u001b[0m\u001b[32m'response_model'\u001b[0m: \u001b[32m'ollama_chat/phi4:14b-q8_0'\u001b[0m,\n",
       "\u001b[2;32m│   \u001b[0m\u001b[32m'model_type'\u001b[0m: \u001b[32m'chat'\u001b[0m\n",
       "\u001b[1m}\u001b[0m\n"
      ]
     },
     "metadata": {},
     "output_type": "display_data"
    },
    {
     "data": {
      "text/html": [
       "<pre style=\"white-space:pre;overflow-x:auto;line-height:normal;font-family:Menlo,'DejaVu Sans Mono',consolas,'Courier New',monospace\"><span style=\"font-weight: bold\">{</span>\n",
       "<span style=\"color: #7fbf7f; text-decoration-color: #7fbf7f\">│   </span><span style=\"color: #008000; text-decoration-color: #008000\">'prompt'</span>: <span style=\"color: #800080; text-decoration-color: #800080; font-style: italic\">None</span>,\n",
       "<span style=\"color: #7fbf7f; text-decoration-color: #7fbf7f\">│   </span><span style=\"color: #008000; text-decoration-color: #008000\">'messages'</span>: <span style=\"font-weight: bold\">[</span>\n",
       "<span style=\"color: #7fbf7f; text-decoration-color: #7fbf7f\">│   │   </span><span style=\"font-weight: bold\">{</span>\n",
       "<span style=\"color: #7fbf7f; text-decoration-color: #7fbf7f\">│   │   │   </span><span style=\"color: #008000; text-decoration-color: #008000\">'role'</span>: <span style=\"color: #008000; text-decoration-color: #008000\">'system'</span>,\n",
       "<span style=\"color: #7fbf7f; text-decoration-color: #7fbf7f\">│   │   │   </span><span style=\"color: #008000; text-decoration-color: #008000\">'content'</span>: <span style=\"color: #008000; text-decoration-color: #008000\">'Your input fields are:\\n1. `question` (str): \\n2. `trajectory` (str):\\nYour output fields are:\\n1. `next_thought` (str): \\n2. `next_tool_name` (Literal[\\'calculate_percentage\\', \\'subtract\\', \\'finish\\']): \\n3. `next_tool_args` (dict[str, Any]):\\nAll interactions will be structured in the following way, with the appropriate values filled in.\\n\\n[[ ## question ## ]]\\n{question}\\n\\n[[ ## trajectory ## ]]\\n{trajectory}\\n\\n[[ ## next_thought ## ]]\\n{next_thought}\\n\\n[[ ## next_tool_name ## ]]\\n{next_tool_name}        # note: the value you produce must exactly match (no extra characters) one of: calculate_percentage; subtract; finish\\n\\n[[ ## next_tool_args ## ]]\\n{next_tool_args}        # note: the value you produce must adhere to the JSON schema: {\"type\": \"object\", \"additionalProperties\": true}\\n\\n[[ ## completed ## ]]\\nIn adhering to this structure, your objective is: \\n        Given the fields `question`, produce the fields `answer`.\\n        \\n        You are an Agent. In each episode, you will be given the fields `question` as input. And you can see your past trajectory so far.\\n        Your goal is to use one or more of the supplied tools to collect any necessary information for producing `answer`.\\n        \\n        To do this, you will interleave next_thought, next_tool_name, and next_tool_args in each turn, and also when finishing the task.\\n        After each tool call, you receive a resulting observation, which gets appended to your trajectory.\\n        \\n        When writing next_thought, you may reason about the current situation and plan for future steps.\\n        When selecting the next_tool_name and its next_tool_args, the tool must be one of:\\n        \\n        (1) calculate_percentage, whose description is &lt;desc&gt;Calculate what percentage of a value is.        :param value: The value to calculate the percentage of.      :param percentage: The percent value. Has to be betwee 0 and 100.      :return: The percentage value.      &lt;/desc&gt;. It takes arguments {\\'value\\': {\\'type\\': \\'number\\'}, \\'percentage\\': {\\'type\\': \\'number\\'}}.\\n        (2) subtract, whose description is &lt;desc&gt;Subtract b from a.        :param a: The value to subtract from.      :param b: How much to subtract from a.      :return: The residual.      &lt;/desc&gt;. It takes arguments {\\'a\\': {\\'type\\': \\'number\\'}, \\'b\\': {\\'type\\': \\'number\\'}}.\\n        (3) finish, whose description is &lt;desc&gt;Marks the task as complete. That is, signals that all information for producing the outputs, i.e. `answer`, are now available to be extracted.&lt;/desc&gt;. It takes arguments {}.\\n        When providing `next_tool_args`, the value inside the field must be in JSON format'</span>\n",
       "<span style=\"color: #7fbf7f; text-decoration-color: #7fbf7f\">│   │   </span><span style=\"font-weight: bold\">}</span>,\n",
       "<span style=\"color: #7fbf7f; text-decoration-color: #7fbf7f\">│   │   </span><span style=\"font-weight: bold\">{</span>\n",
       "<span style=\"color: #7fbf7f; text-decoration-color: #7fbf7f\">│   │   │   </span><span style=\"color: #008000; text-decoration-color: #008000\">'role'</span>: <span style=\"color: #008000; text-decoration-color: #008000\">'user'</span>,\n",
       "<span style=\"color: #7fbf7f; text-decoration-color: #7fbf7f\">│   │   │   </span><span style=\"color: #008000; text-decoration-color: #008000\">'content'</span>: <span style=\"color: #008000; text-decoration-color: #008000\">'[[ ## question ## ]]\\nIf I have 15 apples and give away 40%, how many are left?\\n\\n[[ ## trajectory ## ]]\\n[[ ## thought_0 ## ]]\\nTo determine how many apples are left after giving away 40%, I first need to calculate what 40% of 15 apples is. Once I have that number, I can subtract it from the original total of 15 apples.\\n\\n[[ ## tool_name_0 ## ]]\\ncalculate_percentage\\n\\n[[ ## tool_args_0 ## ]]\\n{\"value\": 15, \"percentage\": 40}\\n\\n[[ ## observation_0 ## ]]\\n6.0\\n\\n[[ ## thought_1 ## ]]\\nI have calculated that 40% of 15 apples is 6 apples. Now, I need to subtract these 6 apples from the original total of 15 apples to find out how many are left.\\n\\n[[ ## tool_name_1 ## ]]\\nsubtract\\n\\n[[ ## tool_args_1 ## ]]\\n{\"a\": 15, \"b\": 6}\\n\\n[[ ## observation_1 ## ]]\\n9.0\\n\\nRespond with the corresponding output fields, starting with the field `[[ ## next_thought ## ]]`, then `[[ ## next_tool_name ## ]]` (must be formatted as a valid Python Literal[\\'calculate_percentage\\', \\'subtract\\', \\'finish\\']), then `[[ ## next_tool_args ## ]]` (must be formatted as a valid Python dict[str, Any]), and then ending with the marker for `[[ ## completed ## ]]`.'</span>\n",
       "<span style=\"color: #7fbf7f; text-decoration-color: #7fbf7f\">│   │   </span><span style=\"font-weight: bold\">}</span>\n",
       "<span style=\"color: #7fbf7f; text-decoration-color: #7fbf7f\">│   </span><span style=\"font-weight: bold\">]</span>,\n",
       "<span style=\"color: #7fbf7f; text-decoration-color: #7fbf7f\">│   </span><span style=\"color: #008000; text-decoration-color: #008000\">'kwargs'</span>: <span style=\"font-weight: bold\">{}</span>,\n",
       "<span style=\"color: #7fbf7f; text-decoration-color: #7fbf7f\">│   </span><span style=\"color: #008000; text-decoration-color: #008000\">'response'</span>: <span style=\"color: #800080; text-decoration-color: #800080; font-weight: bold\">ModelResponse</span><span style=\"font-weight: bold\">(</span>\n",
       "<span style=\"color: #7fbf7f; text-decoration-color: #7fbf7f\">│   │   </span><span style=\"color: #808000; text-decoration-color: #808000\">id</span>=<span style=\"color: #008000; text-decoration-color: #008000\">'chatcmpl-8db6fa2b-fc46-4b66-bcda-5e71f81fe5c3'</span>,\n",
       "<span style=\"color: #7fbf7f; text-decoration-color: #7fbf7f\">│   │   </span><span style=\"color: #808000; text-decoration-color: #808000\">created</span>=<span style=\"color: #008080; text-decoration-color: #008080; font-weight: bold\">1749674582</span>,\n",
       "<span style=\"color: #7fbf7f; text-decoration-color: #7fbf7f\">│   │   </span><span style=\"color: #808000; text-decoration-color: #808000\">model</span>=<span style=\"color: #008000; text-decoration-color: #008000\">'ollama_chat/phi4:14b-q8_0'</span>,\n",
       "<span style=\"color: #7fbf7f; text-decoration-color: #7fbf7f\">│   │   </span><span style=\"color: #808000; text-decoration-color: #808000\">object</span>=<span style=\"color: #008000; text-decoration-color: #008000\">'chat.completion'</span>,\n",
       "<span style=\"color: #7fbf7f; text-decoration-color: #7fbf7f\">│   │   </span><span style=\"color: #808000; text-decoration-color: #808000\">system_fingerprint</span>=<span style=\"color: #800080; text-decoration-color: #800080; font-style: italic\">None</span>,\n",
       "<span style=\"color: #7fbf7f; text-decoration-color: #7fbf7f\">│   │   </span><span style=\"color: #808000; text-decoration-color: #808000\">choices</span>=<span style=\"font-weight: bold\">[</span>\n",
       "<span style=\"color: #7fbf7f; text-decoration-color: #7fbf7f\">│   │   │   </span><span style=\"color: #800080; text-decoration-color: #800080; font-weight: bold\">Choices</span><span style=\"font-weight: bold\">(</span>\n",
       "<span style=\"color: #7fbf7f; text-decoration-color: #7fbf7f\">│   │   │   │   </span><span style=\"color: #808000; text-decoration-color: #808000\">finish_reason</span>=<span style=\"color: #008000; text-decoration-color: #008000\">'stop'</span>,\n",
       "<span style=\"color: #7fbf7f; text-decoration-color: #7fbf7f\">│   │   │   │   </span><span style=\"color: #808000; text-decoration-color: #808000\">index</span>=<span style=\"color: #008080; text-decoration-color: #008080; font-weight: bold\">0</span>,\n",
       "<span style=\"color: #7fbf7f; text-decoration-color: #7fbf7f\">│   │   │   │   </span><span style=\"color: #808000; text-decoration-color: #808000\">message</span>=<span style=\"color: #800080; text-decoration-color: #800080; font-weight: bold\">Message</span><span style=\"font-weight: bold\">(</span>\n",
       "<span style=\"color: #7fbf7f; text-decoration-color: #7fbf7f\">│   │   │   │   │   </span><span style=\"color: #808000; text-decoration-color: #808000\">content</span>=<span style=\"color: #008000; text-decoration-color: #008000\">'[[ ## next_thought ## ]]\\nI have successfully calculated that 40% of 15 apples is 6 apples. After subtracting these 6 apples from the original total of 15 apples, I found that there are 9 apples left.\\n\\n[[ ## next_tool_name ## ]]\\nfinish\\n\\n[[ ## next_tool_args ## ]]\\n{}'</span>,\n",
       "<span style=\"color: #7fbf7f; text-decoration-color: #7fbf7f\">│   │   │   │   │   </span><span style=\"color: #808000; text-decoration-color: #808000\">role</span>=<span style=\"color: #008000; text-decoration-color: #008000\">'assistant'</span>,\n",
       "<span style=\"color: #7fbf7f; text-decoration-color: #7fbf7f\">│   │   │   │   │   </span><span style=\"color: #808000; text-decoration-color: #808000\">tool_calls</span>=<span style=\"color: #800080; text-decoration-color: #800080; font-style: italic\">None</span>,\n",
       "<span style=\"color: #7fbf7f; text-decoration-color: #7fbf7f\">│   │   │   │   │   </span><span style=\"color: #808000; text-decoration-color: #808000\">function_call</span>=<span style=\"color: #800080; text-decoration-color: #800080; font-style: italic\">None</span>,\n",
       "<span style=\"color: #7fbf7f; text-decoration-color: #7fbf7f\">│   │   │   │   │   </span><span style=\"color: #808000; text-decoration-color: #808000\">provider_specific_fields</span>=<span style=\"color: #800080; text-decoration-color: #800080; font-style: italic\">None</span>\n",
       "<span style=\"color: #7fbf7f; text-decoration-color: #7fbf7f\">│   │   │   │   </span><span style=\"font-weight: bold\">)</span>\n",
       "<span style=\"color: #7fbf7f; text-decoration-color: #7fbf7f\">│   │   │   </span><span style=\"font-weight: bold\">)</span>\n",
       "<span style=\"color: #7fbf7f; text-decoration-color: #7fbf7f\">│   │   </span><span style=\"font-weight: bold\">]</span>,\n",
       "<span style=\"color: #7fbf7f; text-decoration-color: #7fbf7f\">│   │   </span><span style=\"color: #808000; text-decoration-color: #808000\">usage</span>=<span style=\"font-weight: bold\">{}</span>,\n",
       "<span style=\"color: #7fbf7f; text-decoration-color: #7fbf7f\">│   │   </span><span style=\"color: #808000; text-decoration-color: #808000\">cache_hit</span>=<span style=\"color: #800080; text-decoration-color: #800080; font-style: italic\">None</span>\n",
       "<span style=\"color: #7fbf7f; text-decoration-color: #7fbf7f\">│   </span><span style=\"font-weight: bold\">)</span>,\n",
       "<span style=\"color: #7fbf7f; text-decoration-color: #7fbf7f\">│   </span><span style=\"color: #008000; text-decoration-color: #008000\">'outputs'</span>: <span style=\"font-weight: bold\">[</span>\n",
       "<span style=\"color: #7fbf7f; text-decoration-color: #7fbf7f\">│   │   </span><span style=\"color: #008000; text-decoration-color: #008000\">'[[ ## next_thought ## ]]\\nI have successfully calculated that 40% of 15 apples is 6 apples. After subtracting these 6 apples from the original total of 15 apples, I found that there are 9 apples left.\\n\\n[[ ## next_tool_name ## ]]\\nfinish\\n\\n[[ ## next_tool_args ## ]]\\n{}'</span>\n",
       "<span style=\"color: #7fbf7f; text-decoration-color: #7fbf7f\">│   </span><span style=\"font-weight: bold\">]</span>,\n",
       "<span style=\"color: #7fbf7f; text-decoration-color: #7fbf7f\">│   </span><span style=\"color: #008000; text-decoration-color: #008000\">'usage'</span>: <span style=\"font-weight: bold\">{}</span>,\n",
       "<span style=\"color: #7fbf7f; text-decoration-color: #7fbf7f\">│   </span><span style=\"color: #008000; text-decoration-color: #008000\">'cost'</span>: <span style=\"color: #008080; text-decoration-color: #008080; font-weight: bold\">0.0</span>,\n",
       "<span style=\"color: #7fbf7f; text-decoration-color: #7fbf7f\">│   </span><span style=\"color: #008000; text-decoration-color: #008000\">'timestamp'</span>: <span style=\"color: #008000; text-decoration-color: #008000\">'2025-06-11T18:51:12.873200'</span>,\n",
       "<span style=\"color: #7fbf7f; text-decoration-color: #7fbf7f\">│   </span><span style=\"color: #008000; text-decoration-color: #008000\">'uuid'</span>: <span style=\"color: #008000; text-decoration-color: #008000\">'afff1eda-2832-474c-99c1-e1f6c3214ce7'</span>,\n",
       "<span style=\"color: #7fbf7f; text-decoration-color: #7fbf7f\">│   </span><span style=\"color: #008000; text-decoration-color: #008000\">'model'</span>: <span style=\"color: #008000; text-decoration-color: #008000\">'ollama_chat/phi4:14b-q8_0'</span>,\n",
       "<span style=\"color: #7fbf7f; text-decoration-color: #7fbf7f\">│   </span><span style=\"color: #008000; text-decoration-color: #008000\">'response_model'</span>: <span style=\"color: #008000; text-decoration-color: #008000\">'ollama_chat/phi4:14b-q8_0'</span>,\n",
       "<span style=\"color: #7fbf7f; text-decoration-color: #7fbf7f\">│   </span><span style=\"color: #008000; text-decoration-color: #008000\">'model_type'</span>: <span style=\"color: #008000; text-decoration-color: #008000\">'chat'</span>\n",
       "<span style=\"font-weight: bold\">}</span>\n",
       "</pre>\n"
      ],
      "text/plain": [
       "\u001b[1m{\u001b[0m\n",
       "\u001b[2;32m│   \u001b[0m\u001b[32m'prompt'\u001b[0m: \u001b[3;35mNone\u001b[0m,\n",
       "\u001b[2;32m│   \u001b[0m\u001b[32m'messages'\u001b[0m: \u001b[1m[\u001b[0m\n",
       "\u001b[2;32m│   │   \u001b[0m\u001b[1m{\u001b[0m\n",
       "\u001b[2;32m│   │   │   \u001b[0m\u001b[32m'role'\u001b[0m: \u001b[32m'system'\u001b[0m,\n",
       "\u001b[2;32m│   │   │   \u001b[0m\u001b[32m'content'\u001b[0m: \u001b[32m'Your input fields are:\\n1. `question` \u001b[0m\u001b[32m(\u001b[0m\u001b[32mstr\u001b[0m\u001b[32m)\u001b[0m\u001b[32m: \\n2. `trajectory` \u001b[0m\u001b[32m(\u001b[0m\u001b[32mstr\u001b[0m\u001b[32m)\u001b[0m\u001b[32m:\\nYour output fields are:\\n1. `next_thought` \u001b[0m\u001b[32m(\u001b[0m\u001b[32mstr\u001b[0m\u001b[32m)\u001b[0m\u001b[32m: \\n2. `next_tool_name` \u001b[0m\u001b[32m(\u001b[0m\u001b[32mLiteral\u001b[0m\u001b[32m[\u001b[0m\u001b[32m\\'calculate_percentage\\', \\'subtract\\', \\'finish\\'\u001b[0m\u001b[32m]\u001b[0m\u001b[32m)\u001b[0m\u001b[32m: \\n3. `next_tool_args` \u001b[0m\u001b[32m(\u001b[0m\u001b[32mdict\u001b[0m\u001b[32m[\u001b[0m\u001b[32mstr, Any\u001b[0m\u001b[32m]\u001b[0m\u001b[32m)\u001b[0m\u001b[32m:\\nAll interactions will be structured in the following way, with the appropriate values filled in.\\n\\n\u001b[0m\u001b[32m[\u001b[0m\u001b[32m[\u001b[0m\u001b[32m ## question ## \u001b[0m\u001b[32m]\u001b[0m\u001b[32m]\u001b[0m\u001b[32m\\n\u001b[0m\u001b[32m{\u001b[0m\u001b[32mquestion\u001b[0m\u001b[32m}\u001b[0m\u001b[32m\\n\\n\u001b[0m\u001b[32m[\u001b[0m\u001b[32m[\u001b[0m\u001b[32m ## trajectory ## \u001b[0m\u001b[32m]\u001b[0m\u001b[32m]\u001b[0m\u001b[32m\\n\u001b[0m\u001b[32m{\u001b[0m\u001b[32mtrajectory\u001b[0m\u001b[32m}\u001b[0m\u001b[32m\\n\\n\u001b[0m\u001b[32m[\u001b[0m\u001b[32m[\u001b[0m\u001b[32m ## next_thought ## \u001b[0m\u001b[32m]\u001b[0m\u001b[32m]\u001b[0m\u001b[32m\\n\u001b[0m\u001b[32m{\u001b[0m\u001b[32mnext_thought\u001b[0m\u001b[32m}\u001b[0m\u001b[32m\\n\\n\u001b[0m\u001b[32m[\u001b[0m\u001b[32m[\u001b[0m\u001b[32m ## next_tool_name ## \u001b[0m\u001b[32m]\u001b[0m\u001b[32m]\u001b[0m\u001b[32m\\n\u001b[0m\u001b[32m{\u001b[0m\u001b[32mnext_tool_name\u001b[0m\u001b[32m}\u001b[0m\u001b[32m        # note: the value you produce must exactly match \u001b[0m\u001b[32m(\u001b[0m\u001b[32mno extra characters\u001b[0m\u001b[32m)\u001b[0m\u001b[32m one of: calculate_percentage; subtract; finish\\n\\n\u001b[0m\u001b[32m[\u001b[0m\u001b[32m[\u001b[0m\u001b[32m ## next_tool_args ## \u001b[0m\u001b[32m]\u001b[0m\u001b[32m]\u001b[0m\u001b[32m\\n\u001b[0m\u001b[32m{\u001b[0m\u001b[32mnext_tool_args\u001b[0m\u001b[32m}\u001b[0m\u001b[32m        # note: the value you produce must adhere to the JSON schema: \u001b[0m\u001b[32m{\u001b[0m\u001b[32m\"type\": \"object\", \"additionalProperties\": true\u001b[0m\u001b[32m}\u001b[0m\u001b[32m\\n\\n\u001b[0m\u001b[32m[\u001b[0m\u001b[32m[\u001b[0m\u001b[32m ## completed ## \u001b[0m\u001b[32m]\u001b[0m\u001b[32m]\u001b[0m\u001b[32m\\nIn adhering to this structure, your objective is: \\n        Given the fields `question`, produce the fields `answer`.\\n        \\n        You are an Agent. In each episode, you will be given the fields `question` as input. And you can see your past trajectory so far.\\n        Your goal is to use one or more of the supplied tools to collect any necessary information for producing `answer`.\\n        \\n        To do this, you will interleave next_thought, next_tool_name, and next_tool_args in each turn, and also when finishing the task.\\n        After each tool call, you receive a resulting observation, which gets appended to your trajectory.\\n        \\n        When writing next_thought, you may reason about the current situation and plan for future steps.\\n        When selecting the next_tool_name and its next_tool_args, the tool must be one of:\\n        \\n        \u001b[0m\u001b[32m(\u001b[0m\u001b[32m1\u001b[0m\u001b[32m)\u001b[0m\u001b[32m calculate_percentage, whose description is \u001b[0m\u001b[32m<\u001b[0m\u001b[32mdesc\u001b[0m\u001b[32m>Calculate what percentage of a value is.        :param value: The value to calculate the percentage of.      :param percentage: The percent value. Has to be betwee 0 and 100.      :return: The percentage value.      </desc>. It takes arguments \u001b[0m\u001b[32m{\u001b[0m\u001b[32m\\'value\\': \u001b[0m\u001b[32m{\u001b[0m\u001b[32m\\'type\\': \\'number\\'\u001b[0m\u001b[32m}\u001b[0m\u001b[32m, \\'percentage\\': \u001b[0m\u001b[32m{\u001b[0m\u001b[32m\\'type\\': \\'number\\'\u001b[0m\u001b[32m}\u001b[0m\u001b[32m}\u001b[0m\u001b[32m.\\n        \u001b[0m\u001b[32m(\u001b[0m\u001b[32m2\u001b[0m\u001b[32m)\u001b[0m\u001b[32m subtract, whose description is <desc>Subtract b from a.        :param a: The value to subtract from.      :param b: How much to subtract from a.      :return: The residual.      </desc>. It takes arguments \u001b[0m\u001b[32m{\u001b[0m\u001b[32m\\'a\\': \u001b[0m\u001b[32m{\u001b[0m\u001b[32m\\'type\\': \\'number\\'\u001b[0m\u001b[32m}\u001b[0m\u001b[32m, \\'b\\': \u001b[0m\u001b[32m{\u001b[0m\u001b[32m\\'type\\': \\'number\\'\u001b[0m\u001b[32m}\u001b[0m\u001b[32m}\u001b[0m\u001b[32m.\\n        \u001b[0m\u001b[32m(\u001b[0m\u001b[32m3\u001b[0m\u001b[32m)\u001b[0m\u001b[32m finish, whose description is <desc>Marks the task as complete. That is, signals that all information for producing the outputs, i.e. `answer`, are now available to be extracted.</desc\u001b[0m\u001b[32m>\u001b[0m\u001b[32m. It takes arguments \u001b[0m\u001b[32m{\u001b[0m\u001b[32m}\u001b[0m\u001b[32m.\\n        When providing `next_tool_args`, the value inside the field must be in JSON format'\u001b[0m\n",
       "\u001b[2;32m│   │   \u001b[0m\u001b[1m}\u001b[0m,\n",
       "\u001b[2;32m│   │   \u001b[0m\u001b[1m{\u001b[0m\n",
       "\u001b[2;32m│   │   │   \u001b[0m\u001b[32m'role'\u001b[0m: \u001b[32m'user'\u001b[0m,\n",
       "\u001b[2;32m│   │   │   \u001b[0m\u001b[32m'content'\u001b[0m: \u001b[32m'\u001b[0m\u001b[32m[\u001b[0m\u001b[32m[\u001b[0m\u001b[32m ## question ## \u001b[0m\u001b[32m]\u001b[0m\u001b[32m]\u001b[0m\u001b[32m\\nIf I have 15 apples and give away 40%, how many are left?\\n\\n\u001b[0m\u001b[32m[\u001b[0m\u001b[32m[\u001b[0m\u001b[32m ## trajectory ## \u001b[0m\u001b[32m]\u001b[0m\u001b[32m]\u001b[0m\u001b[32m\\n\u001b[0m\u001b[32m[\u001b[0m\u001b[32m[\u001b[0m\u001b[32m ## thought_0 ## \u001b[0m\u001b[32m]\u001b[0m\u001b[32m]\u001b[0m\u001b[32m\\nTo determine how many apples are left after giving away 40%, I first need to calculate what 40% of 15 apples is. Once I have that number, I can subtract it from the original total of 15 apples.\\n\\n\u001b[0m\u001b[32m[\u001b[0m\u001b[32m[\u001b[0m\u001b[32m ## tool_name_0 ## \u001b[0m\u001b[32m]\u001b[0m\u001b[32m]\u001b[0m\u001b[32m\\ncalculate_percentage\\n\\n\u001b[0m\u001b[32m[\u001b[0m\u001b[32m[\u001b[0m\u001b[32m ## tool_args_0 ## \u001b[0m\u001b[32m]\u001b[0m\u001b[32m]\u001b[0m\u001b[32m\\n\u001b[0m\u001b[32m{\u001b[0m\u001b[32m\"value\": 15, \"percentage\": 40\u001b[0m\u001b[32m}\u001b[0m\u001b[32m\\n\\n\u001b[0m\u001b[32m[\u001b[0m\u001b[32m[\u001b[0m\u001b[32m ## observation_0 ## \u001b[0m\u001b[32m]\u001b[0m\u001b[32m]\u001b[0m\u001b[32m\\n6.0\\n\\n\u001b[0m\u001b[32m[\u001b[0m\u001b[32m[\u001b[0m\u001b[32m ## thought_1 ## \u001b[0m\u001b[32m]\u001b[0m\u001b[32m]\u001b[0m\u001b[32m\\nI have calculated that 40% of 15 apples is 6 apples. Now, I need to subtract these 6 apples from the original total of 15 apples to find out how many are left.\\n\\n\u001b[0m\u001b[32m[\u001b[0m\u001b[32m[\u001b[0m\u001b[32m ## tool_name_1 ## \u001b[0m\u001b[32m]\u001b[0m\u001b[32m]\u001b[0m\u001b[32m\\nsubtract\\n\\n\u001b[0m\u001b[32m[\u001b[0m\u001b[32m[\u001b[0m\u001b[32m ## tool_args_1 ## \u001b[0m\u001b[32m]\u001b[0m\u001b[32m]\u001b[0m\u001b[32m\\n\u001b[0m\u001b[32m{\u001b[0m\u001b[32m\"a\": 15, \"b\": 6\u001b[0m\u001b[32m}\u001b[0m\u001b[32m\\n\\n\u001b[0m\u001b[32m[\u001b[0m\u001b[32m[\u001b[0m\u001b[32m ## observation_1 ## \u001b[0m\u001b[32m]\u001b[0m\u001b[32m]\u001b[0m\u001b[32m\\n9.0\\n\\nRespond with the corresponding output fields, starting with the field `\u001b[0m\u001b[32m[\u001b[0m\u001b[32m[\u001b[0m\u001b[32m ## next_thought ## \u001b[0m\u001b[32m]\u001b[0m\u001b[32m]\u001b[0m\u001b[32m`, then `\u001b[0m\u001b[32m[\u001b[0m\u001b[32m[\u001b[0m\u001b[32m ## next_tool_name ## \u001b[0m\u001b[32m]\u001b[0m\u001b[32m]\u001b[0m\u001b[32m` \u001b[0m\u001b[32m(\u001b[0m\u001b[32mmust be formatted as a valid Python Literal\u001b[0m\u001b[32m[\u001b[0m\u001b[32m\\'calculate_percentage\\', \\'subtract\\', \\'finish\\'\u001b[0m\u001b[32m]\u001b[0m\u001b[32m)\u001b[0m\u001b[32m, then `\u001b[0m\u001b[32m[\u001b[0m\u001b[32m[\u001b[0m\u001b[32m ## next_tool_args ## \u001b[0m\u001b[32m]\u001b[0m\u001b[32m]\u001b[0m\u001b[32m` \u001b[0m\u001b[32m(\u001b[0m\u001b[32mmust be formatted as a valid Python dict\u001b[0m\u001b[32m[\u001b[0m\u001b[32mstr, Any\u001b[0m\u001b[32m]\u001b[0m\u001b[32m)\u001b[0m\u001b[32m, and then ending with the marker for `\u001b[0m\u001b[32m[\u001b[0m\u001b[32m[\u001b[0m\u001b[32m ## completed ## \u001b[0m\u001b[32m]\u001b[0m\u001b[32m]\u001b[0m\u001b[32m`.'\u001b[0m\n",
       "\u001b[2;32m│   │   \u001b[0m\u001b[1m}\u001b[0m\n",
       "\u001b[2;32m│   \u001b[0m\u001b[1m]\u001b[0m,\n",
       "\u001b[2;32m│   \u001b[0m\u001b[32m'kwargs'\u001b[0m: \u001b[1m{\u001b[0m\u001b[1m}\u001b[0m,\n",
       "\u001b[2;32m│   \u001b[0m\u001b[32m'response'\u001b[0m: \u001b[1;35mModelResponse\u001b[0m\u001b[1m(\u001b[0m\n",
       "\u001b[2;32m│   │   \u001b[0m\u001b[33mid\u001b[0m=\u001b[32m'chatcmpl-8db6fa2b-fc46-4b66-bcda-5e71f81fe5c3'\u001b[0m,\n",
       "\u001b[2;32m│   │   \u001b[0m\u001b[33mcreated\u001b[0m=\u001b[1;36m1749674582\u001b[0m,\n",
       "\u001b[2;32m│   │   \u001b[0m\u001b[33mmodel\u001b[0m=\u001b[32m'ollama_chat/phi4:14b-q8_0'\u001b[0m,\n",
       "\u001b[2;32m│   │   \u001b[0m\u001b[33mobject\u001b[0m=\u001b[32m'chat.completion'\u001b[0m,\n",
       "\u001b[2;32m│   │   \u001b[0m\u001b[33msystem_fingerprint\u001b[0m=\u001b[3;35mNone\u001b[0m,\n",
       "\u001b[2;32m│   │   \u001b[0m\u001b[33mchoices\u001b[0m=\u001b[1m[\u001b[0m\n",
       "\u001b[2;32m│   │   │   \u001b[0m\u001b[1;35mChoices\u001b[0m\u001b[1m(\u001b[0m\n",
       "\u001b[2;32m│   │   │   │   \u001b[0m\u001b[33mfinish_reason\u001b[0m=\u001b[32m'stop'\u001b[0m,\n",
       "\u001b[2;32m│   │   │   │   \u001b[0m\u001b[33mindex\u001b[0m=\u001b[1;36m0\u001b[0m,\n",
       "\u001b[2;32m│   │   │   │   \u001b[0m\u001b[33mmessage\u001b[0m=\u001b[1;35mMessage\u001b[0m\u001b[1m(\u001b[0m\n",
       "\u001b[2;32m│   │   │   │   │   \u001b[0m\u001b[33mcontent\u001b[0m=\u001b[32m'\u001b[0m\u001b[32m[\u001b[0m\u001b[32m[\u001b[0m\u001b[32m ## next_thought ## \u001b[0m\u001b[32m]\u001b[0m\u001b[32m]\u001b[0m\u001b[32m\\nI have successfully calculated that 40% of 15 apples is 6 apples. After subtracting these 6 apples from the original total of 15 apples, I found that there are 9 apples left.\\n\\n\u001b[0m\u001b[32m[\u001b[0m\u001b[32m[\u001b[0m\u001b[32m ## next_tool_name ## \u001b[0m\u001b[32m]\u001b[0m\u001b[32m]\u001b[0m\u001b[32m\\nfinish\\n\\n\u001b[0m\u001b[32m[\u001b[0m\u001b[32m[\u001b[0m\u001b[32m ## next_tool_args ## \u001b[0m\u001b[32m]\u001b[0m\u001b[32m]\u001b[0m\u001b[32m\\n\u001b[0m\u001b[32m{\u001b[0m\u001b[32m}\u001b[0m\u001b[32m'\u001b[0m,\n",
       "\u001b[2;32m│   │   │   │   │   \u001b[0m\u001b[33mrole\u001b[0m=\u001b[32m'assistant'\u001b[0m,\n",
       "\u001b[2;32m│   │   │   │   │   \u001b[0m\u001b[33mtool_calls\u001b[0m=\u001b[3;35mNone\u001b[0m,\n",
       "\u001b[2;32m│   │   │   │   │   \u001b[0m\u001b[33mfunction_call\u001b[0m=\u001b[3;35mNone\u001b[0m,\n",
       "\u001b[2;32m│   │   │   │   │   \u001b[0m\u001b[33mprovider_specific_fields\u001b[0m=\u001b[3;35mNone\u001b[0m\n",
       "\u001b[2;32m│   │   │   │   \u001b[0m\u001b[1m)\u001b[0m\n",
       "\u001b[2;32m│   │   │   \u001b[0m\u001b[1m)\u001b[0m\n",
       "\u001b[2;32m│   │   \u001b[0m\u001b[1m]\u001b[0m,\n",
       "\u001b[2;32m│   │   \u001b[0m\u001b[33musage\u001b[0m=\u001b[1m{\u001b[0m\u001b[1m}\u001b[0m,\n",
       "\u001b[2;32m│   │   \u001b[0m\u001b[33mcache_hit\u001b[0m=\u001b[3;35mNone\u001b[0m\n",
       "\u001b[2;32m│   \u001b[0m\u001b[1m)\u001b[0m,\n",
       "\u001b[2;32m│   \u001b[0m\u001b[32m'outputs'\u001b[0m: \u001b[1m[\u001b[0m\n",
       "\u001b[2;32m│   │   \u001b[0m\u001b[32m'\u001b[0m\u001b[32m[\u001b[0m\u001b[32m[\u001b[0m\u001b[32m ## next_thought ## \u001b[0m\u001b[32m]\u001b[0m\u001b[32m]\u001b[0m\u001b[32m\\nI have successfully calculated that 40% of 15 apples is 6 apples. After subtracting these 6 apples from the original total of 15 apples, I found that there are 9 apples left.\\n\\n\u001b[0m\u001b[32m[\u001b[0m\u001b[32m[\u001b[0m\u001b[32m ## next_tool_name ## \u001b[0m\u001b[32m]\u001b[0m\u001b[32m]\u001b[0m\u001b[32m\\nfinish\\n\\n\u001b[0m\u001b[32m[\u001b[0m\u001b[32m[\u001b[0m\u001b[32m ## next_tool_args ## \u001b[0m\u001b[32m]\u001b[0m\u001b[32m]\u001b[0m\u001b[32m\\n\u001b[0m\u001b[32m{\u001b[0m\u001b[32m}\u001b[0m\u001b[32m'\u001b[0m\n",
       "\u001b[2;32m│   \u001b[0m\u001b[1m]\u001b[0m,\n",
       "\u001b[2;32m│   \u001b[0m\u001b[32m'usage'\u001b[0m: \u001b[1m{\u001b[0m\u001b[1m}\u001b[0m,\n",
       "\u001b[2;32m│   \u001b[0m\u001b[32m'cost'\u001b[0m: \u001b[1;36m0.0\u001b[0m,\n",
       "\u001b[2;32m│   \u001b[0m\u001b[32m'timestamp'\u001b[0m: \u001b[32m'2025-06-11T18:51:12.873200'\u001b[0m,\n",
       "\u001b[2;32m│   \u001b[0m\u001b[32m'uuid'\u001b[0m: \u001b[32m'afff1eda-2832-474c-99c1-e1f6c3214ce7'\u001b[0m,\n",
       "\u001b[2;32m│   \u001b[0m\u001b[32m'model'\u001b[0m: \u001b[32m'ollama_chat/phi4:14b-q8_0'\u001b[0m,\n",
       "\u001b[2;32m│   \u001b[0m\u001b[32m'response_model'\u001b[0m: \u001b[32m'ollama_chat/phi4:14b-q8_0'\u001b[0m,\n",
       "\u001b[2;32m│   \u001b[0m\u001b[32m'model_type'\u001b[0m: \u001b[32m'chat'\u001b[0m\n",
       "\u001b[1m}\u001b[0m\n"
      ]
     },
     "metadata": {},
     "output_type": "display_data"
    },
    {
     "data": {
      "text/html": [
       "<pre style=\"white-space:pre;overflow-x:auto;line-height:normal;font-family:Menlo,'DejaVu Sans Mono',consolas,'Courier New',monospace\"><span style=\"font-weight: bold\">{</span>\n",
       "<span style=\"color: #7fbf7f; text-decoration-color: #7fbf7f\">│   </span><span style=\"color: #008000; text-decoration-color: #008000\">'prompt'</span>: <span style=\"color: #800080; text-decoration-color: #800080; font-style: italic\">None</span>,\n",
       "<span style=\"color: #7fbf7f; text-decoration-color: #7fbf7f\">│   </span><span style=\"color: #008000; text-decoration-color: #008000\">'messages'</span>: <span style=\"font-weight: bold\">[</span>\n",
       "<span style=\"color: #7fbf7f; text-decoration-color: #7fbf7f\">│   │   </span><span style=\"font-weight: bold\">{</span>\n",
       "<span style=\"color: #7fbf7f; text-decoration-color: #7fbf7f\">│   │   │   </span><span style=\"color: #008000; text-decoration-color: #008000\">'role'</span>: <span style=\"color: #008000; text-decoration-color: #008000\">'system'</span>,\n",
       "<span style=\"color: #7fbf7f; text-decoration-color: #7fbf7f\">│   │   │   </span><span style=\"color: #008000; text-decoration-color: #008000\">'content'</span>: <span style=\"color: #008000; text-decoration-color: #008000\">'Your input fields are:\\n1. `question` (str): \\n2. `trajectory` (str):\\nYour output fields are:\\n1. `reasoning` (str): \\n2. `answer` (float):\\nAll interactions will be structured in the following way, with the appropriate values filled in.\\n\\n[[ ## question ## ]]\\n{question}\\n\\n[[ ## trajectory ## ]]\\n{trajectory}\\n\\n[[ ## reasoning ## ]]\\n{reasoning}\\n\\n[[ ## answer ## ]]\\n{answer}        # note: the value you produce must be a single float value\\n\\n[[ ## completed ## ]]\\nIn adhering to this structure, your objective is: \\n        Given the fields `question`, produce the fields `answer`.'</span>\n",
       "<span style=\"color: #7fbf7f; text-decoration-color: #7fbf7f\">│   │   </span><span style=\"font-weight: bold\">}</span>,\n",
       "<span style=\"color: #7fbf7f; text-decoration-color: #7fbf7f\">│   │   </span><span style=\"font-weight: bold\">{</span>\n",
       "<span style=\"color: #7fbf7f; text-decoration-color: #7fbf7f\">│   │   │   </span><span style=\"color: #008000; text-decoration-color: #008000\">'role'</span>: <span style=\"color: #008000; text-decoration-color: #008000\">'user'</span>,\n",
       "<span style=\"color: #7fbf7f; text-decoration-color: #7fbf7f\">│   │   │   </span><span style=\"color: #008000; text-decoration-color: #008000\">'content'</span>: <span style=\"color: #008000; text-decoration-color: #008000\">'[[ ## question ## ]]\\nIf I have 15 apples and give away 40%, how many are left?\\n\\n[[ ## trajectory ## ]]\\n[[ ## thought_0 ## ]]\\nTo determine how many apples are left after giving away 40%, I first need to calculate what 40% of 15 apples is. Once I have that number, I can subtract it from the original total of 15 apples.\\n\\n[[ ## tool_name_0 ## ]]\\ncalculate_percentage\\n\\n[[ ## tool_args_0 ## ]]\\n{\"value\": 15, \"percentage\": 40}\\n\\n[[ ## observation_0 ## ]]\\n6.0\\n\\n[[ ## thought_1 ## ]]\\nI have calculated that 40% of 15 apples is 6 apples. Now, I need to subtract these 6 apples from the original total of 15 apples to find out how many are left.\\n\\n[[ ## tool_name_1 ## ]]\\nsubtract\\n\\n[[ ## tool_args_1 ## ]]\\n{\"a\": 15, \"b\": 6}\\n\\n[[ ## observation_1 ## ]]\\n9.0\\n\\n[[ ## thought_2 ## ]]\\nI have successfully calculated that 40% of 15 apples is 6 apples. After subtracting these 6 apples from the original total of 15 apples, I found that there are 9 apples left.\\n\\n[[ ## tool_name_2 ## ]]\\nfinish\\n\\n[[ ## tool_args_2 ## ]]\\n{}\\n\\n[[ ## observation_2 ## ]]\\nCompleted.\\n\\nRespond with the corresponding output fields, starting with the field `[[ ## reasoning ## ]]`, then `[[ ## answer ## ]]` (must be formatted as a valid Python float), and then ending with the marker for `[[ ## completed ## ]]`.'</span>\n",
       "<span style=\"color: #7fbf7f; text-decoration-color: #7fbf7f\">│   │   </span><span style=\"font-weight: bold\">}</span>\n",
       "<span style=\"color: #7fbf7f; text-decoration-color: #7fbf7f\">│   </span><span style=\"font-weight: bold\">]</span>,\n",
       "<span style=\"color: #7fbf7f; text-decoration-color: #7fbf7f\">│   </span><span style=\"color: #008000; text-decoration-color: #008000\">'kwargs'</span>: <span style=\"font-weight: bold\">{}</span>,\n",
       "<span style=\"color: #7fbf7f; text-decoration-color: #7fbf7f\">│   </span><span style=\"color: #008000; text-decoration-color: #008000\">'response'</span>: <span style=\"color: #800080; text-decoration-color: #800080; font-weight: bold\">ModelResponse</span><span style=\"font-weight: bold\">(</span>\n",
       "<span style=\"color: #7fbf7f; text-decoration-color: #7fbf7f\">│   │   </span><span style=\"color: #808000; text-decoration-color: #808000\">id</span>=<span style=\"color: #008000; text-decoration-color: #008000\">'chatcmpl-ba08b13d-18b4-463d-84d4-40993faf84e0'</span>,\n",
       "<span style=\"color: #7fbf7f; text-decoration-color: #7fbf7f\">│   │   </span><span style=\"color: #808000; text-decoration-color: #808000\">created</span>=<span style=\"color: #008080; text-decoration-color: #008080; font-weight: bold\">1749674589</span>,\n",
       "<span style=\"color: #7fbf7f; text-decoration-color: #7fbf7f\">│   │   </span><span style=\"color: #808000; text-decoration-color: #808000\">model</span>=<span style=\"color: #008000; text-decoration-color: #008000\">'ollama_chat/phi4:14b-q8_0'</span>,\n",
       "<span style=\"color: #7fbf7f; text-decoration-color: #7fbf7f\">│   │   </span><span style=\"color: #808000; text-decoration-color: #808000\">object</span>=<span style=\"color: #008000; text-decoration-color: #008000\">'chat.completion'</span>,\n",
       "<span style=\"color: #7fbf7f; text-decoration-color: #7fbf7f\">│   │   </span><span style=\"color: #808000; text-decoration-color: #808000\">system_fingerprint</span>=<span style=\"color: #800080; text-decoration-color: #800080; font-style: italic\">None</span>,\n",
       "<span style=\"color: #7fbf7f; text-decoration-color: #7fbf7f\">│   │   </span><span style=\"color: #808000; text-decoration-color: #808000\">choices</span>=<span style=\"font-weight: bold\">[</span>\n",
       "<span style=\"color: #7fbf7f; text-decoration-color: #7fbf7f\">│   │   │   </span><span style=\"color: #800080; text-decoration-color: #800080; font-weight: bold\">Choices</span><span style=\"font-weight: bold\">(</span>\n",
       "<span style=\"color: #7fbf7f; text-decoration-color: #7fbf7f\">│   │   │   │   </span><span style=\"color: #808000; text-decoration-color: #808000\">finish_reason</span>=<span style=\"color: #008000; text-decoration-color: #008000\">'stop'</span>,\n",
       "<span style=\"color: #7fbf7f; text-decoration-color: #7fbf7f\">│   │   │   │   </span><span style=\"color: #808000; text-decoration-color: #808000\">index</span>=<span style=\"color: #008080; text-decoration-color: #008080; font-weight: bold\">0</span>,\n",
       "<span style=\"color: #7fbf7f; text-decoration-color: #7fbf7f\">│   │   │   │   </span><span style=\"color: #808000; text-decoration-color: #808000\">message</span>=<span style=\"color: #800080; text-decoration-color: #800080; font-weight: bold\">Message</span><span style=\"font-weight: bold\">(</span>\n",
       "<span style=\"color: #7fbf7f; text-decoration-color: #7fbf7f\">│   │   │   │   │   </span><span style=\"color: #808000; text-decoration-color: #808000\">content</span>=<span style=\"color: #008000; text-decoration-color: #008000\">'[[ ## reasoning ## ]]\\nTo determine how many apples are left after giving away 40%, I first calculated what 40% of 15 apples is. This calculation resulted in 6 apples being given away (since 40% of 15 equals 6). Next, I subtracted these 6 apples from the original total of 15 apples to find out how many are left. The subtraction of 6 from 15 results in 9 apples remaining.\\n\\n[[ ## answer ## ]]\\n9.0\\n\\n[[ ## completed ## ]]'</span>,\n",
       "<span style=\"color: #7fbf7f; text-decoration-color: #7fbf7f\">│   │   │   │   │   </span><span style=\"color: #808000; text-decoration-color: #808000\">role</span>=<span style=\"color: #008000; text-decoration-color: #008000\">'assistant'</span>,\n",
       "<span style=\"color: #7fbf7f; text-decoration-color: #7fbf7f\">│   │   │   │   │   </span><span style=\"color: #808000; text-decoration-color: #808000\">tool_calls</span>=<span style=\"color: #800080; text-decoration-color: #800080; font-style: italic\">None</span>,\n",
       "<span style=\"color: #7fbf7f; text-decoration-color: #7fbf7f\">│   │   │   │   │   </span><span style=\"color: #808000; text-decoration-color: #808000\">function_call</span>=<span style=\"color: #800080; text-decoration-color: #800080; font-style: italic\">None</span>,\n",
       "<span style=\"color: #7fbf7f; text-decoration-color: #7fbf7f\">│   │   │   │   │   </span><span style=\"color: #808000; text-decoration-color: #808000\">provider_specific_fields</span>=<span style=\"color: #800080; text-decoration-color: #800080; font-style: italic\">None</span>\n",
       "<span style=\"color: #7fbf7f; text-decoration-color: #7fbf7f\">│   │   │   │   </span><span style=\"font-weight: bold\">)</span>\n",
       "<span style=\"color: #7fbf7f; text-decoration-color: #7fbf7f\">│   │   │   </span><span style=\"font-weight: bold\">)</span>\n",
       "<span style=\"color: #7fbf7f; text-decoration-color: #7fbf7f\">│   │   </span><span style=\"font-weight: bold\">]</span>,\n",
       "<span style=\"color: #7fbf7f; text-decoration-color: #7fbf7f\">│   │   </span><span style=\"color: #808000; text-decoration-color: #808000\">usage</span>=<span style=\"font-weight: bold\">{}</span>,\n",
       "<span style=\"color: #7fbf7f; text-decoration-color: #7fbf7f\">│   │   </span><span style=\"color: #808000; text-decoration-color: #808000\">cache_hit</span>=<span style=\"color: #800080; text-decoration-color: #800080; font-style: italic\">None</span>\n",
       "<span style=\"color: #7fbf7f; text-decoration-color: #7fbf7f\">│   </span><span style=\"font-weight: bold\">)</span>,\n",
       "<span style=\"color: #7fbf7f; text-decoration-color: #7fbf7f\">│   </span><span style=\"color: #008000; text-decoration-color: #008000\">'outputs'</span>: <span style=\"font-weight: bold\">[</span>\n",
       "<span style=\"color: #7fbf7f; text-decoration-color: #7fbf7f\">│   │   </span><span style=\"color: #008000; text-decoration-color: #008000\">'[[ ## reasoning ## ]]\\nTo determine how many apples are left after giving away 40%, I first calculated what 40% of 15 apples is. This calculation resulted in 6 apples being given away (since 40% of 15 equals 6). Next, I subtracted these 6 apples from the original total of 15 apples to find out how many are left. The subtraction of 6 from 15 results in 9 apples remaining.\\n\\n[[ ## answer ## ]]\\n9.0\\n\\n[[ ## completed ## ]]'</span>\n",
       "<span style=\"color: #7fbf7f; text-decoration-color: #7fbf7f\">│   </span><span style=\"font-weight: bold\">]</span>,\n",
       "<span style=\"color: #7fbf7f; text-decoration-color: #7fbf7f\">│   </span><span style=\"color: #008000; text-decoration-color: #008000\">'usage'</span>: <span style=\"font-weight: bold\">{}</span>,\n",
       "<span style=\"color: #7fbf7f; text-decoration-color: #7fbf7f\">│   </span><span style=\"color: #008000; text-decoration-color: #008000\">'cost'</span>: <span style=\"color: #008080; text-decoration-color: #008080; font-weight: bold\">0.0</span>,\n",
       "<span style=\"color: #7fbf7f; text-decoration-color: #7fbf7f\">│   </span><span style=\"color: #008000; text-decoration-color: #008000\">'timestamp'</span>: <span style=\"color: #008000; text-decoration-color: #008000\">'2025-06-11T18:51:12.875393'</span>,\n",
       "<span style=\"color: #7fbf7f; text-decoration-color: #7fbf7f\">│   </span><span style=\"color: #008000; text-decoration-color: #008000\">'uuid'</span>: <span style=\"color: #008000; text-decoration-color: #008000\">'9afe2c30-aa19-4df2-b541-096337fc945c'</span>,\n",
       "<span style=\"color: #7fbf7f; text-decoration-color: #7fbf7f\">│   </span><span style=\"color: #008000; text-decoration-color: #008000\">'model'</span>: <span style=\"color: #008000; text-decoration-color: #008000\">'ollama_chat/phi4:14b-q8_0'</span>,\n",
       "<span style=\"color: #7fbf7f; text-decoration-color: #7fbf7f\">│   </span><span style=\"color: #008000; text-decoration-color: #008000\">'response_model'</span>: <span style=\"color: #008000; text-decoration-color: #008000\">'ollama_chat/phi4:14b-q8_0'</span>,\n",
       "<span style=\"color: #7fbf7f; text-decoration-color: #7fbf7f\">│   </span><span style=\"color: #008000; text-decoration-color: #008000\">'model_type'</span>: <span style=\"color: #008000; text-decoration-color: #008000\">'chat'</span>\n",
       "<span style=\"font-weight: bold\">}</span>\n",
       "</pre>\n"
      ],
      "text/plain": [
       "\u001b[1m{\u001b[0m\n",
       "\u001b[2;32m│   \u001b[0m\u001b[32m'prompt'\u001b[0m: \u001b[3;35mNone\u001b[0m,\n",
       "\u001b[2;32m│   \u001b[0m\u001b[32m'messages'\u001b[0m: \u001b[1m[\u001b[0m\n",
       "\u001b[2;32m│   │   \u001b[0m\u001b[1m{\u001b[0m\n",
       "\u001b[2;32m│   │   │   \u001b[0m\u001b[32m'role'\u001b[0m: \u001b[32m'system'\u001b[0m,\n",
       "\u001b[2;32m│   │   │   \u001b[0m\u001b[32m'content'\u001b[0m: \u001b[32m'Your input fields are:\\n1. `question` \u001b[0m\u001b[32m(\u001b[0m\u001b[32mstr\u001b[0m\u001b[32m)\u001b[0m\u001b[32m: \\n2. `trajectory` \u001b[0m\u001b[32m(\u001b[0m\u001b[32mstr\u001b[0m\u001b[32m)\u001b[0m\u001b[32m:\\nYour output fields are:\\n1. `reasoning` \u001b[0m\u001b[32m(\u001b[0m\u001b[32mstr\u001b[0m\u001b[32m)\u001b[0m\u001b[32m: \\n2. `answer` \u001b[0m\u001b[32m(\u001b[0m\u001b[32mfloat\u001b[0m\u001b[32m)\u001b[0m\u001b[32m:\\nAll interactions will be structured in the following way, with the appropriate values filled in.\\n\\n\u001b[0m\u001b[32m[\u001b[0m\u001b[32m[\u001b[0m\u001b[32m ## question ## \u001b[0m\u001b[32m]\u001b[0m\u001b[32m]\u001b[0m\u001b[32m\\n\u001b[0m\u001b[32m{\u001b[0m\u001b[32mquestion\u001b[0m\u001b[32m}\u001b[0m\u001b[32m\\n\\n\u001b[0m\u001b[32m[\u001b[0m\u001b[32m[\u001b[0m\u001b[32m ## trajectory ## \u001b[0m\u001b[32m]\u001b[0m\u001b[32m]\u001b[0m\u001b[32m\\n\u001b[0m\u001b[32m{\u001b[0m\u001b[32mtrajectory\u001b[0m\u001b[32m}\u001b[0m\u001b[32m\\n\\n\u001b[0m\u001b[32m[\u001b[0m\u001b[32m[\u001b[0m\u001b[32m ## reasoning ## \u001b[0m\u001b[32m]\u001b[0m\u001b[32m]\u001b[0m\u001b[32m\\n\u001b[0m\u001b[32m{\u001b[0m\u001b[32mreasoning\u001b[0m\u001b[32m}\u001b[0m\u001b[32m\\n\\n\u001b[0m\u001b[32m[\u001b[0m\u001b[32m[\u001b[0m\u001b[32m ## answer ## \u001b[0m\u001b[32m]\u001b[0m\u001b[32m]\u001b[0m\u001b[32m\\n\u001b[0m\u001b[32m{\u001b[0m\u001b[32manswer\u001b[0m\u001b[32m}\u001b[0m\u001b[32m        # note: the value you produce must be a single float value\\n\\n\u001b[0m\u001b[32m[\u001b[0m\u001b[32m[\u001b[0m\u001b[32m ## completed ## \u001b[0m\u001b[32m]\u001b[0m\u001b[32m]\u001b[0m\u001b[32m\\nIn adhering to this structure, your objective is: \\n        Given the fields `question`, produce the fields `answer`.'\u001b[0m\n",
       "\u001b[2;32m│   │   \u001b[0m\u001b[1m}\u001b[0m,\n",
       "\u001b[2;32m│   │   \u001b[0m\u001b[1m{\u001b[0m\n",
       "\u001b[2;32m│   │   │   \u001b[0m\u001b[32m'role'\u001b[0m: \u001b[32m'user'\u001b[0m,\n",
       "\u001b[2;32m│   │   │   \u001b[0m\u001b[32m'content'\u001b[0m: \u001b[32m'\u001b[0m\u001b[32m[\u001b[0m\u001b[32m[\u001b[0m\u001b[32m ## question ## \u001b[0m\u001b[32m]\u001b[0m\u001b[32m]\u001b[0m\u001b[32m\\nIf I have 15 apples and give away 40%, how many are left?\\n\\n\u001b[0m\u001b[32m[\u001b[0m\u001b[32m[\u001b[0m\u001b[32m ## trajectory ## \u001b[0m\u001b[32m]\u001b[0m\u001b[32m]\u001b[0m\u001b[32m\\n\u001b[0m\u001b[32m[\u001b[0m\u001b[32m[\u001b[0m\u001b[32m ## thought_0 ## \u001b[0m\u001b[32m]\u001b[0m\u001b[32m]\u001b[0m\u001b[32m\\nTo determine how many apples are left after giving away 40%, I first need to calculate what 40% of 15 apples is. Once I have that number, I can subtract it from the original total of 15 apples.\\n\\n\u001b[0m\u001b[32m[\u001b[0m\u001b[32m[\u001b[0m\u001b[32m ## tool_name_0 ## \u001b[0m\u001b[32m]\u001b[0m\u001b[32m]\u001b[0m\u001b[32m\\ncalculate_percentage\\n\\n\u001b[0m\u001b[32m[\u001b[0m\u001b[32m[\u001b[0m\u001b[32m ## tool_args_0 ## \u001b[0m\u001b[32m]\u001b[0m\u001b[32m]\u001b[0m\u001b[32m\\n\u001b[0m\u001b[32m{\u001b[0m\u001b[32m\"value\": 15, \"percentage\": 40\u001b[0m\u001b[32m}\u001b[0m\u001b[32m\\n\\n\u001b[0m\u001b[32m[\u001b[0m\u001b[32m[\u001b[0m\u001b[32m ## observation_0 ## \u001b[0m\u001b[32m]\u001b[0m\u001b[32m]\u001b[0m\u001b[32m\\n6.0\\n\\n\u001b[0m\u001b[32m[\u001b[0m\u001b[32m[\u001b[0m\u001b[32m ## thought_1 ## \u001b[0m\u001b[32m]\u001b[0m\u001b[32m]\u001b[0m\u001b[32m\\nI have calculated that 40% of 15 apples is 6 apples. Now, I need to subtract these 6 apples from the original total of 15 apples to find out how many are left.\\n\\n\u001b[0m\u001b[32m[\u001b[0m\u001b[32m[\u001b[0m\u001b[32m ## tool_name_1 ## \u001b[0m\u001b[32m]\u001b[0m\u001b[32m]\u001b[0m\u001b[32m\\nsubtract\\n\\n\u001b[0m\u001b[32m[\u001b[0m\u001b[32m[\u001b[0m\u001b[32m ## tool_args_1 ## \u001b[0m\u001b[32m]\u001b[0m\u001b[32m]\u001b[0m\u001b[32m\\n\u001b[0m\u001b[32m{\u001b[0m\u001b[32m\"a\": 15, \"b\": 6\u001b[0m\u001b[32m}\u001b[0m\u001b[32m\\n\\n\u001b[0m\u001b[32m[\u001b[0m\u001b[32m[\u001b[0m\u001b[32m ## observation_1 ## \u001b[0m\u001b[32m]\u001b[0m\u001b[32m]\u001b[0m\u001b[32m\\n9.0\\n\\n\u001b[0m\u001b[32m[\u001b[0m\u001b[32m[\u001b[0m\u001b[32m ## thought_2 ## \u001b[0m\u001b[32m]\u001b[0m\u001b[32m]\u001b[0m\u001b[32m\\nI have successfully calculated that 40% of 15 apples is 6 apples. After subtracting these 6 apples from the original total of 15 apples, I found that there are 9 apples left.\\n\\n\u001b[0m\u001b[32m[\u001b[0m\u001b[32m[\u001b[0m\u001b[32m ## tool_name_2 ## \u001b[0m\u001b[32m]\u001b[0m\u001b[32m]\u001b[0m\u001b[32m\\nfinish\\n\\n\u001b[0m\u001b[32m[\u001b[0m\u001b[32m[\u001b[0m\u001b[32m ## tool_args_2 ## \u001b[0m\u001b[32m]\u001b[0m\u001b[32m]\u001b[0m\u001b[32m\\n\u001b[0m\u001b[32m{\u001b[0m\u001b[32m}\u001b[0m\u001b[32m\\n\\n\u001b[0m\u001b[32m[\u001b[0m\u001b[32m[\u001b[0m\u001b[32m ## observation_2 ## \u001b[0m\u001b[32m]\u001b[0m\u001b[32m]\u001b[0m\u001b[32m\\nCompleted.\\n\\nRespond with the corresponding output fields, starting with the field `\u001b[0m\u001b[32m[\u001b[0m\u001b[32m[\u001b[0m\u001b[32m ## reasoning ## \u001b[0m\u001b[32m]\u001b[0m\u001b[32m]\u001b[0m\u001b[32m`, then `\u001b[0m\u001b[32m[\u001b[0m\u001b[32m[\u001b[0m\u001b[32m ## answer ## \u001b[0m\u001b[32m]\u001b[0m\u001b[32m]\u001b[0m\u001b[32m` \u001b[0m\u001b[32m(\u001b[0m\u001b[32mmust be formatted as a valid Python float\u001b[0m\u001b[32m)\u001b[0m\u001b[32m, and then ending with the marker for `\u001b[0m\u001b[32m[\u001b[0m\u001b[32m[\u001b[0m\u001b[32m ## completed ## \u001b[0m\u001b[32m]\u001b[0m\u001b[32m]\u001b[0m\u001b[32m`.'\u001b[0m\n",
       "\u001b[2;32m│   │   \u001b[0m\u001b[1m}\u001b[0m\n",
       "\u001b[2;32m│   \u001b[0m\u001b[1m]\u001b[0m,\n",
       "\u001b[2;32m│   \u001b[0m\u001b[32m'kwargs'\u001b[0m: \u001b[1m{\u001b[0m\u001b[1m}\u001b[0m,\n",
       "\u001b[2;32m│   \u001b[0m\u001b[32m'response'\u001b[0m: \u001b[1;35mModelResponse\u001b[0m\u001b[1m(\u001b[0m\n",
       "\u001b[2;32m│   │   \u001b[0m\u001b[33mid\u001b[0m=\u001b[32m'chatcmpl-ba08b13d-18b4-463d-84d4-40993faf84e0'\u001b[0m,\n",
       "\u001b[2;32m│   │   \u001b[0m\u001b[33mcreated\u001b[0m=\u001b[1;36m1749674589\u001b[0m,\n",
       "\u001b[2;32m│   │   \u001b[0m\u001b[33mmodel\u001b[0m=\u001b[32m'ollama_chat/phi4:14b-q8_0'\u001b[0m,\n",
       "\u001b[2;32m│   │   \u001b[0m\u001b[33mobject\u001b[0m=\u001b[32m'chat.completion'\u001b[0m,\n",
       "\u001b[2;32m│   │   \u001b[0m\u001b[33msystem_fingerprint\u001b[0m=\u001b[3;35mNone\u001b[0m,\n",
       "\u001b[2;32m│   │   \u001b[0m\u001b[33mchoices\u001b[0m=\u001b[1m[\u001b[0m\n",
       "\u001b[2;32m│   │   │   \u001b[0m\u001b[1;35mChoices\u001b[0m\u001b[1m(\u001b[0m\n",
       "\u001b[2;32m│   │   │   │   \u001b[0m\u001b[33mfinish_reason\u001b[0m=\u001b[32m'stop'\u001b[0m,\n",
       "\u001b[2;32m│   │   │   │   \u001b[0m\u001b[33mindex\u001b[0m=\u001b[1;36m0\u001b[0m,\n",
       "\u001b[2;32m│   │   │   │   \u001b[0m\u001b[33mmessage\u001b[0m=\u001b[1;35mMessage\u001b[0m\u001b[1m(\u001b[0m\n",
       "\u001b[2;32m│   │   │   │   │   \u001b[0m\u001b[33mcontent\u001b[0m=\u001b[32m'\u001b[0m\u001b[32m[\u001b[0m\u001b[32m[\u001b[0m\u001b[32m ## reasoning ## \u001b[0m\u001b[32m]\u001b[0m\u001b[32m]\u001b[0m\u001b[32m\\nTo determine how many apples are left after giving away 40%, I first calculated what 40% of 15 apples is. This calculation resulted in 6 apples being given away \u001b[0m\u001b[32m(\u001b[0m\u001b[32msince 40% of 15 equals 6\u001b[0m\u001b[32m)\u001b[0m\u001b[32m. Next, I subtracted these 6 apples from the original total of 15 apples to find out how many are left. The subtraction of 6 from 15 results in 9 apples remaining.\\n\\n\u001b[0m\u001b[32m[\u001b[0m\u001b[32m[\u001b[0m\u001b[32m ## answer ## \u001b[0m\u001b[32m]\u001b[0m\u001b[32m]\u001b[0m\u001b[32m\\n9.0\\n\\n\u001b[0m\u001b[32m[\u001b[0m\u001b[32m[\u001b[0m\u001b[32m ## completed ## \u001b[0m\u001b[32m]\u001b[0m\u001b[32m]\u001b[0m\u001b[32m'\u001b[0m,\n",
       "\u001b[2;32m│   │   │   │   │   \u001b[0m\u001b[33mrole\u001b[0m=\u001b[32m'assistant'\u001b[0m,\n",
       "\u001b[2;32m│   │   │   │   │   \u001b[0m\u001b[33mtool_calls\u001b[0m=\u001b[3;35mNone\u001b[0m,\n",
       "\u001b[2;32m│   │   │   │   │   \u001b[0m\u001b[33mfunction_call\u001b[0m=\u001b[3;35mNone\u001b[0m,\n",
       "\u001b[2;32m│   │   │   │   │   \u001b[0m\u001b[33mprovider_specific_fields\u001b[0m=\u001b[3;35mNone\u001b[0m\n",
       "\u001b[2;32m│   │   │   │   \u001b[0m\u001b[1m)\u001b[0m\n",
       "\u001b[2;32m│   │   │   \u001b[0m\u001b[1m)\u001b[0m\n",
       "\u001b[2;32m│   │   \u001b[0m\u001b[1m]\u001b[0m,\n",
       "\u001b[2;32m│   │   \u001b[0m\u001b[33musage\u001b[0m=\u001b[1m{\u001b[0m\u001b[1m}\u001b[0m,\n",
       "\u001b[2;32m│   │   \u001b[0m\u001b[33mcache_hit\u001b[0m=\u001b[3;35mNone\u001b[0m\n",
       "\u001b[2;32m│   \u001b[0m\u001b[1m)\u001b[0m,\n",
       "\u001b[2;32m│   \u001b[0m\u001b[32m'outputs'\u001b[0m: \u001b[1m[\u001b[0m\n",
       "\u001b[2;32m│   │   \u001b[0m\u001b[32m'\u001b[0m\u001b[32m[\u001b[0m\u001b[32m[\u001b[0m\u001b[32m ## reasoning ## \u001b[0m\u001b[32m]\u001b[0m\u001b[32m]\u001b[0m\u001b[32m\\nTo determine how many apples are left after giving away 40%, I first calculated what 40% of 15 apples is. This calculation resulted in 6 apples being given away \u001b[0m\u001b[32m(\u001b[0m\u001b[32msince 40% of 15 equals 6\u001b[0m\u001b[32m)\u001b[0m\u001b[32m. Next, I subtracted these 6 apples from the original total of 15 apples to find out how many are left. The subtraction of 6 from 15 results in 9 apples remaining.\\n\\n\u001b[0m\u001b[32m[\u001b[0m\u001b[32m[\u001b[0m\u001b[32m ## answer ## \u001b[0m\u001b[32m]\u001b[0m\u001b[32m]\u001b[0m\u001b[32m\\n9.0\\n\\n\u001b[0m\u001b[32m[\u001b[0m\u001b[32m[\u001b[0m\u001b[32m ## completed ## \u001b[0m\u001b[32m]\u001b[0m\u001b[32m]\u001b[0m\u001b[32m'\u001b[0m\n",
       "\u001b[2;32m│   \u001b[0m\u001b[1m]\u001b[0m,\n",
       "\u001b[2;32m│   \u001b[0m\u001b[32m'usage'\u001b[0m: \u001b[1m{\u001b[0m\u001b[1m}\u001b[0m,\n",
       "\u001b[2;32m│   \u001b[0m\u001b[32m'cost'\u001b[0m: \u001b[1;36m0.0\u001b[0m,\n",
       "\u001b[2;32m│   \u001b[0m\u001b[32m'timestamp'\u001b[0m: \u001b[32m'2025-06-11T18:51:12.875393'\u001b[0m,\n",
       "\u001b[2;32m│   \u001b[0m\u001b[32m'uuid'\u001b[0m: \u001b[32m'9afe2c30-aa19-4df2-b541-096337fc945c'\u001b[0m,\n",
       "\u001b[2;32m│   \u001b[0m\u001b[32m'model'\u001b[0m: \u001b[32m'ollama_chat/phi4:14b-q8_0'\u001b[0m,\n",
       "\u001b[2;32m│   \u001b[0m\u001b[32m'response_model'\u001b[0m: \u001b[32m'ollama_chat/phi4:14b-q8_0'\u001b[0m,\n",
       "\u001b[2;32m│   \u001b[0m\u001b[32m'model_type'\u001b[0m: \u001b[32m'chat'\u001b[0m\n",
       "\u001b[1m}\u001b[0m\n"
      ]
     },
     "metadata": {},
     "output_type": "display_data"
    }
   ],
   "source": [
    "for _ in react.history:\n",
    "    pprint(_, expand_all=True)"
   ]
  },
  {
   "cell_type": "code",
   "execution_count": null,
   "id": "30857f2c-1fb2-4984-8216-3be5ecf8c6cc",
   "metadata": {},
   "outputs": [],
   "source": []
  }
 ],
 "metadata": {
  "kernelspec": {
   "display_name": "Python 3 (ipykernel)",
   "language": "python",
   "name": "python3"
  },
  "language_info": {
   "codemirror_mode": {
    "name": "ipython",
    "version": 3
   },
   "file_extension": ".py",
   "mimetype": "text/x-python",
   "name": "python",
   "nbconvert_exporter": "python",
   "pygments_lexer": "ipython3",
   "version": "3.11.13"
  }
 },
 "nbformat": 4,
 "nbformat_minor": 5
}
