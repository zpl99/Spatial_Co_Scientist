{
 "cells": [
  {
   "cell_type": "markdown",
   "id": "568b2881-d828-4c32-9c50-e4f5383fec72",
   "metadata": {},
   "source": [
    "```shell\n",
    "uv pip install -qU \"semantic-router[local]\"\n",
    "```"
   ]
  },
  {
   "cell_type": "code",
   "execution_count": null,
   "id": "6b802198-1797-4e97-855e-9436a8b448a1",
   "metadata": {},
   "outputs": [],
   "source": [
    "import warnings\n",
    "\n",
    "warnings.simplefilter(action=\"ignore\", category=FutureWarning)\n",
    "warnings.simplefilter(action=\"ignore\", category=UserWarning)"
   ]
  },
  {
   "cell_type": "code",
   "execution_count": null,
   "id": "462b3c62-58ed-4d5b-8e45-96f0b7d76fd5",
   "metadata": {},
   "outputs": [],
   "source": [
    "import itertools\n",
    "import json\n",
    "import os\n",
    "import random\n",
    "from datetime import datetime\n",
    "from textwrap import dedent\n",
    "from typing import List\n",
    "\n",
    "import matplotlib.pyplot as plt\n",
    "import numpy as np\n",
    "from fastembed import TextEmbedding\n",
    "from gait import (\n",
    "    FEL,\n",
    "    Column,\n",
    "    Layer,\n",
    "    Layers,\n",
    "    a_message,\n",
    "    s_message,\n",
    "    u_message,\n",
    ")\n",
    "from litellm import completion\n",
    "from pydantic import BaseModel\n",
    "from rich.pretty import pprint\n",
    "from semantic_router import Route\n",
    "from semantic_router.encoders import FastEmbedEncoder\n",
    "from sentence_transformers import SentenceTransformer\n",
    "from sklearn.metrics import confusion_matrix, precision_score, recall_score\n",
    "from tqdm.notebook import tqdm, trange"
   ]
  },
  {
   "cell_type": "code",
   "execution_count": null,
   "id": "91719186-95fb-4a8a-a99f-3fb3a8db86f4",
   "metadata": {},
   "outputs": [],
   "source": [
    "layers = Layers.load(os.path.expanduser(\"~/layers.json\"))"
   ]
  },
  {
   "cell_type": "code",
   "execution_count": null,
   "id": "93af3467-59e0-453a-a321-6723cdc52de7",
   "metadata": {},
   "outputs": [],
   "source": [
    "for l,r in itertools.combinations_with_replacement(layers.layers,2):\n",
    "    print(l.name,r.name)"
   ]
  },
  {
   "cell_type": "code",
   "execution_count": null,
   "id": "6d5a00b7-f242-48ba-ba57-9d159b9657ae",
   "metadata": {},
   "outputs": [],
   "source": [
    "fel = FEL(layers.layers)"
   ]
  },
  {
   "cell_type": "code",
   "execution_count": null,
   "id": "94f956d2-a793-486a-83a8-298395063482",
   "metadata": {},
   "outputs": [],
   "source": [
    "attributes = fel.attributes()"
   ]
  },
  {
   "cell_type": "code",
   "execution_count": null,
   "id": "795680ad-0018-48c8-9f64-372e4d96d8e6",
   "metadata": {},
   "outputs": [],
   "source": [
    "def layer_to_route(l: Layer, r: Layer) -> Route:\n",
    "    same = l.name == r.name\n",
    "    utterances = list(\n",
    "        {\n",
    "            fel.create_line_2(\n",
    "                layer_lhs=l,\n",
    "                layer_rhs=r,\n",
    "            ).line\n",
    "            for _ in range(80 if same else 40)\n",
    "        }\n",
    "    )\n",
    "    if not same:\n",
    "        utterances.extend(list(\n",
    "        {\n",
    "            fel.create_line_2(\n",
    "                layer_lhs=r,\n",
    "                layer_rhs=l,\n",
    "            ).line\n",
    "            for _ in range(40)\n",
    "        }            \n",
    "        ))\n",
    "    return Route(\n",
    "        name=f\"{l.name}:{r.name}\",\n",
    "        utterances=utterances,\n",
    "    )"
   ]
  },
  {
   "cell_type": "code",
   "execution_count": null,
   "id": "4f4cb76b-eeb8-4448-bfc6-fc2a53049613",
   "metadata": {},
   "outputs": [],
   "source": [
    "routes = [\n",
    "    # layer_to_route(l, r) for l, r in itertools.product(layers.layers, layers.layers),\n",
    "    layer_to_route(l, r) for l, r in itertools.combinations_with_replacement(layers.layers,2)\n",
    "]"
   ]
  },
  {
   "cell_type": "code",
   "execution_count": null,
   "id": "22453aaf-ac04-45a5-bbf0-e2138ee34b4b",
   "metadata": {},
   "outputs": [],
   "source": [
    "encoder = FastEmbedEncoder(name=\"BAAI/bge-base-en-v1.5\")"
   ]
  },
  {
   "cell_type": "code",
   "execution_count": null,
   "id": "697553b9-bc7a-4178-bb14-b220e884ccf3",
   "metadata": {},
   "outputs": [],
   "source": [
    "from semantic_router.layer import RouteLayer\n",
    "\n",
    "rl = RouteLayer(encoder=encoder, routes=routes)"
   ]
  },
  {
   "cell_type": "code",
   "execution_count": null,
   "id": "dc04ce5e-d45c-4a4b-8562-c63ade928e24",
   "metadata": {},
   "outputs": [],
   "source": [
    "model = \"phi4:14b-q8_0\""
   ]
  },
  {
   "cell_type": "code",
   "execution_count": null,
   "id": "3440d6f9-8053-40e9-ac55-e0ee21387cf3",
   "metadata": {},
   "outputs": [],
   "source": [
    "system = dedent(\n",
    "    f\"\"\"\n",
    "You are an AI specialized in creating variations of geospatial and non-geospatial queries.\n",
    "Your task is to generate one variation of a user's prompt, incorporating spatial relations, non-spatial relations, and spatial layer filter attributes as appropriate.\n",
    "Adapt to the context while maintaining logical consistency and relevance to the original query.\n",
    "\n",
    "Guidelines:\n",
    "1. Analyze the original query to identify spatial and non-spatial elements.\n",
    "2. Create ONE variation that rephrases the query with a distinct focus or intent.\n",
    "3. Incorporate relevant spatial relations (e.g., \"intersects,\" \"within,\" \"near\"), non-spatial relations (e.g., attribute-based filtering, temporal aspects), and spatial layer filter attributes based on the provided schema.\n",
    "4. Use clear, concise language in your variation.\n",
    "5. Maintain the original query's core intent and logic.\n",
    "6. Do not add spatial context if it doesn't exist in the original prompt.\n",
    "7. Output only the variation without explanations.\n",
    "8. DO NOT PLACE OR ADD QUOTES AROUND TEXTURAL VALUES.\n",
    "\n",
    "If the query lacks clear spatial or non-spatial elements, focus on enhancing the existing elements or clarifying the intent.\n",
    "\n",
    "Schema for spatial layers:\n",
    "{attributes}\n",
    "\n",
    "Respond with only the variation, without additional commentary.\n",
    "\"\"\"\n",
    ").strip()"
   ]
  },
  {
   "cell_type": "code",
   "execution_count": null,
   "id": "bc430fb3-649e-41af-9c45-bd63ab5c801e",
   "metadata": {},
   "outputs": [],
   "source": [
    "def variation(content: str) -> str:\n",
    "    response = completion(\n",
    "        model=f\"ollama_chat/{model}\",\n",
    "        temperature=0.35,\n",
    "        messages=[\n",
    "            {\n",
    "                \"role\": \"system\",\n",
    "                \"content\": system,\n",
    "            },\n",
    "            {\n",
    "                \"role\": \"user\",\n",
    "                \"content\": \"Find pipelines where dimension < 20.0 that are inside wellbores\",\n",
    "            },\n",
    "            {\n",
    "                \"role\": \"assistant\",\n",
    "                \"content\": \"Identify pipelines with dimensions less than 20.0 meters that intersect with wellbore locations\",\n",
    "            },\n",
    "            {\n",
    "                \"role\": \"user\",\n",
    "                \"content\": \"Identify all discoveries with discovery type > 3 and discovery current activity state is production ceased\",\n",
    "            },\n",
    "            {\n",
    "                \"role\": \"assistant\",\n",
    "                \"content\": \"Locate all discoveries where the discovery type exceeds 3 and the discovery's current activity status is marked as production ceased\",\n",
    "            },\n",
    "            {\n",
    "                \"role\": \"user\",\n",
    "                \"content\": \"Find pipelines that are inside discoveries where field type is not like gas\",\n",
    "            },\n",
    "            {\n",
    "                \"role\": \"assistant\",\n",
    "                \"content\": \"Locate pipelines within discoveries where the field type does not include gas\",\n",
    "            },\n",
    "            {\n",
    "                \"role\": \"user\",\n",
    "                \"content\": content,\n",
    "            },\n",
    "        ],\n",
    "        # stop=[\n",
    "        #     \"```\",\n",
    "        # ],\n",
    "    )\n",
    "    return response.choices[0].message.content"
   ]
  },
  {
   "cell_type": "code",
   "execution_count": null,
   "id": "d0f0fa8d-ed48-468b-af7f-9bb52f3130da",
   "metadata": {},
   "outputs": [],
   "source": [
    "fel_line = fel.create_line_2()\n",
    "# var_line = variation(fel_line.line)\n",
    "print(fel_line.line)\n",
    "# print(var_line)\n",
    "print(f\"{fel_line.fel.layer1}:{fel_line.fel.layer2}\", rl(fel_line.line).name)"
   ]
  },
  {
   "cell_type": "code",
   "execution_count": null,
   "id": "d66e0479-5224-4a92-9c5b-41fbee85b117",
   "metadata": {},
   "outputs": [],
   "source": []
  }
 ],
 "metadata": {
  "kernelspec": {
   "display_name": "Python 3 (ipykernel)",
   "language": "python",
   "name": "python3"
  },
  "language_info": {
   "codemirror_mode": {
    "name": "ipython",
    "version": 3
   },
   "file_extension": ".py",
   "mimetype": "text/x-python",
   "name": "python",
   "nbconvert_exporter": "python",
   "pygments_lexer": "ipython3",
   "version": "3.11.12"
  }
 },
 "nbformat": 4,
 "nbformat_minor": 5
}
