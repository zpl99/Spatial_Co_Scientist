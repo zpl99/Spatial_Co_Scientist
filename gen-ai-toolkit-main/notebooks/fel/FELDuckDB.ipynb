{
 "cells": [
  {
   "cell_type": "code",
   "execution_count": null,
   "id": "6dc7549e703a4d7e",
   "metadata": {
    "ExecuteTime": {
     "end_time": "2025-03-14T11:08:49.479696Z",
     "start_time": "2025-03-14T11:08:47.849672Z"
    }
   },
   "outputs": [],
   "source": [
    "import os\n",
    "from textwrap import dedent\n",
    "\n",
    "import duckdb\n",
    "from gait import FEL, FEL2, Layers\n",
    "from rich.pretty import pprint"
   ]
  },
  {
   "cell_type": "code",
   "execution_count": null,
   "id": "6ab975e1-37fb-4c97-b5b4-91272e7060e9",
   "metadata": {},
   "outputs": [],
   "source": [
    "duckdb_name = os.path.expanduser(\"~/data/northsea.ddb\")"
   ]
  },
  {
   "cell_type": "code",
   "execution_count": null,
   "id": "e535f934-4418-4645-8b0c-301848871cb8",
   "metadata": {},
   "outputs": [],
   "source": [
    "conn = duckdb.connect(duckdb_name, read_only=True)\n",
    "\n",
    "_ = conn.execute(\"INSTALL spatial;LOAD spatial;\")"
   ]
  },
  {
   "cell_type": "code",
   "execution_count": null,
   "id": "bf5a76cc-e82d-4053-b1d0-ad812bdf0ce2",
   "metadata": {},
   "outputs": [],
   "source": [
    "conn.sql(\n",
    "    \"\"\"\n",
    "select count(*) as \"num of pipelines\" from pipelines;\n",
    "\"\"\"\n",
    ")"
   ]
  },
  {
   "cell_type": "code",
   "execution_count": null,
   "id": "411f32a4-d7b7-49bb-9477-e7b613e54439",
   "metadata": {},
   "outputs": [],
   "source": [
    "conn.sql(\n",
    "    \"\"\"\n",
    "WITH\n",
    "L as (SELECT DISTINCT p1.OBJECTID\n",
    "FROM pipelines p1\n",
    "JOIN pipelines p2\n",
    "ON \n",
    "ST_Intersects(p1.geom, p2.geom)\n",
    "WHERE\n",
    "p1.OBJECTID <> p2.OBJECTID)\n",
    "select pipelines.*\n",
    "from pipelines\n",
    "join L\n",
    "on pipelines.OBJECTID == L.OBJECTID\n",
    "\"\"\"\n",
    ").df()"
   ]
  },
  {
   "cell_type": "code",
   "execution_count": null,
   "id": "37df2650-f013-4119-8f5f-8d3a4fd4262b",
   "metadata": {},
   "outputs": [],
   "source": [
    "class FEL2SQL:\n",
    "    @classmethod\n",
    "    def fel_to_sql(cls, fel2: FEL2) -> str:\n",
    "        where1 = f\" where {fel2.where1}\" if fel2.where1 else \"\"\n",
    "        where2 = f\" where {fel2.where2}\" if fel2.where2 else \"\"\n",
    "        left_join = False\n",
    "        st_xxxx = \"ST_Intersects\"\n",
    "        # TODO - Convert distance to map spatial reference unit.\n",
    "        st_dist = \"\"\n",
    "        match fel2.relation:\n",
    "            case \"notIntersects\":\n",
    "                left_join = True\n",
    "            case \"withinDistance\":\n",
    "                st_xxxx = \"ST_DWithin\"\n",
    "                st_dist = f\", {fel2.distance}\"\n",
    "            case \"notWithinDistance\":\n",
    "                st_xxxx = \"ST_DWithin\"\n",
    "                st_dist = f\", {fel2.distance}\"\n",
    "                left_join = \"True\"\n",
    "            case \"contains\":\n",
    "                st_xxxx = \"ST_Contains\"\n",
    "            case \"notContains\":\n",
    "                st_xxxx = \"ST_Contains\"\n",
    "                left_join = True\n",
    "            case \"within\":\n",
    "                st_xxxx = \"ST_Within\"\n",
    "            case \"notWithin\":\n",
    "                st_xxxx = \"ST_Within\"\n",
    "                left_join = True\n",
    "            case _:\n",
    "                pass\n",
    "        join, where = (\n",
    "            (\"LEFT JOIN\", \"WHERE R.geom is NULL\") if left_join else (\"JOIN\", \"\")\n",
    "        )\n",
    "        return dedent(\n",
    "            f\"\"\"\n",
    "        WITH\n",
    "        L as (SELECT * FROM {fel2.layer1}{where1}),\n",
    "        R as (SELECT geom FROM {fel2.layer2}{where2})\n",
    "        SELECT L.* EXCLUDE L.geom, ST_AsWKB(L.geom) SHAPE\n",
    "        FROM L {join} R\n",
    "        ON {st_xxxx}(L.geom, R.geom{st_dist})\n",
    "        {where}\n",
    "        \"\"\"\n",
    "        ).strip()"
   ]
  },
  {
   "cell_type": "code",
   "execution_count": null,
   "id": "da54f03a-9f57-42ec-b19c-7861baa17e67",
   "metadata": {},
   "outputs": [],
   "source": [
    "layers = Layers.load(os.path.expanduser(\"~/data/NorthSea.json\"))"
   ]
  },
  {
   "cell_type": "code",
   "execution_count": null,
   "id": "3dadd01c-1a21-46c7-ac01-e86ca089aab2",
   "metadata": {},
   "outputs": [],
   "source": [
    "fel = FEL(layers.prune_layers(), model=\"azure/gpt-4o-mini\", temperature=0.0)"
   ]
  },
  {
   "cell_type": "code",
   "execution_count": null,
   "id": "406f0c81-90f2-45d4-a7fa-c06c3c82299c",
   "metadata": {},
   "outputs": [],
   "source": [
    "fel2 = fel.create_line_2()\n",
    "pprint(fel2, expand_all=True)"
   ]
  },
  {
   "cell_type": "code",
   "execution_count": null,
   "id": "1133305d-8322-4a0b-bda0-96979c776d0d",
   "metadata": {},
   "outputs": [],
   "source": [
    "sql = FEL2SQL.fel_to_sql(fel2.fel)\n",
    "print(sql)"
   ]
  },
  {
   "cell_type": "code",
   "execution_count": null,
   "id": "93c9f8ce-63f0-4988-aece-b57bdeaf4e56",
   "metadata": {},
   "outputs": [],
   "source": [
    "conn.sql(sql).df().drop(\"SHAPE\", axis=1)"
   ]
  }
 ],
 "metadata": {
  "kernelspec": {
   "display_name": "Python 3 (ipykernel)",
   "language": "python",
   "name": "python3"
  },
  "language_info": {
   "codemirror_mode": {
    "name": "ipython",
    "version": 3
   },
   "file_extension": ".py",
   "mimetype": "text/x-python",
   "name": "python",
   "nbconvert_exporter": "python",
   "pygments_lexer": "ipython3",
   "version": "3.11.12"
  }
 },
 "nbformat": 4,
 "nbformat_minor": 5
}
