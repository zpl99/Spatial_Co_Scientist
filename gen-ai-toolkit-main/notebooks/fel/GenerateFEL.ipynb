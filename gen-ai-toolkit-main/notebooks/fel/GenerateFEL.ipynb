{
 "cells": [
  {
   "cell_type": "code",
   "execution_count": 2,
   "id": "44de19b8-3b51-46ee-a48d-125091f487b5",
   "metadata": {},
   "outputs": [],
   "source": [
    "import datetime\n",
    "import json\n",
    "import os\n",
    "from typing import List\n",
    "\n",
    "from gait import (\n",
    "    FEL,\n",
    "    FEL0,\n",
    "    FEL1,\n",
    "    FEL2,\n",
    "    FELLLM0,\n",
    "    FELLLM1,\n",
    "    FELLLM2,\n",
    "    FELEmb0,\n",
    "    FELEmb1,\n",
    "    FELEmb2,\n",
    "    FELLine,\n",
    "    Flow,\n",
    "    Layer,\n",
    "    Layers,\n",
    ")\n",
    "from rich.pretty import pprint"
   ]
  },
  {
   "cell_type": "code",
   "execution_count": 40,
   "id": "fa59925a-edda-423a-9b29-0866347f84f2",
   "metadata": {},
   "outputs": [],
   "source": [
    "layers_json = os.path.expanduser(\"~/Data/WhereAssistant.json\")"
   ]
  },
  {
   "cell_type": "code",
   "execution_count": 41,
   "id": "f7a8e010-69a5-4a37-a6a3-f559cfbc3f94",
   "metadata": {},
   "outputs": [
    {
     "data": {
      "text/plain": [
       "'/Users/mraad/Data'"
      ]
     },
     "execution_count": 41,
     "metadata": {},
     "output_type": "execute_result"
    }
   ],
   "source": [
    "dir_name, _ = os.path.split(layers_json)\n",
    "dir_name"
   ]
  },
  {
   "cell_type": "code",
   "execution_count": 4,
   "id": "80d0e71a-451b-4b26-9491-4ade55112e65",
   "metadata": {},
   "outputs": [],
   "source": [
    "fel = FEL(Layers.load(layers_json).prune_layers())"
   ]
  },
  {
   "cell_type": "code",
   "execution_count": 39,
   "id": "84c7162e-59fc-4b97-8047-38dbcb39bad6",
   "metadata": {},
   "outputs": [
    {
     "data": {
      "text/html": [
       "<pre style=\"white-space:pre;overflow-x:auto;line-height:normal;font-family:Menlo,'DejaVu Sans Mono',consolas,'Courier New',monospace\"><span style=\"color: #800080; text-decoration-color: #800080; font-weight: bold\">FELLine</span><span style=\"font-weight: bold\">(</span>\n",
       "<span style=\"color: #7fbf7f; text-decoration-color: #7fbf7f\">│   </span><span style=\"color: #808000; text-decoration-color: #808000\">line</span>=<span style=\"color: #008000; text-decoration-color: #008000\">'List all library with saturday open time is not on or after 09:30 closest to address'</span>,\n",
       "<span style=\"color: #7fbf7f; text-decoration-color: #7fbf7f\">│   </span><span style=\"color: #808000; text-decoration-color: #808000\">fel</span>=<span style=\"color: #800080; text-decoration-color: #800080; font-weight: bold\">FEL2</span><span style=\"font-weight: bold\">(</span>\n",
       "<span style=\"color: #7fbf7f; text-decoration-color: #7fbf7f\">│   │   </span><span style=\"color: #808000; text-decoration-color: #808000\">layer1</span>=<span style=\"color: #008000; text-decoration-color: #008000\">'Library'</span>,\n",
       "<span style=\"color: #7fbf7f; text-decoration-color: #7fbf7f\">│   │   </span><span style=\"color: #808000; text-decoration-color: #808000\">where1</span>=<span style=\"color: #008000; text-decoration-color: #008000\">\"SaturdayOpenTime &lt; time '09:30:00'\"</span>,\n",
       "<span style=\"color: #7fbf7f; text-decoration-color: #7fbf7f\">│   │   </span><span style=\"color: #808000; text-decoration-color: #808000\">layer2</span>=<span style=\"color: #008000; text-decoration-color: #008000\">'Address'</span>,\n",
       "<span style=\"color: #7fbf7f; text-decoration-color: #7fbf7f\">│   │   </span><span style=\"color: #808000; text-decoration-color: #808000\">where2</span>=<span style=\"color: #008000; text-decoration-color: #008000\">''</span>,\n",
       "<span style=\"color: #7fbf7f; text-decoration-color: #7fbf7f\">│   │   </span><span style=\"color: #808000; text-decoration-color: #808000\">relation</span>=<span style=\"color: #008000; text-decoration-color: #008000\">'near'</span>,\n",
       "<span style=\"color: #7fbf7f; text-decoration-color: #7fbf7f\">│   │   </span><span style=\"color: #808000; text-decoration-color: #808000\">distance</span>=<span style=\"color: #008080; text-decoration-color: #008080; font-weight: bold\">20.0</span>,\n",
       "<span style=\"color: #7fbf7f; text-decoration-color: #7fbf7f\">│   │   </span><span style=\"color: #808000; text-decoration-color: #808000\">unit</span>=<span style=\"color: #008000; text-decoration-color: #008000\">'miles'</span>\n",
       "<span style=\"color: #7fbf7f; text-decoration-color: #7fbf7f\">│   </span><span style=\"font-weight: bold\">)</span>\n",
       "<span style=\"font-weight: bold\">)</span>\n",
       "</pre>\n"
      ],
      "text/plain": [
       "\u001b[1;35mFELLine\u001b[0m\u001b[1m(\u001b[0m\n",
       "\u001b[2;32m│   \u001b[0m\u001b[33mline\u001b[0m=\u001b[32m'List all library with saturday open time is not on or after 09:30 closest to address'\u001b[0m,\n",
       "\u001b[2;32m│   \u001b[0m\u001b[33mfel\u001b[0m=\u001b[1;35mFEL2\u001b[0m\u001b[1m(\u001b[0m\n",
       "\u001b[2;32m│   │   \u001b[0m\u001b[33mlayer1\u001b[0m=\u001b[32m'Library'\u001b[0m,\n",
       "\u001b[2;32m│   │   \u001b[0m\u001b[33mwhere1\u001b[0m=\u001b[32m\"SaturdayOpenTime\u001b[0m\u001b[32m < time '09:30:00'\"\u001b[0m,\n",
       "\u001b[2;32m│   │   \u001b[0m\u001b[33mlayer2\u001b[0m=\u001b[32m'Address'\u001b[0m,\n",
       "\u001b[2;32m│   │   \u001b[0m\u001b[33mwhere2\u001b[0m=\u001b[32m''\u001b[0m,\n",
       "\u001b[2;32m│   │   \u001b[0m\u001b[33mrelation\u001b[0m=\u001b[32m'near'\u001b[0m,\n",
       "\u001b[2;32m│   │   \u001b[0m\u001b[33mdistance\u001b[0m=\u001b[1;36m20\u001b[0m\u001b[1;36m.0\u001b[0m,\n",
       "\u001b[2;32m│   │   \u001b[0m\u001b[33munit\u001b[0m=\u001b[32m'miles'\u001b[0m\n",
       "\u001b[2;32m│   \u001b[0m\u001b[1m)\u001b[0m\n",
       "\u001b[1m)\u001b[0m\n"
      ]
     },
     "metadata": {},
     "output_type": "display_data"
    }
   ],
   "source": [
    "fel_line = fel.create_line_0()\n",
    "pprint(fel_line, expand_all=True)"
   ]
  },
  {
   "cell_type": "code",
   "execution_count": 28,
   "id": "078faab6-d7ff-46db-8ad1-9a546f5f5c96",
   "metadata": {},
   "outputs": [],
   "source": [
    "# fels = [fel.create_line_0() for _ in range(5000)]\n",
    "# fels = [\n",
    "#     FELLine(\n",
    "#         line=_.line,\n",
    "#         fel=FEL0(layers=_.fel.layers()),\n",
    "#     ).model_dump()\n",
    "#     for _ in fels\n",
    "# ]\n",
    "# with open(\"fel0.json\", mode=\"w\", encoding=\"utf-8\") as fp:\n",
    "#     json.dump(fels, fp, indent=2)"
   ]
  },
  {
   "cell_type": "code",
   "execution_count": 29,
   "id": "a0244f8d-041c-495d-bc6c-4aad17a42002",
   "metadata": {},
   "outputs": [],
   "source": [
    "fels = [fel.create_line_1() for _ in range(100)]\n",
    "fels = [\n",
    "    FELLine(\n",
    "        line=_.line,\n",
    "        fel=_.fel,\n",
    "    ).model_dump()\n",
    "    for _ in fels\n",
    "]\n",
    "with open(\"fel1.json\", mode=\"w\", encoding=\"utf-8\") as fp:\n",
    "    json.dump(fels, fp, indent=2)"
   ]
  },
  {
   "cell_type": "code",
   "execution_count": 21,
   "id": "55be6fea-19dd-435b-9075-7a3dc5c082cb",
   "metadata": {},
   "outputs": [],
   "source": [
    "# fels = [fel.create_line_2() for _ in range(5000)]\n",
    "# fels = [\n",
    "#     FELLine(\n",
    "#         line=_.line,\n",
    "#         fel=_.fel,\n",
    "#     ).model_dump()\n",
    "#     for _ in fels\n",
    "# ]\n",
    "# with open(\"fel2.json\", mode=\"w\", encoding=\"utf-8\") as fp:\n",
    "#     json.dump(fels, fp, indent=2)"
   ]
  }
 ],
 "metadata": {
  "kernelspec": {
   "display_name": "Python 3 (ipykernel)",
   "language": "python",
   "name": "python3"
  },
  "language_info": {
   "codemirror_mode": {
    "name": "ipython",
    "version": 3
   },
   "file_extension": ".py",
   "mimetype": "text/x-python",
   "name": "python",
   "nbconvert_exporter": "python",
   "pygments_lexer": "ipython3",
   "version": "3.11.11"
  }
 },
 "nbformat": 4,
 "nbformat_minor": 5
}
