{
 "cells": [
  {
   "cell_type": "code",
   "execution_count": 1,
   "id": "f36a21cc-c691-4d18-95e3-a4e9ca29c9ac",
   "metadata": {
    "ExecuteTime": {
     "end_time": "2025-02-10T11:47:26.042482Z",
     "start_time": "2025-02-10T11:47:26.035266Z"
    }
   },
   "outputs": [],
   "source": [
    "import warnings\n",
    "\n",
    "warnings.simplefilter(action=\"ignore\", category=FutureWarning)\n",
    "warnings.simplefilter(action=\"ignore\", category=UserWarning)"
   ]
  },
  {
   "cell_type": "code",
   "execution_count": 2,
   "id": "103078c3e522a54",
   "metadata": {
    "ExecuteTime": {
     "end_time": "2025-02-10T11:47:27.908505Z",
     "start_time": "2025-02-10T11:47:27.900457Z"
    }
   },
   "outputs": [],
   "source": [
    "import os\n",
    "\n",
    "from gait import (\n",
    "    FEL,\n",
    "    Layers,\n",
    ")\n",
    "import numpy as np\n",
    "import seaborn as sns\n",
    "\n",
    "from rich.pretty import pprint\n",
    "from sklearn.metrics import confusion_matrix, precision_score, recall_score, accuracy_score\n",
    "from tqdm.notebook import trange"
   ]
  },
  {
   "cell_type": "code",
   "execution_count": null,
   "id": "b527f636bab577fe",
   "metadata": {
    "ExecuteTime": {
     "end_time": "2025-02-10T11:47:30.152094Z",
     "start_time": "2025-02-10T11:47:30.139373Z"
    }
   },
   "outputs": [],
   "source": [
    "layers = Layers.load(os.path.expanduser(\n",
    "    # \"~/where.json\",\n",
    "    # \"~/miami.json\"\n",
    "    # \"~/XOM.json\",\n",
    "    \"~/data/NorthSea.json\",\n",
    "))"
   ]
  },
  {
   "cell_type": "code",
   "execution_count": null,
   "id": "ef2c5b75ecba7208",
   "metadata": {},
   "outputs": [],
   "source": [
    "# model = \"ollama_chat/qwen2.5-coder:7b\",\n",
    "# model = \"ollama_chat/deepseek-r1:latest\"\n",
    "# model = \"ollama_chat/qwen2:7b-instruct-q8_0\"\n",
    "# model = \"ollama_chat/qwen2.5-coder:7b\"\n",
    "# model = \"ollama_chat/qwen2.5:latest\"\n",
    "# model = \"ollama_chat/llama3.2:latest\"\n",
    "model = \"azure/gpt-4o-mini\"\n",
    "\n",
    "fel = FEL(\n",
    "    layers=layers.prune_layers(),\n",
    "    model=model,\n",
    "    # api_base=os.environ[\"AZURE_API_URL\"] + \"/gpt-4o\",\n",
    ")"
   ]
  },
  {
   "cell_type": "code",
   "execution_count": null,
   "id": "d10fc6d1-d8ff-4d25-bd5f-bde412e7f9a0",
   "metadata": {},
   "outputs": [],
   "source": [
    "fel0 = fel.create_line_0()\n",
    "pprint(fel0, expand_all=True)\n",
    "\n",
    "felX = fel(fel0.line)\n",
    "pprint(felX, expand_all=True)"
   ]
  },
  {
   "cell_type": "code",
   "execution_count": null,
   "id": "ecf0d458af609ab6",
   "metadata": {
    "ExecuteTime": {
     "end_time": "2025-02-09T19:50:08.598573Z",
     "start_time": "2025-02-09T19:48:25.463558Z"
    }
   },
   "outputs": [],
   "source": [
    "gt = []\n",
    "pv = []\n",
    "\n",
    "line_1 = 20\n",
    "line_2 = 20\n",
    "\n",
    "for _ in trange(100):\n",
    "    line_fel = fel.create_line_0()\n",
    "    gt.append(line_fel.fel.route)\n",
    "    # pprint(prompt, expand_all=True)\n",
    "    fel_route = fel.fel0(line_fel.line, line_1, line_2)\n",
    "    # pprint(fel_route, expand_all=True)\n",
    "    pv.append(fel_route.route)"
   ]
  },
  {
   "cell_type": "code",
   "execution_count": null,
   "id": "91bbb2c85b5be085",
   "metadata": {
    "ExecuteTime": {
     "end_time": "2025-02-09T19:50:08.699430Z",
     "start_time": "2025-02-09T19:50:08.620766Z"
    }
   },
   "outputs": [],
   "source": [
    "accuracy = accuracy_score(gt, pv) * 100.0\n",
    "precision = precision_score(gt, pv) * 100.0\n",
    "recall = recall_score(gt, pv) * 100.0\n",
    "\n",
    "# print(f\"\\n{model_name} {line_1} / {line_2} {top_k=}\\n\")\n",
    "print(f\"{model} {line_1} / {line_2}\\n\")\n",
    "print(f\"Accuracy:\\t{accuracy:.1f}%\")\n",
    "print(f\"Precision:\\t{precision:.1f}%\")\n",
    "print(f\"Recall:\\t\\t{recall:.1f}%\")\n",
    "\n",
    "categories = [\"FEL1\", \"FEL2\"]\n",
    "cf_matrix = confusion_matrix(gt, pv)\n",
    "ax = sns.heatmap(\n",
    "    cf_matrix / np.sum(cf_matrix),\n",
    "    fmt=\".1%\",\n",
    "    cmap=\"Blues\",\n",
    "    annot=True,\n",
    "    xticklabels=categories,\n",
    "    yticklabels=categories,\n",
    ")\n",
    "ax.set(xlabel=\"Predicted\", ylabel=\"Expected\")\n",
    "ax.xaxis.tick_top()"
   ]
  },
  {
   "cell_type": "raw",
   "id": "3085aff91f9bd892",
   "metadata": {},
   "source": [
    "azure/gpt-4o 20 / 20\n",
    "\n",
    "Accuracy:\t100.0%\n",
    "Precision:\t100.0%\n",
    "Recall:\t\t100.0%"
   ]
  },
  {
   "cell_type": "raw",
   "id": "77ee4c6b7cca0b25",
   "metadata": {},
   "source": [
    "azure/gpt-4o 20 / 20\n",
    "\n",
    "Accuracy:\t100.0%\n",
    "Precision:\t100.0%\n",
    "Recall:\t\t100.0%"
   ]
  },
  {
   "cell_type": "raw",
   "id": "d39f4627f3b83277",
   "metadata": {},
   "source": [
    "gpt-4o\n",
    "\n",
    "Accuracy:\t99.0%\n",
    "Precision:\t100.0%\n",
    "Recall:\t\t97.7%"
   ]
  },
  {
   "cell_type": "raw",
   "id": "af16890375f55df5",
   "metadata": {},
   "source": [
    "ollama_chat/qwen2.5:latest\n",
    "\n",
    "Accuracy:\t89.0%\n",
    "Precision:\t92.7%\n",
    "Recall:\t\t82.6%"
   ]
  },
  {
   "cell_type": "raw",
   "id": "9ee3c8d0a21a494c",
   "metadata": {},
   "source": [
    "ollama_chat/qwen2.5-coder:7b\n",
    "\n",
    "Accuracy:\t84.0%\n",
    "Precision:\t79.3%\n",
    "Recall:\t\t92.0%"
   ]
  },
  {
   "cell_type": "raw",
   "id": "9c20e46ba93ab7ba",
   "metadata": {},
   "source": [
    "ollama_chat/qwen2:7b-instruct-q8_0\n",
    "\n",
    "Accuracy:\t76.0%\n",
    "Precision:\t83.3%\n",
    "Recall:\t\t67.3%"
   ]
  },
  {
   "cell_type": "raw",
   "id": "5da0faf25aa94570",
   "metadata": {},
   "source": [
    "ollama_chat/deepseek-r1:latest\n",
    "\n",
    "Accuracy:\t66.0%\n",
    "Precision:\t65.3%\n",
    "Recall:\t\t65.3%"
   ]
  },
  {
   "cell_type": "raw",
   "id": "4ce027856e932987",
   "metadata": {},
   "source": [
    "gpt-4o-mini\n",
    "\n",
    "Accuracy: 90.00%\n",
    "Precision: 90.00%\n",
    "Recall: 93.10%"
   ]
  },
  {
   "cell_type": "raw",
   "id": "0f9d9475-6a74-4e66-8131-d89833cbe39c",
   "metadata": {},
   "source": [
    "35\n",
    "ollama_chat/qwen2.5-coder:7b\n",
    "Precision: 0.979\n",
    "Recall: 0.979"
   ]
  },
  {
   "cell_type": "raw",
   "id": "6ca94bb4-87df-490c-8467-a5dceae4c18e",
   "metadata": {},
   "source": [
    "30\n",
    "ollama_chat/qwen2.5-coder:7b\n",
    "Precision: 1.000\n",
    "Recall: 0.964\n",
    "\n",
    "Precision: 1.000\n",
    "Recall: 1.000"
   ]
  },
  {
   "cell_type": "raw",
   "id": "5a328c5c-7daf-4f80-8f54-559f25ef0fb0",
   "metadata": {},
   "source": [
    "25\n",
    "ollama_chat/qwen2.5-coder:7b\n",
    "Precision: 0.930\n",
    "Recall: 0.930"
   ]
  },
  {
   "cell_type": "raw",
   "id": "817eb39b-21cb-4013-8c75-c744f2491e67",
   "metadata": {},
   "source": [
    "20\n",
    "ollama_chat/qwen2.5-coder:7b\n",
    "Precision: 1.000\n",
    "Recall: 0.941"
   ]
  },
  {
   "cell_type": "raw",
   "id": "98b617f6-a774-4738-a1e2-0cfa6c08ed00",
   "metadata": {},
   "source": [
    "30\n",
    "ollama_chat/qwen2:7b-instruct-q8_0\n",
    "Precision: 0.913\n",
    "Recall: 0.857"
   ]
  },
  {
   "cell_type": "raw",
   "id": "99ae95fd-35b1-4875-9598-5e35b4e7abea",
   "metadata": {},
   "source": [
    "30\n",
    "ollama_chat/qwen2.5:latest\n",
    "Precision: 0.941\n",
    "Recall: 1.000"
   ]
  }
 ],
 "metadata": {
  "kernelspec": {
   "display_name": "Python 3 (ipykernel)",
   "language": "python",
   "name": "python3"
  },
  "language_info": {
   "codemirror_mode": {
    "name": "ipython",
    "version": 3
   },
   "file_extension": ".py",
   "mimetype": "text/x-python",
   "name": "python",
   "nbconvert_exporter": "python",
   "pygments_lexer": "ipython3",
   "version": "3.11.13"
  }
 },
 "nbformat": 4,
 "nbformat_minor": 5
}
