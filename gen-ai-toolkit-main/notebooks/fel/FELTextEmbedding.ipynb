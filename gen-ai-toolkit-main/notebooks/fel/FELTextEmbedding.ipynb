{
 "cells": [
  {
   "cell_type": "code",
   "execution_count": 1,
   "id": "d3fca907-c8c2-468f-ab64-2a064703e706",
   "metadata": {
    "ExecuteTime": {
     "end_time": "2025-04-21T02:45:01.265882Z",
     "start_time": "2025-04-21T02:45:01.262437Z"
    }
   },
   "outputs": [],
   "source": [
    "# import warnings\n",
    "\n",
    "# warnings.simplefilter(action=\"ignore\", category=FutureWarning)\n",
    "# warnings.simplefilter(action=\"ignore\", category=UserWarning)"
   ]
  },
  {
   "cell_type": "code",
   "execution_count": 2,
   "id": "7fd84bf14ac9c73e",
   "metadata": {
    "ExecuteTime": {
     "end_time": "2025-04-21T02:57:49.452916Z",
     "start_time": "2025-04-21T02:57:49.450642Z"
    }
   },
   "outputs": [],
   "source": [
    "import os\n",
    "from collections import Counter\n",
    "from math import ceil\n",
    "\n",
    "import numpy as np\n",
    "import torch\n",
    "from fastembed import TextEmbedding\n",
    "from gait import FEL, FEL1, FEL2, Layers\n",
    "from rich.pretty import pprint"
   ]
  },
  {
   "cell_type": "code",
   "execution_count": 3,
   "id": "89b1b092-3018-4c7a-9e12-78badd8eb5a3",
   "metadata": {
    "ExecuteTime": {
     "end_time": "2025-04-21T02:57:50.586041Z",
     "start_time": "2025-04-21T02:57:50.582753Z"
    }
   },
   "outputs": [],
   "source": [
    "layers_json = \"~/data/NorthSea.json\"\n",
    "layers = Layers.load(layers_json)"
   ]
  },
  {
   "cell_type": "code",
   "execution_count": 4,
   "id": "4cc09af35201acf8",
   "metadata": {
    "ExecuteTime": {
     "end_time": "2025-04-21T02:58:30.387944Z",
     "start_time": "2025-04-21T02:58:30.385330Z"
    }
   },
   "outputs": [
    {
     "data": {
      "text/plain": [
       "'~/data/NorthSea'"
      ]
     },
     "execution_count": 4,
     "metadata": {},
     "output_type": "execute_result"
    }
   ],
   "source": [
    "base, ext = os.path.splitext(layers_json)\n",
    "base"
   ]
  },
  {
   "cell_type": "code",
   "execution_count": 5,
   "id": "5d6ce568-1cbe-4009-a2db-2f931f332ab6",
   "metadata": {
    "ExecuteTime": {
     "end_time": "2025-04-21T02:58:31.676789Z",
     "start_time": "2025-04-21T02:58:31.674922Z"
    }
   },
   "outputs": [],
   "source": [
    "fel = FEL(layers)"
   ]
  },
  {
   "cell_type": "code",
   "execution_count": 6,
   "id": "9e93a819-8837-4ac2-a972-ea22cc2d4a08",
   "metadata": {
    "ExecuteTime": {
     "end_time": "2025-04-21T02:58:40.039150Z",
     "start_time": "2025-04-21T02:58:40.035712Z"
    }
   },
   "outputs": [
    {
     "data": {
      "text/html": [
       "<pre style=\"white-space:pre;overflow-x:auto;line-height:normal;font-family:Menlo,'DejaVu Sans Mono',consolas,'Courier New',monospace\"><span style=\"color: #800080; text-decoration-color: #800080; font-weight: bold\">FELLine</span><span style=\"font-weight: bold\">(</span>\n",
       "<span style=\"color: #7fbf7f; text-decoration-color: #7fbf7f\">│   </span><span style=\"color: #808000; text-decoration-color: #808000\">line</span>=<span style=\"color: #008000; text-decoration-color: #008000\">'Locate pipelines with current phase ends with service and destination facility that match the pattern 36/22-bp'</span>,\n",
       "<span style=\"color: #7fbf7f; text-decoration-color: #7fbf7f\">│   </span><span style=\"color: #808000; text-decoration-color: #808000\">fel</span>=<span style=\"color: #800080; text-decoration-color: #800080; font-weight: bold\">FEL1</span><span style=\"font-weight: bold\">(</span>\n",
       "<span style=\"color: #7fbf7f; text-decoration-color: #7fbf7f\">│   │   </span><span style=\"color: #808000; text-decoration-color: #808000\">layer</span>=<span style=\"color: #008000; text-decoration-color: #008000\">'Pipelines'</span>,\n",
       "<span style=\"color: #7fbf7f; text-decoration-color: #7fbf7f\">│   │   </span><span style=\"color: #808000; text-decoration-color: #808000\">where</span>=<span style=\"color: #008000; text-decoration-color: #008000\">\"current_phase LIKE '%SERVICE' and to_facility LIKE '%36/22-BP%'\"</span>\n",
       "<span style=\"color: #7fbf7f; text-decoration-color: #7fbf7f\">│   </span><span style=\"font-weight: bold\">)</span>\n",
       "<span style=\"font-weight: bold\">)</span>\n",
       "</pre>\n"
      ],
      "text/plain": [
       "\u001b[1;35mFELLine\u001b[0m\u001b[1m(\u001b[0m\n",
       "\u001b[2;32m│   \u001b[0m\u001b[33mline\u001b[0m=\u001b[32m'Locate pipelines with current phase ends with service and destination facility that match the pattern 36/22-bp'\u001b[0m,\n",
       "\u001b[2;32m│   \u001b[0m\u001b[33mfel\u001b[0m=\u001b[1;35mFEL1\u001b[0m\u001b[1m(\u001b[0m\n",
       "\u001b[2;32m│   │   \u001b[0m\u001b[33mlayer\u001b[0m=\u001b[32m'Pipelines'\u001b[0m,\n",
       "\u001b[2;32m│   │   \u001b[0m\u001b[33mwhere\u001b[0m=\u001b[32m\"current_phase\u001b[0m\u001b[32m LIKE '%SERVICE' and to_facility LIKE '%36/22-BP%'\"\u001b[0m\n",
       "\u001b[2;32m│   \u001b[0m\u001b[1m)\u001b[0m\n",
       "\u001b[1m)\u001b[0m\n"
      ]
     },
     "metadata": {},
     "output_type": "display_data"
    }
   ],
   "source": [
    "pprint(fel.create_line_0(), expand_all=True)"
   ]
  },
  {
   "cell_type": "code",
   "execution_count": 7,
   "id": "df4ddf79-5d36-4229-80d8-ee04023cacbc",
   "metadata": {
    "ExecuteTime": {
     "end_time": "2025-04-21T02:58:41.778470Z",
     "start_time": "2025-04-21T02:58:41.776332Z"
    }
   },
   "outputs": [],
   "source": [
    "func = fel.create_line_0"
   ]
  },
  {
   "cell_type": "code",
   "execution_count": 8,
   "id": "8bdd390f-e513-4deb-9b91-4506f1f446aa",
   "metadata": {
    "ExecuteTime": {
     "end_time": "2025-04-21T02:58:42.278227Z",
     "start_time": "2025-04-21T02:58:42.274587Z"
    }
   },
   "outputs": [],
   "source": [
    "elems = [func() for _ in range(100)]\n",
    "elems = {_.line: _.fel for _ in elems}"
   ]
  },
  {
   "cell_type": "code",
   "execution_count": 9,
   "id": "14a7a249-1b04-412d-ae56-711cbbbfd16f",
   "metadata": {
    "ExecuteTime": {
     "end_time": "2025-04-21T02:58:50.434391Z",
     "start_time": "2025-04-21T02:58:50.432421Z"
    }
   },
   "outputs": [],
   "source": [
    "docs = list(elems.keys())\n",
    "fels = list(elems.values())"
   ]
  },
  {
   "cell_type": "code",
   "execution_count": 10,
   "id": "d408ec29-cc31-444e-8083-dd8b151a06b3",
   "metadata": {
    "ExecuteTime": {
     "end_time": "2025-04-21T02:58:51.032692Z",
     "start_time": "2025-04-21T02:58:51.030441Z"
    }
   },
   "outputs": [
    {
     "data": {
      "text/plain": [
       "100"
      ]
     },
     "execution_count": 10,
     "metadata": {},
     "output_type": "execute_result"
    }
   ],
   "source": [
    "len(docs)"
   ]
  },
  {
   "cell_type": "code",
   "execution_count": 11,
   "id": "815f39f3-580f-4acb-820c-81cd9eb44cc0",
   "metadata": {
    "ExecuteTime": {
     "end_time": "2025-04-21T02:58:52.304686Z",
     "start_time": "2025-04-21T02:58:52.302818Z"
    }
   },
   "outputs": [],
   "source": [
    "# for _ in random.choices(docs, k=3):\n",
    "#     print(_)\n",
    "#     print()"
   ]
  },
  {
   "cell_type": "code",
   "execution_count": 42,
   "id": "72c969ce-7ffd-4758-ae63-d3e66af7d420",
   "metadata": {
    "ExecuteTime": {
     "end_time": "2025-04-21T02:58:52.946632Z",
     "start_time": "2025-04-21T02:58:52.944520Z"
    }
   },
   "outputs": [
    {
     "name": "stdout",
     "output_type": "stream",
     "text": [
      "BAAI/bge-base-en\n",
      "BAAI/bge-base-en-v1.5\n",
      "BAAI/bge-large-en-v1.5\n",
      "BAAI/bge-small-en\n",
      "BAAI/bge-small-en-v1.5\n",
      "BAAI/bge-small-zh-v1.5\n",
      "sentence-transformers/paraphrase-multilingual-MiniLM-L12-v2\n",
      "thenlper/gte-large\n",
      "mixedbread-ai/mxbai-embed-large-v1\n",
      "snowflake/snowflake-arctic-embed-xs\n",
      "snowflake/snowflake-arctic-embed-s\n",
      "snowflake/snowflake-arctic-embed-m\n",
      "snowflake/snowflake-arctic-embed-m-long\n",
      "snowflake/snowflake-arctic-embed-l\n",
      "jinaai/jina-clip-v1\n",
      "intfloat/multilingual-e5-large\n",
      "sentence-transformers/paraphrase-multilingual-mpnet-base-v2\n",
      "Qdrant/clip-ViT-B-32-text\n",
      "sentence-transformers/all-MiniLM-L6-v2\n",
      "jinaai/jina-embeddings-v2-base-en\n",
      "jinaai/jina-embeddings-v2-small-en\n",
      "jinaai/jina-embeddings-v2-base-de\n",
      "jinaai/jina-embeddings-v2-base-code\n",
      "jinaai/jina-embeddings-v2-base-zh\n",
      "jinaai/jina-embeddings-v2-base-es\n",
      "thenlper/gte-base\n",
      "nomic-ai/nomic-embed-text-v1.5\n",
      "nomic-ai/nomic-embed-text-v1.5-Q\n",
      "nomic-ai/nomic-embed-text-v1\n"
     ]
    }
   ],
   "source": [
    "for _ in TextEmbedding.list_supported_models():\n",
    "    print(_[\"model\"])"
   ]
  },
  {
   "cell_type": "code",
   "execution_count": 45,
   "id": "4cb1253f-2e5f-4070-bac8-61b1e312ccac",
   "metadata": {
    "ExecuteTime": {
     "end_time": "2025-04-21T03:01:01.292575Z",
     "start_time": "2025-04-21T03:00:51.453947Z"
    }
   },
   "outputs": [],
   "source": [
    "# https://qdrant.github.io/fastembed/examples/Supported_Models/\n",
    "model = TextEmbedding(\n",
    "    \"sentence-transformers/paraphrase-multilingual-MiniLM-L12-v2\",\n",
    ")"
   ]
  },
  {
   "cell_type": "code",
   "execution_count": 46,
   "id": "4a07aaa1-4873-4938-a633-59a66e0fac03",
   "metadata": {
    "ExecuteTime": {
     "end_time": "2025-04-21T03:01:02.253503Z",
     "start_time": "2025-04-21T03:01:01.302152Z"
    }
   },
   "outputs": [],
   "source": [
    "embeddings: list[np.ndarray] = list(\n",
    "    model.query_embed(docs)\n",
    ")  # notice that we are casting the generator to a list"
   ]
  },
  {
   "cell_type": "code",
   "execution_count": 47,
   "id": "870e52458c8c756b",
   "metadata": {
    "ExecuteTime": {
     "end_time": "2025-04-21T03:01:02.264800Z",
     "start_time": "2025-04-21T03:01:02.262454Z"
    }
   },
   "outputs": [],
   "source": [
    "np.savez(os.path.expanduser(f\"{base}.npz\"), embeddings=embeddings)"
   ]
  },
  {
   "cell_type": "code",
   "execution_count": 48,
   "id": "930bf7a0-1f9f-46d1-9455-f8bab1103013",
   "metadata": {
    "ExecuteTime": {
     "end_time": "2025-04-21T03:01:10.662974Z",
     "start_time": "2025-04-21T03:01:10.627582Z"
    }
   },
   "outputs": [
    {
     "name": "stdout",
     "output_type": "stream",
     "text": [
      "Identify pipelines with current operator is different from conocophillips skandinavia as\n"
     ]
    },
    {
     "data": {
      "text/plain": [
       "(np.float32(0.60486317), 15)"
      ]
     },
     "execution_count": 48,
     "metadata": {},
     "output_type": "execute_result"
    }
   ],
   "source": [
    "prompt = func().line\n",
    "print(prompt)\n",
    "embedding = list(model.query_embed(prompt))[0]\n",
    "\n",
    "similarities = np.dot(embeddings, embedding)\n",
    "\n",
    "delta = similarities.max() - similarities.min()\n",
    "top = ceil(5 + 15 * delta)\n",
    "delta, top"
   ]
  },
  {
   "cell_type": "code",
   "execution_count": 49,
   "id": "40fcd91f-02f4-4729-b8fb-705e974012cf",
   "metadata": {
    "ExecuteTime": {
     "end_time": "2025-04-21T03:01:26.219166Z",
     "start_time": "2025-04-21T03:01:26.217262Z"
    }
   },
   "outputs": [],
   "source": [
    "# top = 15"
   ]
  },
  {
   "cell_type": "code",
   "execution_count": 51,
   "id": "b5bef8ee-5a52-430a-990c-ce60ae97ee02",
   "metadata": {
    "ExecuteTime": {
     "end_time": "2025-04-21T03:02:45.586507Z",
     "start_time": "2025-04-21T03:02:45.583531Z"
    }
   },
   "outputs": [
    {
     "name": "stdout",
     "output_type": "stream",
     "text": [
      "Find all pipelines that are within a distance of 6.7 feet of pipelines\n",
      "List all pipelines where country is no and where destination facility is different from frigg tp1-y that are within 91.3 miles of pipelines\n",
      "List all pipelines with current phase is abandoned in place and originating facility is unspecified or empty that are inside discoveries\n",
      "Identify all pipelines where originating facility ends with heimdal and medium is empty\n",
      "Identify all pipelines that are within 4.8 meters of wellbores where has oil samples = 0\n",
      "Show pipelines with current phase starting with decommissioned that intersect discoveries where field name is empty\n",
      "Identify pipelines where dimension between 36.0 and 26.0\n",
      "Locate pipelines that intersect pipelines\n",
      "Show all discoveries where discovery type below -1 that contain pipelines with current operator is unspecified and destination facility is h-7 bp\n",
      "List all pipelines that intersect pipelines\n",
      "Show all pipelines with originating facility beginning with ormen and destination facility is stt-in\n",
      "Identify pipelines with dimension = 22.0\n",
      "Identify all pipelines where current operator is unspecified or empty and where originating facility excludes erb\n",
      "Show pipelines with current operator is not equal to aker bp asa\n",
      "Find all pipelines with current operator is like equinor\n",
      "[('fel2', 8), ('fel1', 7)]\n",
      "[('Pipelines', 19), ('Discoveries', 3), ('Wellbores', 1)]\n",
      "[('withinDistance', 3), ('intersects', 3), ('within', 1)]\n"
     ]
    }
   ],
   "source": [
    "lyr_cnt = Counter()\n",
    "fel_cnt = Counter()\n",
    "opr_cnt = Counter()\n",
    "\n",
    "for index in similarities.argsort()[-top:]:\n",
    "    print(docs[index])\n",
    "    fel = fels[index]\n",
    "    if isinstance(fel, FEL2):\n",
    "        lyr_cnt[fel.layer1] += 1\n",
    "        lyr_cnt[fel.layer2] += 1\n",
    "        opr_cnt[fel.relation] += 1\n",
    "        fel_cnt[\"fel2\"] += 1\n",
    "    if isinstance(fel, FEL1):\n",
    "        lyr_cnt[fel.layer] += 1\n",
    "        fel_cnt[\"fel1\"] += 1\n",
    "\n",
    "print(fel_cnt.most_common(2))\n",
    "print(lyr_cnt.most_common(3))\n",
    "print(opr_cnt.most_common(3))"
   ]
  },
  {
   "cell_type": "code",
   "execution_count": null,
   "id": "5f540c295addcf45",
   "metadata": {},
   "outputs": [],
   "source": []
  }
 ],
 "metadata": {
  "kernelspec": {
   "display_name": "Python 3 (ipykernel)",
   "language": "python",
   "name": "python3"
  },
  "language_info": {
   "codemirror_mode": {
    "name": "ipython",
    "version": 3
   },
   "file_extension": ".py",
   "mimetype": "text/x-python",
   "name": "python",
   "nbconvert_exporter": "python",
   "pygments_lexer": "ipython3",
   "version": "3.11.12"
  }
 },
 "nbformat": 4,
 "nbformat_minor": 5
}
