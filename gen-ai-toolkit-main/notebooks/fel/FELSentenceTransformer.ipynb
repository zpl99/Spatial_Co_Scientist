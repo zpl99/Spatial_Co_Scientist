{
 "cells": [
  {
   "cell_type": "markdown",
   "id": "b0f9319bda80f576",
   "metadata": {},
   "source": [
    "```terminal\n",
    "brew install nvtop\n",
    "```\n",
    "\n",
    "```shell\n",
    "uv pip install -U \"sentence-transformers[onnx-gpu]\"\n",
    "```\n",
    "\n",
    "### References\n",
    "\n",
    "- https://sbert.net/docs/sentence_transformer/pretrained_models.html\n",
    "- https://github.com/UKPLab/sentence-transformers/blob/master/examples/applications/semantic-search/semantic_search_quora_pytorch.py\n",
    "- https://www.gpu-mart.com/blog/top-3-linux-gpu-monitoring-command-line-tools"
   ]
  },
  {
   "cell_type": "code",
   "id": "49200082e155cc4c",
   "metadata": {
    "ExecuteTime": {
     "end_time": "2025-04-27T10:33:14.362706Z",
     "start_time": "2025-04-27T10:33:14.360737Z"
    }
   },
   "source": [
    "\n",
    "import warnings\n",
    "\n",
    "warnings.simplefilter(action=\"ignore\", category=FutureWarning)\n",
    "warnings.simplefilter(action=\"ignore\", category=UserWarning)"
   ],
   "outputs": [],
   "execution_count": 1
  },
  {
   "cell_type": "code",
   "id": "3c77e26cda36dc8c",
   "metadata": {
    "ExecuteTime": {
     "end_time": "2025-04-27T10:33:20.549067Z",
     "start_time": "2025-04-27T10:33:20.547009Z"
    }
   },
   "source": [
    "# os.environ[\"PYTORCH_ENABLE_MPS_FALLBACK\"] = \"1\""
   ],
   "outputs": [],
   "execution_count": 2
  },
  {
   "cell_type": "code",
   "id": "42e30874add36e4",
   "metadata": {
    "ExecuteTime": {
     "end_time": "2025-04-27T10:33:40.265493Z",
     "start_time": "2025-04-27T10:33:37.362379Z"
    }
   },
   "source": [
    "import gc\n",
    "from collections import Counter\n",
    "\n",
    "import matplotlib.pyplot as plt\n",
    "import numpy as np\n",
    "import seaborn as sns\n",
    "import torch\n",
    "from gait import FEL, Layers\n",
    "from sentence_transformers import SentenceTransformer, util\n",
    "from sklearn.metrics import (\n",
    "    accuracy_score,\n",
    "    confusion_matrix,\n",
    "    precision_score,\n",
    "    recall_score,\n",
    ")\n",
    "from tqdm.notebook import trange"
   ],
   "outputs": [],
   "execution_count": 3
  },
  {
   "cell_type": "code",
   "id": "ebaec695-6e28-4c2e-8ee0-a9966fd2e54f",
   "metadata": {
    "ExecuteTime": {
     "end_time": "2025-04-27T10:33:42.646914Z",
     "start_time": "2025-04-27T10:33:42.644788Z"
    }
   },
   "source": [
    "plt.style.use(\"dark_background\")"
   ],
   "outputs": [],
   "execution_count": 4
  },
  {
   "cell_type": "code",
   "id": "fb0853d0c4673889",
   "metadata": {
    "ExecuteTime": {
     "end_time": "2025-04-27T10:34:16.099684Z",
     "start_time": "2025-04-27T10:34:16.076112Z"
    }
   },
   "source": [
    "device = torch.device(\"cuda\" if torch.cuda.is_available() else \"cpu\")\n",
    "\n",
    "if torch.backends.mps.is_available():\n",
    "    device = torch.device(\"mps\")  # Use Apple's GPU\n",
    "\n",
    "device"
   ],
   "outputs": [
    {
     "data": {
      "text/plain": [
       "device(type='mps')"
      ]
     },
     "execution_count": 6,
     "metadata": {},
     "output_type": "execute_result"
    }
   ],
   "execution_count": 6
  },
  {
   "cell_type": "code",
   "id": "df22e52ef08c7ebe",
   "metadata": {
    "ExecuteTime": {
     "end_time": "2025-04-27T10:34:24.632859Z",
     "start_time": "2025-04-27T10:34:24.629279Z"
    }
   },
   "source": [
    "layers = Layers.load(\"~/data/NorthSea.json\")"
   ],
   "outputs": [],
   "execution_count": 7
  },
  {
   "cell_type": "code",
   "id": "5363a231f228a040",
   "metadata": {
    "ExecuteTime": {
     "end_time": "2025-04-27T10:34:28.831245Z",
     "start_time": "2025-04-27T10:34:28.828737Z"
    }
   },
   "source": [
    "fel = FEL(layers=layers)"
   ],
   "outputs": [],
   "execution_count": 8
  },
  {
   "cell_type": "code",
   "id": "2405fdf8-fc65-4458-8a71-1cf2466144de",
   "metadata": {
    "ExecuteTime": {
     "end_time": "2025-04-27T10:34:41.209942Z",
     "start_time": "2025-04-27T10:34:41.169586Z"
    }
   },
   "source": [
    "line_1 = 1_000\n",
    "line_2 = 1_000\n",
    "\n",
    "elems = [fel.create_line_1() for _ in range(line_1)]\n",
    "elem1 = [fel.create_line_2() for _ in range(line_2)]\n",
    "\n",
    "elems.extend(elem1)\n",
    "elems = {_.line: _.fel for _ in elems}"
   ],
   "outputs": [],
   "execution_count": 9
  },
  {
   "cell_type": "code",
   "id": "14a7a249-1b04-412d-ae56-711cbbbfd16f",
   "metadata": {
    "ExecuteTime": {
     "end_time": "2025-04-27T10:34:42.289126Z",
     "start_time": "2025-04-27T10:34:42.287377Z"
    }
   },
   "source": [
    "docs = list(elems.keys())\n",
    "fels = list(elems.values())"
   ],
   "outputs": [],
   "execution_count": 10
  },
  {
   "cell_type": "code",
   "id": "d408ec29-cc31-444e-8083-dd8b151a06b3",
   "metadata": {
    "ExecuteTime": {
     "end_time": "2025-04-27T10:34:46.299225Z",
     "start_time": "2025-04-27T10:34:46.296350Z"
    }
   },
   "source": [
    "len(docs)"
   ],
   "outputs": [
    {
     "data": {
      "text/plain": [
       "1991"
      ]
     },
     "execution_count": 11,
     "metadata": {},
     "output_type": "execute_result"
    }
   ],
   "execution_count": 11
  },
  {
   "cell_type": "code",
   "id": "815f39f3-580f-4acb-820c-81cd9eb44cc0",
   "metadata": {
    "ExecuteTime": {
     "end_time": "2025-04-27T10:34:48.008843Z",
     "start_time": "2025-04-27T10:34:48.006758Z"
    }
   },
   "source": [
    "# for _ in random.choices(docs, k=3):\n",
    "#     print(_)\n",
    "#     print()"
   ],
   "outputs": [],
   "execution_count": 12
  },
  {
   "cell_type": "code",
   "id": "ee9416ad8322909e",
   "metadata": {
    "ExecuteTime": {
     "end_time": "2025-04-27T10:34:50.899685Z",
     "start_time": "2025-04-27T10:34:50.897108Z"
    }
   },
   "source": [
    "if \"model\" in locals() or \"model\" in globals():\n",
    "    del model\n",
    "    gc.collect()\n",
    "\n",
    "if torch.cuda.is_available():\n",
    "    torch.cuda.empty_cache()\n",
    "    print(\"CUDA flushed.\")"
   ],
   "outputs": [],
   "execution_count": 13
  },
  {
   "cell_type": "code",
   "id": "c504082bf2acd5e0",
   "metadata": {
    "ExecuteTime": {
     "end_time": "2025-04-27T10:34:57.463245Z",
     "start_time": "2025-04-27T10:34:56.681775Z"
    }
   },
   "source": [
    "# \"all-mpnet-base-v2\",\n",
    "# \"multi-qa-mpnet-base-cos-v1\",\n",
    "# \"sentence-transformers/all-MiniLM-L6-v2\"\n",
    "\n",
    "# model_name = \"all-MiniLM-L6-v2\"\n",
    "# model_name = \"sentence-transformers/static-similarity-mrl-multilingual-v1\"\n",
    "# model_name = \"sentence-transformers/static-retrieval-mrl-en-v1\"\n",
    "model_name = \"multi-qa-MiniLM-L6-dot-v1\"\n",
    "# model_name = \"multi-qa-mpnet-base-cos-v1\"\n",
    "model = SentenceTransformer(\n",
    "    model_name,\n",
    "    device=device,\n",
    ")\n",
    "# model = model.half().to(\"cuda\")"
   ],
   "outputs": [],
   "execution_count": 14
  },
  {
   "cell_type": "code",
   "id": "a33b5326089bd823",
   "metadata": {
    "ExecuteTime": {
     "end_time": "2025-04-27T10:35:02.271780Z",
     "start_time": "2025-04-27T10:35:00.987004Z"
    }
   },
   "source": [
    "show_progress_bar = True  # torch.backends.mps.is_available()\n",
    "\n",
    "embeddings = model.encode(\n",
    "    docs,\n",
    "    batch_size=100,\n",
    "    show_progress_bar=show_progress_bar,\n",
    "    normalize_embeddings=True,\n",
    "    convert_to_numpy=False,\n",
    "    convert_to_tensor=True,\n",
    "    device=model.device,\n",
    ")"
   ],
   "outputs": [
    {
     "data": {
      "text/plain": [
       "Batches:   0%|          | 0/20 [00:00<?, ?it/s]"
      ],
      "application/vnd.jupyter.widget-view+json": {
       "version_major": 2,
       "version_minor": 0,
       "model_id": "ea8d53116f9f4864b530cabc0b95e784"
      }
     },
     "metadata": {},
     "output_type": "display_data"
    }
   ],
   "execution_count": 15
  },
  {
   "cell_type": "code",
   "id": "a8c7635d25a6948e",
   "metadata": {
    "ExecuteTime": {
     "end_time": "2025-04-27T10:35:03.076747Z",
     "start_time": "2025-04-27T10:35:03.074342Z"
    }
   },
   "source": [
    "embeddings = embeddings.to(model.device)"
   ],
   "outputs": [],
   "execution_count": 16
  },
  {
   "cell_type": "code",
   "id": "0ba8995c-accf-4021-9298-411836a26b0d",
   "metadata": {
    "ExecuteTime": {
     "end_time": "2025-04-27T10:35:03.670373Z",
     "start_time": "2025-04-27T10:35:03.594419Z"
    }
   },
   "source": [
    "line_fel = fel.create_line_0()\n",
    "embedding = model.encode(\n",
    "    line_fel.line,\n",
    "    convert_to_tensor=True,\n",
    "    device=model.device,\n",
    "    normalize_embeddings=True,\n",
    ")"
   ],
   "outputs": [],
   "execution_count": 17
  },
  {
   "cell_type": "markdown",
   "id": "c8dcf591-da17-418a-a333-4bb454bfdd25",
   "metadata": {},
   "source": [
    "- https://sbert.net/examples/sentence_transformer/applications/semantic-search/README.html"
   ]
  },
  {
   "cell_type": "code",
   "id": "28b19b72-abf8-4d23-a4f8-5052a5f83ff8",
   "metadata": {
    "ExecuteTime": {
     "end_time": "2025-04-27T10:35:10.794149Z",
     "start_time": "2025-04-27T10:35:09.845112Z"
    }
   },
   "source": [
    "simi = util.dot_score(embedding, embeddings)\n",
    "score, index = torch.topk(simi, k=10)"
   ],
   "outputs": [],
   "execution_count": 18
  },
  {
   "cell_type": "code",
   "id": "d41525b3-0c6d-45aa-a530-dd09bc574e2d",
   "metadata": {
    "ExecuteTime": {
     "end_time": "2025-04-27T10:35:12.494527Z",
     "start_time": "2025-04-27T10:35:12.476406Z"
    }
   },
   "source": [
    "score, index"
   ],
   "outputs": [
    {
     "data": {
      "text/plain": [
       "(tensor([[0.8165, 0.8061, 0.8057, 0.7986, 0.7967, 0.7891, 0.7889, 0.7883, 0.7830,\n",
       "          0.7823]], device='mps:0'),\n",
       " tensor([[1721, 1265, 1543, 1004, 1904, 1257, 1673, 1621, 1912, 1154]],\n",
       "        device='mps:0'))"
      ]
     },
     "execution_count": 19,
     "metadata": {},
     "output_type": "execute_result"
    }
   ],
   "execution_count": 19
  },
  {
   "cell_type": "code",
   "id": "87b357c3-fcce-48f1-9a20-63cd72e05a7e",
   "metadata": {
    "ExecuteTime": {
     "end_time": "2025-04-27T10:35:15.931895Z",
     "start_time": "2025-04-27T10:35:15.924890Z"
    }
   },
   "source": [
    "print(line_fel.line)\n",
    "print()\n",
    "for _ in index[0]:\n",
    "    print(docs[_])"
   ],
   "outputs": [
    {
     "name": "stdout",
     "output_type": "stream",
     "text": [
      "Show all wellbores where drilling operator is equinor energy as and drilling operator prefixes with mobil that are within 35.8 kilometers of pipelines with destination facility is grane-y and where dimension is above 8.625\n",
      "\n",
      "Identify all wellbores with drilling operator is not blank that are within 48.2 kilometers of pipelines where dimension not below 28.0 and where medium is gas\n",
      "Locate pipelines with current operator is equinor energy as that are within 20.1 miles of wellbores with has oil samples = 0 or where completion date is not on Mar 86\n",
      "Show wellbores with drilling operator is specified (not blank) that are within a distance of 93.8 miles of pipelines where current phase is unspecified or empty\n",
      "Identify wellbores that are within a distance of 25.5 meters of wellbores with drilling operator contains limited\n",
      "Identify all wellbores with drilling operator is specified (not blank) that are in the range of 88.9 miles of pipelines with current operator starting with gassco\n",
      "Show all pipelines where current operator != gassco as or where dimension is different from 8.0 that are within a distance of 7.2 kilometers of wellbores with source does not include dea/geus and where well type <> exploration\n",
      "List all wellbores where drilling operator <> repsol resources uk limited and name of the production facility starts with ormen that are within a distance of 11.2 miles of pipelines with current operator is unspecified\n",
      "Find wellbores that are within 90.4 meters of wellbores with drilling operator is no data available\n",
      "Find wellbores with drilling operator is specified (not blank) or name of the well is like 13 that are within a distance of 7.9 meters of wellbores\n",
      "Locate all pipelines with medium is injection that are in the range of 77.3 meters of wellbores where drilling operator is empty\n"
     ]
    }
   ],
   "execution_count": 20
  },
  {
   "cell_type": "code",
   "execution_count": null,
   "id": "061589d9-3075-42e6-9696-243d2a30a959",
   "metadata": {},
   "outputs": [],
   "source": [
    "gt = []\n",
    "pv = []\n",
    "top_k = 50\n",
    "\n",
    "for _ in trange(100):\n",
    "    line_fel = fel.create_line_0()\n",
    "    gt.append(line_fel.fel.route)\n",
    "    embedding = model.encode(line_fel.line, convert_to_tensor=True, device=model.device)\n",
    "    hits = util.semantic_search(embedding, embeddings, top_k=top_k)\n",
    "    hits = hits[0]\n",
    "    route_cnt = Counter()\n",
    "\n",
    "    for hit in hits:\n",
    "        index = hit[\"corpus_id\"]\n",
    "        feli = fels[index]\n",
    "        route = feli.route\n",
    "        route_cnt[route] += 1\n",
    "\n",
    "    match route_cnt.most_common(2):\n",
    "        case [(route, count)]:\n",
    "            pv.append(route)\n",
    "        case [(route, count1), (_, count2)]:\n",
    "            pv.append(route)"
   ]
  },
  {
   "cell_type": "code",
   "execution_count": null,
   "id": "248410ee-17fc-413d-8224-2e6a204af415",
   "metadata": {},
   "outputs": [],
   "source": [
    "accuracy = accuracy_score(gt, pv) * 100.0\n",
    "precision = precision_score(gt, pv) * 100.0\n",
    "recall = recall_score(gt, pv) * 100.0\n",
    "\n",
    "print(f\"\\n{model_name} {line_1} / {line_2} {top_k=}\\n\")\n",
    "print(f\"Accuracy:\\t{accuracy:.1f}%\")\n",
    "print(f\"Precision:\\t{precision:.1f}%\")\n",
    "print(f\"Recall:\\t\\t{recall:.1f}%\")\n",
    "\n",
    "categories = [\"FEL1\", \"FEL2\"]\n",
    "cf_matrix = confusion_matrix(gt, pv)\n",
    "ax = sns.heatmap(\n",
    "    cf_matrix / np.sum(cf_matrix),\n",
    "    fmt=\".1%\",\n",
    "    cmap=\"Blues\",\n",
    "    annot=True,\n",
    "    xticklabels=categories,\n",
    "    yticklabels=categories,\n",
    ")\n",
    "ax.set(xlabel=\"Predicted\", ylabel=\"Expected\")\n",
    "ax.xaxis.tick_top()"
   ]
  },
  {
   "cell_type": "raw",
   "id": "03f3375d-26ff-4ca3-bc5c-4de3bdba688c",
   "metadata": {},
   "source": [
    "sentence-transformers/static-retrieval-mrl-en-v1 200000 / 800000 top_k=50\n",
    "\n",
    "Accuracy:\t96.0%\n",
    "Precision:\t100.0%\n",
    "Recall:\t\t91.7%"
   ]
  },
  {
   "cell_type": "raw",
   "id": "026b13a4-518b-41cb-bf39-146acc2c1c93",
   "metadata": {},
   "source": [
    "sentence-transformers/static-retrieval-mrl-en-v1 200000 / 400000 top_k=50\n",
    "\n",
    "Accuracy:\t94.0%\n",
    "Precision:\t91.8%\n",
    "Recall:\t\t95.7%"
   ]
  },
  {
   "cell_type": "raw",
   "id": "b0d2c59f-9079-43f4-be7d-3d6995b30d03",
   "metadata": {},
   "source": [
    "sentence-transformers/static-retrieval-mrl-en-v1 200000 / 400000 top_k=50\n",
    "\n",
    "Accuracy:\t95.0%\n",
    "Precision:\t98.0%\n",
    "Recall:\t\t92.6%"
   ]
  },
  {
   "cell_type": "raw",
   "id": "d11555ad-234b-4993-92f1-d6816088a5d0",
   "metadata": {},
   "source": [
    "sentence-transformers/static-retrieval-mrl-en-v1 200000 / 300000 top_k=50\n",
    "\n",
    "Accuracy:\t95.00%\n",
    "Precision:\t100.00%\n",
    "Recall:\t\t90.91%"
   ]
  },
  {
   "cell_type": "raw",
   "id": "39b83e2b-7127-4f6c-bae6-056f1e641095",
   "metadata": {},
   "source": [
    "sentence-transformers/static-retrieval-mrl-en-v1 200000 / 300000\n",
    "\n",
    "Accuracy:\t94.00%\n",
    "Precision:\t98.28%\n",
    "Recall:\t\t91.94%"
   ]
  },
  {
   "cell_type": "raw",
   "id": "db6090b5-76a9-4af9-983a-8387416ea09a",
   "metadata": {},
   "source": [
    "sentence-transformers/static-similarity-mrl-multilingual-v1 180000 / 220000\n",
    "\n",
    "Accuracy:\t97.00%\n",
    "Precision:\t96.30%\n",
    "Recall:\t\t98.11%"
   ]
  },
  {
   "cell_type": "raw",
   "id": "cf76999a-eecb-4365-ac3e-9203ab5ded52",
   "metadata": {},
   "source": [
    "all-MiniLM-L6-v2 180000 / 220000\n",
    "\n",
    "Accuracy:\t94.00%\n",
    "Precision:\t97.62%\n",
    "Recall:\t\t89.13%"
   ]
  },
  {
   "cell_type": "raw",
   "id": "b4d6524f-8925-4be7-b280-88296094a648",
   "metadata": {},
   "source": [
    "multi-qa-mpnet-base-cos-v1 150000 / 220000\n",
    "\n",
    "Accuracy:\t94.00%\n",
    "Precision:\t100.00%\n",
    "Recall:\t\t88.46%"
   ]
  },
  {
   "cell_type": "raw",
   "id": "89d9a44b-c365-4d38-8eab-9fff138008fd",
   "metadata": {},
   "source": [
    "multi-qa-MiniLM-L6-dot-v1 150000 / 220000\n",
    "\n",
    "Accuracy:\t91.00%\n",
    "Precision:\t97.73%\n",
    "Recall:\t\t84.31%"
   ]
  },
  {
   "cell_type": "raw",
   "id": "e91a151c-15b3-4974-b95b-217abd5db33f",
   "metadata": {},
   "source": [
    "all-MiniLM-L6-v2 150000 / 180000\n",
    "\n",
    "Accuracy:\t91.00%\n",
    "Precision:\t100.00%\n",
    "Recall:\t\t83.02%"
   ]
  },
  {
   "cell_type": "raw",
   "id": "18b1d425-dd0a-4639-9023-28d97f251137",
   "metadata": {},
   "source": [
    "all-MiniLM-L6-v2 150000 / 200000\n",
    "\n",
    "Accuracy:\t92.00%\n",
    "Precision:\t100.00%\n",
    "Recall:\t\t82.98%"
   ]
  },
  {
   "cell_type": "raw",
   "id": "34eae280-985c-4162-bd56-a8a72a3298f3",
   "metadata": {},
   "source": [
    "all-MiniLM-L6-v2 100_000 / 200_000\n",
    "\n",
    "Accuracy:\t97.00%\n",
    "Precision:\t98.18%\n",
    "Recall:\t\t96.43%"
   ]
  },
  {
   "cell_type": "raw",
   "id": "81e443fb-33f7-4ef6-b555-3b945f23951b",
   "metadata": {},
   "source": [
    "all-mpnet-base-v2\n",
    "\n",
    "Accuracy:\t87.00%\n",
    "Precision:\t95.74%\n",
    "Recall:\t\t80.36%"
   ]
  },
  {
   "cell_type": "raw",
   "id": "d10af776-3ada-4a5f-ac06-df8119f2b2fe",
   "metadata": {},
   "source": [
    "multi-qa-mpnet-base-cos-v1\n",
    "\n",
    "Accuracy:\t92.00%\n",
    "Precision:\t100.00%\n",
    "Recall:\t\t86.21%"
   ]
  },
  {
   "cell_type": "raw",
   "id": "cb5246db-9742-4bd8-a99a-28012b6ec418",
   "metadata": {},
   "source": [
    "multi-qa-mpnet-base-cos-v1 100_000 / 100_000\n",
    "\n",
    "Accuracy:\t89.00%\n",
    "Precision:\t100.00%\n",
    "Recall:\t\t80.00%"
   ]
  },
  {
   "cell_type": "raw",
   "id": "65c53d7c-3119-4199-8305-e7348fdcdf7c",
   "metadata": {},
   "source": [
    "multi-qa-mpnet-base-cos-v1 1_000/5_000\n",
    "\n",
    "Accuracy:\t55.00%\n",
    "Precision:\t54.55%\n",
    "Recall:\t\t100.00%"
   ]
  },
  {
   "cell_type": "raw",
   "id": "2ff458fe-c154-43f7-8b48-ea3e2d18bcba",
   "metadata": {},
   "source": [
    "multi-qa-mpnet-base-cos-v1 10_000/50_000\n",
    "\n",
    "Accuracy:\t76.00%\n",
    "Precision:\t68.83%\n",
    "Recall:\t\t100.00%"
   ]
  },
  {
   "cell_type": "raw",
   "id": "7af571d2-d180-4321-9e9f-17b4db59556c",
   "metadata": {},
   "source": [
    "multi-qa-mpnet-base-cos-v1 25_000/50_000\n",
    "\n",
    "Accuracy:\t94.00%\n",
    "Precision:\t96.23%\n",
    "Recall:\t\t92.73%"
   ]
  },
  {
   "cell_type": "raw",
   "id": "388bc85d-3c36-4216-a029-364c87cdac93",
   "metadata": {},
   "source": [
    "multi-qa-mpnet-base-cos-v1 50_000/100_000\n",
    "\n",
    "Accuracy:\t93.00%\n",
    "Precision:\t92.59%\n",
    "Recall:\t\t94.34%"
   ]
  },
  {
   "cell_type": "raw",
   "id": "49c5942b-8b73-46f5-b2e7-ca00f1a08c26",
   "metadata": {},
   "source": [
    "multi-qa-mpnet-base-cos-v1 150_000/200_000\n",
    "\n",
    "Accuracy:\t95.00%\n",
    "Precision:\t100.00%\n",
    "Recall:\t\t88.64%"
   ]
  },
  {
   "cell_type": "raw",
   "id": "62076220-041e-4f54-88f7-36e38800b187",
   "metadata": {},
   "source": [
    "multi-qa-mpnet-base-cos-v1 120_000/200_000\n",
    "\n",
    "Accuracy:\t94.00%\n",
    "Precision:\t95.83%\n",
    "Recall:\t\t92.00%"
   ]
  },
  {
   "cell_type": "raw",
   "id": "043104fd-3ab8-4933-8fc5-be2ffe05c68b",
   "metadata": {},
   "source": [
    "multi-qa-mpnet-base-cos-v1 100_000/200_000\n",
    "\n",
    "Accuracy:\t97.00%\n",
    "Precision:\t98.08%\n",
    "Recall:\t\t96.23%"
   ]
  },
  {
   "cell_type": "raw",
   "id": "72ae05ba-35bd-41c6-b19c-9641195b0322",
   "metadata": {},
   "source": [
    "all-mpnet-base-v2 100K / 200K\n",
    "\n",
    "Accuracy:\t97.00%\n",
    "Precision:\t98.08%\n",
    "Recall:\t\t96.23%"
   ]
  }
 ],
 "metadata": {
  "kernelspec": {
   "display_name": "Python 3 (ipykernel)",
   "language": "python",
   "name": "python3"
  },
  "language_info": {
   "codemirror_mode": {
    "name": "ipython",
    "version": 3
   },
   "file_extension": ".py",
   "mimetype": "text/x-python",
   "name": "python",
   "nbconvert_exporter": "python",
   "pygments_lexer": "ipython3",
   "version": "3.11.12"
  }
 },
 "nbformat": 4,
 "nbformat_minor": 5
}
