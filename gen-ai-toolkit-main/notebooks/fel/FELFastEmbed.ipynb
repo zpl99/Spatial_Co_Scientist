{
 "cells": [
  {
   "cell_type": "markdown",
   "id": "793746ec-a641-4f3e-bd2c-d2d32311cf86",
   "metadata": {},
   "source": [
    "- https://qdrant.github.io/fastembed/qdrant/Retrieval_with_FastEmbed/#setup"
   ]
  },
  {
   "cell_type": "code",
   "execution_count": 1,
   "id": "d3fca907-c8c2-468f-ab64-2a064703e706",
   "metadata": {
    "ExecuteTime": {
     "end_time": "2025-04-21T02:44:22.360216Z",
     "start_time": "2025-04-21T02:44:22.354377Z"
    }
   },
   "outputs": [],
   "source": [
    "import warnings\n",
    "\n",
    "warnings.simplefilter(action=\"ignore\", category=FutureWarning)\n",
    "warnings.simplefilter(action=\"ignore\", category=UserWarning)"
   ]
  },
  {
   "cell_type": "code",
   "execution_count": 2,
   "id": "7fd84bf14ac9c73e",
   "metadata": {
    "ExecuteTime": {
     "end_time": "2025-04-21T02:44:26.789860Z",
     "start_time": "2025-04-21T02:44:23.393581Z"
    }
   },
   "outputs": [],
   "source": [
    "import os\n",
    "import random\n",
    "from collections import Counter\n",
    "from math import ceil\n",
    "\n",
    "import numpy as np\n",
    "import torch\n",
    "from fastembed import TextEmbedding\n",
    "from fastembed.rerank.cross_encoder import TextCrossEncoder\n",
    "from gait import FEL, FEL1, FEL2, Layers\n",
    "from rich.pretty import pprint"
   ]
  },
  {
   "cell_type": "code",
   "execution_count": null,
   "id": "89b1b092-3018-4c7a-9e12-78badd8eb5a3",
   "metadata": {},
   "outputs": [],
   "source": [
    "layers = Layers.load(\"/Users/mraad/data/NorthSea.json\").prune_layers()"
   ]
  },
  {
   "cell_type": "code",
   "execution_count": null,
   "id": "5d6ce568-1cbe-4009-a2db-2f931f332ab6",
   "metadata": {},
   "outputs": [],
   "source": [
    "fel = FEL(layers=layers)"
   ]
  },
  {
   "cell_type": "code",
   "execution_count": null,
   "id": "9e93a819-8837-4ac2-a972-ea22cc2d4a08",
   "metadata": {},
   "outputs": [],
   "source": [
    "pprint(fel.create_line_0(), expand_all=True)"
   ]
  },
  {
   "cell_type": "code",
   "execution_count": null,
   "id": "df4ddf79-5d36-4229-80d8-ee04023cacbc",
   "metadata": {},
   "outputs": [],
   "source": [
    "func = fel.create_line_0"
   ]
  },
  {
   "cell_type": "code",
   "execution_count": null,
   "id": "8bdd390f-e513-4deb-9b91-4506f1f446aa",
   "metadata": {},
   "outputs": [],
   "source": [
    "elems = [func() for _ in range(10_000)]\n",
    "elems = {_.line: _.fel for _ in elems}"
   ]
  },
  {
   "cell_type": "code",
   "execution_count": null,
   "id": "14a7a249-1b04-412d-ae56-711cbbbfd16f",
   "metadata": {},
   "outputs": [],
   "source": [
    "docs = list(elems.keys())\n",
    "fels = list(elems.values())"
   ]
  },
  {
   "cell_type": "code",
   "execution_count": null,
   "id": "d408ec29-cc31-444e-8083-dd8b151a06b3",
   "metadata": {},
   "outputs": [],
   "source": [
    "len(docs)"
   ]
  },
  {
   "cell_type": "code",
   "execution_count": null,
   "id": "815f39f3-580f-4acb-820c-81cd9eb44cc0",
   "metadata": {},
   "outputs": [],
   "source": [
    "for _ in random.choices(docs, k=3):\n",
    "    print(_)\n",
    "    print()"
   ]
  },
  {
   "cell_type": "code",
   "execution_count": null,
   "id": "68f904ac-4afd-495e-b782-6100aaf448ef",
   "metadata": {},
   "outputs": [],
   "source": [
    "text_emb = TextEmbedding(\n",
    "    model_name=\"BAAI/bge-base-en-v1.5\",\n",
    ")"
   ]
  },
  {
   "cell_type": "code",
   "execution_count": null,
   "id": "945e0285-5cee-45e3-a8af-fe23c9cfe705",
   "metadata": {},
   "outputs": [],
   "source": [
    "embeddings = list(text_emb.embed(docs, batch_size=1024, parallel=0))"
   ]
  },
  {
   "cell_type": "code",
   "execution_count": null,
   "id": "3c7a3ec5-a2d0-4897-a0de-4c33c841ecfe",
   "metadata": {},
   "outputs": [],
   "source": [
    "pprint(TextCrossEncoder.list_supported_models(), expand_all=True)"
   ]
  },
  {
   "cell_type": "code",
   "execution_count": null,
   "id": "d414f129-fd92-422d-ab36-41c82d90659b",
   "metadata": {},
   "outputs": [],
   "source": [
    "encoder = TextCrossEncoder(model_name=\"Xenova/ms-marco-MiniLM-L-12-v2\")"
   ]
  },
  {
   "cell_type": "code",
   "execution_count": null,
   "id": "63402e66-cdc3-4c39-9b1c-ff000b2f608f",
   "metadata": {},
   "outputs": [],
   "source": [
    "prompt = func().line\n",
    "print(prompt)\n",
    "embedding = next(iter(text_emb.embed(prompt)))\n",
    "similarities = np.dot(embeddings, embedding)"
   ]
  },
  {
   "cell_type": "code",
   "execution_count": null,
   "id": "2f1887fb-a20e-431b-aadd-51d59b7f1af3",
   "metadata": {},
   "outputs": [],
   "source": [
    "similarities.min(), similarities.max()"
   ]
  },
  {
   "cell_type": "code",
   "execution_count": null,
   "id": "fe89baaa-0985-4a46-896d-8753690d0c78",
   "metadata": {},
   "outputs": [],
   "source": [
    "top = 30\n",
    "indicies = similarities.argsort()[-top:]"
   ]
  },
  {
   "cell_type": "code",
   "execution_count": null,
   "id": "05ed6545-f968-4e47-a9eb-baf819bf878c",
   "metadata": {},
   "outputs": [],
   "source": [
    "new_docs = [docs[_] for _ in indicies]\n",
    "new_fels = [fels[_] for _ in indicies]"
   ]
  },
  {
   "cell_type": "code",
   "execution_count": null,
   "id": "afed8c3f-703b-42ca-9905-6d3fd90a1377",
   "metadata": {},
   "outputs": [],
   "source": [
    "new_sims = np.array(list(encoder.rerank(prompt, new_docs)))"
   ]
  },
  {
   "cell_type": "code",
   "execution_count": null,
   "id": "5cfd20f4-71b4-4936-9398-f0f83a229558",
   "metadata": {},
   "outputs": [],
   "source": [
    "for _ in new_sims.argsort()[-15:]:\n",
    "    print(new_sims[_])\n",
    "    pprint(new_fels[_], expand_all=True)"
   ]
  },
  {
   "cell_type": "code",
   "execution_count": null,
   "id": "ade763ed-3731-4283-895e-a952ef95ec91",
   "metadata": {},
   "outputs": [],
   "source": []
  }
 ],
 "metadata": {
  "kernelspec": {
   "display_name": "Python 3 (ipykernel)",
   "language": "python",
   "name": "python3"
  },
  "language_info": {
   "codemirror_mode": {
    "name": "ipython",
    "version": 3
   },
   "file_extension": ".py",
   "mimetype": "text/x-python",
   "name": "python",
   "nbconvert_exporter": "python",
   "pygments_lexer": "ipython3",
   "version": "3.11.12"
  }
 },
 "nbformat": 4,
 "nbformat_minor": 5
}
