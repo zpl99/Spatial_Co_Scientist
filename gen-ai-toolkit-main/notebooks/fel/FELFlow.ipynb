{
 "cells": [
  {
   "cell_type": "markdown",
   "id": "9edf7b211439deed",
   "metadata": {},
   "source": [
    "# Notebook to demo FELFlow."
   ]
  },
  {
   "cell_type": "markdown",
   "id": "af97e450-e56a-48eb-923f-d5a67007e17f",
   "metadata": {},
   "source": [
    "## Force the sys path to use the pip installed packages."
   ]
  },
  {
   "cell_type": "code",
   "execution_count": 1,
   "id": "e455b6c7-e8fb-47e9-8238-81eb56badfd5",
   "metadata": {},
   "outputs": [
    {
     "name": "stdout",
     "output_type": "stream",
     "text": [
      "C:\\Users\\mraad\\AppData\\Roaming\\python\\python311\\site-packages\n"
     ]
    }
   ],
   "source": [
    "import os\n",
    "import sys\n",
    "\n",
    "if \"APPDATA\" in os.environ:\n",
    "    path = os.path.join(\n",
    "            os.environ[\"APPDATA\"],\n",
    "            \"python\",\n",
    "            f\"python{sys.version_info[0]}{sys.version_info[1]}\",\n",
    "            \"site-packages\",\n",
    "        )\n",
    "    sys.path.insert(\n",
    "        0,\n",
    "        path,\n",
    "    )\n",
    "    print(path)"
   ]
  },
  {
   "cell_type": "code",
   "execution_count": 13,
   "id": "9ad89b02260f1c79",
   "metadata": {
    "ExecuteTime": {
     "end_time": "2025-04-23T21:17:01.764519Z",
     "start_time": "2025-04-23T21:16:58.139232Z"
    }
   },
   "outputs": [],
   "source": [
    "import arcpy\n",
    "import os\n",
    "\n",
    "from gait import FEL, FELFlow, FELObserverConsole, Layers\n",
    "from rich.pretty import pprint"
   ]
  },
  {
   "cell_type": "markdown",
   "id": "f7759a59-e973-4850-afb9-60859637a1d4",
   "metadata": {},
   "source": [
    "## Optionally turn on debugging."
   ]
  },
  {
   "cell_type": "code",
   "execution_count": 14,
   "id": "c6faf17c-838f-48e4-8294-32a063e02943",
   "metadata": {},
   "outputs": [],
   "source": [
    "import litellm\n",
    "\n",
    "# litellm._turn_on_debug()"
   ]
  },
  {
   "cell_type": "markdown",
   "id": "32950013-5127-47ae-a61b-3085743e4ab1",
   "metadata": {},
   "source": [
    "## Optionally turn on caching."
   ]
  },
  {
   "cell_type": "code",
   "execution_count": 15,
   "id": "57ea77e4-4036-4e43-9d0a-975d4c583dcf",
   "metadata": {},
   "outputs": [],
   "source": [
    "from litellm.caching.caching import Cache\n",
    "\n",
    "# litellm.cache = Cache()"
   ]
  },
  {
   "cell_type": "code",
   "execution_count": 16,
   "id": "8598ea48-dc41-4c07-9700-b816b74579f7",
   "metadata": {
    "ExecuteTime": {
     "end_time": "2025-04-23T21:17:03.641469Z",
     "start_time": "2025-04-23T21:17:03.638726Z"
    }
   },
   "outputs": [],
   "source": [
    "# fel_path = os.path.expanduser(\"~/data/NorthSea.json\")\n",
    "aprx = arcpy.mp.ArcGISProject(\"CURRENT\")\n",
    "fel_path = aprx.filePath.replace(\".aprx\", \".json\")"
   ]
  },
  {
   "cell_type": "code",
   "execution_count": 17,
   "id": "1342fbdb-b5b5-4eaa-8f27-bf6c8687c96f",
   "metadata": {
    "ExecuteTime": {
     "end_time": "2025-04-23T21:17:05.790696Z",
     "start_time": "2025-04-23T21:17:05.788150Z"
    }
   },
   "outputs": [],
   "source": [
    "# fel = FEL(Layers.load(fel_path))"
   ]
  },
  {
   "cell_type": "code",
   "execution_count": 18,
   "id": "1a4fd03f-c353-4f51-a62f-c3d27207cc17",
   "metadata": {
    "ExecuteTime": {
     "end_time": "2025-04-23T21:17:12.703618Z",
     "start_time": "2025-04-23T21:17:12.696667Z"
    }
   },
   "outputs": [],
   "source": [
    "# fel_line = fel()\n",
    "# pprint(fel_line, expand_all=True)"
   ]
  },
  {
   "cell_type": "markdown",
   "id": "bd62e903-29af-4f54-a577-810b61062ffe",
   "metadata": {},
   "source": [
    "## Double check the current model."
   ]
  },
  {
   "cell_type": "code",
   "execution_count": 19,
   "id": "4f396720-139e-44fc-8376-32aeb2322bb7",
   "metadata": {},
   "outputs": [
    {
     "data": {
      "text/plain": [
       "'azure/gpt-4.1'"
      ]
     },
     "execution_count": 19,
     "metadata": {},
     "output_type": "execute_result"
    }
   ],
   "source": [
    "model = \"azure/\" + os.environ[\"AZURE_API_DEPLOYMENT\"]\n",
    "model"
   ]
  },
  {
   "cell_type": "code",
   "execution_count": 20,
   "id": "80712aac-6a8c-4d8f-9231-212643d80c28",
   "metadata": {},
   "outputs": [
    {
     "name": "stdout",
     "output_type": "stream",
     "text": [
      "{\n",
      "│   'keys_in_environment': True,\n",
      "│   'missing_keys': []\n",
      "}\n"
     ]
    }
   ],
   "source": [
    "from litellm import validate_environment\n",
    "\n",
    "pprint(validate_environment(model), expand_all=True)"
   ]
  },
  {
   "cell_type": "markdown",
   "id": "a6c83103-f5bb-496f-82f3-4ca07cf5d5db",
   "metadata": {},
   "source": [
    "## Create a Flow instance."
   ]
  },
  {
   "cell_type": "code",
   "execution_count": 21,
   "id": "28914c95-a165-451c-b320-b0e4c011b9f9",
   "metadata": {
    "ExecuteTime": {
     "end_time": "2025-04-23T21:17:10.304897Z",
     "start_time": "2025-04-23T21:17:09.368220Z"
    }
   },
   "outputs": [],
   "source": [
    "flow = FELFlow(\n",
    "    fel_path=fel_path,\n",
    "    model=model,\n",
    "    observer=FELObserverConsole(),\n",
    ")"
   ]
  },
  {
   "cell_type": "markdown",
   "id": "6d76fc8d-d104-4e9b-8e2c-05b064a4e3d0",
   "metadata": {},
   "source": [
    "## Ask a question."
   ]
  },
  {
   "cell_type": "code",
   "execution_count": 22,
   "id": "2cf6809a-0af3-436d-9d85-99f7eb70908f",
   "metadata": {
    "ExecuteTime": {
     "end_time": "2025-04-23T21:17:18.932580Z",
     "start_time": "2025-04-23T21:17:15.402770Z"
    }
   },
   "outputs": [
    {
     "name": "stdout",
     "output_type": "stream",
     "text": [
      "Show discoveries where field hc type != oil/condensate that are within a distance of 25.4 feet of events by magnitude\n",
      "layer1='Discoveries' layer2='Recent Earthquakes\\\\Events by Magnitude'\n",
      "Show all wells where drilling facility that match the pattern saga\n",
      "layer1='Wells' layer2=''\n",
      "Identify all wells where completion date is before 1991\n",
      "layer1='Wells' layer2=''\n",
      "Identify pipelines with medium is like condensate that are in the range of 52.9 miles of wells\n",
      "layer1='Pipelines' layer2='Wells'\n",
      "List wells with well type is different from exploration\n",
      "layer1='Wells' layer2=''\n",
      "Find events by magnitude where depth > 8.800000190734863 that are in the range of 9.6 meters of discoveries\n",
      "layer1='Recent Earthquakes\\\\Events by Magnitude' layer2='Discoveries'\n",
      "List events by magnitude with significance above 316 that are within 85.3 kilometers of wells\n",
      "layer1='Recent Earthquakes\\\\Events by Magnitude' layer2='Wells'\n",
      "Find pipelines that are within a distance of 12.6 miles of wells\n",
      "layer1='Pipelines' layer2='Wells'\n",
      "List pipelines with medium is unspecified or dimension not exceeding 44.0 that are within 13.9 feet of wells with content is not blank\n",
      "layer1='Pipelines' layer2='Wells'\n",
      "List discoveries where included in field is specified (not blank) or where discovery hc type beginning with oil that are within a distance of 24.4 kilometers of wells with well type suffixes with exploration\n",
      "layer1='Discoveries' layer2='Wells'\n",
      "Identify all wells where casing lot is smaller than 0\n",
      "layer1='Wells' layer2=''\n",
      "List all wells with geo chem info is 1 that are within a distance of 67.9 miles of pipelines\n",
      "layer1='Wells' layer2='Pipelines'\n",
      "List all wells where well type is like exploration\n",
      "layer1='Wells' layer2=''\n",
      "Show discoveries that are within 78.7 miles of pipelines\n",
      "layer1='Discoveries' layer2='Pipelines'\n",
      "List wells that are within 52.7 miles of events by magnitude\n",
      "layer1='Wells' layer2='Recent Earthquakes\\\\Events by Magnitude'\n",
      "Show all wells with formation tops is 0 that are within a distance of 5.9 meters of events by magnitude\n",
      "layer1='Wells' layer2='Recent Earthquakes\\\\Events by Magnitude'\n",
      "Locate wells that are in the range of 9.5 feet of wells with drilling facility terminating with trym or country is specified (not blank)\n",
      "layer1='Wells' layer2='Wells'\n",
      "Show all discoveries with discovery name is blank that are within a distance of 13.8 meters of wells where purpose is like wildcat\n",
      "layer1='Discoveries' layer2='Wells'\n",
      "List wells where source starts with nlog that are in the range of 26.4 meters of pipelines\n",
      "layer1='Wells' layer2='Pipelines'\n",
      "Show all wells that are within a distance of 79.0 kilometers of pipelines\n",
      "layer1='Wells' layer2='Pipelines'\n",
      "FELLLM0::completion...\n",
      "Choices(finish_reason='stop', index=0, message=Message(content='{\"layer1\":\"Wells\",\"layer2\":\"\"}', role='assistant', tool_calls=None, function_call=None, provider_specific_fields=None, annotations=[]))\n",
      "layer1='Wells' layer2=''\n",
      "List wells with completion date between Apr 1997 and Sep 88 or where status is specified (not blank)\n",
      "layer='Wells' where=\"completion_date BETWEEN timestamp '1997-04-01' AND timestamp '1988-09-01' or status <> ''\"\n",
      "List wells where log != 1\n",
      "layer='Wells' where='log <> 1'\n",
      "List wells where formation tops < 1 or where source that match the pattern oga\n",
      "layer='Wells' where=\"formation_tops < 1 or source LIKE '%OGA%'\"\n",
      "Locate wells with entry date is not on or before March 1975 and well type is like exploration\n",
      "layer='Wells' where=\"entry_date > timestamp '1975-03-01' and well_type LIKE '%EXPLORATION%'\"\n",
      "Show all wells where core photo <> 0 and where multilateral is not no\n",
      "layer='Wells' where=\"core_photo <> 0 and multilateral <> 'NO'\"\n",
      "List all wells where core photo exceeding 0 and where well type is blank\n",
      "layer='Wells' where=\"core_photo > 0 and well_type = ''\"\n",
      "Identify all wells where status <> completed (shut in)\n",
      "layer='Wells' where=\"status <> 'COMPLETED (SHUT IN)'\"\n",
      "Find all wells where geo chem info != 1\n",
      "layer='Wells' where='geochem_info <> 1'\n",
      "List all wells where well type is blank\n",
      "layer='Wells' where=\"well_type = ''\"\n",
      "Identify wells with drilling facility does not include (2)\n",
      "layer='Wells' where=\"drilling_facility NOT LIKE '%(2)%'\"\n",
      "Show wells where symbol is 1\n",
      "layer='Wells' where='symbol = 1'\n",
      "Locate wells where formation tops is greater than 0\n",
      "layer='Wells' where='formation_tops > 0'\n",
      "Locate all wells with well type is specified (not blank)\n",
      "layer='Wells' where=\"well_type <> ''\"\n",
      "Show all wells with geo chem info is 1\n",
      "layer='Wells' where='geochem_info = 1'\n",
      "Show wells where source is specified (not blank)\n",
      "layer='Wells' where=\"source <> ''\"\n",
      "List wells where well type terminating with exploration\n",
      "layer='Wells' where=\"well_type LIKE '%EXPLORATION'\"\n",
      "Locate wells with well type <> exploration\n",
      "layer='Wells' where=\"well_type <> 'EXPLORATION'\"\n",
      "Locate wells with composite log larger than 1 or where well type starting with exploration\n",
      "layer='Wells' where=\"composite_log > 1 or well_type LIKE 'EXPLORATION%'\"\n",
      "Find all wells with geo chem info exceeding 1\n",
      "layer='Wells' where='geochem_info > 1'\n",
      "Show wells where water depth in meters larger than 93.87839986 or where well type is unspecified\n",
      "layer='Wells' where=\"water_depth > 93.87839986 or well_type = ''\"\n",
      "FELLLM1::completion...\n",
      "Choices(finish_reason='stop', index=0, message=Message(content='{\"layer\":\"Wells\",\"where\":\"water_depth > 350\"}', role='assistant', tool_calls=None, function_call=None, provider_specific_fields={'refusal': None}, annotations=[]))\n",
      "layer='Wells' where='water_depth > 350'\n",
      "FEL1(\n",
      "│   layer='Wells',\n",
      "│   where='water_depth > 350'\n",
      ")\n"
     ]
    }
   ],
   "source": [
    "fel_line = flow(\n",
    "    # prompt=fel_line.line,\n",
    "    prompt=\"Show wells with depth > 350 meters\",\n",
    ")\n",
    "\n",
    "pprint(fel_line, expand_all=True)"
   ]
  }
 ],
 "metadata": {
  "kernelspec": {
   "display_name": "Python 3 (ipykernel)",
   "language": "python",
   "name": "python3"
  },
  "language_info": {
   "codemirror_mode": {
    "name": "ipython",
    "version": 3
   },
   "file_extension": ".py",
   "mimetype": "text/x-python",
   "name": "python",
   "nbconvert_exporter": "python",
   "pygments_lexer": "ipython3",
   "version": "3.11.13"
  }
 },
 "nbformat": 4,
 "nbformat_minor": 5
}
