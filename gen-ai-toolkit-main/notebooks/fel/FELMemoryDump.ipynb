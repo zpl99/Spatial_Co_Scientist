{
 "cells": [
  {
   "cell_type": "markdown",
   "id": "67298818-d62a-4bc3-997b-c2eecb9c79b0",
   "metadata": {},
   "source": [
    "```shell\n",
    "uv pip install -U sentence_transformers\n",
    "```\n",
    "\n",
    "```shell\n",
    "uv pip install -U jupyter-ai langchain_ollama langchain_openai\n",
    "```"
   ]
  },
  {
   "cell_type": "code",
   "id": "d3fca907-c8c2-468f-ab64-2a064703e706",
   "metadata": {
    "ExecuteTime": {
     "end_time": "2025-04-23T20:58:41.429600Z",
     "start_time": "2025-04-23T20:58:41.425432Z"
    }
   },
   "source": [
    "import os\n",
    "import warnings\n",
    "\n",
    "warnings.simplefilter(action=\"ignore\", category=FutureWarning)\n",
    "warnings.simplefilter(action=\"ignore\", category=UserWarning)"
   ],
   "outputs": [],
   "execution_count": 1
  },
  {
   "cell_type": "code",
   "id": "7fd84bf14ac9c73e",
   "metadata": {
    "ExecuteTime": {
     "end_time": "2025-04-23T20:58:50.932666Z",
     "start_time": "2025-04-23T20:58:46.939234Z"
    }
   },
   "source": "from gait import FEL, FELMemory, Layers",
   "outputs": [],
   "execution_count": 2
  },
  {
   "cell_type": "code",
   "id": "e40ba841-f9dd-407d-a3d5-b53c76669232",
   "metadata": {
    "ExecuteTime": {
     "end_time": "2025-04-23T20:58:55.013557Z",
     "start_time": "2025-04-23T20:58:55.011690Z"
    }
   },
   "source": [
    "fel_path = os.path.expanduser(\"~/data/NorthSea.json\")"
   ],
   "outputs": [],
   "execution_count": 3
  },
  {
   "cell_type": "code",
   "id": "89b1b092-3018-4c7a-9e12-78badd8eb5a3",
   "metadata": {
    "ExecuteTime": {
     "end_time": "2025-04-23T20:58:57.345698Z",
     "start_time": "2025-04-23T20:58:57.342648Z"
    }
   },
   "source": [
    "fel = FEL(layers=Layers.load(fel_path))"
   ],
   "outputs": [],
   "execution_count": 4
  },
  {
   "cell_type": "code",
   "id": "acfce31d-5dc3-43d7-8e5c-874071c9779d",
   "metadata": {
    "ExecuteTime": {
     "end_time": "2025-04-23T20:59:11.371901Z",
     "start_time": "2025-04-23T20:59:10.270672Z"
    }
   },
   "source": [
    "vss = FELMemory(\n",
    "    device=\"mps\",\n",
    "    batch_size=100,\n",
    "    show_progress_bar=True,\n",
    "    overwrite_json_files=True,\n",
    "    # fel_path=fel_path,\n",
    ")"
   ],
   "outputs": [],
   "execution_count": 5
  },
  {
   "cell_type": "code",
   "id": "fa8f1373-9299-44cc-a6b6-7cd359bce438",
   "metadata": {
    "ExecuteTime": {
     "end_time": "2025-04-23T20:59:12.726950Z",
     "start_time": "2025-04-23T20:59:12.725130Z"
    }
   },
   "source": [
    "# len(vss._fel0)"
   ],
   "outputs": [],
   "execution_count": 6
  },
  {
   "cell_type": "code",
   "id": "5ca57bb1-8314-43e3-b94b-d2a289af8f1d",
   "metadata": {
    "ExecuteTime": {
     "end_time": "2025-04-23T20:59:20.844462Z",
     "start_time": "2025-04-23T20:59:20.842038Z"
    }
   },
   "source": [
    "# fel_line = fel.create_line_0()\n",
    "# pprint(fel_line)"
   ],
   "outputs": [],
   "execution_count": 7
  },
  {
   "cell_type": "code",
   "execution_count": 11,
   "id": "7a8f3aa3-3c02-456e-9c5f-d9db3e234103",
   "metadata": {},
   "outputs": [],
   "source": [
    "# pprint(vss.query_fel2(fel_line.line), expand_all=True)"
   ]
  },
  {
   "cell_type": "code",
   "id": "0afce588-0a23-40e6-9343-4921dbe6124f",
   "metadata": {
    "ExecuteTime": {
     "end_time": "2025-04-23T20:59:24.155082Z",
     "start_time": "2025-04-23T20:59:24.152616Z"
    }
   },
   "source": [
    "max_samples = 1_000"
   ],
   "outputs": [],
   "execution_count": 8
  },
  {
   "cell_type": "code",
   "id": "df4ddf79-5d36-4229-80d8-ee04023cacbc",
   "metadata": {
    "ExecuteTime": {
     "end_time": "2025-04-23T20:59:33.366715Z",
     "start_time": "2025-04-23T20:59:28.440946Z"
    }
   },
   "source": [
    "fel1 = [fel.create_line_1().to_fel0() for _ in range(max_samples // 2)]\n",
    "fel2 = [fel.create_line_2().to_fel0() for _ in range(max_samples // 2)]\n",
    "vss.create_fel0(fel1 + fel2)\n",
    "vss.create_fel1([fel.create_line_1() for _ in range(max_samples)])\n",
    "vss.create_fel2([fel.create_line_2() for _ in range(max_samples)])"
   ],
   "outputs": [
    {
     "data": {
      "text/plain": [
       "Batches:   0%|          | 0/10 [00:00<?, ?it/s]"
      ],
      "application/vnd.jupyter.widget-view+json": {
       "version_major": 2,
       "version_minor": 0,
       "model_id": "a883c05706d9444dabf4cb8d7dff3388"
      }
     },
     "metadata": {},
     "output_type": "display_data"
    },
    {
     "data": {
      "text/plain": [
       "Batches:   0%|          | 0/10 [00:00<?, ?it/s]"
      ],
      "application/vnd.jupyter.widget-view+json": {
       "version_major": 2,
       "version_minor": 0,
       "model_id": "f43c9bbf2dbc43ba95640b3877fded5c"
      }
     },
     "metadata": {},
     "output_type": "display_data"
    },
    {
     "data": {
      "text/plain": [
       "Batches:   0%|          | 0/10 [00:00<?, ?it/s]"
      ],
      "application/vnd.jupyter.widget-view+json": {
       "version_major": 2,
       "version_minor": 0,
       "model_id": "15c6c843c0cf41efb3f44252e881ef7a"
      }
     },
     "metadata": {},
     "output_type": "display_data"
    }
   ],
   "execution_count": 9
  },
  {
   "cell_type": "code",
   "id": "b5fec87d-4c49-4457-85e4-11c3c9078c1e",
   "metadata": {
    "ExecuteTime": {
     "end_time": "2025-04-23T20:59:36.540513Z",
     "start_time": "2025-04-23T20:59:36.505927Z"
    }
   },
   "source": [
    "vss.dump(fel_path)"
   ],
   "outputs": [],
   "execution_count": 10
  }
 ],
 "metadata": {
  "kernelspec": {
   "display_name": "Python 3 (ipykernel)",
   "language": "python",
   "name": "python3"
  },
  "language_info": {
   "codemirror_mode": {
    "name": "ipython",
    "version": 3
   },
   "file_extension": ".py",
   "mimetype": "text/x-python",
   "name": "python",
   "nbconvert_exporter": "python",
   "pygments_lexer": "ipython3",
   "version": "3.11.12"
  }
 },
 "nbformat": 4,
 "nbformat_minor": 5
}
