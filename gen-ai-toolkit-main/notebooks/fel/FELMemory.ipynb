{
 "cells": [
  {
   "cell_type": "code",
   "execution_count": 11,
   "id": "d3fca907-c8c2-468f-ab64-2a064703e706",
   "metadata": {
    "ExecuteTime": {
     "end_time": "2025-04-23T21:01:34.810698Z",
     "start_time": "2025-04-23T21:01:34.808614Z"
    }
   },
   "outputs": [],
   "source": [
    "import os\n",
    "import warnings\n",
    "\n",
    "warnings.simplefilter(action=\"ignore\", category=FutureWarning)\n",
    "warnings.simplefilter(action=\"ignore\", category=UserWarning)"
   ]
  },
  {
   "cell_type": "code",
   "execution_count": 12,
   "id": "7fd84bf14ac9c73e",
   "metadata": {
    "ExecuteTime": {
     "end_time": "2025-04-23T21:01:40.491341Z",
     "start_time": "2025-04-23T21:01:40.489619Z"
    }
   },
   "outputs": [],
   "source": [
    "from gait import FEL, FELMemory, Layers"
   ]
  },
  {
   "cell_type": "code",
   "execution_count": 13,
   "id": "e40ba841-f9dd-407d-a3d5-b53c76669232",
   "metadata": {
    "ExecuteTime": {
     "end_time": "2025-04-23T21:01:45.597308Z",
     "start_time": "2025-04-23T21:01:45.595434Z"
    }
   },
   "outputs": [],
   "source": [
    "fel_path = os.path.expanduser(\"~/data/NorthSea.json\")"
   ]
  },
  {
   "cell_type": "code",
   "execution_count": 4,
   "id": "89b1b092-3018-4c7a-9e12-78badd8eb5a3",
   "metadata": {
    "ExecuteTime": {
     "end_time": "2025-04-23T20:58:57.345698Z",
     "start_time": "2025-04-23T20:58:57.342648Z"
    }
   },
   "outputs": [],
   "source": [
    "fel = FEL(layers=Layers.load(fel_path))"
   ]
  },
  {
   "cell_type": "code",
   "execution_count": 14,
   "id": "acfce31d-5dc3-43d7-8e5c-874071c9779d",
   "metadata": {
    "ExecuteTime": {
     "end_time": "2025-04-23T21:02:19.009131Z",
     "start_time": "2025-04-23T21:02:18.161869Z"
    }
   },
   "outputs": [],
   "source": [
    "vss = FELMemory(\n",
    "    device=\"mps\",\n",
    "    batch_size=100,\n",
    "    show_progress_bar=True,\n",
    "    overwrite_json_files=True,\n",
    "    fel_path=fel_path,\n",
    ")"
   ]
  },
  {
   "cell_type": "code",
   "execution_count": 15,
   "id": "b5fec87d-4c49-4457-85e4-11c3c9078c1e",
   "metadata": {
    "ExecuteTime": {
     "end_time": "2025-04-23T21:03:08.639379Z",
     "start_time": "2025-04-23T21:03:08.440859Z"
    }
   },
   "outputs": [
    {
     "data": {
      "text/plain": [
       "[FELLine(line='Identify all wellbores that are in the range of 93.7 feet of discoveries', fel=FEL0(layer1='Wellbores', layer2='Discoveries')),\n",
       " FELLine(line='List all wellbores with depth in meters = 124.0 and where has oil samples = 1 that are inside discoveries with discovery type <> oil/gas', fel=FEL0(layer1='Wellbores', layer2='Discoveries')),\n",
       " FELLine(line='Show all wellbores that are in the range of 98.7 feet of pipelines', fel=FEL0(layer1='Wellbores', layer2='Pipelines')),\n",
       " FELLine(line='Locate all wellbores that are in the range of 93.7 feet of wellbores with has documentation by licensee is different from 1 or depth in meters above 72.0', fel=FEL0(layer1='Wellbores', layer2='Wellbores')),\n",
       " FELLine(line='List wellbores with well type beginning with exploration that are in the range of 1.4 kilometers of discoveries', fel=FEL0(layer1='Wellbores', layer2='Discoveries')),\n",
       " FELLine(line='List all discoveries that are in the range of 48.9 feet of wellbores', fel=FEL0(layer1='Discoveries', layer2='Wellbores')),\n",
       " FELLine(line='Identify all wellbores where depth in meters not exceeding 140.0 or where depth in meters ranging from 114.0 to 109.0', fel=FEL0(layer1='Wellbores', layer2='')),\n",
       " FELLine(line='Identify wellbores where depth in meters exceeding 28.95599996 and where well type terminated with exploration', fel=FEL0(layer1='Wellbores', layer2='')),\n",
       " FELLine(line='Identify wellbores where depth in meters exceeding 145.69439978', fel=FEL0(layer1='Wellbores', layer2='')),\n",
       " FELLine(line='List wellbores with depth in meters < 105.0', fel=FEL0(layer1='Wellbores', layer2=''))]"
      ]
     },
     "execution_count": 15,
     "metadata": {},
     "output_type": "execute_result"
    }
   ],
   "source": [
    "vss.query_fel0(\"Show all wells with depth greater than 1000m\")"
   ]
  },
  {
   "cell_type": "code",
   "execution_count": null,
   "id": "29149bbfe8eaca3a",
   "metadata": {},
   "outputs": [],
   "source": []
  }
 ],
 "metadata": {
  "kernelspec": {
   "display_name": "Python 3 (ipykernel)",
   "language": "python",
   "name": "python3"
  },
  "language_info": {
   "codemirror_mode": {
    "name": "ipython",
    "version": 3
   },
   "file_extension": ".py",
   "mimetype": "text/x-python",
   "name": "python",
   "nbconvert_exporter": "python",
   "pygments_lexer": "ipython3",
   "version": "3.11.13"
  }
 },
 "nbformat": 4,
 "nbformat_minor": 5
}
