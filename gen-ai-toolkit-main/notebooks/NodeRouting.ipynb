{
 "cells": [
  {
   "cell_type": "markdown",
   "id": "99b49433d26fe53b",
   "metadata": {},
   "source": [
    "## Notebook to route requests using nodes and flow."
   ]
  },
  {
   "cell_type": "code",
   "execution_count": 1,
   "id": "aafd41dd-853e-4e9e-a305-b75afd549a37",
   "metadata": {
    "ExecuteTime": {
     "end_time": "2025-04-21T11:48:17.205835Z",
     "start_time": "2025-04-21T11:48:15.076796Z"
    }
   },
   "outputs": [],
   "source": [
    "from textwrap import dedent\n",
    "from typing import ClassVar\n",
    "\n",
    "from pydantic import BaseModel, Field\n",
    "\n",
    "import gait as G"
   ]
  },
  {
   "cell_type": "code",
   "execution_count": 2,
   "id": "98fc4302-021a-426c-98cd-15492d6e5fb5",
   "metadata": {
    "ExecuteTime": {
     "end_time": "2025-04-21T11:48:20.866680Z",
     "start_time": "2025-04-21T11:48:20.863975Z"
    }
   },
   "outputs": [],
   "source": [
    "class Actions:\n",
    "    ROUTE: ClassVar[str] = \"route\"\n",
    "    FEL: ClassVar[str] = \"fel\""
   ]
  },
  {
   "cell_type": "code",
   "execution_count": 3,
   "id": "a2e97495-7316-43a4-9016-30734e48bc50",
   "metadata": {
    "ExecuteTime": {
     "end_time": "2025-04-21T11:48:24.408222Z",
     "start_time": "2025-04-21T11:48:24.405558Z"
    }
   },
   "outputs": [],
   "source": [
    "class ActionModel(BaseModel):\n",
    "    \"\"\"Class to represent an action identifier.\"\"\"\n",
    "\n",
    "    action: str = Field(\n",
    "        ...,\n",
    "        description=\"The action identifier.\",\n",
    "    )"
   ]
  },
  {
   "cell_type": "code",
   "execution_count": 4,
   "id": "51702794-0e92-4805-b756-ff4957e65cd1",
   "metadata": {
    "ExecuteTime": {
     "end_time": "2025-04-21T11:49:16.766597Z",
     "start_time": "2025-04-21T11:49:16.762468Z"
    }
   },
   "outputs": [],
   "source": [
    "system_inst = dedent(\n",
    "    \"\"\"\n",
    "You are an AI system that processes user questions and outputs a structured JSON response.\n",
    "Your task is to analyze the user’s input and determine the appropriate \"action\" based on the intent of the question.\n",
    "\n",
    "Instructions:\n",
    "1.\tUnderstand the user query: Analyze whether the question is about navigation (finding a route) or searching for existing locations.\n",
    "2.\tClassify the action: The output should be a JSON object containing an \"action\" field that must be one of the following:\n",
    "•\t\"route\" → If the question relates to directions, navigation, or finding a path from one place to another.\n",
    "•\t\"fel\" (Find Existing Locations) → If the question relates to searching for locations that match certain criteria, such as nearby schools, property listings, or points of interest.\n",
    "3.\tGenerate structured JSON output: Return only a valid JSON object, with no extra text.\n",
    "\n",
    "Examples (Few-Shot Learning):\n",
    "\n",
    "Example 1\n",
    "Input: “How do I get to the nearest gas station?”\n",
    "Output: {\"action\":\"route\"}\n",
    "\n",
    "Example 2\n",
    "Input: “Where are the nearest schools within 5 miles?”\n",
    "Output: {\"action\":\"fel\"}\n",
    "\n",
    "Example 3\n",
    "Input: “Show me the best way to drive to New York.”\n",
    "Output: {\"action\":\"route\"}\n",
    "\n",
    "Example 4\n",
    "Input: “List all libraries near me.”\n",
    "Output: {\"action\":\"fel\"}\n",
    "\n",
    "Example 5\n",
    "Input: “Find all properties valued over $500,000 in this city.”\n",
    "Output: {\"action\":\"fel\"}\n",
    "\n",
    "Example 6\n",
    "Input: “Give me the shortest route to the airport.”\n",
    "Output: {\"action\":\"route\"}\n",
    "\n",
    "Final Response Format:\n",
    "\n",
    "Ensure your response follows this structure:\n",
    "\n",
    "{\"action\":\"[either 'route' or 'fel']\"}\n",
    "\n",
    "Do NOT provide explanations.\n",
    "ONLY return the JSON object.\n",
    "\"\"\"\n",
    ").strip()"
   ]
  },
  {
   "cell_type": "code",
   "execution_count": 12,
   "id": "957b15b8-1b98-4d5e-aa35-a0c0697bbe57",
   "metadata": {
    "ExecuteTime": {
     "end_time": "2025-04-21T11:51:26.729698Z",
     "start_time": "2025-04-21T11:51:26.726860Z"
    }
   },
   "outputs": [],
   "source": [
    "class Start(G.Node):\n",
    "    def exec(\n",
    "            self,\n",
    "            sp: G.Scratchpad,\n",
    "    ) -> str:\n",
    "        prompt = sp[\"prompt\"]\n",
    "        agent = G.Agent(\n",
    "            # model=\"ollama_chat/gemma3:4b\",\n",
    "            model=\"ollama_chat/granite3.2:8b-instruct-q8_0\",\n",
    "            instructions=system_inst,\n",
    "            temperature=0.0,\n",
    "            response_format=ActionModel,\n",
    "        )\n",
    "        resp = agent(prompt)\n",
    "        model = ActionModel.model_validate_json(resp.content)\n",
    "        sp[\"model\"] = model\n",
    "        return model.action"
   ]
  },
  {
   "cell_type": "code",
   "execution_count": 13,
   "id": "6d1c646c-b228-4286-8b05-a45d717a18cd",
   "metadata": {
    "ExecuteTime": {
     "end_time": "2025-04-21T11:51:31.839720Z",
     "start_time": "2025-04-21T11:51:31.837727Z"
    }
   },
   "outputs": [],
   "source": [
    "class NodeRoute(G.Node):\n",
    "    def exec(\n",
    "            self,\n",
    "            sp: G.Scratchpad,\n",
    "    ) -> str:\n",
    "        print(f\"ROUTE::{sp['prompt']}\")\n",
    "        return G.Node.DEFAULT"
   ]
  },
  {
   "cell_type": "code",
   "execution_count": 14,
   "id": "bf6984e4-524e-411a-994b-830c64c45cfd",
   "metadata": {
    "ExecuteTime": {
     "end_time": "2025-04-21T11:51:35.408479Z",
     "start_time": "2025-04-21T11:51:35.406201Z"
    }
   },
   "outputs": [],
   "source": [
    "class NodeFEL(G.Node):\n",
    "    def exec(\n",
    "            self,\n",
    "            sp: G.Scratchpad,\n",
    "    ) -> str:\n",
    "        print(f\"FEL::{sp['prompt']}\")\n",
    "        return G.Node.DEFAULT"
   ]
  },
  {
   "cell_type": "code",
   "execution_count": 15,
   "id": "3189f3fd-0855-44c2-a646-7c8c459f8e73",
   "metadata": {
    "ExecuteTime": {
     "end_time": "2025-04-21T11:51:35.861131Z",
     "start_time": "2025-04-21T11:51:35.859128Z"
    }
   },
   "outputs": [],
   "source": [
    "start = Start()\n",
    "\n",
    "_ = start - \"route\" >> NodeRoute()\n",
    "_ = start - \"fel\" >> NodeFEL()"
   ]
  },
  {
   "cell_type": "code",
   "execution_count": 16,
   "id": "3853ce26-928a-44f1-b690-9b305f6149c0",
   "metadata": {
    "ExecuteTime": {
     "end_time": "2025-04-21T11:51:36.406213Z",
     "start_time": "2025-04-21T11:51:36.404477Z"
    }
   },
   "outputs": [],
   "source": [
    "flow = G.Flow(start)"
   ]
  },
  {
   "cell_type": "code",
   "execution_count": 17,
   "id": "3e11fcdc-92ea-4526-b6c5-4c424320e031",
   "metadata": {
    "ExecuteTime": {
     "end_time": "2025-04-21T11:51:43.440730Z",
     "start_time": "2025-04-21T11:51:43.437227Z"
    }
   },
   "outputs": [
    {
     "data": {
      "text/markdown": [
       "```mermaid\n",
       "flowchart LR\n",
       "4934159376[\"Start\"] -- \"route\" --> 4933004112[\"NodeRoute\"]\n",
       "4934159376[\"Start\"] -- \"fel\" --> 4933002128[\"NodeFEL\"]\n",
       "```"
      ],
      "text/plain": [
       "<IPython.core.display.Markdown object>"
      ]
     },
     "metadata": {},
     "output_type": "display_data"
    }
   ],
   "source": [
    "flow.display_markdown()"
   ]
  },
  {
   "cell_type": "code",
   "execution_count": 18,
   "id": "f0951c58-406d-40c3-a706-b48c04801a39",
   "metadata": {
    "ExecuteTime": {
     "end_time": "2025-04-21T11:51:51.749836Z",
     "start_time": "2025-04-21T11:51:45.504856Z"
    }
   },
   "outputs": [
    {
     "name": "stdout",
     "output_type": "stream",
     "text": [
      "ROUTE::How do I get to the closest library from where I am?\n"
     ]
    },
    {
     "data": {
      "text/plain": [
       "ActionModel(action='route')"
      ]
     },
     "execution_count": 18,
     "metadata": {},
     "output_type": "execute_result"
    }
   ],
   "source": [
    "flow(prompt=\"How do I get to the closest library from where I am?\")\n",
    "flow[\"model\"]"
   ]
  },
  {
   "cell_type": "code",
   "execution_count": 19,
   "id": "65bdb5d6-1a38-48cd-b768-d45d65960b15",
   "metadata": {
    "ExecuteTime": {
     "end_time": "2025-04-21T11:51:57.983651Z",
     "start_time": "2025-04-21T11:51:57.419923Z"
    }
   },
   "outputs": [
    {
     "name": "stdout",
     "output_type": "stream",
     "text": [
      "FEL::Show all parcels within 2 miles of a powerline\n"
     ]
    },
    {
     "data": {
      "text/plain": [
       "ActionModel(action='fel')"
      ]
     },
     "execution_count": 19,
     "metadata": {},
     "output_type": "execute_result"
    }
   ],
   "source": [
    "flow(prompt=\"Show all parcels within 2 miles of a powerline\")\n",
    "flow[\"model\"]"
   ]
  },
  {
   "cell_type": "code",
   "execution_count": 20,
   "id": "2dfac4f6-8115-4e10-a425-5f34639132ef",
   "metadata": {
    "ExecuteTime": {
     "end_time": "2025-04-21T11:52:04.110174Z",
     "start_time": "2025-04-21T11:52:03.558367Z"
    }
   },
   "outputs": [
    {
     "name": "stdout",
     "output_type": "stream",
     "text": [
      "ROUTE::Please show me the route between 123 main st and oak drive.\n"
     ]
    },
    {
     "data": {
      "text/plain": [
       "ActionModel(action='route')"
      ]
     },
     "execution_count": 20,
     "metadata": {},
     "output_type": "execute_result"
    }
   ],
   "source": [
    "flow(prompt=\"Please show me the route between 123 main st and oak drive.\")\n",
    "flow[\"model\"]"
   ]
  }
 ],
 "metadata": {
  "kernelspec": {
   "display_name": "Python 3 (ipykernel)",
   "language": "python",
   "name": "python3"
  },
  "language_info": {
   "codemirror_mode": {
    "name": "ipython",
    "version": 3
   },
   "file_extension": ".py",
   "mimetype": "text/x-python",
   "name": "python",
   "nbconvert_exporter": "python",
   "pygments_lexer": "ipython3",
   "version": "3.11.12"
  }
 },
 "nbformat": 4,
 "nbformat_minor": 5
}
