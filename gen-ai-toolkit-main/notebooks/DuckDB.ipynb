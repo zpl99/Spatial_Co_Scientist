{
 "cells": [
  {
   "cell_type": "code",
   "execution_count": null,
   "metadata": {},
   "outputs": [],
   "source": [
    "import os\n",
    "import arcpy\n",
    "import duckdb\n",
    "import pyarrow as pa\n",
    "\n",
    "from itables import init_notebook_mode\n",
    "from itables import show"
   ]
  },
  {
   "cell_type": "code",
   "execution_count": null,
   "metadata": {},
   "outputs": [],
   "source": [
    "init_notebook_mode(all_interactive=True)"
   ]
  },
  {
   "cell_type": "code",
   "execution_count": null,
   "metadata": {},
   "outputs": [],
   "source": [
    "project = arcpy.mp.ArcGISProject(\"CURRENT\")\n",
    "duckdb_name = project.filePath.replace(\".aprx\", \".ddb\")"
   ]
  },
  {
   "cell_type": "code",
   "execution_count": null,
   "metadata": {},
   "outputs": [],
   "source": [
    "conn = duckdb.connect(duckdb_name, read_only=True)\n",
    "_ = conn.execute(\"INSTALL spatial;LOAD spatial;\")"
   ]
  },
  {
   "cell_type": "code",
   "execution_count": null,
   "metadata": {},
   "outputs": [],
   "source": [
    "#show(\n",
    "#    conn.sql(\"SELECT * FROM duckdb_settings()\").df()\n",
    "#)"
   ]
  },
  {
   "cell_type": "code",
   "execution_count": null,
   "metadata": {},
   "outputs": [],
   "source": [
    "# sp_ref = project.activeMap.spatialReference\n",
    "sp_ref = arcpy.SpatialReference(4230)\n",
    "sp_ref"
   ]
  },
  {
   "cell_type": "markdown",
   "metadata": {},
   "source": [
    "```sql\n",
    "SELECT p.*\n",
    "FROM pipeline_layer AS p\n",
    "WHERE NOT EXISTS (\n",
    "    SELECT 1\n",
    "    FROM discovery_polygon_layer AS d\n",
    "    WHERE ST_Intersects(p.geometry, d.geometry)\n",
    ");\n",
    "```"
   ]
  },
  {
   "cell_type": "code",
   "execution_count": null,
   "metadata": {},
   "outputs": [],
   "source": [
    "pdf = conn.sql(f\"\"\"\n",
    "WITH\n",
    "L as (SELECT * FROM Pipelines),\n",
    "R as (SELECT geom FROM Discoveries)\n",
    "SELECT L.* EXCLUDE L.geom, ST_AsWKB(L.geom) SHAPE\n",
    "FROM L LEFT JOIN R\n",
    "ON ST_Intersects(L.geom, R.geom)\n",
    "WHERE R.geom is NULL\n",
    "\"\"\").df()"
   ]
  },
  {
   "cell_type": "code",
   "execution_count": null,
   "metadata": {},
   "outputs": [],
   "source": [
    "# show(pdf.drop([\"SHAPE\"], axis=\"columns\"))"
   ]
  },
  {
   "cell_type": "code",
   "execution_count": null,
   "metadata": {},
   "outputs": [],
   "source": [
    "metadata = {\"esri.encoding\": \"WKB\", \"esri.sr_wkt\": sp_ref.exportToString()}\n",
    "pa_shape = pa.field(\"SHAPE\", pa.binary(), nullable=False, metadata=metadata)"
   ]
  },
  {
   "cell_type": "code",
   "execution_count": null,
   "metadata": {},
   "outputs": [],
   "source": [
    "workspace = \"memory\"  # arcpy.env.scratchGDB\n",
    "feature_class_name = \"DeleteMe\"\n",
    "\n",
    "schema = pa.Schema.from_pandas(pdf)\n",
    "shape_index = schema.get_field_index(\"SHAPE\")\n",
    "schema = schema.set(shape_index, pa_shape)\n",
    "tab = pa.Table.from_pandas(pdf, schema=schema)\n",
    "fc = os.path.join(workspace, feature_class_name)\n",
    "arcpy.management.Delete(fc)\n",
    "arcpy.management.CopyFeatures(tab, fc)"
   ]
  },
  {
   "cell_type": "code",
   "execution_count": null,
   "metadata": {},
   "outputs": [],
   "source": [
    "conn.close()"
   ]
  }
 ],
 "metadata": {
  "kernelspec": {
   "display_name": "Python 3 (ipykernel)",
   "language": "python",
   "name": "python3"
  },
  "language_info": {
   "codemirror_mode": {
    "name": "ipython",
    "version": 3
   },
   "file_extension": ".py",
   "mimetype": "text/x-python",
   "name": "python",
   "nbconvert_exporter": "python",
   "pygments_lexer": "ipython3",
   "version": "3.11.12"
  }
 },
 "nbformat": 4,
 "nbformat_minor": 4
}
