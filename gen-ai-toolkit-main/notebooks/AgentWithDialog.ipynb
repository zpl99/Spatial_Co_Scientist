{
 "cells": [
  {
   "cell_type": "markdown",
   "id": "f877be79d6c3e842",
   "metadata": {},
   "source": [
    "## Notebook to demo Agent class with Dialog instance."
   ]
  },
  {
   "cell_type": "code",
   "execution_count": null,
   "id": "83f95a25ddc1fccb",
   "metadata": {},
   "outputs": [],
   "source": [
    "import os\n",
    "import warnings\n",
    "\n",
    "warnings.simplefilter(action=\"ignore\", category=FutureWarning)\n",
    "warnings.simplefilter(action=\"ignore\", category=UserWarning)"
   ]
  },
  {
   "cell_type": "code",
   "execution_count": null,
   "id": "5e93ce61cbbb7341",
   "metadata": {},
   "outputs": [],
   "source": [
    "from gait import Agent, Dialog"
   ]
  },
  {
   "cell_type": "code",
   "execution_count": null,
   "id": "7ed203c1-e7ce-4047-a64c-5aee27c296da",
   "metadata": {},
   "outputs": [],
   "source": [
    "model = \"gpt-4.1-nano\"\n",
    "azure_url = os.environ[\"AZURE_API_URL\"]\n",
    "azure_version = os.environ[\"AZURE_API_VERSION\"]"
   ]
  },
  {
   "cell_type": "code",
   "execution_count": null,
   "id": "5b7cdc14-d0aa-4f0d-a4b0-235c6dbe0d1b",
   "metadata": {},
   "outputs": [],
   "source": [
    "agent = Agent(\n",
    "    model=f\"azure/{model}\",\n",
    "    base_url=f\"{azure_url}/{model}\",\n",
    "    api_version=azure_version,\n",
    ")  # Default model is ollama_chat/llama3.2:latest."
   ]
  },
  {
   "cell_type": "code",
   "execution_count": null,
   "id": "91b44da8010c6c74",
   "metadata": {},
   "outputs": [],
   "source": [
    "dialog = Dialog.instance()\n",
    "dialog += \"Please respond in one short concise sentence what is the significance of the number 42!\""
   ]
  },
  {
   "cell_type": "code",
   "execution_count": null,
   "id": "2dc0ad60-fc3c-40fe-a8dc-1e3646b1872f",
   "metadata": {},
   "outputs": [],
   "source": [
    "resp = agent(dialog=dialog)"
   ]
  },
  {
   "cell_type": "code",
   "execution_count": null,
   "id": "bff7645b-7e53-4a70-8eb1-0d0962a61ebe",
   "metadata": {},
   "outputs": [],
   "source": [
    "print(resp.content)"
   ]
  }
 ],
 "metadata": {
  "kernelspec": {
   "display_name": "Python 3 (ipykernel)",
   "language": "python",
   "name": "python3"
  },
  "language_info": {
   "codemirror_mode": {
    "name": "ipython",
    "version": 3
   },
   "file_extension": ".py",
   "mimetype": "text/x-python",
   "name": "python",
   "nbconvert_exporter": "python",
   "pygments_lexer": "ipython3",
   "version": "3.11.13"
  }
 },
 "nbformat": 4,
 "nbformat_minor": 5
}
