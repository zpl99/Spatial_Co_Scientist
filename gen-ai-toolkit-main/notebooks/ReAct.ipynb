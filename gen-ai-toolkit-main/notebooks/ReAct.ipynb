{
 "cells": [
  {
   "cell_type": "markdown",
   "id": "6ec8e9a8-0fcf-4763-8aa6-4a4bcd658c43",
   "metadata": {},
   "source": [
    "# Sample Notebook to demo GeoSpatial Reasoning with Functions."
   ]
  },
  {
   "cell_type": "code",
   "execution_count": null,
   "id": "60826eff-8a61-49ac-a7f9-36a0910de9f2",
   "metadata": {},
   "outputs": [],
   "source": [
    "import warnings\n",
    "\n",
    "warnings.simplefilter(action=\"ignore\", category=FutureWarning)\n",
    "warnings.simplefilter(action=\"ignore\", category=UserWarning)"
   ]
  },
  {
   "cell_type": "code",
   "execution_count": null,
   "id": "2094d63c-5c0a-4319-98c3-a135e3a123fe",
   "metadata": {},
   "outputs": [],
   "source": [
    "import os\n",
    "import random\n",
    "import uuid\n",
    "\n",
    "import shapely\n",
    "from faker import Faker\n",
    "from gait import MAO, Agent, ObserverLoguru, Scratchpad\n",
    "from rich.pretty import pprint\n",
    "from shapely import distance\n",
    "from shapely.geometry import Point"
   ]
  },
  {
   "cell_type": "markdown",
   "id": "0b169533-4f2f-48c6-bb88-7915f856ace9",
   "metadata": {},
   "source": [
    "### Create a faker to fake cities, lat/lon values, etc..."
   ]
  },
  {
   "cell_type": "code",
   "execution_count": null,
   "id": "f7e428e5-bd16-4d79-8ff1-d74a16919a66",
   "metadata": {},
   "outputs": [],
   "source": [
    "fake = Faker()"
   ]
  },
  {
   "cell_type": "markdown",
   "id": "54d3702a-fa08-41cd-8fde-d9c60c286c6e",
   "metadata": {},
   "source": [
    "## Start defining the skills or functions that the agent will need."
   ]
  },
  {
   "cell_type": "code",
   "execution_count": null,
   "id": "61ecb63b-1c36-47da-8c17-fd9a6cfaf613",
   "metadata": {},
   "outputs": [],
   "source": [
    "def geometry_intersect(\n",
    "    geom1: str,\n",
    "    geom2: str,\n",
    "    scratchpad: Scratchpad,\n",
    ") -> str:\n",
    "    \"\"\"Check if two geometries references by their UUIDs intersect.\n",
    "    Return 'intersect' if they do, 'do not intersect' otherwise.\n",
    "\n",
    "    :param geom1: The first geometry UUID.\n",
    "    :param geom2: The second geometry UUID.\n",
    "    :param scratchpad: Inject an instance of a Scratchpad at runtime.\n",
    "    \"\"\"\n",
    "    geom_a = scratchpad[geom1]\n",
    "    geom_b = scratchpad[geom2]\n",
    "    return \"intersect\" if shapely.intersects(geom_a, geom_b) else \"do not intersect\""
   ]
  },
  {
   "cell_type": "code",
   "execution_count": null,
   "id": "5df445f6-eef6-478f-b4c3-9eac3c43efcc",
   "metadata": {},
   "outputs": [],
   "source": [
    "def geometry_intersection(\n",
    "    geom1: str,\n",
    "    geom2: str,\n",
    "    scratchpad: Scratchpad,\n",
    ") -> str:\n",
    "    \"\"\"Calculate the intersection of two geometries referenced by their UUIDs.\n",
    "    Return the intersection geometry UUID.\n",
    "\n",
    "    :param geom1: The first geometry UUID.\n",
    "    :param geom2: The second geometry UUID.\n",
    "    :param scratchpad: Inject an instance of a Scratchpad at runtime.\n",
    "    \"\"\"\n",
    "    geom_a = scratchpad[geom1]\n",
    "    geom_b = scratchpad[geom2]\n",
    "    geom_i = shapely.intersection(geom_a, geom_b)\n",
    "\n",
    "    geom_uuid = uuid.uuid1().hex\n",
    "    scratchpad[geom_uuid] = geom_i\n",
    "    return geom_uuid"
   ]
  },
  {
   "cell_type": "code",
   "execution_count": null,
   "id": "d2292b1a-73ef-4937-ae14-5c153961982a",
   "metadata": {},
   "outputs": [],
   "source": [
    "def get_current_temperature(\n",
    "    location: str,\n",
    "    unit: str,\n",
    ") -> dict:\n",
    "    \"\"\"Get the current temperature at a location.\n",
    "\n",
    "    :param location: The location. Can be a place, city, state, zipcode, country.\n",
    "    :param unit: The temperature unit. Can be either 'Fahrenheit' or 'Celsius'. Default is 'Celsius'.\n",
    "    \"\"\"\n",
    "    temp = random.uniform(-5.0, 40.0)\n",
    "    unit = {\"fahrenheit\": \"F\", \"celsius\": \"C\"}.get(unit.lower(), \"C\")\n",
    "    return {\n",
    "        \"location\": location,\n",
    "        \"temperature\": f\"{temp:.1f}{chr(176)}{unit}\",\n",
    "    }"
   ]
  },
  {
   "cell_type": "code",
   "execution_count": null,
   "id": "543caf39-d1b8-4a46-b11e-04718f4f6999",
   "metadata": {},
   "outputs": [],
   "source": [
    "def get_geometry_for_location(\n",
    "    location: str,\n",
    "    scratchpad: Scratchpad,\n",
    ") -> str:\n",
    "    \"\"\"Get the geometry UUID of a location.\n",
    "\n",
    "    :param location: The location. Can be a place, city, state, zipcode, country.\n",
    "    :param scratchpad: Inject an instance of a Scratchpad at runtime.\n",
    "    \"\"\"\n",
    "    if location not in scratchpad:\n",
    "        # Call a TRUE geocoder here, but we are faking it for now.\n",
    "        lon = float(fake.longitude())\n",
    "        lat = float(fake.latitude())\n",
    "        geom_uuid = uuid.uuid4().hex\n",
    "        scratchpad[geom_uuid] = Point(lon, lat)\n",
    "        scratchpad[location] = geom_uuid\n",
    "\n",
    "    return scratchpad[location]"
   ]
  },
  {
   "cell_type": "code",
   "execution_count": null,
   "id": "d8859418-80e4-4924-8698-92b0f64a5420",
   "metadata": {},
   "outputs": [],
   "source": [
    "def distance_in_meters(\n",
    "    geom1: str,\n",
    "    geom2: str,\n",
    "    scratchpad: Scratchpad,\n",
    ") -> dict:\n",
    "    \"\"\"Get the distance in meters between two geometries referenced by their UUID.\n",
    "\n",
    "    :param geom1: The first geometry UUID.\n",
    "    :param geom2: The second geometry UUID.\n",
    "    :param scratchpad: Inject an instance of a Scratchpad at runtime.\n",
    "    \"\"\"\n",
    "    point1 = scratchpad[geom1]\n",
    "    point2 = scratchpad[geom2]\n",
    "    meters = distance(point1, point2)\n",
    "    return {\"meters\": meters}"
   ]
  },
  {
   "cell_type": "markdown",
   "id": "fa327898-aba5-4ea6-a66e-3dcd4d9e9da1",
   "metadata": {},
   "source": [
    "## Define the system prompt."
   ]
  },
  {
   "cell_type": "code",
   "execution_count": null,
   "id": "f5538254-7bcf-4d10-abbe-155280a67dc9",
   "metadata": {},
   "outputs": [],
   "source": [
    "instructions = \"\"\"You are an AI expert in geo-spatial data analysis with access to geo-spatial tools.\n",
    "You run in a loop. At the end of the loop you output an answer.\n",
    "\n",
    "Here are the rules you should always follow to solve your task:\n",
    "- ALWAYS use the right arguments for the tools. Never use variable names, use the values instead.\n",
    "- NEVER re-do an action call that you previously did with the exact same arguments.\n",
    "- ALWAYS suffix the final answer with '<Answer/>'\n",
    "\n",
    "Now Begin! If you solve the task correctly, you will receive a reward of $1,000,000.\"\"\""
   ]
  },
  {
   "cell_type": "markdown",
   "id": "472f5682-ca5d-4dbf-82e6-943dc35adcea",
   "metadata": {},
   "source": [
    "## Define the agent - Note here we can have OpenAI, Azure, Antropic, Bedrock, etc..."
   ]
  },
  {
   "cell_type": "code",
   "execution_count": null,
   "id": "abcf93d5-2d81-4105-b38c-8b03a36bfd33",
   "metadata": {},
   "outputs": [],
   "source": [
    "model = \"gpt-4.1\"\n",
    "azure_url = os.environ[\"AZURE_API_URL\"]"
   ]
  },
  {
   "cell_type": "code",
   "execution_count": null,
   "id": "71e0ad68-ce5f-4a79-bd1b-5f64c3358108",
   "metadata": {},
   "outputs": [],
   "source": [
    "agent = Agent(\n",
    "    model=f\"azure/{model}\",\n",
    "    base_url=f\"{azure_url}/{model}\",\n",
    "    instructions=instructions,\n",
    "    functions=[\n",
    "        geometry_intersect,\n",
    "        geometry_intersection,\n",
    "        get_current_temperature,\n",
    "        get_geometry_for_location,\n",
    "        distance_in_meters,\n",
    "    ],\n",
    "    temperature=0.0,\n",
    "    stop=[\"<Answer/>\"],\n",
    ")"
   ]
  },
  {
   "cell_type": "markdown",
   "id": "8341064f-ec18-4aee-bcb0-f41b7b48f6f5",
   "metadata": {},
   "source": [
    "## Define the Multi Agent Orchestrator (MOA)."
   ]
  },
  {
   "cell_type": "code",
   "execution_count": null,
   "id": "c8c14c68-317c-44a1-8eb9-8bd9671d89c4",
   "metadata": {},
   "outputs": [],
   "source": [
    "mao = MAO(\n",
    "    agent,\n",
    "    observer=ObserverLoguru(),\n",
    ")"
   ]
  },
  {
   "cell_type": "markdown",
   "id": "a68b7b86-41ae-4199-a5d2-9528c3fbe1fe",
   "metadata": {},
   "source": [
    "## Let's start asking questions :-)"
   ]
  },
  {
   "cell_type": "code",
   "execution_count": null,
   "id": "4e2a84a7-4d3a-4d17-9e2a-278cdf96753a",
   "metadata": {},
   "outputs": [],
   "source": [
    "city1 = fake.city()\n",
    "city2 = fake.city()\n",
    "\n",
    "for _ in mao(\n",
    "    f\"What is the temperature in {city1} and in {city2} and what is the distance between them?\"\n",
    "):\n",
    "    if _.content:\n",
    "        moa.terminate()"
   ]
  },
  {
   "cell_type": "markdown",
   "id": "da2627a3-1048-4446-a567-aa5ad7f35c5c",
   "metadata": {},
   "source": [
    "## Let's see the content of the \"memory\" of the agent."
   ]
  },
  {
   "cell_type": "code",
   "execution_count": null,
   "id": "393abbf2-b8d6-4760-8182-425693baf4bc",
   "metadata": {},
   "outputs": [],
   "source": [
    "for k, v in mao.scratchpad:\n",
    "    print(k, v)"
   ]
  },
  {
   "cell_type": "markdown",
   "id": "0ba400d4-f9bb-4ee7-aa2c-deed5d43fc22",
   "metadata": {},
   "source": [
    "## Let's see the \"history\" of the agent."
   ]
  },
  {
   "cell_type": "code",
   "execution_count": null,
   "id": "501bbaa4-9ff2-4fe7-97ca-2647c6dbe2ee",
   "metadata": {},
   "outputs": [],
   "source": [
    "for _ in mao.dialog:\n",
    "    pprint(_, expand_all=True)"
   ]
  }
 ],
 "metadata": {
  "kernelspec": {
   "display_name": "Python 3 (ipykernel)",
   "language": "python",
   "name": "python3"
  },
  "language_info": {
   "codemirror_mode": {
    "name": "ipython",
    "version": 3
   },
   "file_extension": ".py",
   "mimetype": "text/x-python",
   "name": "python",
   "nbconvert_exporter": "python",
   "pygments_lexer": "ipython3",
   "version": "3.11.13"
  }
 },
 "nbformat": 4,
 "nbformat_minor": 5
}
