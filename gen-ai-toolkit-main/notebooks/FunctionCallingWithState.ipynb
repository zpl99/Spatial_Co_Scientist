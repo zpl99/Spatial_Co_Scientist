{
 "cells": [
  {
   "cell_type": "markdown",
   "id": "7a982cb1-5095-4434-8032-3f756999e0f2",
   "metadata": {},
   "source": [
    "# Notebook to demo how to maintain state in a session."
   ]
  },
  {
   "cell_type": "code",
   "execution_count": 1,
   "id": "ab47ff21-b6ea-45ab-b81b-bf201321604d",
   "metadata": {},
   "outputs": [],
   "source": [
    "import os\n",
    "import warnings\n",
    "\n",
    "warnings.simplefilter(action=\"ignore\", category=FutureWarning)\n",
    "warnings.simplefilter(action=\"ignore\", category=UserWarning)"
   ]
  },
  {
   "cell_type": "code",
   "execution_count": 2,
   "id": "b84ecc65-2eb8-4e94-a0a2-6f3c4c94a591",
   "metadata": {},
   "outputs": [],
   "source": [
    "import litellm\n",
    "from gait import MAO, Agent"
   ]
  },
  {
   "cell_type": "markdown",
   "id": "f7143484-7358-4225-b0e7-7bf8f74d3421",
   "metadata": {},
   "source": [
    "## Below is optional."
   ]
  },
  {
   "cell_type": "code",
   "execution_count": 3,
   "id": "a9ba054b-0447-415a-ac22-08f3855588d7",
   "metadata": {},
   "outputs": [],
   "source": [
    "litellm.enable_cache()"
   ]
  },
  {
   "cell_type": "markdown",
   "id": "301d046d-e13b-4d24-8366-fb8232698f19",
   "metadata": {},
   "source": [
    "## Define a tool as a class that holds a state.\n",
    "\n",
    "Make sure to docstring the class, not the `__call__` function. "
   ]
  },
  {
   "cell_type": "code",
   "execution_count": 4,
   "id": "2f7b2c89-9e9c-440b-8710-47c931e1c124",
   "metadata": {},
   "outputs": [],
   "source": [
    "class PercentageCalculator:\n",
    "    \"\"\"Calculate the percentage of a value.\n",
    "\n",
    "    :param value: The value to calculate the percentage of.\n",
    "    :param percentage: The percent value. Has to be between 0 and 100.\n",
    "    :return: The percentage value.\n",
    "    \"\"\"\n",
    "\n",
    "    def __init__(\n",
    "        self,\n",
    "        counter: int = 0,\n",
    "    ) -> None:\n",
    "        # Here we a re keeping an internal state as a counter.\n",
    "        self._counter = counter\n",
    "\n",
    "    def __call__(\n",
    "        self,\n",
    "        value: float,\n",
    "        percentage: float,\n",
    "    ) -> float:\n",
    "        # Update the internal state.\n",
    "        self._counter += 1\n",
    "        # Perform the call.\n",
    "        return value * percentage / 100.0"
   ]
  },
  {
   "cell_type": "markdown",
   "id": "2b89286f-9c81-4cff-b50e-70fffcfb80c9",
   "metadata": {},
   "source": [
    "## Define another tool."
   ]
  },
  {
   "cell_type": "code",
   "execution_count": 5,
   "id": "40441b61-0781-4d0c-8e81-db5689ea654a",
   "metadata": {},
   "outputs": [],
   "source": [
    "def subtract(\n",
    "    a: float,\n",
    "    b: float,\n",
    ") -> float:\n",
    "    \"\"\"Subtract b from a.\n",
    "\n",
    "    :param a: The value to subtract from.\n",
    "    :param b: How much to subtract from a.\n",
    "    :return: The residual.\n",
    "    \"\"\"\n",
    "    return a - b"
   ]
  },
  {
   "cell_type": "markdown",
   "id": "c65c7785-30d9-4bf5-8e34-65c3cdccece1",
   "metadata": {},
   "source": [
    "## Create an instance of the tool."
   ]
  },
  {
   "cell_type": "code",
   "execution_count": 6,
   "id": "7587f35b-5ebc-427a-82e1-07bc397f4cbd",
   "metadata": {},
   "outputs": [],
   "source": [
    "percent_calculator = PercentageCalculator()"
   ]
  },
  {
   "cell_type": "markdown",
   "id": "498ba1bb-a998-475f-b2f6-17f53800e606",
   "metadata": {},
   "source": [
    "## Create an agent with references to the tools."
   ]
  },
  {
   "cell_type": "code",
   "execution_count": 9,
   "id": "ed74aad1-fd5a-496c-8816-30542e62d61b",
   "metadata": {},
   "outputs": [
    {
     "name": "stdout",
     "output_type": "stream",
     "text": [
      "If you have 15 apples and give away 40%, you will have 9 apples left.\n"
     ]
    }
   ],
   "source": [
    "mao = MAO(\n",
    "    Agent(\n",
    "        model=f\"azure/{os.environ['AZURE_API_DEPLOYMENT']}\",\n",
    "        functions=[\n",
    "            # Reference the instance.\n",
    "            percent_calculator,\n",
    "            # reference the function.\n",
    "            subtract,\n",
    "        ],\n",
    "        temperature=0.0,\n",
    "    )\n",
    ")\n",
    "for _ in mao(\"If I have 15 apples and give away 40%, how many are left?\"):\n",
    "    if _.content:\n",
    "        mao.terminate()\n",
    "        print(_.content)"
   ]
  },
  {
   "cell_type": "markdown",
   "id": "515113a0-10d2-42bf-b40b-9e8042a20edb",
   "metadata": {},
   "source": [
    "## Display the internal state.\n",
    "\n",
    "Note: call the above cell again, and see the state change :-)"
   ]
  },
  {
   "cell_type": "code",
   "execution_count": 10,
   "id": "bd5d6c3e-352a-45aa-802a-321aacff447f",
   "metadata": {},
   "outputs": [
    {
     "data": {
      "text/plain": [
       "2"
      ]
     },
     "execution_count": 10,
     "metadata": {},
     "output_type": "execute_result"
    }
   ],
   "source": [
    "percent_calculator._counter"
   ]
  }
 ],
 "metadata": {
  "kernelspec": {
   "display_name": "Python 3 (ipykernel)",
   "language": "python",
   "name": "python3"
  },
  "language_info": {
   "codemirror_mode": {
    "name": "ipython",
    "version": 3
   },
   "file_extension": ".py",
   "mimetype": "text/x-python",
   "name": "python",
   "nbconvert_exporter": "python",
   "pygments_lexer": "ipython3",
   "version": "3.11.13"
  }
 },
 "nbformat": 4,
 "nbformat_minor": 5
}
