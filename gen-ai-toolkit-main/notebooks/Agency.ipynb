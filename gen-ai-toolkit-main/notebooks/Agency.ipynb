{
 "cells": [
  {
   "cell_type": "markdown",
   "id": "c4d5ec89cdae9856",
   "metadata": {},
   "source": [
    "# Yet another example of Agency."
   ]
  },
  {
   "cell_type": "code",
   "execution_count": 1,
   "id": "b8863efc-07c4-4fef-8940-0862a5283f6c",
   "metadata": {},
   "outputs": [],
   "source": [
    "import os\n",
    "import warnings\n",
    "\n",
    "warnings.simplefilter(action=\"ignore\", category=FutureWarning)\n",
    "warnings.simplefilter(action=\"ignore\", category=UserWarning)"
   ]
  },
  {
   "cell_type": "code",
   "execution_count": 2,
   "id": "89d481e0e64c9310",
   "metadata": {},
   "outputs": [],
   "source": [
    "import os\n",
    "import textwrap\n",
    "import uuid\n",
    "\n",
    "import shapely\n",
    "from gait import Agency, Agent, ObserverLoguru, OperatorLiteLLM, Scratchpad\n",
    "from rich.pretty import pprint"
   ]
  },
  {
   "cell_type": "code",
   "execution_count": 3,
   "id": "58fada65-d8ed-41d7-83e1-7a52ef4f5d96",
   "metadata": {},
   "outputs": [],
   "source": [
    "suffix = \"gpt-4.1-mini\"\n",
    "model = f\"azure/{suffix}\"\n",
    "api_base = f\"{os.environ['AZURE_API_URL']}/{suffix}\""
   ]
  },
  {
   "cell_type": "markdown",
   "id": "f7874b9e-bbd8-439b-b75b-0059807a8518",
   "metadata": {},
   "source": [
    "## Define the functions needed by the agents."
   ]
  },
  {
   "cell_type": "code",
   "execution_count": 4,
   "id": "4fca2767-7ea4-4a9f-beb7-ac8b051c64f9",
   "metadata": {},
   "outputs": [],
   "source": [
    "def buffer_geometry(\n",
    "    geom_uuid: str,\n",
    "    distance_in_meters: float,\n",
    "    scratchpad: Scratchpad,\n",
    ") -> str:\n",
    "    \"\"\"Buffer a geometry referenced by a UUID by a distance in meters.\n",
    "    Return the buffered geometry UUID.\n",
    "\n",
    "    :param geom_uuid: UUID of a geometry to buffer.\n",
    "    :param distance_in_meters: The buffer distance in meters.\n",
    "    :param scratchpad: Scratchpad instance injected at runtime.\n",
    "    \"\"\"\n",
    "    geom = scratchpad[geom_uuid]\n",
    "    buff = shapely.buffer(geom, distance_in_meters)\n",
    "    buff_uuid = str(uuid.uuid4())\n",
    "    scratchpad[buff_uuid] = buff\n",
    "    return buff_uuid"
   ]
  },
  {
   "cell_type": "code",
   "execution_count": 5,
   "id": "9549eb4e-a8ac-4244-adb4-ab8642e1296b",
   "metadata": {},
   "outputs": [],
   "source": [
    "buffer_agent = Agent(\n",
    "    model=model,\n",
    "    name=\"BufferAgent\",\n",
    "    description=\"Buffer a geometry UUID by a distance\",\n",
    "    instructions=\"Buffer a geometry referenced by a UUID by a distance in meters.\",\n",
    "    functions=[buffer_geometry],\n",
    "    api_base=api_base,\n",
    "    temperature=0.0,\n",
    "    tool_choice=\"required\",\n",
    ")"
   ]
  },
  {
   "cell_type": "code",
   "execution_count": 6,
   "id": "b3188076-6ab8-485b-88f0-828b061a9289",
   "metadata": {},
   "outputs": [],
   "source": [
    "def wkt_to_geometry(\n",
    "    wkt: str,\n",
    "    scratchpad: Scratchpad,\n",
    ") -> str:\n",
    "    \"\"\"Parse WKT string into a geometry UUID.\n",
    "    The following are WKT string samples:\n",
    "    POINT (30 10)\n",
    "    LINESTRING (30 10, 10 30, 40 40)\n",
    "    POLYGON ((30 10, 40 40, 20 40, 10 20, 30 10))\n",
    "\n",
    "    :param wkt: The well known text to convert to a geometry UUID.\n",
    "    :param scratchpad:  Scratchpad instance injected at runtime.\n",
    "    \"\"\"\n",
    "    geom = shapely.from_wkt(wkt, on_invalid=\"ignore\")\n",
    "    geom_uuid = str(uuid.uuid4())\n",
    "    scratchpad[geom_uuid] = geom\n",
    "    return geom_uuid"
   ]
  },
  {
   "cell_type": "code",
   "execution_count": 7,
   "id": "3589cd21-ac59-400b-bdd7-b4b21790e9bc",
   "metadata": {},
   "outputs": [],
   "source": [
    "wkt_agent = Agent(\n",
    "    model=model,\n",
    "    name=\"WKTAgent\",\n",
    "    description=textwrap.dedent(\n",
    "        \"\"\"\n",
    "    Convert WKT string to geometry UUID.\n",
    "    \n",
    "    The following are WKT string samples:\n",
    "    POINT (30 10)\n",
    "    LINESTRING (30 10, 10 30, 40 40)\n",
    "    POLYGON ((30 10, 40 40, 20 40, 10 20, 30 10))    \n",
    "    \"\"\"\n",
    "    ),\n",
    "    functions=[wkt_to_geometry],\n",
    "    api_base=api_base,\n",
    "    temperature=0.0,\n",
    "    tool_choice=\"required\",\n",
    ")"
   ]
  },
  {
   "cell_type": "code",
   "execution_count": 8,
   "id": "11cf6f01-8a4b-442e-a94c-8aea2e05db1a",
   "metadata": {},
   "outputs": [],
   "source": [
    "report_agent = Agent(\n",
    "    model=model,\n",
    "    name=\"ReportAgent\",\n",
    "    description=\"\"\"Use this agent to report the final answer. Make sure to suffix the final answer with <ANSWER/>\"\"\",\n",
    "    api_base=api_base,\n",
    "    temperature=0.2,\n",
    "    stop=[\"<ANSWER/>\"],\n",
    ")"
   ]
  },
  {
   "cell_type": "markdown",
   "id": "08f998da-5900-457a-a0c4-7064f594e37a",
   "metadata": {},
   "source": [
    "## Define the operator with reference to all the handoff agents."
   ]
  },
  {
   "cell_type": "code",
   "execution_count": 9,
   "id": "c806360a-f115-41da-9be6-15866014eee7",
   "metadata": {},
   "outputs": [],
   "source": [
    "operator = OperatorLiteLLM(\n",
    "    model,\n",
    "    agents=[report_agent, buffer_agent, wkt_agent],\n",
    "    api_base=api_base,\n",
    "    tool_choice=\"required\",\n",
    ")"
   ]
  },
  {
   "cell_type": "markdown",
   "id": "33e45765-cd1c-4155-86cb-cf9c11858a78",
   "metadata": {},
   "source": [
    "## Run the agency."
   ]
  },
  {
   "cell_type": "code",
   "execution_count": 10,
   "id": "e3ab4811-38bc-4233-bec1-52ea3ff87241",
   "metadata": {},
   "outputs": [
    {
     "name": "stderr",
     "output_type": "stream",
     "text": [
      "12:49:35 | INFO | GAIT started.\n",
      "12:49:36 | INFO | Iteration 1 (WKTAgent) started.\n",
      "12:49:37 | INFO | Content: None\n",
      "12:49:37 | INFO | Function: wkt_to_geometry({\"wkt\":\"POINT(10 5)\"})\n",
      "12:49:37 | INFO | Observation: d21ef603-e1ce-4681-b2b0-7f19d5e9266e\n",
      "12:49:37 | INFO | Iteration 2 (BufferAgent) started.\n",
      "12:49:37 | INFO | Handoff from WKTAgent to BufferAgent.\n",
      "12:49:38 | INFO | Content: None\n",
      "12:49:38 | INFO | Function: buffer_geometry({\"geom_uuid\":\"d21ef603-e1ce-4681-b2b0-7f19d5e9266e\",\"distance_in_meters\":10})\n",
      "12:49:38 | INFO | Observation: 03f3d348-1194-45ab-bb29-ef412d5ea7e3\n",
      "12:49:38 | INFO | Iteration 3 (ReportAgent) started.\n",
      "12:49:38 | INFO | Handoff from BufferAgent to ReportAgent.\n",
      "12:49:39 | INFO | Content: The UUID of the buffer of WKT POINT(10 5) by 10 meters is 03f3d348-1194-45ab-bb29-ef412d5ea7e3\n",
      "12:49:39 | INFO | GAIT ended after 3 iterations.\n"
     ]
    },
    {
     "name": "stdout",
     "output_type": "stream",
     "text": [
      "The UUID of the buffer of WKT POINT(10 5) by 10 meters is 03f3d348-1194-45ab-bb29-ef412d5ea7e3\n"
     ]
    }
   ],
   "source": [
    "agency = Agency(operator, observer=ObserverLoguru())\n",
    "\n",
    "for _ in agency(\"Get the UUID of the buffer of WKT POINT(10 5) by 10 meters.\"):\n",
    "    if _.agent == report_agent:\n",
    "        agency.terminate()\n",
    "        print(_.content)"
   ]
  },
  {
   "cell_type": "markdown",
   "id": "446c3999ebfb4f5c",
   "metadata": {},
   "source": [
    "### Get the messages in the dialog."
   ]
  },
  {
   "cell_type": "code",
   "execution_count": 11,
   "id": "a43809dc-f9f6-4c4d-b209-dc9999390488",
   "metadata": {},
   "outputs": [
    {
     "data": {
      "text/html": [
       "<pre style=\"white-space:pre;overflow-x:auto;line-height:normal;font-family:Menlo,'DejaVu Sans Mono',consolas,'Courier New',monospace\"><span style=\"font-weight: bold\">{</span>\n",
       "<span style=\"color: #7fbf7f; text-decoration-color: #7fbf7f\">│   </span><span style=\"color: #008000; text-decoration-color: #008000\">'role'</span>: <span style=\"color: #008000; text-decoration-color: #008000\">'user'</span>,\n",
       "<span style=\"color: #7fbf7f; text-decoration-color: #7fbf7f\">│   </span><span style=\"color: #008000; text-decoration-color: #008000\">'content'</span>: <span style=\"color: #008000; text-decoration-color: #008000\">'Get the UUID of the buffer of WKT POINT(10 5) by 10 meters.'</span>\n",
       "<span style=\"font-weight: bold\">}</span>\n",
       "</pre>\n"
      ],
      "text/plain": [
       "\u001b[1m{\u001b[0m\n",
       "\u001b[2;32m│   \u001b[0m\u001b[32m'role'\u001b[0m: \u001b[32m'user'\u001b[0m,\n",
       "\u001b[2;32m│   \u001b[0m\u001b[32m'content'\u001b[0m: \u001b[32m'Get the UUID of the buffer of WKT POINT\u001b[0m\u001b[32m(\u001b[0m\u001b[32m10 5\u001b[0m\u001b[32m)\u001b[0m\u001b[32m by 10 meters.'\u001b[0m\n",
       "\u001b[1m}\u001b[0m\n"
      ]
     },
     "metadata": {},
     "output_type": "display_data"
    },
    {
     "data": {
      "text/html": [
       "<pre style=\"white-space:pre;overflow-x:auto;line-height:normal;font-family:Menlo,'DejaVu Sans Mono',consolas,'Courier New',monospace\"><span style=\"color: #800080; text-decoration-color: #800080; font-weight: bold\">Message</span><span style=\"font-weight: bold\">(</span>\n",
       "<span style=\"color: #7fbf7f; text-decoration-color: #7fbf7f\">│   </span><span style=\"color: #808000; text-decoration-color: #808000\">content</span>=<span style=\"color: #800080; text-decoration-color: #800080; font-style: italic\">None</span>,\n",
       "<span style=\"color: #7fbf7f; text-decoration-color: #7fbf7f\">│   </span><span style=\"color: #808000; text-decoration-color: #808000\">role</span>=<span style=\"color: #008000; text-decoration-color: #008000\">'assistant'</span>,\n",
       "<span style=\"color: #7fbf7f; text-decoration-color: #7fbf7f\">│   </span><span style=\"color: #808000; text-decoration-color: #808000\">tool_calls</span>=<span style=\"font-weight: bold\">[</span>\n",
       "<span style=\"color: #7fbf7f; text-decoration-color: #7fbf7f\">│   │   </span><span style=\"font-weight: bold\">{</span>\n",
       "<span style=\"color: #7fbf7f; text-decoration-color: #7fbf7f\">│   │   │   </span><span style=\"color: #008000; text-decoration-color: #008000\">'function'</span>: <span style=\"font-weight: bold\">{</span>\n",
       "<span style=\"color: #7fbf7f; text-decoration-color: #7fbf7f\">│   │   │   │   </span><span style=\"color: #008000; text-decoration-color: #008000\">'arguments'</span>: <span style=\"color: #008000; text-decoration-color: #008000\">'{\"wkt\":\"POINT(10 5)\"}'</span>,\n",
       "<span style=\"color: #7fbf7f; text-decoration-color: #7fbf7f\">│   │   │   │   </span><span style=\"color: #008000; text-decoration-color: #008000\">'name'</span>: <span style=\"color: #008000; text-decoration-color: #008000\">'wkt_to_geometry'</span>\n",
       "<span style=\"color: #7fbf7f; text-decoration-color: #7fbf7f\">│   │   │   </span><span style=\"font-weight: bold\">}</span>,\n",
       "<span style=\"color: #7fbf7f; text-decoration-color: #7fbf7f\">│   │   │   </span><span style=\"color: #008000; text-decoration-color: #008000\">'id'</span>: <span style=\"color: #008000; text-decoration-color: #008000\">'call_cKg4ZW0uDyXyHD3ydODNhiHV'</span>,\n",
       "<span style=\"color: #7fbf7f; text-decoration-color: #7fbf7f\">│   │   │   </span><span style=\"color: #008000; text-decoration-color: #008000\">'type'</span>: <span style=\"color: #008000; text-decoration-color: #008000\">'function'</span>\n",
       "<span style=\"color: #7fbf7f; text-decoration-color: #7fbf7f\">│   │   </span><span style=\"font-weight: bold\">}</span>\n",
       "<span style=\"color: #7fbf7f; text-decoration-color: #7fbf7f\">│   </span><span style=\"font-weight: bold\">]</span>,\n",
       "<span style=\"color: #7fbf7f; text-decoration-color: #7fbf7f\">│   </span><span style=\"color: #808000; text-decoration-color: #808000\">function_call</span>=<span style=\"color: #800080; text-decoration-color: #800080; font-style: italic\">None</span>,\n",
       "<span style=\"color: #7fbf7f; text-decoration-color: #7fbf7f\">│   </span><span style=\"color: #808000; text-decoration-color: #808000\">provider_specific_fields</span>=<span style=\"font-weight: bold\">{</span>\n",
       "<span style=\"color: #7fbf7f; text-decoration-color: #7fbf7f\">│   │   </span><span style=\"color: #008000; text-decoration-color: #008000\">'refusal'</span>: <span style=\"color: #800080; text-decoration-color: #800080; font-style: italic\">None</span>\n",
       "<span style=\"color: #7fbf7f; text-decoration-color: #7fbf7f\">│   </span><span style=\"font-weight: bold\">}</span>,\n",
       "<span style=\"color: #7fbf7f; text-decoration-color: #7fbf7f\">│   </span><span style=\"color: #808000; text-decoration-color: #808000\">annotations</span>=<span style=\"font-weight: bold\">[]</span>\n",
       "<span style=\"font-weight: bold\">)</span>\n",
       "</pre>\n"
      ],
      "text/plain": [
       "\u001b[1;35mMessage\u001b[0m\u001b[1m(\u001b[0m\n",
       "\u001b[2;32m│   \u001b[0m\u001b[33mcontent\u001b[0m=\u001b[3;35mNone\u001b[0m,\n",
       "\u001b[2;32m│   \u001b[0m\u001b[33mrole\u001b[0m=\u001b[32m'assistant'\u001b[0m,\n",
       "\u001b[2;32m│   \u001b[0m\u001b[33mtool_calls\u001b[0m=\u001b[1m[\u001b[0m\n",
       "\u001b[2;32m│   │   \u001b[0m\u001b[1m{\u001b[0m\n",
       "\u001b[2;32m│   │   │   \u001b[0m\u001b[32m'function'\u001b[0m: \u001b[1m{\u001b[0m\n",
       "\u001b[2;32m│   │   │   │   \u001b[0m\u001b[32m'arguments'\u001b[0m: \u001b[32m'\u001b[0m\u001b[32m{\u001b[0m\u001b[32m\"wkt\":\"POINT\u001b[0m\u001b[32m(\u001b[0m\u001b[32m10 5\u001b[0m\u001b[32m)\u001b[0m\u001b[32m\"\u001b[0m\u001b[32m}\u001b[0m\u001b[32m'\u001b[0m,\n",
       "\u001b[2;32m│   │   │   │   \u001b[0m\u001b[32m'name'\u001b[0m: \u001b[32m'wkt_to_geometry'\u001b[0m\n",
       "\u001b[2;32m│   │   │   \u001b[0m\u001b[1m}\u001b[0m,\n",
       "\u001b[2;32m│   │   │   \u001b[0m\u001b[32m'id'\u001b[0m: \u001b[32m'call_cKg4ZW0uDyXyHD3ydODNhiHV'\u001b[0m,\n",
       "\u001b[2;32m│   │   │   \u001b[0m\u001b[32m'type'\u001b[0m: \u001b[32m'function'\u001b[0m\n",
       "\u001b[2;32m│   │   \u001b[0m\u001b[1m}\u001b[0m\n",
       "\u001b[2;32m│   \u001b[0m\u001b[1m]\u001b[0m,\n",
       "\u001b[2;32m│   \u001b[0m\u001b[33mfunction_call\u001b[0m=\u001b[3;35mNone\u001b[0m,\n",
       "\u001b[2;32m│   \u001b[0m\u001b[33mprovider_specific_fields\u001b[0m=\u001b[1m{\u001b[0m\n",
       "\u001b[2;32m│   │   \u001b[0m\u001b[32m'refusal'\u001b[0m: \u001b[3;35mNone\u001b[0m\n",
       "\u001b[2;32m│   \u001b[0m\u001b[1m}\u001b[0m,\n",
       "\u001b[2;32m│   \u001b[0m\u001b[33mannotations\u001b[0m=\u001b[1m[\u001b[0m\u001b[1m]\u001b[0m\n",
       "\u001b[1m)\u001b[0m\n"
      ]
     },
     "metadata": {},
     "output_type": "display_data"
    },
    {
     "data": {
      "text/html": [
       "<pre style=\"white-space:pre;overflow-x:auto;line-height:normal;font-family:Menlo,'DejaVu Sans Mono',consolas,'Courier New',monospace\"><span style=\"font-weight: bold\">{</span>\n",
       "<span style=\"color: #7fbf7f; text-decoration-color: #7fbf7f\">│   </span><span style=\"color: #008000; text-decoration-color: #008000\">'role'</span>: <span style=\"color: #008000; text-decoration-color: #008000\">'tool'</span>,\n",
       "<span style=\"color: #7fbf7f; text-decoration-color: #7fbf7f\">│   </span><span style=\"color: #008000; text-decoration-color: #008000\">'content'</span>: <span style=\"color: #008000; text-decoration-color: #008000\">'d21ef603-e1ce-4681-b2b0-7f19d5e9266e'</span>,\n",
       "<span style=\"color: #7fbf7f; text-decoration-color: #7fbf7f\">│   </span><span style=\"color: #008000; text-decoration-color: #008000\">'name'</span>: <span style=\"color: #008000; text-decoration-color: #008000\">'wkt_to_geometry'</span>,\n",
       "<span style=\"color: #7fbf7f; text-decoration-color: #7fbf7f\">│   </span><span style=\"color: #008000; text-decoration-color: #008000\">'tool_call_id'</span>: <span style=\"color: #008000; text-decoration-color: #008000\">'call_cKg4ZW0uDyXyHD3ydODNhiHV'</span>\n",
       "<span style=\"font-weight: bold\">}</span>\n",
       "</pre>\n"
      ],
      "text/plain": [
       "\u001b[1m{\u001b[0m\n",
       "\u001b[2;32m│   \u001b[0m\u001b[32m'role'\u001b[0m: \u001b[32m'tool'\u001b[0m,\n",
       "\u001b[2;32m│   \u001b[0m\u001b[32m'content'\u001b[0m: \u001b[32m'd21ef603-e1ce-4681-b2b0-7f19d5e9266e'\u001b[0m,\n",
       "\u001b[2;32m│   \u001b[0m\u001b[32m'name'\u001b[0m: \u001b[32m'wkt_to_geometry'\u001b[0m,\n",
       "\u001b[2;32m│   \u001b[0m\u001b[32m'tool_call_id'\u001b[0m: \u001b[32m'call_cKg4ZW0uDyXyHD3ydODNhiHV'\u001b[0m\n",
       "\u001b[1m}\u001b[0m\n"
      ]
     },
     "metadata": {},
     "output_type": "display_data"
    },
    {
     "data": {
      "text/html": [
       "<pre style=\"white-space:pre;overflow-x:auto;line-height:normal;font-family:Menlo,'DejaVu Sans Mono',consolas,'Courier New',monospace\"><span style=\"color: #800080; text-decoration-color: #800080; font-weight: bold\">Message</span><span style=\"font-weight: bold\">(</span>\n",
       "<span style=\"color: #7fbf7f; text-decoration-color: #7fbf7f\">│   </span><span style=\"color: #808000; text-decoration-color: #808000\">content</span>=<span style=\"color: #800080; text-decoration-color: #800080; font-style: italic\">None</span>,\n",
       "<span style=\"color: #7fbf7f; text-decoration-color: #7fbf7f\">│   </span><span style=\"color: #808000; text-decoration-color: #808000\">role</span>=<span style=\"color: #008000; text-decoration-color: #008000\">'assistant'</span>,\n",
       "<span style=\"color: #7fbf7f; text-decoration-color: #7fbf7f\">│   </span><span style=\"color: #808000; text-decoration-color: #808000\">tool_calls</span>=<span style=\"font-weight: bold\">[</span>\n",
       "<span style=\"color: #7fbf7f; text-decoration-color: #7fbf7f\">│   │   </span><span style=\"font-weight: bold\">{</span>\n",
       "<span style=\"color: #7fbf7f; text-decoration-color: #7fbf7f\">│   │   │   </span><span style=\"color: #008000; text-decoration-color: #008000\">'function'</span>: <span style=\"font-weight: bold\">{</span>\n",
       "<span style=\"color: #7fbf7f; text-decoration-color: #7fbf7f\">│   │   │   │   </span><span style=\"color: #008000; text-decoration-color: #008000\">'arguments'</span>: <span style=\"color: #008000; text-decoration-color: #008000\">'{\"geom_uuid\":\"d21ef603-e1ce-4681-b2b0-7f19d5e9266e\",\"distance_in_meters\":10}'</span>,\n",
       "<span style=\"color: #7fbf7f; text-decoration-color: #7fbf7f\">│   │   │   │   </span><span style=\"color: #008000; text-decoration-color: #008000\">'name'</span>: <span style=\"color: #008000; text-decoration-color: #008000\">'buffer_geometry'</span>\n",
       "<span style=\"color: #7fbf7f; text-decoration-color: #7fbf7f\">│   │   │   </span><span style=\"font-weight: bold\">}</span>,\n",
       "<span style=\"color: #7fbf7f; text-decoration-color: #7fbf7f\">│   │   │   </span><span style=\"color: #008000; text-decoration-color: #008000\">'id'</span>: <span style=\"color: #008000; text-decoration-color: #008000\">'call_a0jqaOLZKf04h3W0oNltXkaW'</span>,\n",
       "<span style=\"color: #7fbf7f; text-decoration-color: #7fbf7f\">│   │   │   </span><span style=\"color: #008000; text-decoration-color: #008000\">'type'</span>: <span style=\"color: #008000; text-decoration-color: #008000\">'function'</span>\n",
       "<span style=\"color: #7fbf7f; text-decoration-color: #7fbf7f\">│   │   </span><span style=\"font-weight: bold\">}</span>\n",
       "<span style=\"color: #7fbf7f; text-decoration-color: #7fbf7f\">│   </span><span style=\"font-weight: bold\">]</span>,\n",
       "<span style=\"color: #7fbf7f; text-decoration-color: #7fbf7f\">│   </span><span style=\"color: #808000; text-decoration-color: #808000\">function_call</span>=<span style=\"color: #800080; text-decoration-color: #800080; font-style: italic\">None</span>,\n",
       "<span style=\"color: #7fbf7f; text-decoration-color: #7fbf7f\">│   </span><span style=\"color: #808000; text-decoration-color: #808000\">provider_specific_fields</span>=<span style=\"font-weight: bold\">{</span>\n",
       "<span style=\"color: #7fbf7f; text-decoration-color: #7fbf7f\">│   │   </span><span style=\"color: #008000; text-decoration-color: #008000\">'refusal'</span>: <span style=\"color: #800080; text-decoration-color: #800080; font-style: italic\">None</span>\n",
       "<span style=\"color: #7fbf7f; text-decoration-color: #7fbf7f\">│   </span><span style=\"font-weight: bold\">}</span>,\n",
       "<span style=\"color: #7fbf7f; text-decoration-color: #7fbf7f\">│   </span><span style=\"color: #808000; text-decoration-color: #808000\">annotations</span>=<span style=\"font-weight: bold\">[]</span>\n",
       "<span style=\"font-weight: bold\">)</span>\n",
       "</pre>\n"
      ],
      "text/plain": [
       "\u001b[1;35mMessage\u001b[0m\u001b[1m(\u001b[0m\n",
       "\u001b[2;32m│   \u001b[0m\u001b[33mcontent\u001b[0m=\u001b[3;35mNone\u001b[0m,\n",
       "\u001b[2;32m│   \u001b[0m\u001b[33mrole\u001b[0m=\u001b[32m'assistant'\u001b[0m,\n",
       "\u001b[2;32m│   \u001b[0m\u001b[33mtool_calls\u001b[0m=\u001b[1m[\u001b[0m\n",
       "\u001b[2;32m│   │   \u001b[0m\u001b[1m{\u001b[0m\n",
       "\u001b[2;32m│   │   │   \u001b[0m\u001b[32m'function'\u001b[0m: \u001b[1m{\u001b[0m\n",
       "\u001b[2;32m│   │   │   │   \u001b[0m\u001b[32m'arguments'\u001b[0m: \u001b[32m'\u001b[0m\u001b[32m{\u001b[0m\u001b[32m\"geom_uuid\":\"d21ef603-e1ce-4681-b2b0-7f19d5e9266e\",\"distance_in_meters\":10\u001b[0m\u001b[32m}\u001b[0m\u001b[32m'\u001b[0m,\n",
       "\u001b[2;32m│   │   │   │   \u001b[0m\u001b[32m'name'\u001b[0m: \u001b[32m'buffer_geometry'\u001b[0m\n",
       "\u001b[2;32m│   │   │   \u001b[0m\u001b[1m}\u001b[0m,\n",
       "\u001b[2;32m│   │   │   \u001b[0m\u001b[32m'id'\u001b[0m: \u001b[32m'call_a0jqaOLZKf04h3W0oNltXkaW'\u001b[0m,\n",
       "\u001b[2;32m│   │   │   \u001b[0m\u001b[32m'type'\u001b[0m: \u001b[32m'function'\u001b[0m\n",
       "\u001b[2;32m│   │   \u001b[0m\u001b[1m}\u001b[0m\n",
       "\u001b[2;32m│   \u001b[0m\u001b[1m]\u001b[0m,\n",
       "\u001b[2;32m│   \u001b[0m\u001b[33mfunction_call\u001b[0m=\u001b[3;35mNone\u001b[0m,\n",
       "\u001b[2;32m│   \u001b[0m\u001b[33mprovider_specific_fields\u001b[0m=\u001b[1m{\u001b[0m\n",
       "\u001b[2;32m│   │   \u001b[0m\u001b[32m'refusal'\u001b[0m: \u001b[3;35mNone\u001b[0m\n",
       "\u001b[2;32m│   \u001b[0m\u001b[1m}\u001b[0m,\n",
       "\u001b[2;32m│   \u001b[0m\u001b[33mannotations\u001b[0m=\u001b[1m[\u001b[0m\u001b[1m]\u001b[0m\n",
       "\u001b[1m)\u001b[0m\n"
      ]
     },
     "metadata": {},
     "output_type": "display_data"
    },
    {
     "data": {
      "text/html": [
       "<pre style=\"white-space:pre;overflow-x:auto;line-height:normal;font-family:Menlo,'DejaVu Sans Mono',consolas,'Courier New',monospace\"><span style=\"font-weight: bold\">{</span>\n",
       "<span style=\"color: #7fbf7f; text-decoration-color: #7fbf7f\">│   </span><span style=\"color: #008000; text-decoration-color: #008000\">'role'</span>: <span style=\"color: #008000; text-decoration-color: #008000\">'tool'</span>,\n",
       "<span style=\"color: #7fbf7f; text-decoration-color: #7fbf7f\">│   </span><span style=\"color: #008000; text-decoration-color: #008000\">'content'</span>: <span style=\"color: #008000; text-decoration-color: #008000\">'03f3d348-1194-45ab-bb29-ef412d5ea7e3'</span>,\n",
       "<span style=\"color: #7fbf7f; text-decoration-color: #7fbf7f\">│   </span><span style=\"color: #008000; text-decoration-color: #008000\">'name'</span>: <span style=\"color: #008000; text-decoration-color: #008000\">'buffer_geometry'</span>,\n",
       "<span style=\"color: #7fbf7f; text-decoration-color: #7fbf7f\">│   </span><span style=\"color: #008000; text-decoration-color: #008000\">'tool_call_id'</span>: <span style=\"color: #008000; text-decoration-color: #008000\">'call_a0jqaOLZKf04h3W0oNltXkaW'</span>\n",
       "<span style=\"font-weight: bold\">}</span>\n",
       "</pre>\n"
      ],
      "text/plain": [
       "\u001b[1m{\u001b[0m\n",
       "\u001b[2;32m│   \u001b[0m\u001b[32m'role'\u001b[0m: \u001b[32m'tool'\u001b[0m,\n",
       "\u001b[2;32m│   \u001b[0m\u001b[32m'content'\u001b[0m: \u001b[32m'03f3d348-1194-45ab-bb29-ef412d5ea7e3'\u001b[0m,\n",
       "\u001b[2;32m│   \u001b[0m\u001b[32m'name'\u001b[0m: \u001b[32m'buffer_geometry'\u001b[0m,\n",
       "\u001b[2;32m│   \u001b[0m\u001b[32m'tool_call_id'\u001b[0m: \u001b[32m'call_a0jqaOLZKf04h3W0oNltXkaW'\u001b[0m\n",
       "\u001b[1m}\u001b[0m\n"
      ]
     },
     "metadata": {},
     "output_type": "display_data"
    },
    {
     "data": {
      "text/html": [
       "<pre style=\"white-space:pre;overflow-x:auto;line-height:normal;font-family:Menlo,'DejaVu Sans Mono',consolas,'Courier New',monospace\"><span style=\"color: #800080; text-decoration-color: #800080; font-weight: bold\">Message</span><span style=\"font-weight: bold\">(</span>\n",
       "<span style=\"color: #7fbf7f; text-decoration-color: #7fbf7f\">│   </span><span style=\"color: #808000; text-decoration-color: #808000\">content</span>=<span style=\"color: #008000; text-decoration-color: #008000\">'The UUID of the buffer of WKT POINT(10 5) by 10 meters is 03f3d348-1194-45ab-bb29-ef412d5ea7e3'</span>,\n",
       "<span style=\"color: #7fbf7f; text-decoration-color: #7fbf7f\">│   </span><span style=\"color: #808000; text-decoration-color: #808000\">role</span>=<span style=\"color: #008000; text-decoration-color: #008000\">'assistant'</span>,\n",
       "<span style=\"color: #7fbf7f; text-decoration-color: #7fbf7f\">│   </span><span style=\"color: #808000; text-decoration-color: #808000\">tool_calls</span>=<span style=\"color: #800080; text-decoration-color: #800080; font-style: italic\">None</span>,\n",
       "<span style=\"color: #7fbf7f; text-decoration-color: #7fbf7f\">│   </span><span style=\"color: #808000; text-decoration-color: #808000\">function_call</span>=<span style=\"color: #800080; text-decoration-color: #800080; font-style: italic\">None</span>,\n",
       "<span style=\"color: #7fbf7f; text-decoration-color: #7fbf7f\">│   </span><span style=\"color: #808000; text-decoration-color: #808000\">provider_specific_fields</span>=<span style=\"font-weight: bold\">{</span>\n",
       "<span style=\"color: #7fbf7f; text-decoration-color: #7fbf7f\">│   │   </span><span style=\"color: #008000; text-decoration-color: #008000\">'refusal'</span>: <span style=\"color: #800080; text-decoration-color: #800080; font-style: italic\">None</span>\n",
       "<span style=\"color: #7fbf7f; text-decoration-color: #7fbf7f\">│   </span><span style=\"font-weight: bold\">}</span>,\n",
       "<span style=\"color: #7fbf7f; text-decoration-color: #7fbf7f\">│   </span><span style=\"color: #808000; text-decoration-color: #808000\">annotations</span>=<span style=\"font-weight: bold\">[]</span>\n",
       "<span style=\"font-weight: bold\">)</span>\n",
       "</pre>\n"
      ],
      "text/plain": [
       "\u001b[1;35mMessage\u001b[0m\u001b[1m(\u001b[0m\n",
       "\u001b[2;32m│   \u001b[0m\u001b[33mcontent\u001b[0m=\u001b[32m'The UUID of the buffer of WKT POINT\u001b[0m\u001b[32m(\u001b[0m\u001b[32m10 5\u001b[0m\u001b[32m)\u001b[0m\u001b[32m by 10 meters is 03f3d348-1194-45ab-bb29-ef412d5ea7e3'\u001b[0m,\n",
       "\u001b[2;32m│   \u001b[0m\u001b[33mrole\u001b[0m=\u001b[32m'assistant'\u001b[0m,\n",
       "\u001b[2;32m│   \u001b[0m\u001b[33mtool_calls\u001b[0m=\u001b[3;35mNone\u001b[0m,\n",
       "\u001b[2;32m│   \u001b[0m\u001b[33mfunction_call\u001b[0m=\u001b[3;35mNone\u001b[0m,\n",
       "\u001b[2;32m│   \u001b[0m\u001b[33mprovider_specific_fields\u001b[0m=\u001b[1m{\u001b[0m\n",
       "\u001b[2;32m│   │   \u001b[0m\u001b[32m'refusal'\u001b[0m: \u001b[3;35mNone\u001b[0m\n",
       "\u001b[2;32m│   \u001b[0m\u001b[1m}\u001b[0m,\n",
       "\u001b[2;32m│   \u001b[0m\u001b[33mannotations\u001b[0m=\u001b[1m[\u001b[0m\u001b[1m]\u001b[0m\n",
       "\u001b[1m)\u001b[0m\n"
      ]
     },
     "metadata": {},
     "output_type": "display_data"
    }
   ],
   "source": [
    "for _ in agency.dialog:\n",
    "    pprint(_, expand_all=True)"
   ]
  },
  {
   "cell_type": "markdown",
   "id": "2a74ab584f41d016",
   "metadata": {},
   "source": [
    "### Get the scratchpad content."
   ]
  },
  {
   "cell_type": "code",
   "execution_count": 12,
   "id": "68700962-0acd-49e4-b568-d77d3ca3c276",
   "metadata": {},
   "outputs": [
    {
     "data": {
      "text/html": [
       "<pre style=\"white-space:pre;overflow-x:auto;line-height:normal;font-family:Menlo,'DejaVu Sans Mono',consolas,'Courier New',monospace\"><span style=\"font-weight: bold\">(</span>\n",
       "<span style=\"color: #7fbf7f; text-decoration-color: #7fbf7f\">│   </span><span style=\"color: #008000; text-decoration-color: #008000\">'d21ef603-e1ce-4681-b2b0-7f19d5e9266e'</span>,\n",
       "<span style=\"color: #7fbf7f; text-decoration-color: #7fbf7f\">│   </span><span style=\"font-weight: bold\">&lt;</span><span style=\"color: #ff00ff; text-decoration-color: #ff00ff; font-weight: bold\">POINT</span><span style=\"color: #000000; text-decoration-color: #000000\"> </span><span style=\"color: #000000; text-decoration-color: #000000; font-weight: bold\">(</span><span style=\"color: #008080; text-decoration-color: #008080; font-weight: bold\">10</span><span style=\"color: #000000; text-decoration-color: #000000\"> </span><span style=\"color: #008080; text-decoration-color: #008080; font-weight: bold\">5</span><span style=\"color: #000000; text-decoration-color: #000000; font-weight: bold\">)</span><span style=\"font-weight: bold\">&gt;</span>\n",
       "<span style=\"font-weight: bold\">)</span>\n",
       "</pre>\n"
      ],
      "text/plain": [
       "\u001b[1m(\u001b[0m\n",
       "\u001b[2;32m│   \u001b[0m\u001b[32m'd21ef603-e1ce-4681-b2b0-7f19d5e9266e'\u001b[0m,\n",
       "\u001b[2;32m│   \u001b[0m\u001b[1m<\u001b[0m\u001b[1;95mPOINT\u001b[0m\u001b[39m \u001b[0m\u001b[1;39m(\u001b[0m\u001b[1;36m10\u001b[0m\u001b[39m \u001b[0m\u001b[1;36m5\u001b[0m\u001b[1;39m)\u001b[0m\u001b[1m>\u001b[0m\n",
       "\u001b[1m)\u001b[0m\n"
      ]
     },
     "metadata": {},
     "output_type": "display_data"
    },
    {
     "data": {
      "text/html": [
       "<pre style=\"white-space:pre;overflow-x:auto;line-height:normal;font-family:Menlo,'DejaVu Sans Mono',consolas,'Courier New',monospace\"><span style=\"font-weight: bold\">(</span>\n",
       "<span style=\"color: #7fbf7f; text-decoration-color: #7fbf7f\">│   </span><span style=\"color: #008000; text-decoration-color: #008000\">'03f3d348-1194-45ab-bb29-ef412d5ea7e3'</span>,\n",
       "<span style=\"color: #7fbf7f; text-decoration-color: #7fbf7f\">│   </span><span style=\"font-weight: bold\">&lt;</span><span style=\"color: #ff00ff; text-decoration-color: #ff00ff; font-weight: bold\">POLYGON</span><span style=\"color: #000000; text-decoration-color: #000000\"> </span><span style=\"color: #000000; text-decoration-color: #000000; font-weight: bold\">((</span><span style=\"color: #008080; text-decoration-color: #008080; font-weight: bold\">20</span><span style=\"color: #000000; text-decoration-color: #000000\"> </span><span style=\"color: #008080; text-decoration-color: #008080; font-weight: bold\">5</span><span style=\"color: #000000; text-decoration-color: #000000\">, </span><span style=\"color: #008080; text-decoration-color: #008080; font-weight: bold\">19.808</span><span style=\"color: #000000; text-decoration-color: #000000\"> </span><span style=\"color: #008080; text-decoration-color: #008080; font-weight: bold\">3.049</span><span style=\"color: #000000; text-decoration-color: #000000\">, </span><span style=\"color: #008080; text-decoration-color: #008080; font-weight: bold\">19.239</span><span style=\"color: #000000; text-decoration-color: #000000\"> </span><span style=\"color: #008080; text-decoration-color: #008080; font-weight: bold\">1.173</span><span style=\"color: #000000; text-decoration-color: #000000\">, </span><span style=\"color: #008080; text-decoration-color: #008080; font-weight: bold\">18.315</span><span style=\"color: #000000; text-decoration-color: #000000\"> </span><span style=\"color: #008080; text-decoration-color: #008080; font-weight: bold\">-0.556</span><span style=\"color: #000000; text-decoration-color: #000000\">, </span><span style=\"color: #008080; text-decoration-color: #008080; font-weight: bold\">17.071</span><span style=\"color: #000000; text-decoration-color: #000000\"> </span><span style=\"color: #008080; text-decoration-color: #008080; font-weight: bold\">-2.071</span><span style=\"color: #000000; text-decoration-color: #000000\">, </span><span style=\"color: #008080; text-decoration-color: #008080; font-weight: bold\">1</span><span style=\"color: #808000; text-decoration-color: #808000\">...</span><span style=\"font-weight: bold\">&gt;</span>\n",
       "<span style=\"font-weight: bold\">)</span>\n",
       "</pre>\n"
      ],
      "text/plain": [
       "\u001b[1m(\u001b[0m\n",
       "\u001b[2;32m│   \u001b[0m\u001b[32m'03f3d348-1194-45ab-bb29-ef412d5ea7e3'\u001b[0m,\n",
       "\u001b[2;32m│   \u001b[0m\u001b[1m<\u001b[0m\u001b[1;95mPOLYGON\u001b[0m\u001b[39m \u001b[0m\u001b[1;39m(\u001b[0m\u001b[1;39m(\u001b[0m\u001b[1;36m20\u001b[0m\u001b[39m \u001b[0m\u001b[1;36m5\u001b[0m\u001b[39m, \u001b[0m\u001b[1;36m19.808\u001b[0m\u001b[39m \u001b[0m\u001b[1;36m3.049\u001b[0m\u001b[39m, \u001b[0m\u001b[1;36m19.239\u001b[0m\u001b[39m \u001b[0m\u001b[1;36m1.173\u001b[0m\u001b[39m, \u001b[0m\u001b[1;36m18.315\u001b[0m\u001b[39m \u001b[0m\u001b[1;36m-0.556\u001b[0m\u001b[39m, \u001b[0m\u001b[1;36m17.071\u001b[0m\u001b[39m \u001b[0m\u001b[1;36m-2.071\u001b[0m\u001b[39m, \u001b[0m\u001b[1;36m1\u001b[0m\u001b[33m...\u001b[0m\u001b[1m>\u001b[0m\n",
       "\u001b[1m)\u001b[0m\n"
      ]
     },
     "metadata": {},
     "output_type": "display_data"
    }
   ],
   "source": [
    "for _ in agency.scratchpad:\n",
    "    pprint(_, expand_all=True)"
   ]
  }
 ],
 "metadata": {
  "kernelspec": {
   "display_name": "Python 3 (ipykernel)",
   "language": "python",
   "name": "python3"
  },
  "language_info": {
   "codemirror_mode": {
    "name": "ipython",
    "version": 3
   },
   "file_extension": ".py",
   "mimetype": "text/x-python",
   "name": "python",
   "nbconvert_exporter": "python",
   "pygments_lexer": "ipython3",
   "version": "3.11.13"
  }
 },
 "nbformat": 4,
 "nbformat_minor": 5
}
