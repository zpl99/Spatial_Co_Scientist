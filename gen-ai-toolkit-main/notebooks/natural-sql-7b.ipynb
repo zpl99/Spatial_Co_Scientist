{
 "cells": [
  {
   "cell_type": "code",
   "id": "5e2dbcfd-dcbe-4922-a7d7-1182e5fea4cd",
   "metadata": {
    "ExecuteTime": {
     "end_time": "2025-04-20T20:39:23.766213Z",
     "start_time": "2025-04-20T20:39:20.334154Z"
    }
   },
   "source": [
    "import os\n",
    "import numpy as np\n",
    "import torch\n",
    "from scipy.spatial.distance import cdist\n",
    "from transformers import AutoModel, AutoTokenizer\n",
    "\n",
    "from gait import Layers, FEL"
   ],
   "outputs": [],
   "execution_count": 1
  },
  {
   "cell_type": "code",
   "id": "2ffcce67-26fd-4cce-8259-9911ec84c4ad",
   "metadata": {
    "ExecuteTime": {
     "end_time": "2025-04-20T20:39:32.177736Z",
     "start_time": "2025-04-20T20:39:26.971300Z"
    }
   },
   "source": [
    "model_name = \"chatdb/natural-sql-7b\"\n",
    "model_path = \"/Users/mraad/Downloads/natural-sql-7b.Q8_0.gguf\"\n",
    "tokenizer = AutoTokenizer.from_pretrained(model_name)\n",
    "model = AutoModel.from_pretrained(model_name)"
   ],
   "outputs": [
    {
     "data": {
      "text/plain": [
       "Loading checkpoint shards:   0%|          | 0/3 [00:00<?, ?it/s]"
      ],
      "application/vnd.jupyter.widget-view+json": {
       "version_major": 2,
       "version_minor": 0,
       "model_id": "8b44ee7a0abd4a0994e69af2fe0906ac"
      }
     },
     "metadata": {},
     "output_type": "display_data"
    }
   ],
   "execution_count": 2
  },
  {
   "cell_type": "code",
   "id": "764f9878-5e09-4ecc-b1e3-166099da405f",
   "metadata": {
    "ExecuteTime": {
     "end_time": "2025-04-20T20:39:36.378962Z",
     "start_time": "2025-04-20T20:39:36.376322Z"
    }
   },
   "source": [
    "def generate_embedding(text):\n",
    "    inputs = tokenizer(text, return_tensors=\"pt\", padding=\"max_length\", truncation=False, max_length=384, )\n",
    "    with torch.no_grad():\n",
    "        outputs = model(**inputs)\n",
    "    # Use the hidden state of the last layer and average pooling\n",
    "    embeddings = outputs.last_hidden_state.mean(dim=1).squeeze().numpy()\n",
    "    return embeddings"
   ],
   "outputs": [],
   "execution_count": 3
  },
  {
   "cell_type": "code",
   "id": "d5c23bfa-8bc6-4080-8c1e-0b46e6f20be3",
   "metadata": {
    "ExecuteTime": {
     "end_time": "2025-04-20T20:39:38.839718Z",
     "start_time": "2025-04-20T20:39:38.836410Z"
    }
   },
   "source": [
    "layers = Layers.load(os.path.expanduser(\"~/data/NorthSea.json\"))\n",
    "fel = FEL(layers)"
   ],
   "outputs": [],
   "execution_count": 4
  },
  {
   "metadata": {
    "ExecuteTime": {
     "end_time": "2025-04-20T20:39:40.198213Z",
     "start_time": "2025-04-20T20:39:40.195192Z"
    }
   },
   "cell_type": "code",
   "source": "fel.create_line_1()",
   "id": "35cb5f7feb1b0f25",
   "outputs": [
    {
     "data": {
      "text/plain": [
       "FELLine(line='Locate all pipelines where current phase is like place', fel=FEL1(layer='Pipelines', where=\"current_phase LIKE '%PLACE%'\"))"
      ]
     },
     "execution_count": 5,
     "metadata": {},
     "output_type": "execute_result"
    }
   ],
   "execution_count": 5
  },
  {
   "cell_type": "code",
   "id": "90c06a6e-1a20-4fca-b275-9315dd88dc46",
   "metadata": {
    "ExecuteTime": {
     "end_time": "2025-04-20T20:39:45.590549Z",
     "start_time": "2025-04-20T20:39:45.586703Z"
    }
   },
   "source": [
    "data = []\n",
    "\n",
    "line1 = [fel.create_line_1() for _ in range(10)]\n",
    "line2 = [fel.create_line_2() for _ in range(10)]\n",
    "\n",
    "data.extend([_.line for _ in line1])\n",
    "data.extend([_.line for _ in line2])\n",
    "\n",
    "len(data)"
   ],
   "outputs": [
    {
     "data": {
      "text/plain": [
       "20"
      ]
     },
     "execution_count": 6,
     "metadata": {},
     "output_type": "execute_result"
    }
   ],
   "execution_count": 6
  },
  {
   "cell_type": "code",
   "id": "b051381a-2967-4ef0-aaf5-7268f8321e12",
   "metadata": {
    "ExecuteTime": {
     "end_time": "2025-04-20T20:41:13.062395Z",
     "start_time": "2025-04-20T20:39:50.460951Z"
    }
   },
   "source": [
    "# texts = [\n",
    "#     \"What is the capital of France?\",\n",
    "#     \"Explain SQL joins.\",\n",
    "#     \"How to use embeddings in AI?\",\n",
    "#     \"What is reinforcement learning?\",\n",
    "# ]\n",
    "\n",
    "# texts = [text for text, _ in data]\n",
    "\n",
    "# Generate embeddings for the dataset\n",
    "dataset_embeddings = np.array([generate_embedding(_) for _ in data])"
   ],
   "outputs": [],
   "execution_count": 7
  },
  {
   "cell_type": "code",
   "id": "bb4cc549-3c78-42d8-bf33-443a97acc2ac",
   "metadata": {
    "ExecuteTime": {
     "end_time": "2025-04-20T20:41:17.350566Z",
     "start_time": "2025-04-20T20:41:17.347834Z"
    }
   },
   "source": [
    "dataset_embeddings.shape"
   ],
   "outputs": [
    {
     "data": {
      "text/plain": [
       "(20, 4096)"
      ]
     },
     "execution_count": 8,
     "metadata": {},
     "output_type": "execute_result"
    }
   ],
   "execution_count": 8
  },
  {
   "cell_type": "code",
   "execution_count": 148,
   "id": "52862583-3214-46ba-bd54-fa7df73f3ce6",
   "metadata": {},
   "outputs": [
    {
     "data": {
      "text/plain": [
       "384"
      ]
     },
     "execution_count": 148,
     "metadata": {},
     "output_type": "execute_result"
    }
   ],
   "source": [
    "len(tokenizer(layers.create_line_1(), return_tensors=\"pt\", padding=\"max_length\", truncation=False, max_length=384)[\n",
    "        \"input_ids\"][0])"
   ]
  },
  {
   "metadata": {
    "ExecuteTime": {
     "end_time": "2025-04-20T20:41:29.754220Z",
     "start_time": "2025-04-20T20:41:29.751986Z"
    }
   },
   "cell_type": "code",
   "source": [
    "query = fel.create_line_1()\n",
    "print(query)"
   ],
   "id": "223201c57933d997",
   "outputs": [
    {
     "name": "stdout",
     "output_type": "stream",
     "text": [
      "line='Find all wellbores with has casing lot is less than 1 or depth in meters = 94.48799986' fel=FEL1(layer='Wellbores', where='casing_lot < 1 or water_depth = 94.48799986')\n"
     ]
    }
   ],
   "execution_count": 9
  },
  {
   "cell_type": "code",
   "id": "e1d55cf1-c875-4f29-8c01-fde329025b1f",
   "metadata": {
    "ExecuteTime": {
     "end_time": "2025-04-20T20:42:06.212825Z",
     "start_time": "2025-04-20T20:42:02.016768Z"
    }
   },
   "source": [
    "# query = \"Please explain deep learning\"\n",
    "query = fel.create_line_1()\n",
    "query_embedding = generate_embedding(query.line)\n",
    "\n",
    "# Find nearest embedding using cosine similarity\n",
    "distances = cdist([query_embedding], dataset_embeddings, metric=\"cosine\")\n",
    "nearest_idx = np.argmin(distances)\n",
    "\n",
    "# Output the nearest match\n",
    "print(\"Input Query:\", query)\n",
    "print(\"Most Similar Text:\", data[nearest_idx])\n",
    "print(\"Similarity Score (Cosine Distance):\", 1 - distances[0][nearest_idx])\n",
    "print(\"FEL:\", data[nearest_idx][1])"
   ],
   "outputs": [
    {
     "name": "stdout",
     "output_type": "stream",
     "text": [
      "Input Query: line='Show all discoveries where discovery type not exceeding 1 or where field name is edvard grieg' fel=FEL1(layer='Discoveries', where=\"discovery_type < 1 or field_name = 'EDVARD GRIEG'\")\n",
      "Most Similar Text: List all discoveries with discovery type is oil and discovery well bore name ending with 3\n",
      "Similarity Score (Cosine Distance): 0.9996901889064381\n",
      "FEL: i\n"
     ]
    }
   ],
   "execution_count": 10
  },
  {
   "metadata": {},
   "cell_type": "code",
   "outputs": [],
   "execution_count": null,
   "source": "",
   "id": "53dbe2a96b0cd0e9"
  }
 ],
 "metadata": {
  "kernelspec": {
   "display_name": "Python 3 (ipykernel)",
   "language": "python",
   "name": "python3"
  },
  "language_info": {
   "codemirror_mode": {
    "name": "ipython",
    "version": 3
   },
   "file_extension": ".py",
   "mimetype": "text/x-python",
   "name": "python",
   "nbconvert_exporter": "python",
   "pygments_lexer": "ipython3",
   "version": "3.11.11"
  }
 },
 "nbformat": 4,
 "nbformat_minor": 5
}
