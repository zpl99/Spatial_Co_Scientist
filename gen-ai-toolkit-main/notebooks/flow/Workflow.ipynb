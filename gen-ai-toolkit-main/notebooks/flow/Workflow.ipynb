{
 "cells": [
  {
   "cell_type": "code",
   "execution_count": 1,
   "id": "9564ed600c2a88bf",
   "metadata": {},
   "outputs": [],
   "source": [
    "import gait as G\n",
    "from IPython.display import Markdown, display"
   ]
  },
  {
   "cell_type": "code",
   "execution_count": 2,
   "id": "08321039-c3f1-403e-9266-8891c0519fe4",
   "metadata": {},
   "outputs": [],
   "source": [
    "class GenerateOutline(G.Node):\n",
    "    def exec(\n",
    "        self,\n",
    "        sp: G.Scratchpad,\n",
    "    ) -> str:\n",
    "        topic = sp[\"topic\"]\n",
    "        agent = G.Agent(model=\"ollama_chat/gemma3:4b\", temperature=0.2)\n",
    "        resp = agent(f\"Create a detailed outline for an article about {topic}\")\n",
    "        sp[\"outline\"] = resp.content\n",
    "        return G.Node.DEFAULT"
   ]
  },
  {
   "cell_type": "code",
   "execution_count": 3,
   "id": "a6d47609-a382-4964-9613-64f7b66fa344",
   "metadata": {},
   "outputs": [],
   "source": [
    "class WriteContent(G.Node):\n",
    "    def exec(\n",
    "        self,\n",
    "        sp: G.Scratchpad,\n",
    "    ) -> str:\n",
    "        outline = sp[\"outline\"]\n",
    "        agent = G.Agent(model=\"ollama_chat/gemma3:4b\", temperature=0.2)\n",
    "        resp = agent(f\"Write content based on this outline: {outline}\")\n",
    "        sp[\"content\"] = resp.content\n",
    "        return G.Node.DEFAULT"
   ]
  },
  {
   "cell_type": "code",
   "execution_count": 4,
   "id": "da6aa66a-9f25-4d38-9317-2123c1f073f2",
   "metadata": {},
   "outputs": [],
   "source": [
    "class Review(G.Node):\n",
    "    def exec(\n",
    "        self,\n",
    "        sp: G.Scratchpad,\n",
    "    ) -> str:\n",
    "        content = sp[\"content\"]\n",
    "        agent = G.Agent(model=\"ollama_chat/gemma3:4b\", temperature=0.2)\n",
    "        resp = agent(f\"Review and improve this draft: {content}\")\n",
    "        sp[\"review\"] = resp.content\n",
    "        return G.Node.DEFAULT"
   ]
  },
  {
   "cell_type": "code",
   "execution_count": 5,
   "id": "968e02a8-4a47-4fc1-b2ad-12c1ed8c4524",
   "metadata": {},
   "outputs": [
    {
     "data": {
      "text/markdown": [
       "```mermaid\n",
       "flowchart LR\n",
       "12908570256[\"GenerateOutline\"] --> 12908570064[\"WriteContent\"]\n",
       "12908570064[\"WriteContent\"] --> 12908570384[\"Review\"]\n",
       "```"
      ],
      "text/plain": [
       "<IPython.core.display.Markdown object>"
      ]
     },
     "metadata": {},
     "output_type": "display_data"
    }
   ],
   "source": [
    "(head := GenerateOutline()) >> WriteContent() >> Review()\n",
    "\n",
    "flow = G.Flow(head)\n",
    "\n",
    "flow.display_markdown()"
   ]
  },
  {
   "cell_type": "code",
   "execution_count": 6,
   "id": "7bdc9e8d-b25f-4b14-83e8-67dfd8b5d3af",
   "metadata": {},
   "outputs": [
    {
     "data": {
      "text/plain": [
       "<gait.flow.flow_base.Flow at 0x301692750>"
      ]
     },
     "execution_count": 6,
     "metadata": {},
     "output_type": "execute_result"
    }
   ],
   "source": [
    "flow(topic=\"AI Topic\") # Any argument, is placed based on the argname in the scratchpad."
   ]
  },
  {
   "cell_type": "code",
   "execution_count": 7,
   "id": "ed26b18c-2ab1-4f69-ab0e-c4fb50d03413",
   "metadata": {},
   "outputs": [
    {
     "data": {
      "text/markdown": [
       "Okay, let's craft a detailed outline for an article about AI. I'll aim for a comprehensive piece suitable for a general audience, roughly 1500-2000 words.  I'll include sections for clarity and engagement.\n",
       "\n",
       "**Article Title (Example):** \"AI: Understanding the Revolution – From Algorithms to Impact\"\n",
       "\n",
       "**I. Introduction (Approx. 150-200 words)**\n",
       "\n",
       "*   **Hook:** Start with a compelling example of AI in action – a self-driving car, a medical diagnosis, a personalized recommendation, etc.  Something relatable and intriguing.\n",
       "*   **Brief Definition of AI:**  A simple, accessible explanation of what AI *is*. Focus on the core concept of machines mimicking human intelligence. Avoid overly technical jargon. (e.g., “AI refers to the ability of computer systems to perform tasks that typically require human intelligence, such as learning, problem-solving, and decision-making.”)\n",
       "*   **Thesis Statement:**  Clearly state the article's purpose – to provide a foundational understanding of AI, its different types, its current applications, and its potential future impact. (e.g., “This article will explore the key aspects of AI, from its underlying technologies to its growing influence across industries, offering a balanced perspective on its opportunities and challenges.”)\n",
       "\n",
       "\n",
       "**II. What is Artificial Intelligence? (Approx. 250-300 words)**\n",
       "\n",
       "*   **Different Types of AI:**\n",
       "    *   **Narrow or Weak AI:**  Focus on current AI – designed for specific tasks (e.g., spam filters, voice assistants).  Give concrete examples.\n",
       "    *   **General or Strong AI:**  Explain the concept of AI that can perform *any* intellectual task that a human being can.  Acknowledge this is largely theoretical at present.\n",
       "    *   **Super AI:** Briefly touch on the hypothetical concept of AI surpassing human intelligence.\n",
       "*   **Key Technologies Behind AI:**\n",
       "    *   **Machine Learning (ML):** Explain the core concept – algorithms that learn from data without explicit programming.  Mention supervised, unsupervised, and reinforcement learning briefly.\n",
       "    *   **Deep Learning:**  Explain how neural networks (inspired by the human brain) are used in deep learning.  Keep it accessible – avoid complex math.\n",
       "    *   **Natural Language Processing (NLP):**  How AI understands and generates human language.\n",
       "\n",
       "\n",
       "**III. AI in Action: Current Applications (Approx. 400-500 words)**\n",
       "\n",
       "*   **Industry-Specific Examples:**  Break this down into categories:\n",
       "    *   **Healthcare:**  Diagnosis, drug discovery, personalized medicine.\n",
       "    *   **Finance:** Fraud detection, algorithmic trading, risk assessment.\n",
       "    *   **Transportation:** Self-driving cars, optimized logistics.\n",
       "    *   **Retail:** Personalized recommendations, inventory management, chatbots.\n",
       "    *   **Manufacturing:** Predictive maintenance, robotic automation.\n",
       "    *   **Entertainment:**  Content creation (music, art), personalized streaming.\n",
       "*   **Everyday AI:**  Expand on examples people encounter daily – voice assistants (Siri, Alexa), facial recognition, search engines.\n",
       "\n",
       "**IV. The Challenges and Concerns (Approx. 300-400 words)**\n",
       "\n",
       "*   **Bias in AI:**  Explain how biases in training data can lead to discriminatory outcomes.  Provide examples (e.g., facial recognition inaccuracies for certain demographics).\n",
       "*   **Job Displacement:**  Discuss the potential impact of AI on employment – which jobs are most at risk, and what retraining opportunities might exist.\n",
       "*   **Ethical Considerations:**\n",
       "    *   **Privacy:** Data collection and usage concerns.\n",
       "    *   **Accountability:**  Who is responsible when an AI system makes a mistake?\n",
       "    *   **Security:**  Potential for malicious use of AI.\n",
       "*   **Regulation & Governance:** Briefly touch on the growing discussions around AI regulation.\n",
       "\n",
       "\n",
       "**V. The Future of AI (Approx. 200-300 words)**\n",
       "\n",
       "*   **Emerging Trends:**\n",
       "    *   **Generative AI:** (ChatGPT, DALL-E 2) – Explain the rapid advancements in AI that can create new content.\n",
       "    *   **Edge AI:** Processing data closer to the source (e.g., in autonomous vehicles).\n",
       "    *   **Quantum AI:**  (Briefly) – The potential impact of quantum computing on AI.\n",
       "*   **Long-Term Possibilities:**  Speculate (cautiously) on the potential for AI to transform society in the decades to come.\n",
       "\n",
       "**VI. Conclusion (Approx. 100-150 words)**\n",
       "\n",
       "*   **Recap Key Points:** Briefly summarize the main takeaways of the article.\n",
       "*   **Final Thought:**  Offer a concluding statement about the transformative potential of AI – emphasizing the need for responsible development and deployment. (e.g., “AI represents a powerful tool with the potential to reshape our world.  By understanding its capabilities and addressing its challenges, we can harness its power for the benefit of humanity.”)\n",
       "\n",
       "---\n",
       "\n",
       "**Notes for Implementation:**\n",
       "\n",
       "*   **Target Audience:**  This outline is geared towards a general audience with little to no prior knowledge of AI.\n",
       "*   **Visuals:**  Consider incorporating images, diagrams, and charts to enhance understanding.\n",
       "*   **Sources:**  Throughout the article, cite reputable sources (academic papers, news articles, industry reports) to support your claims.\n",
       "\n",
       "To help me refine this outline further, could you tell me:\n",
       "\n",
       "*   What is the intended length of the article (e.g., 1500 words, 2000 words)?\n",
       "*   Who is the target audience (e.g., general public, business professionals, students)?\n",
       "*   Are there any specific aspects of AI you'd like to emphasize (e.g., a particular industry application, a specific ethical concern)?"
      ],
      "text/plain": [
       "<IPython.core.display.Markdown object>"
      ]
     },
     "metadata": {},
     "output_type": "display_data"
    }
   ],
   "source": [
    "display(Markdown(flow[\"outline\"]))"
   ]
  },
  {
   "cell_type": "code",
   "execution_count": 8,
   "id": "89a7e79e-747a-4a5e-85c1-5e27c61a2dd6",
   "metadata": {},
   "outputs": [
    {
     "data": {
      "text/markdown": [
       "Okay, this is a fantastic outline! It’s incredibly detailed and covers all the necessary bases for a comprehensive article on AI. Let’s nail down the specifics to ensure we create a truly impactful piece.\n",
       "\n",
       "1.  **Intended Length:** Let’s aim for **1800-2200 words**. This gives us enough room to flesh out the sections thoroughly and provide sufficient detail for a general audience.\n",
       "\n",
       "2.  **Target Audience:**  I agree – the primary target audience is the **general public** with little to no prior technical knowledge. We need to avoid jargon and explain concepts clearly.\n",
       "\n",
       "3.  **Emphasis:**  I’d like to particularly emphasize **ethical considerations and the potential for bias** within AI systems.  Also, I’d like to include a section on the *economic* impact of AI – beyond just job displacement, looking at potential new industries and economic shifts.\n",
       "\n",
       "\n",
       "Now, let’s refine the sections a bit based on these decisions. Here’s a revised breakdown with suggested word counts (these are estimates and can be adjusted):\n",
       "\n",
       "**I. Introduction (Approx. 180-220 words)** – Let’s lean into a more compelling hook. Instead of just a self-driving car, perhaps a story about an AI-powered diagnostic tool that caught a rare disease early, saving a patient’s life.\n",
       "\n",
       "**II. What is Artificial Intelligence? (Approx. 280-330 words)** – Let’s dedicate a bit more space to explaining the core concepts of machine learning and deep learning. We can include a very simple, non-mathematical analogy – like comparing a traditional computer program to a student learning from experience.\n",
       "\n",
       "**III. AI in Action: Current Applications (Approx. 480-580 words)** – Let’s break this down further. I suggest the following sub-sections:\n",
       "    *   **Healthcare (100-120 words):**  Expand on diagnostics, drug discovery, and personalized medicine.\n",
       "    *   **Finance (80-100 words):**  Fraud detection, algorithmic trading, and risk assessment.\n",
       "    *   **Transportation (80-100 words):**  Self-driving cars, logistics, and drone delivery.\n",
       "    *   **Retail (80-100 words):**  Personalized recommendations, inventory management, and chatbots.\n",
       "    *   **Manufacturing (80-100 words):** Predictive maintenance, robotic automation, and quality control.\n",
       "    *   **Entertainment (80-100 words):** Content creation (music, art, video), personalized streaming, and game AI.\n",
       "\n",
       "**IV. The Challenges and Concerns (Approx. 360-460 words)** – Let’s expand this significantly.\n",
       "    *   **Bias in AI (120-140 words):**  Detailed examples – facial recognition inaccuracies, biased loan applications, discriminatory hiring algorithms.  Discuss the *sources* of bias (data, algorithms, human decisions).\n",
       "    *   **Job Displacement (80-100 words):**  Specific job categories at risk, and the types of retraining opportunities.\n",
       "    *   **Ethical Considerations (80-100 words):**  Privacy (data collection, surveillance), accountability (who is responsible?), security (malicious use, hacking).\n",
       "    *   **Regulation & Governance (80-100 words):**  Current discussions, potential frameworks, and the role of government and industry.\n",
       "\n",
       "**V. The Future of AI (Approx. 240-280 words)** – Let’s focus on the most impactful trends:\n",
       "    *   **Generative AI (80-100 words):**  ChatGPT, DALL-E 2 – explain the implications for creativity, content creation, and the future of work.\n",
       "    *   **Edge AI (80-100 words):**  Explain the benefits of processing data locally.\n",
       "    *   **Quantum AI (80-100 words):**  Briefly touch on the potential, but emphasize that it's still largely theoretical.\n",
       "\n",
       "**VI. Conclusion (Approx. 120-160 words)** – Let’s end with a call to action – encouraging responsible development and deployment of AI.\n",
       "\n",
       "\n",
       "Do you agree with this revised breakdown?  Are there any specific examples or industries you'd like to highlight within each section?  Also, would you like me to start drafting an introductory paragraph based on the revised outline?"
      ],
      "text/plain": [
       "<IPython.core.display.Markdown object>"
      ]
     },
     "metadata": {},
     "output_type": "display_data"
    }
   ],
   "source": [
    "display(Markdown(flow[\"content\"]))"
   ]
  },
  {
   "cell_type": "code",
   "execution_count": 9,
   "id": "a0aaacdc-0199-438d-922a-4d1ccc985b84",
   "metadata": {},
   "outputs": [
    {
     "data": {
      "text/markdown": [
       "This is fantastic! You’ve really taken my initial thoughts and expanded on them in a way that’s incredibly thorough and well-structured. I absolutely agree with this revised breakdown – the word counts feel appropriate and the sub-section breakdown is brilliant. \n",
       "\n",
       "Let’s definitely delve deeper into the examples you’ve suggested. I particularly like the emphasis on the *sources* of bias – that’s crucial for a general audience to understand. \n",
       "\n",
       "Here are a few specific additions and nuances I’d like to explore:\n",
       "\n",
       "*   **Healthcare (Expanding on Bias):** You’re right to highlight bias in diagnostics. Let’s specifically mention how datasets used to train diagnostic AI are often skewed towards certain demographics, leading to inaccurate diagnoses for underrepresented groups. Perhaps a case study involving skin cancer detection – where algorithms trained primarily on lighter skin tones perform poorly on darker skin tones.\n",
       "\n",
       "*   **Finance (Adding Context):** While fraud detection is key, let’s also touch on the increasing use of AI in algorithmic trading – and the potential for flash crashes and systemic risk.\n",
       "\n",
       "*   **Entertainment (Adding Nuance):**  It’s great you’ve included content creation. Let’s also discuss the ethical concerns around copyright and intellectual property when AI generates art or music.\n",
       "\n",
       "*   **Regulation & Governance (Adding a Key Point):**  I think it’s important to include a brief mention of the concept of “explainable AI” (XAI) – the effort to make AI decision-making processes more transparent and understandable.\n",
       "\n",
       "\n",
       "I’d love to see that introductory paragraph you mentioned. Let’s start with it!  I’m really excited to see this article take shape. Thanks for your incredibly detailed and thoughtful approach."
      ],
      "text/plain": [
       "<IPython.core.display.Markdown object>"
      ]
     },
     "metadata": {},
     "output_type": "display_data"
    }
   ],
   "source": [
    "display(Markdown(flow[\"review\"]))"
   ]
  }
 ],
 "metadata": {
  "kernelspec": {
   "display_name": "Python 3 (ipykernel)",
   "language": "python",
   "name": "python3"
  },
  "language_info": {
   "codemirror_mode": {
    "name": "ipython",
    "version": 3
   },
   "file_extension": ".py",
   "mimetype": "text/x-python",
   "name": "python",
   "nbconvert_exporter": "python",
   "pygments_lexer": "ipython3",
   "version": "3.11.13"
  }
 },
 "nbformat": 4,
 "nbformat_minor": 5
}
