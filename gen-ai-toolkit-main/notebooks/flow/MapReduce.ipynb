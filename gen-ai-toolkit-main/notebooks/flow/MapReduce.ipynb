{
 "cells": [
  {
   "cell_type": "markdown",
   "id": "13d1301ecb3f8b05",
   "metadata": {},
   "source": [
    "## Notebook to demonstrate a simple MapReduce flow"
   ]
  },
  {
   "cell_type": "code",
   "execution_count": null,
   "id": "72b18d8fce12aaa6",
   "metadata": {},
   "outputs": [],
   "source": [
    "from typing import Iterable\n",
    "\n",
    "from gait import AFlow, PNode, Scratchpad"
   ]
  },
  {
   "cell_type": "code",
   "execution_count": null,
   "id": "89c3e32a-63f9-4366-bafa-2360e329cd6e",
   "metadata": {},
   "outputs": [],
   "source": [
    "class Start(PNode):\n",
    "    async def _prep(\n",
    "            self,\n",
    "            sp: Scratchpad,\n",
    "    ) -> Iterable:\n",
    "        return range(sp.get(\"range\", 10))\n",
    "\n",
    "    async def _exec(\n",
    "            self,\n",
    "            sp: Scratchpad,\n",
    "            item: int,\n",
    "    ) -> int:\n",
    "        return item + 2\n",
    "\n",
    "    async def _post(\n",
    "            self,\n",
    "            sp: Scratchpad,\n",
    "            exec_resp: Iterable,\n",
    "    ) -> str:\n",
    "        sp[\"sum\"] = sum(exec_resp)\n",
    "        return PNode.DEFAULT"
   ]
  },
  {
   "cell_type": "code",
   "execution_count": null,
   "id": "f46ec055-096f-4782-b501-0290c518a853",
   "metadata": {},
   "outputs": [],
   "source": [
    "flow = AFlow(start=Start())"
   ]
  },
  {
   "cell_type": "code",
   "execution_count": null,
   "id": "66f270bd-7562-491d-87fa-cf241bc350fa",
   "metadata": {},
   "outputs": [],
   "source": [
    "await flow(range=20)\n",
    "print(flow[\"sum\"])"
   ]
  },
  {
   "cell_type": "code",
   "execution_count": null,
   "id": "2725ee28-0b4c-4ab9-a118-73716f34cdec",
   "metadata": {},
   "outputs": [],
   "source": [
    "sum([_ + 2 for _ in range(20)])"
   ]
  }
 ],
 "metadata": {
  "kernelspec": {
   "display_name": "Python 3 (ipykernel)",
   "language": "python",
   "name": "python3"
  },
  "language_info": {
   "codemirror_mode": {
    "name": "ipython",
    "version": 3
   },
   "file_extension": ".py",
   "mimetype": "text/x-python",
   "name": "python",
   "nbconvert_exporter": "python",
   "pygments_lexer": "ipython3",
   "version": "3.11.13"
  }
 },
 "nbformat": 4,
 "nbformat_minor": 5
}
