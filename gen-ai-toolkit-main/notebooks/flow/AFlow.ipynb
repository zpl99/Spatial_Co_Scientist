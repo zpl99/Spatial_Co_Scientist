{
 "cells": [
  {
   "cell_type": "markdown",
   "id": "70fcc21e40363dd",
   "metadata": {},
   "source": [
    "# Notebook to demo AFlow."
   ]
  },
  {
   "cell_type": "code",
   "execution_count": 1,
   "id": "aafd41dd-853e-4e9e-a305-b75afd549a37",
   "metadata": {
    "ExecuteTime": {
     "end_time": "2025-04-26T13:14:59.389584Z",
     "start_time": "2025-04-26T13:14:55.778525Z"
    }
   },
   "outputs": [],
   "source": [
    "import gait as G"
   ]
  },
  {
   "cell_type": "code",
   "execution_count": 2,
   "id": "957b15b8-1b98-4d5e-aa35-a0c0697bbe57",
   "metadata": {
    "ExecuteTime": {
     "end_time": "2025-04-26T13:15:00.055740Z",
     "start_time": "2025-04-26T13:15:00.053380Z"
    }
   },
   "outputs": [],
   "source": [
    "class FEL0(G.ANode):\n",
    "    def __init__(self) -> None:\n",
    "        super().__init__()\n",
    "        self.counter = 0\n",
    "\n",
    "    async def exec(\n",
    "        self,\n",
    "        _: G.Scratchpad,\n",
    "    ) -> str:\n",
    "        \"\"\"Return the action to the next node.\"\"\"\n",
    "        self.counter += 1\n",
    "        return \"fel1\" if (self.counter & 1) == 1 else \"fel2\""
   ]
  },
  {
   "cell_type": "code",
   "execution_count": 3,
   "id": "fa68e86b-ff22-4c31-9bd4-1ec4b29fd48f",
   "metadata": {
    "ExecuteTime": {
     "end_time": "2025-04-26T13:15:00.703168Z",
     "start_time": "2025-04-26T13:15:00.701174Z"
    }
   },
   "outputs": [],
   "source": [
    "class FEL1(G.ANode):\n",
    "    \"\"\"FEL1 node to handle \"fel1\" action.\"\"\"\n",
    "\n",
    "    async def exec(\n",
    "        self,\n",
    "        _: G.Scratchpad,\n",
    "    ) -> None:\n",
    "        print(\"FEL1\")"
   ]
  },
  {
   "cell_type": "code",
   "execution_count": 4,
   "id": "312b161c-2968-4f03-9ede-8496f3c70f9d",
   "metadata": {
    "ExecuteTime": {
     "end_time": "2025-04-26T13:15:01.362409Z",
     "start_time": "2025-04-26T13:15:01.360459Z"
    }
   },
   "outputs": [],
   "source": [
    "class FEL2(G.ANode):\n",
    "    \"\"\"FEL2 node to handle \"fel2\" action.\"\"\"\n",
    "\n",
    "    async def exec(\n",
    "        self,\n",
    "        _: G.Scratchpad,\n",
    "    ) -> None:\n",
    "        print(\"FEL2\")"
   ]
  },
  {
   "cell_type": "code",
   "execution_count": 5,
   "id": "3189f3fd-0855-44c2-a646-7c8c459f8e73",
   "metadata": {
    "ExecuteTime": {
     "end_time": "2025-04-26T13:15:02.088582Z",
     "start_time": "2025-04-26T13:15:02.086622Z"
    }
   },
   "outputs": [],
   "source": [
    "# Create the nodes.\n",
    "fel0 = FEL0()\n",
    "fel1 = FEL1()\n",
    "fel2 = FEL2()\n",
    "\n",
    "# Chain the nodes.\n",
    "_ = fel0 - \"fel1\" >> fel1\n",
    "_ = fel0 - \"fel2\" >> fel2"
   ]
  },
  {
   "cell_type": "markdown",
   "id": "c038847e2dc53227",
   "metadata": {},
   "source": [
    "## Create a flow."
   ]
  },
  {
   "cell_type": "code",
   "execution_count": 6,
   "id": "3853ce26-928a-44f1-b690-9b305f6149c0",
   "metadata": {
    "ExecuteTime": {
     "end_time": "2025-04-26T13:15:09.026359Z",
     "start_time": "2025-04-26T13:15:09.024306Z"
    }
   },
   "outputs": [],
   "source": [
    "flow = G.AFlow(fel0)"
   ]
  },
  {
   "cell_type": "code",
   "execution_count": 7,
   "id": "52ee5a80-de95-447d-922b-080457a3be80",
   "metadata": {
    "ExecuteTime": {
     "end_time": "2025-04-26T13:15:09.477207Z",
     "start_time": "2025-04-26T13:15:09.472628Z"
    }
   },
   "outputs": [
    {
     "data": {
      "text/markdown": [
       "```mermaid\n",
       "flowchart LR\n",
       "5989681424[\"FEL0\"] -- \"fel1\" --> 5989685520[\"FEL1\"]\n",
       "5989681424[\"FEL0\"] -- \"fel2\" --> 5967760016[\"FEL2\"]\n",
       "```"
      ],
      "text/plain": [
       "<IPython.core.display.Markdown object>"
      ]
     },
     "metadata": {},
     "output_type": "display_data"
    }
   ],
   "source": [
    "flow.display_markdown()"
   ]
  },
  {
   "cell_type": "markdown",
   "id": "f3f635cc221fd12e",
   "metadata": {},
   "source": [
    "## Run the flow."
   ]
  },
  {
   "cell_type": "code",
   "execution_count": 19,
   "id": "f0951c58-406d-40c3-a706-b48c04801a39",
   "metadata": {
    "ExecuteTime": {
     "end_time": "2025-04-26T13:15:16.796226Z",
     "start_time": "2025-04-26T13:15:16.794103Z"
    }
   },
   "outputs": [
    {
     "name": "stdout",
     "output_type": "stream",
     "text": [
      "FEL2\n"
     ]
    }
   ],
   "source": [
    "await flow();"
   ]
  }
 ],
 "metadata": {
  "kernelspec": {
   "display_name": "Python 3 (ipykernel)",
   "language": "python",
   "name": "python3"
  },
  "language_info": {
   "codemirror_mode": {
    "name": "ipython",
    "version": 3
   },
   "file_extension": ".py",
   "mimetype": "text/x-python",
   "name": "python",
   "nbconvert_exporter": "python",
   "pygments_lexer": "ipython3",
   "version": "3.11.13"
  }
 },
 "nbformat": 4,
 "nbformat_minor": 5
}
