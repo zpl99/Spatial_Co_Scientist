{
 "cells": [
  {
   "cell_type": "markdown",
   "id": "2a14937c-ba91-4af2-a887-39bed0dd8102",
   "metadata": {},
   "source": [
    "# Demo Flow with Human In the Loop"
   ]
  },
  {
   "cell_type": "code",
   "id": "27931159-646f-4a6c-9416-9814bbeb78e5",
   "metadata": {
    "ExecuteTime": {
     "end_time": "2025-07-15T20:12:21.344120Z",
     "start_time": "2025-07-15T20:12:17.288037Z"
    }
   },
   "source": [
    "import gait as G\n",
    "import ipywidgets as widgets\n",
    "from IPython.display import display"
   ],
   "outputs": [],
   "execution_count": 1
  },
  {
   "cell_type": "code",
   "id": "59b11649-32fb-4aa5-8447-1c072b740e8b",
   "metadata": {
    "ExecuteTime": {
     "end_time": "2025-07-15T20:12:23.609676Z",
     "start_time": "2025-07-15T20:12:23.607519Z"
    }
   },
   "source": [
    "class Head(G.Node):\n",
    "    \"\"\"Head of the flow\"\"\"\n",
    "\n",
    "    def exec(self, _) -> str:\n",
    "        print(\"Head\")\n",
    "        return G.Node.DEFAULT"
   ],
   "outputs": [],
   "execution_count": 2
  },
  {
   "cell_type": "code",
   "id": "51a5ded8-6602-465e-9a72-3c30384a8be2",
   "metadata": {
    "ExecuteTime": {
     "end_time": "2025-07-15T20:12:24.450226Z",
     "start_time": "2025-07-15T20:12:24.447198Z"
    }
   },
   "source": [
    "class HIL(G.Node):\n",
    "    \"\"\"Human In the Loop\"\"\"\n",
    "\n",
    "    def exec(self, sp: G.Scratchpad) -> str:\n",
    "        # Check if a human input is present in the scratchpad.\n",
    "        if sp[\"human_input\"] is None:\n",
    "            print(\"Need human input...\")\n",
    "            # Here we make sure to return nothing to stop the flow.\n",
    "            return\n",
    "        else:\n",
    "            # Human input exists, continue the flow.\n",
    "            print(\"We have human input now, we can continue...\")\n",
    "            return G.Node.DEFAULT"
   ],
   "outputs": [],
   "execution_count": 3
  },
  {
   "cell_type": "code",
   "id": "160879a8-83f5-4354-bc81-40b595de264f",
   "metadata": {
    "ExecuteTime": {
     "end_time": "2025-07-15T20:12:24.890927Z",
     "start_time": "2025-07-15T20:12:24.888519Z"
    }
   },
   "source": [
    "class Last(G.Node):\n",
    "    \"\"\"The last node in the flow\"\"\"\n",
    "\n",
    "    def __init__(self, text_input) -> None:\n",
    "        super().__init__()\n",
    "        self.text_input = text_input\n",
    "\n",
    "    def exec(self, sp: G.Scratchpad) -> str:\n",
    "        self.text_input.value = str(sp[\"human_input\"])\n",
    "        return G.Node.DEFAULT"
   ],
   "outputs": [],
   "execution_count": 4
  },
  {
   "cell_type": "markdown",
   "id": "1f33ce3b-feb1-4701-a27b-99903bcf7140",
   "metadata": {},
   "source": [
    "## Create a text widget"
   ]
  },
  {
   "cell_type": "code",
   "id": "a6d6ef3c-2a01-4732-b993-9c4927f61dd3",
   "metadata": {
    "ExecuteTime": {
     "end_time": "2025-07-15T20:12:26.576658Z",
     "start_time": "2025-07-15T20:12:26.572865Z"
    }
   },
   "source": [
    "text_input = widgets.Text(\n",
    "    value=\"\",  # Initial value (empty in this case)\n",
    "    placeholder=\"Input\",  # Placeholder text\n",
    "    description=\"Human:\",  # Label for the input field\n",
    "    disabled=True,  # Allow editing (set to False if you want to disable it)\n",
    ")"
   ],
   "outputs": [],
   "execution_count": 5
  },
  {
   "cell_type": "code",
   "id": "2523d574-363e-4a8f-ba6a-94e3b621b21f",
   "metadata": {
    "ExecuteTime": {
     "end_time": "2025-07-15T20:12:26.914790Z",
     "start_time": "2025-07-15T20:12:26.912032Z"
    }
   },
   "source": [
    "## Define the node sequence or the graph."
   ],
   "outputs": [],
   "execution_count": 6
  },
  {
   "cell_type": "code",
   "id": "39bc0e68-71b2-47ba-bf38-840d8a003615",
   "metadata": {
    "ExecuteTime": {
     "end_time": "2025-07-15T20:12:27.250800Z",
     "start_time": "2025-07-15T20:12:27.245163Z"
    }
   },
   "source": [
    "(head := Head()) >> HIL() >> Last(text_input);"
   ],
   "outputs": [],
   "execution_count": 7
  },
  {
   "cell_type": "markdown",
   "id": "5a02ef55-b9e0-4f1e-90ec-e1adff4a5b8b",
   "metadata": {},
   "source": [
    "## Define a flow."
   ]
  },
  {
   "cell_type": "code",
   "id": "fa4662d0-5fe4-4c91-b720-8546db170e3a",
   "metadata": {
    "ExecuteTime": {
     "end_time": "2025-07-15T20:12:29.149512Z",
     "start_time": "2025-07-15T20:12:29.144882Z"
    }
   },
   "source": [
    "flow = G.Flow(head)\n",
    "flow.display_markdown()"
   ],
   "outputs": [
    {
     "data": {
      "text/plain": [
       "<IPython.core.display.Markdown object>"
      ],
      "text/markdown": "```mermaid\nflowchart LR\n6146700688[\"Head\"] --> 6146700816[\"HIL\"]\n6146700816[\"HIL\"] --> 6146700560[\"Last\"]\n```"
     },
     "metadata": {},
     "output_type": "display_data"
    }
   ],
   "execution_count": 8
  },
  {
   "cell_type": "markdown",
   "id": "27defaa5-5627-4096-84e1-884b136062fa",
   "metadata": {},
   "source": [
    "## Create widget for human input."
   ]
  },
  {
   "cell_type": "code",
   "id": "4903e431-e341-43f7-b54a-67bf28b757b7",
   "metadata": {
    "ExecuteTime": {
     "end_time": "2025-07-15T20:12:32.543394Z",
     "start_time": "2025-07-15T20:12:32.534962Z"
    }
   },
   "source": [
    "slider = widgets.IntSlider(\n",
    "    min=0,\n",
    "    max=100,\n",
    "    step=1,\n",
    "    description=\"Value:\",\n",
    "    value=50,  # Initial value\n",
    "    disabled=False,\n",
    "    continuous_update=False,\n",
    "    orientation=\"horizontal\",\n",
    "    readout=True,\n",
    "    readout_format=\"d\",\n",
    ")"
   ],
   "outputs": [],
   "execution_count": 9
  },
  {
   "cell_type": "markdown",
   "id": "081817b6-eb8b-48e0-856b-b210de3cfe3e",
   "metadata": {},
   "source": [
    "## Let's start the flow."
   ]
  },
  {
   "cell_type": "code",
   "id": "57a671e7-5581-4699-a73e-a2d94ef12d28",
   "metadata": {
    "ExecuteTime": {
     "end_time": "2025-07-15T20:12:34.542065Z",
     "start_time": "2025-07-15T20:12:34.538828Z"
    }
   },
   "source": [
    "flow();"
   ],
   "outputs": [
    {
     "name": "stdout",
     "output_type": "stream",
     "text": [
      "Head\n",
      "Need human input...\n"
     ]
    }
   ],
   "execution_count": 10
  },
  {
   "cell_type": "markdown",
   "id": "ab2698e8-9ac4-4ddc-8575-6adcec207f01",
   "metadata": {},
   "source": [
    "## Check for human input - SHOULD be missing."
   ]
  },
  {
   "cell_type": "code",
   "id": "ded0073d-6302-4c2f-a212-51c403ae102f",
   "metadata": {
    "ExecuteTime": {
     "end_time": "2025-07-15T20:13:02.629106Z",
     "start_time": "2025-07-15T20:13:02.623326Z"
    }
   },
   "source": "flow[\"human_input\"]",
   "outputs": [],
   "execution_count": 11
  },
  {
   "cell_type": "markdown",
   "id": "60b78463-b4dc-4bc5-8c80-82f95bde80f8",
   "metadata": {},
   "source": [
    "## Dump the state."
   ]
  },
  {
   "cell_type": "code",
   "id": "719d507e-abb6-4d50-8b98-7f899b9e3984",
   "metadata": {
    "ExecuteTime": {
     "end_time": "2025-07-15T20:13:04.617660Z",
     "start_time": "2025-07-15T20:13:04.615622Z"
    }
   },
   "source": [
    "state = flow.dump_state()"
   ],
   "outputs": [],
   "execution_count": 12
  },
  {
   "cell_type": "code",
   "id": "f87c803f-7405-436c-9d1f-e90f42f0f40a",
   "metadata": {
    "ExecuteTime": {
     "end_time": "2025-07-15T20:13:04.990824Z",
     "start_time": "2025-07-15T20:13:04.987408Z"
    }
   },
   "source": [
    "display(text_input)\n",
    "display(slider)"
   ],
   "outputs": [
    {
     "data": {
      "text/plain": [
       "Text(value='', description='Human:', disabled=True, placeholder='Input')"
      ],
      "application/vnd.jupyter.widget-view+json": {
       "version_major": 2,
       "version_minor": 0,
       "model_id": "1fc18ac84e7c422181150fbe1f37b048"
      }
     },
     "metadata": {},
     "output_type": "display_data"
    },
    {
     "data": {
      "text/plain": [
       "IntSlider(value=50, continuous_update=False, description='Value:')"
      ],
      "application/vnd.jupyter.widget-view+json": {
       "version_major": 2,
       "version_minor": 0,
       "model_id": "ae0ab64ada5a4408a799d6174c237772"
      }
     },
     "metadata": {},
     "output_type": "display_data"
    }
   ],
   "execution_count": 13
  },
  {
   "cell_type": "markdown",
   "id": "51a83882-795a-4670-b9a1-290a5bf38d09",
   "metadata": {},
   "source": [
    "## Set the human input in the state scratchpad."
   ]
  },
  {
   "cell_type": "code",
   "id": "a6da9b37-ac4f-49c9-8290-8686b9892efa",
   "metadata": {
    "ExecuteTime": {
     "end_time": "2025-07-15T20:13:11.639025Z",
     "start_time": "2025-07-15T20:13:11.636122Z"
    }
   },
   "source": [
    "state.scratchpad[\"human_input\"] = slider.value"
   ],
   "outputs": [],
   "execution_count": 14
  },
  {
   "cell_type": "markdown",
   "id": "531cdad7-dc94-41f4-ba35-83027568b2ef",
   "metadata": {},
   "source": [
    "## You can continue with new Flow with the dumped state.\n",
    "\n",
    "Note: how to the text widget reflects the slider value."
   ]
  },
  {
   "cell_type": "code",
   "id": "f526c414-c84c-4089-90b3-660b1c51772a",
   "metadata": {
    "ExecuteTime": {
     "end_time": "2025-07-15T20:13:13.113358Z",
     "start_time": "2025-07-15T20:13:13.109459Z"
    }
   },
   "source": [
    "flow = G.Flow(head, observer=G.FlowObserverConsole())\n",
    "# Make sure to load the dumped state.\n",
    "flow.load_state(state)\n",
    "flow();"
   ],
   "outputs": [
    {
     "name": "stdout",
     "output_type": "stream",
     "text": [
      "Flow started...\n",
      "HIL started...\n",
      "We have human input now, we can continue...\n",
      "HIL ended.\n",
      "Last started...\n",
      "Last ended.\n",
      "Flow ended.\n"
     ]
    }
   ],
   "execution_count": 15
  },
  {
   "metadata": {},
   "cell_type": "code",
   "outputs": [],
   "execution_count": null,
   "source": "",
   "id": "d60d4b4b7e4a3cc4"
  }
 ],
 "metadata": {
  "kernelspec": {
   "display_name": "Python 3 (ipykernel)",
   "language": "python",
   "name": "python3"
  },
  "language_info": {
   "codemirror_mode": {
    "name": "ipython",
    "version": 3
   },
   "file_extension": ".py",
   "mimetype": "text/x-python",
   "name": "python",
   "nbconvert_exporter": "python",
   "pygments_lexer": "ipython3",
   "version": "3.11.13"
  }
 },
 "nbformat": 4,
 "nbformat_minor": 5
}
