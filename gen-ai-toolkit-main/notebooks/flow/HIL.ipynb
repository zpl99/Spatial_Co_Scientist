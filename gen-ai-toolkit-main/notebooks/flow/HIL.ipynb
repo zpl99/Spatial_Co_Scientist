{
 "cells": [
  {
   "cell_type": "markdown",
   "id": "2a14937c-ba91-4af2-a887-39bed0dd8102",
   "metadata": {},
   "source": [
    "# Demo Flow with Human In the Loop"
   ]
  },
  {
   "cell_type": "code",
   "execution_count": 1,
   "id": "27931159-646f-4a6c-9416-9814bbeb78e5",
   "metadata": {
    "ExecuteTime": {
     "end_time": "2025-04-26T20:47:08.878397Z",
     "start_time": "2025-04-26T20:47:04.885958Z"
    }
   },
   "outputs": [],
   "source": [
    "import gait as G\n",
    "import ipywidgets as widgets\n",
    "from IPython.display import display"
   ]
  },
  {
   "cell_type": "code",
   "execution_count": 2,
   "id": "59b11649-32fb-4aa5-8447-1c072b740e8b",
   "metadata": {
    "ExecuteTime": {
     "end_time": "2025-04-26T20:47:43.647110Z",
     "start_time": "2025-04-26T20:47:43.645140Z"
    }
   },
   "outputs": [],
   "source": [
    "class Head(G.Node):\n",
    "    \"\"\"Head of the flow\"\"\"\n",
    "\n",
    "    def exec(self, _) -> str:\n",
    "        print(\"Head\")\n",
    "        return G.Node.DEFAULT"
   ]
  },
  {
   "cell_type": "code",
   "execution_count": 3,
   "id": "51a5ded8-6602-465e-9a72-3c30384a8be2",
   "metadata": {
    "ExecuteTime": {
     "end_time": "2025-04-26T20:47:46.145074Z",
     "start_time": "2025-04-26T20:47:46.142621Z"
    }
   },
   "outputs": [],
   "source": [
    "class HIL(G.Node):\n",
    "    \"\"\"Human In the Loop\"\"\"\n",
    "\n",
    "    def exec(self, sp: G.Scratchpad) -> str:\n",
    "        # Check if a human input is present in the scratchpad.\n",
    "        if sp[\"human_input\"] is None:\n",
    "            print(\"Need human input...\")\n",
    "            # Here we make sure to return nothing to stop the flow.\n",
    "            return\n",
    "        else:\n",
    "            # Human input exists, continue the flow.\n",
    "            print(\"We have human input now, we can continue...\")\n",
    "            return G.Node.DEFAULT"
   ]
  },
  {
   "cell_type": "code",
   "execution_count": 4,
   "id": "160879a8-83f5-4354-bc81-40b595de264f",
   "metadata": {
    "ExecuteTime": {
     "end_time": "2025-04-26T20:47:47.072735Z",
     "start_time": "2025-04-26T20:47:47.070231Z"
    }
   },
   "outputs": [],
   "source": [
    "class Last(G.Node):\n",
    "    \"\"\"The last node in the flow\"\"\"\n",
    "\n",
    "    def __init__(self, text_input) -> None:\n",
    "        super().__init__()\n",
    "        self.text_input = text_input\n",
    "\n",
    "    def exec(self, sp: G.Scratchpad) -> str:\n",
    "        self.text_input.value = str(sp[\"human_input\"])\n",
    "        return G.Node.DEFAULT"
   ]
  },
  {
   "cell_type": "markdown",
   "id": "1f33ce3b-feb1-4701-a27b-99903bcf7140",
   "metadata": {},
   "source": [
    "## Create a text widget"
   ]
  },
  {
   "cell_type": "code",
   "execution_count": 5,
   "id": "a6d6ef3c-2a01-4732-b993-9c4927f61dd3",
   "metadata": {
    "ExecuteTime": {
     "end_time": "2025-04-26T20:48:38.960415Z",
     "start_time": "2025-04-26T20:48:38.956695Z"
    }
   },
   "outputs": [],
   "source": [
    "text_input = widgets.Text(\n",
    "    value=\"\",  # Initial value (empty in this case)\n",
    "    placeholder=\"Input\",  # Placeholder text\n",
    "    description=\"Human:\",  # Label for the input field\n",
    "    disabled=True,  # Allow editing (set to False if you want to disable it)\n",
    ")"
   ]
  },
  {
   "cell_type": "code",
   "execution_count": 6,
   "id": "2523d574-363e-4a8f-ba6a-94e3b621b21f",
   "metadata": {
    "ExecuteTime": {
     "end_time": "2025-04-26T20:48:39.717988Z",
     "start_time": "2025-04-26T20:48:39.715889Z"
    }
   },
   "outputs": [],
   "source": [
    "## Define the node sequence or the graph."
   ]
  },
  {
   "cell_type": "code",
   "execution_count": 7,
   "id": "39bc0e68-71b2-47ba-bf38-840d8a003615",
   "metadata": {
    "ExecuteTime": {
     "end_time": "2025-04-26T20:48:41.907844Z",
     "start_time": "2025-04-26T20:48:41.905826Z"
    }
   },
   "outputs": [],
   "source": [
    "(head := Head()) >> HIL() >> Last(text_input);"
   ]
  },
  {
   "cell_type": "markdown",
   "id": "5a02ef55-b9e0-4f1e-90ec-e1adff4a5b8b",
   "metadata": {},
   "source": [
    "## Define a flow."
   ]
  },
  {
   "cell_type": "code",
   "execution_count": 8,
   "id": "fa4662d0-5fe4-4c91-b720-8546db170e3a",
   "metadata": {
    "ExecuteTime": {
     "end_time": "2025-04-26T20:48:53.117663Z",
     "start_time": "2025-04-26T20:48:53.112819Z"
    }
   },
   "outputs": [
    {
     "data": {
      "text/markdown": [
       "```mermaid\n",
       "flowchart LR\n",
       "5327131472[\"Head\"] --> 5327137552[\"HIL\"]\n",
       "5327137552[\"HIL\"] --> 5336523856[\"Last\"]\n",
       "```"
      ],
      "text/plain": [
       "<IPython.core.display.Markdown object>"
      ]
     },
     "metadata": {},
     "output_type": "display_data"
    }
   ],
   "source": [
    "flow = G.Flow(head)\n",
    "flow.display_markdown()"
   ]
  },
  {
   "cell_type": "markdown",
   "id": "27defaa5-5627-4096-84e1-884b136062fa",
   "metadata": {},
   "source": [
    "## Create widget for human input."
   ]
  },
  {
   "cell_type": "code",
   "execution_count": 9,
   "id": "4903e431-e341-43f7-b54a-67bf28b757b7",
   "metadata": {
    "ExecuteTime": {
     "end_time": "2025-04-26T20:49:07.113790Z",
     "start_time": "2025-04-26T20:49:07.111212Z"
    }
   },
   "outputs": [],
   "source": [
    "slider = widgets.IntSlider(\n",
    "    min=0,\n",
    "    max=100,\n",
    "    step=1,\n",
    "    description=\"Value:\",\n",
    "    value=50,  # Initial value\n",
    "    disabled=False,\n",
    "    continuous_update=False,\n",
    "    orientation=\"horizontal\",\n",
    "    readout=True,\n",
    "    readout_format=\"d\",\n",
    ")"
   ]
  },
  {
   "cell_type": "markdown",
   "id": "081817b6-eb8b-48e0-856b-b210de3cfe3e",
   "metadata": {},
   "source": [
    "## Let's start the flow."
   ]
  },
  {
   "cell_type": "code",
   "execution_count": 10,
   "id": "57a671e7-5581-4699-a73e-a2d94ef12d28",
   "metadata": {
    "ExecuteTime": {
     "end_time": "2025-04-26T20:49:10.156262Z",
     "start_time": "2025-04-26T20:49:10.154257Z"
    }
   },
   "outputs": [
    {
     "name": "stdout",
     "output_type": "stream",
     "text": [
      "Head\n",
      "Need human input...\n"
     ]
    }
   ],
   "source": [
    "flow();"
   ]
  },
  {
   "cell_type": "markdown",
   "id": "ab2698e8-9ac4-4ddc-8575-6adcec207f01",
   "metadata": {},
   "source": [
    "## Check for human input - SHOULD be missing."
   ]
  },
  {
   "cell_type": "code",
   "execution_count": 11,
   "id": "ded0073d-6302-4c2f-a212-51c403ae102f",
   "metadata": {
    "ExecuteTime": {
     "end_time": "2025-04-26T20:49:11.224065Z",
     "start_time": "2025-04-26T20:49:11.222402Z"
    }
   },
   "outputs": [],
   "source": [
    "flow[\"human_input\"]"
   ]
  },
  {
   "cell_type": "markdown",
   "id": "60b78463-b4dc-4bc5-8c80-82f95bde80f8",
   "metadata": {},
   "source": [
    "## Dump the state."
   ]
  },
  {
   "cell_type": "code",
   "execution_count": 12,
   "id": "719d507e-abb6-4d50-8b98-7f899b9e3984",
   "metadata": {
    "ExecuteTime": {
     "end_time": "2025-04-26T20:49:13.396959Z",
     "start_time": "2025-04-26T20:49:13.395107Z"
    }
   },
   "outputs": [],
   "source": [
    "state = flow.dump_state()"
   ]
  },
  {
   "cell_type": "code",
   "execution_count": 13,
   "id": "f87c803f-7405-436c-9d1f-e90f42f0f40a",
   "metadata": {
    "ExecuteTime": {
     "end_time": "2025-04-26T20:49:13.956775Z",
     "start_time": "2025-04-26T20:49:13.953602Z"
    }
   },
   "outputs": [
    {
     "data": {
      "application/vnd.jupyter.widget-view+json": {
       "model_id": "f530461f74b64d93b259d3f8484a4bac",
       "version_major": 2,
       "version_minor": 0
      },
      "text/plain": [
       "Text(value='', description='Human:', disabled=True, placeholder='Input')"
      ]
     },
     "metadata": {},
     "output_type": "display_data"
    },
    {
     "data": {
      "application/vnd.jupyter.widget-view+json": {
       "model_id": "5b0114a20af944e5bc4c24d07b1cd7e3",
       "version_major": 2,
       "version_minor": 0
      },
      "text/plain": [
       "IntSlider(value=50, continuous_update=False, description='Value:')"
      ]
     },
     "metadata": {},
     "output_type": "display_data"
    }
   ],
   "source": [
    "display(text_input)\n",
    "display(slider)"
   ]
  },
  {
   "cell_type": "markdown",
   "id": "51a83882-795a-4670-b9a1-290a5bf38d09",
   "metadata": {},
   "source": [
    "## Set the human input in the state scratchpad."
   ]
  },
  {
   "cell_type": "code",
   "execution_count": 16,
   "id": "a6da9b37-ac4f-49c9-8290-8686b9892efa",
   "metadata": {
    "ExecuteTime": {
     "end_time": "2025-04-26T20:49:32.498162Z",
     "start_time": "2025-04-26T20:49:32.496296Z"
    }
   },
   "outputs": [],
   "source": [
    "state.scratchpad[\"human_input\"] = slider.value"
   ]
  },
  {
   "cell_type": "markdown",
   "id": "531cdad7-dc94-41f4-ba35-83027568b2ef",
   "metadata": {},
   "source": [
    "## You can continue with new Flow with the dumped state.\n",
    "\n",
    "Note: how to the text widget reflects the slider value."
   ]
  },
  {
   "cell_type": "code",
   "execution_count": 17,
   "id": "f526c414-c84c-4089-90b3-660b1c51772a",
   "metadata": {
    "ExecuteTime": {
     "end_time": "2025-04-26T20:49:34.890002Z",
     "start_time": "2025-04-26T20:49:34.886981Z"
    }
   },
   "outputs": [
    {
     "name": "stdout",
     "output_type": "stream",
     "text": [
      "Flow started...\n",
      "HIL started...\n",
      "We have human input now, we can continue...\n",
      "HIL ended.\n",
      "Last started...\n",
      "Last ended.\n",
      "Flow ended.\n"
     ]
    }
   ],
   "source": [
    "flow = G.Flow(head, observer=G.FlowObserverConsole())\n",
    "# Make sure to load the dumped state.\n",
    "flow.load_state(state)\n",
    "flow();"
   ]
  }
 ],
 "metadata": {
  "kernelspec": {
   "display_name": "Python 3 (ipykernel)",
   "language": "python",
   "name": "python3"
  },
  "language_info": {
   "codemirror_mode": {
    "name": "ipython",
    "version": 3
   },
   "file_extension": ".py",
   "mimetype": "text/x-python",
   "name": "python",
   "nbconvert_exporter": "python",
   "pygments_lexer": "ipython3",
   "version": "3.11.13"
  }
 },
 "nbformat": 4,
 "nbformat_minor": 5
}
