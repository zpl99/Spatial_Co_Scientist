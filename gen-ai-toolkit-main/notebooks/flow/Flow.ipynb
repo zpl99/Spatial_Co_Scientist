{
 "cells": [
  {
   "cell_type": "markdown",
   "id": "99b49433d26fe53b",
   "metadata": {},
   "source": [
    "# Notebook to demo Flow."
   ]
  },
  {
   "cell_type": "code",
   "id": "aafd41dd-853e-4e9e-a305-b75afd549a37",
   "metadata": {
    "ExecuteTime": {
     "end_time": "2025-07-25T18:24:16.582109Z",
     "start_time": "2025-07-25T18:24:06.344641Z"
    }
   },
   "source": [
    "import gait as G"
   ],
   "outputs": [
    {
     "name": "stderr",
     "output_type": "stream",
     "text": [
      "C:\\Users\\64963\\.conda\\envs\\gait\\Lib\\site-packages\\tqdm\\auto.py:21: TqdmWarning: IProgress not found. Please update jupyter and ipywidgets. See https://ipywidgets.readthedocs.io/en/stable/user_install.html\n",
      "  from .autonotebook import tqdm as notebook_tqdm\n"
     ]
    }
   ],
   "execution_count": 1
  },
  {
   "cell_type": "markdown",
   "id": "13c554dd356264cb",
   "metadata": {},
   "source": [
    "## Create starting node."
   ]
  },
  {
   "cell_type": "code",
   "id": "957b15b8-1b98-4d5e-aa35-a0c0697bbe57",
   "metadata": {
    "ExecuteTime": {
     "end_time": "2025-07-25T18:24:17.706010Z",
     "start_time": "2025-07-25T18:24:17.701645Z"
    }
   },
   "source": [
    "class FEL0(G.Node):\n",
    "    def __init__(self) -> None:\n",
    "        super().__init__()\n",
    "        self.counter = 0\n",
    "\n",
    "    def exec(\n",
    "        self,\n",
    "        _: G.Scratchpad,\n",
    "    ) -> str:\n",
    "        self.counter += 1\n",
    "        return \"fel1\" if (self.counter & 1) == 1 else \"fel2\""
   ],
   "outputs": [],
   "execution_count": 3
  },
  {
   "cell_type": "markdown",
   "id": "21ff14cb8ec404d5",
   "metadata": {},
   "source": [
    "## Create node to handle `fel1` action."
   ]
  },
  {
   "cell_type": "code",
   "id": "fa68e86b-ff22-4c31-9bd4-1ec4b29fd48f",
   "metadata": {
    "ExecuteTime": {
     "end_time": "2025-07-25T18:24:19.591069Z",
     "start_time": "2025-07-25T18:24:19.586432Z"
    }
   },
   "source": [
    "class FEL1(G.Node):\n",
    "    def exec(\n",
    "        self,\n",
    "        _: G.Scratchpad,\n",
    "    ) -> None:\n",
    "        print(\"FEL1\")"
   ],
   "outputs": [],
   "execution_count": 4
  },
  {
   "cell_type": "markdown",
   "id": "73262f3a787c0386",
   "metadata": {},
   "source": [
    "## Create node to handle `fel2` action."
   ]
  },
  {
   "cell_type": "code",
   "id": "312b161c-2968-4f03-9ede-8496f3c70f9d",
   "metadata": {
    "ExecuteTime": {
     "end_time": "2025-07-25T18:24:21.415471Z",
     "start_time": "2025-07-25T18:24:21.412507Z"
    }
   },
   "source": [
    "class FEL2(G.Node):\n",
    "    def exec(\n",
    "        self,\n",
    "        _: G.Scratchpad,\n",
    "    ) -> None:\n",
    "        print(\"FEL2\")"
   ],
   "outputs": [],
   "execution_count": 5
  },
  {
   "cell_type": "markdown",
   "id": "6b4a117817a6a063",
   "metadata": {},
   "source": [
    "## Create the nodes and chain them."
   ]
  },
  {
   "cell_type": "code",
   "id": "3189f3fd-0855-44c2-a646-7c8c459f8e73",
   "metadata": {
    "ExecuteTime": {
     "end_time": "2025-07-25T18:24:23.015542Z",
     "start_time": "2025-07-25T18:24:23.010086Z"
    }
   },
   "source": [
    "fel0 = FEL0()\n",
    "fel1 = FEL1()\n",
    "fel2 = FEL2()\n",
    "\n",
    "_ = fel0 - \"fel1\" >> fel1\n",
    "_ = fel0 - \"fel2\" >> fel2"
   ],
   "outputs": [],
   "execution_count": 6
  },
  {
   "cell_type": "markdown",
   "id": "3f64e4fd946c0177",
   "metadata": {},
   "source": [
    "## Create a flow."
   ]
  },
  {
   "cell_type": "code",
   "id": "3853ce26-928a-44f1-b690-9b305f6149c0",
   "metadata": {
    "ExecuteTime": {
     "end_time": "2025-07-25T18:24:24.673441Z",
     "start_time": "2025-07-25T18:24:24.669712Z"
    }
   },
   "source": [
    "flow = G.Flow(fel0, observer=G.FlowObserverConsole())"
   ],
   "outputs": [],
   "execution_count": 7
  },
  {
   "cell_type": "markdown",
   "id": "b7e3c14ef5332d17",
   "metadata": {},
   "source": [
    "## Display the flow as a [mermaid](https://mermaid.js.org/) diagram."
   ]
  },
  {
   "cell_type": "code",
   "id": "38513441-ce47-42c3-a37c-3fb1f8b2b5fa",
   "metadata": {
    "ExecuteTime": {
     "end_time": "2025-07-25T18:24:26.311109Z",
     "start_time": "2025-07-25T18:24:26.304181Z"
    }
   },
   "source": [
    "flow.display_markdown()"
   ],
   "outputs": [
    {
     "data": {
      "text/plain": [
       "<IPython.core.display.Markdown object>"
      ],
      "text/markdown": "```mermaid\nflowchart LR\n2449525421072[\"FEL0\"] -- \"fel1\" --> 2449525420880[\"FEL1\"]\n2449525421072[\"FEL0\"] -- \"fel2\" --> 2449525422160[\"FEL2\"]\n```"
     },
     "metadata": {},
     "output_type": "display_data"
    }
   ],
   "execution_count": 8
  },
  {
   "cell_type": "markdown",
   "id": "4e5a5310cd8ee665",
   "metadata": {},
   "source": [
    "### Run the flow."
   ]
  },
  {
   "cell_type": "code",
   "id": "f0951c58-406d-40c3-a706-b48c04801a39",
   "metadata": {
    "ExecuteTime": {
     "end_time": "2025-07-25T18:24:28.956901Z",
     "start_time": "2025-07-25T18:24:28.953309Z"
    }
   },
   "source": [
    "flow();"
   ],
   "outputs": [
    {
     "name": "stdout",
     "output_type": "stream",
     "text": [
      "Flow started...\n",
      "FEL0 started...\n",
      "FEL0 ended.\n",
      "FEL1 started...\n",
      "FEL1\n",
      "FEL1 ended.\n",
      "Flow ended.\n"
     ]
    }
   ],
   "execution_count": 9
  },
  {
   "metadata": {
    "ExecuteTime": {
     "end_time": "2025-07-25T18:24:46.265888Z",
     "start_time": "2025-07-25T18:24:46.261189Z"
    }
   },
   "cell_type": "code",
   "source": "flow.display_markdown()",
   "id": "80cf7477dee78940",
   "outputs": [
    {
     "data": {
      "text/plain": [
       "<IPython.core.display.Markdown object>"
      ],
      "text/markdown": "```mermaid\nflowchart LR\n2449525421072[\"FEL0\"] -- \"fel1\" --> 2449525420880[\"FEL1\"]\n2449525421072[\"FEL0\"] -- \"fel2\" --> 2449525422160[\"FEL2\"]\n```"
     },
     "metadata": {},
     "output_type": "display_data"
    }
   ],
   "execution_count": 10
  },
  {
   "metadata": {},
   "cell_type": "code",
   "outputs": [],
   "execution_count": null,
   "source": "",
   "id": "e53a99b2a4b01847"
  }
 ],
 "metadata": {
  "kernelspec": {
   "display_name": "Python 3 (ipykernel)",
   "language": "python",
   "name": "python3"
  },
  "language_info": {
   "codemirror_mode": {
    "name": "ipython",
    "version": 3
   },
   "file_extension": ".py",
   "mimetype": "text/x-python",
   "name": "python",
   "nbconvert_exporter": "python",
   "pygments_lexer": "ipython3",
   "version": "3.11.13"
  }
 },
 "nbformat": 4,
 "nbformat_minor": 5
}
