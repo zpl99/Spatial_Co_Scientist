{
 "cells": [
  {
   "cell_type": "markdown",
   "id": "99b49433d26fe53b",
   "metadata": {},
   "source": [
    "# Notebook to demo Flow."
   ]
  },
  {
   "cell_type": "code",
   "execution_count": 1,
   "id": "aafd41dd-853e-4e9e-a305-b75afd549a37",
   "metadata": {
    "ExecuteTime": {
     "end_time": "2025-06-16T15:34:45.393492Z",
     "start_time": "2025-06-16T15:34:37.972550Z"
    }
   },
   "outputs": [],
   "source": [
    "import gait as G"
   ]
  },
  {
   "cell_type": "markdown",
   "id": "13c554dd356264cb",
   "metadata": {},
   "source": [
    "## Create starting node."
   ]
  },
  {
   "cell_type": "code",
   "execution_count": 2,
   "id": "957b15b8-1b98-4d5e-aa35-a0c0697bbe57",
   "metadata": {
    "ExecuteTime": {
     "end_time": "2025-06-16T15:34:47.533231Z",
     "start_time": "2025-06-16T15:34:47.530518Z"
    }
   },
   "outputs": [],
   "source": [
    "class FEL0(G.Node):\n",
    "    def __init__(self) -> None:\n",
    "        super().__init__()\n",
    "        self.counter = 0\n",
    "\n",
    "    def exec(\n",
    "        self,\n",
    "        _: G.Scratchpad,\n",
    "    ) -> str:\n",
    "        self.counter += 1\n",
    "        return \"fel1\" if (self.counter & 1) == 1 else \"fel2\""
   ]
  },
  {
   "cell_type": "markdown",
   "id": "21ff14cb8ec404d5",
   "metadata": {},
   "source": [
    "## Create node to handle `fel1` action."
   ]
  },
  {
   "cell_type": "code",
   "execution_count": 3,
   "id": "fa68e86b-ff22-4c31-9bd4-1ec4b29fd48f",
   "metadata": {
    "ExecuteTime": {
     "end_time": "2025-06-16T15:34:50.031140Z",
     "start_time": "2025-06-16T15:34:50.028887Z"
    }
   },
   "outputs": [],
   "source": [
    "class FEL1(G.Node):\n",
    "    def exec(\n",
    "        self,\n",
    "        _: G.Scratchpad,\n",
    "    ) -> None:\n",
    "        print(\"FEL1\")"
   ]
  },
  {
   "cell_type": "markdown",
   "id": "73262f3a787c0386",
   "metadata": {},
   "source": [
    "## Create node to handle `fel2` action."
   ]
  },
  {
   "cell_type": "code",
   "execution_count": 4,
   "id": "312b161c-2968-4f03-9ede-8496f3c70f9d",
   "metadata": {
    "ExecuteTime": {
     "end_time": "2025-06-16T15:34:57.365987Z",
     "start_time": "2025-06-16T15:34:57.363529Z"
    }
   },
   "outputs": [],
   "source": [
    "class FEL2(G.Node):\n",
    "    def exec(\n",
    "        self,\n",
    "        _: G.Scratchpad,\n",
    "    ) -> None:\n",
    "        print(\"FEL2\")"
   ]
  },
  {
   "cell_type": "markdown",
   "id": "6b4a117817a6a063",
   "metadata": {},
   "source": [
    "## Create the nodes and chain them."
   ]
  },
  {
   "cell_type": "code",
   "execution_count": 5,
   "id": "3189f3fd-0855-44c2-a646-7c8c459f8e73",
   "metadata": {
    "ExecuteTime": {
     "end_time": "2025-06-16T15:35:01.056082Z",
     "start_time": "2025-06-16T15:35:01.053796Z"
    }
   },
   "outputs": [],
   "source": [
    "fel0 = FEL0()\n",
    "fel1 = FEL1()\n",
    "fel2 = FEL2()\n",
    "\n",
    "_ = fel0 - \"fel1\" >> fel1\n",
    "_ = fel0 - \"fel2\" >> fel2"
   ]
  },
  {
   "cell_type": "markdown",
   "id": "3f64e4fd946c0177",
   "metadata": {},
   "source": [
    "## Create a flow."
   ]
  },
  {
   "cell_type": "code",
   "execution_count": 6,
   "id": "3853ce26-928a-44f1-b690-9b305f6149c0",
   "metadata": {
    "ExecuteTime": {
     "end_time": "2025-06-16T15:35:34.235333Z",
     "start_time": "2025-06-16T15:35:34.233093Z"
    }
   },
   "outputs": [],
   "source": [
    "flow = G.Flow(fel0, observer=G.FlowObserverConsole())"
   ]
  },
  {
   "cell_type": "markdown",
   "id": "b7e3c14ef5332d17",
   "metadata": {},
   "source": [
    "## Display the flow as a [mermaid](https://mermaid.js.org/) diagram."
   ]
  },
  {
   "cell_type": "code",
   "execution_count": 7,
   "id": "38513441-ce47-42c3-a37c-3fb1f8b2b5fa",
   "metadata": {
    "ExecuteTime": {
     "end_time": "2025-06-16T15:35:35.981553Z",
     "start_time": "2025-06-16T15:35:35.977168Z"
    }
   },
   "outputs": [
    {
     "data": {
      "text/markdown": [
       "```mermaid\n",
       "flowchart LR\n",
       "13197246096[\"FEL0\"] -- \"fel1\" --> 13197246224[\"FEL1\"]\n",
       "13197246096[\"FEL0\"] -- \"fel2\" --> 13197246160[\"FEL2\"]\n",
       "```"
      ],
      "text/plain": [
       "<IPython.core.display.Markdown object>"
      ]
     },
     "metadata": {},
     "output_type": "display_data"
    }
   ],
   "source": [
    "flow.display_markdown()"
   ]
  },
  {
   "cell_type": "markdown",
   "id": "4e5a5310cd8ee665",
   "metadata": {},
   "source": [
    "### Run the flow."
   ]
  },
  {
   "cell_type": "code",
   "execution_count": 22,
   "id": "f0951c58-406d-40c3-a706-b48c04801a39",
   "metadata": {
    "ExecuteTime": {
     "end_time": "2025-06-16T15:35:50.086280Z",
     "start_time": "2025-06-16T15:35:50.083797Z"
    }
   },
   "outputs": [
    {
     "name": "stdout",
     "output_type": "stream",
     "text": [
      "Flow started...\n",
      "FEL0 started...\n",
      "FEL0 ended.\n",
      "FEL1 started...\n",
      "FEL1\n",
      "FEL1 ended.\n",
      "Flow ended.\n"
     ]
    }
   ],
   "source": [
    "flow();"
   ]
  }
 ],
 "metadata": {
  "kernelspec": {
   "display_name": "Python 3 (ipykernel)",
   "language": "python",
   "name": "python3"
  },
  "language_info": {
   "codemirror_mode": {
    "name": "ipython",
    "version": 3
   },
   "file_extension": ".py",
   "mimetype": "text/x-python",
   "name": "python",
   "nbconvert_exporter": "python",
   "pygments_lexer": "ipython3",
   "version": "3.11.13"
  }
 },
 "nbformat": 4,
 "nbformat_minor": 5
}
