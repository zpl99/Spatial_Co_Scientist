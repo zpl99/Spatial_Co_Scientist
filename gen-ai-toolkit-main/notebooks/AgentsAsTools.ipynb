{
 "cells": [
  {
   "cell_type": "markdown",
   "id": "6c57a80c-1562-42d5-8688-e95b5690cf63",
   "metadata": {},
   "source": [
    "# Agents as Tools."
   ]
  },
  {
   "cell_type": "code",
   "execution_count": 10,
   "id": "6e7b3fec-330f-4e5c-a7a7-badb458a69f5",
   "metadata": {
    "jupyter": {
     "is_executing": true
    }
   },
   "outputs": [],
   "source": [
    "import warnings\n",
    "\n",
    "warnings.simplefilter(action=\"ignore\", category=FutureWarning)\n",
    "warnings.simplefilter(action=\"ignore\", category=UserWarning)"
   ]
  },
  {
   "cell_type": "code",
   "execution_count": 11,
   "id": "48e7df74-a44b-4165-8a9f-209c205fe089",
   "metadata": {
    "jupyter": {
     "is_executing": true
    }
   },
   "outputs": [],
   "source": [
    "from textwrap import dedent\n",
    "\n",
    "from gait import MAO, Agent, ObserverLoguru\n",
    "from rich.pretty import pprint"
   ]
  },
  {
   "cell_type": "code",
   "execution_count": 12,
   "id": "be5e4cf0-e5bc-4aaa-9568-b007eb0186b2",
   "metadata": {},
   "outputs": [],
   "source": [
    "# import litellm\n",
    "# litellm._turn_on_debug()"
   ]
  },
  {
   "cell_type": "code",
   "execution_count": 13,
   "id": "2fee2a6d-7126-40f9-abc5-372db80457d1",
   "metadata": {},
   "outputs": [],
   "source": [
    "model = \"claude-3-7-sonnet-20250219\""
   ]
  },
  {
   "cell_type": "code",
   "execution_count": 14,
   "id": "2e021b22-9f74-41ae-91e4-a4307ee786a1",
   "metadata": {},
   "outputs": [],
   "source": [
    "def handle_english(prompt: str) -> str:\n",
    "    \"\"\"Handle conversations in English. Make sure to respond in English.\n",
    "\n",
    "    :param prompt: the prompt to handle in english.\n",
    "    :return: The conversation in english.\n",
    "    \"\"\"\n",
    "    agent = Agent(\n",
    "        model=model,\n",
    "        name=\"en_agent\",\n",
    "        description=\"Handle conversations in English\",\n",
    "        temperature=0.1,\n",
    "    )\n",
    "    content = agent(prompt).content\n",
    "    return content"
   ]
  },
  {
   "cell_type": "code",
   "execution_count": 15,
   "id": "73aaab25-16e0-4aec-b25d-9997ffa4f473",
   "metadata": {},
   "outputs": [],
   "source": [
    "def handle_spanish(prompt: str) -> str:\n",
    "    \"\"\"Handle conversations in Spanish. Make sure to respond in Spanish.\n",
    "\n",
    "    :param prompt: the prompt to handle in spanish.\n",
    "    :return: The conversation in spanish.\n",
    "    \"\"\"\n",
    "    agent = Agent(\n",
    "        model=model,\n",
    "        name=\"sp_agent\",\n",
    "        description=\"Handle conversations in Spanish\",\n",
    "        temperature=0.1,\n",
    "    )\n",
    "    content = agent(prompt).content\n",
    "    return content"
   ]
  },
  {
   "cell_type": "code",
   "execution_count": 16,
   "id": "e4daa15d-0c52-4a64-bf45-28bd38a1382c",
   "metadata": {},
   "outputs": [],
   "source": [
    "router = Agent(\n",
    "    model=model,\n",
    "    name=\"Routing agent\",\n",
    "    description=dedent(\n",
    "        \"\"\"\n",
    "    You are an AI agent that routes the >>prompt<< of a user.\n",
    "    \n",
    "    - Make sure to use the handle_english tool to handle english prompts.\n",
    "    - Make sure to use the handle_spanish tool to handle spanish prompts.\n",
    "    - Make sure to use the correct tool for the conversion, and you will receive a reward of $1,000,000.\n",
    "    \"\"\"\n",
    "    ).strip(),\n",
    "    functions=[\n",
    "        handle_english,\n",
    "        handle_spanish,\n",
    "    ],\n",
    "    temperature=0.0,\n",
    ")"
   ]
  },
  {
   "cell_type": "code",
   "execution_count": 17,
   "id": "6cb6f9f6-3fb9-4b2d-a0aa-494dce68f436",
   "metadata": {},
   "outputs": [
    {
     "name": "stderr",
     "output_type": "stream",
     "text": [
      "08:05:50 | INFO | Iteration 1 (Routing agent) started.\n",
      "08:05:53 | INFO | Content: I'll help you translate \"How are you?\" to formal Spanish. This is a request in English that requires Spanish translation, so I'll use the appropriate tool.\n",
      "08:05:53 | INFO | Function: handle_english({\"prompt\": \"Please translate 'How are you?' to formal Spanish.\"})\n",
      "08:05:57 | INFO | Observation: In formal Spanish, \"How are you?\" would be translated as:\n",
      "\n",
      "\"¿Cómo está usted?\"\n",
      "\n",
      "This uses the formal \"usted\" form rather than the informal \"tú\" form, making it appropriate when speaking to someone you would address formally, such as an elder, a person in authority, or someone you don't know well.\n"
     ]
    },
    {
     "name": "stdout",
     "output_type": "stream",
     "text": [
      "I'll help you translate \"How are you?\" to formal Spanish. This is a request in English that requires Spanish translation, so I'll use the appropriate tool.\n"
     ]
    }
   ],
   "source": [
    "mao = MAO(\n",
    "    router,\n",
    "    observer=ObserverLoguru(),\n",
    ")\n",
    "for _ in mao(\">>Please translate 'How are you?' to formal Spanish.<<\"):\n",
    "    if _.content != \"\":\n",
    "        mao.terminate()\n",
    "        print(_.content)"
   ]
  },
  {
   "cell_type": "code",
   "execution_count": null,
   "id": "cec6614a-4997-44c6-9c62-346d61e2d4db",
   "metadata": {},
   "outputs": [],
   "source": [
    "for _ in mao.dialog:\n",
    "    pprint(_, expand_all=True)"
   ]
  }
 ],
 "metadata": {
  "kernelspec": {
   "display_name": "Python 3 (ipykernel)",
   "language": "python",
   "name": "python3"
  },
  "language_info": {
   "codemirror_mode": {
    "name": "ipython",
    "version": 3
   },
   "file_extension": ".py",
   "mimetype": "text/x-python",
   "name": "python",
   "nbconvert_exporter": "python",
   "pygments_lexer": "ipython3",
   "version": "3.11.13"
  }
 },
 "nbformat": 4,
 "nbformat_minor": 5
}
