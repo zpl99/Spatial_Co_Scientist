{
 "cells": [
  {
   "cell_type": "markdown",
   "id": "1c0e7ebe-3ffa-4e0c-8670-18d0c98ee006",
   "metadata": {},
   "source": [
    "- https://docs.litellm.ai/docs/tutorials/instructor"
   ]
  },
  {
   "cell_type": "code",
   "execution_count": 6,
   "id": "5aeb3f81-1bc8-45dc-bd5d-9c8996223346",
   "metadata": {
    "ExecuteTime": {
     "end_time": "2025-06-01T21:16:30.020543Z",
     "start_time": "2025-06-01T21:16:30.017811Z"
    }
   },
   "outputs": [],
   "source": [
    "import os\n",
    "\n",
    "import instructor\n",
    "import litellm\n",
    "from litellm import completion\n",
    "from litellm.caching.caching import Cache\n",
    "from pydantic import BaseModel\n",
    "from rich.pretty import pprint"
   ]
  },
  {
   "cell_type": "code",
   "execution_count": 7,
   "id": "a2157ec0-2a30-473f-9bc1-24b993e49b18",
   "metadata": {
    "ExecuteTime": {
     "end_time": "2025-06-01T21:16:30.317386Z",
     "start_time": "2025-06-01T21:16:30.315299Z"
    }
   },
   "outputs": [],
   "source": [
    "litellm.cache = Cache()"
   ]
  },
  {
   "cell_type": "code",
   "execution_count": 8,
   "id": "91711356-29c4-4ba0-a4c2-471515b612d3",
   "metadata": {
    "ExecuteTime": {
     "end_time": "2025-06-01T21:16:30.695188Z",
     "start_time": "2025-06-01T21:16:30.693401Z"
    }
   },
   "outputs": [],
   "source": [
    "client = instructor.from_litellm(completion)"
   ]
  },
  {
   "cell_type": "code",
   "execution_count": 9,
   "id": "bdb8ca04-3fa2-4a39-aa55-080fcc2a29ea",
   "metadata": {
    "ExecuteTime": {
     "end_time": "2025-06-01T21:16:31.057302Z",
     "start_time": "2025-06-01T21:16:31.054983Z"
    }
   },
   "outputs": [],
   "source": [
    "class User(BaseModel):\n",
    "    name: str\n",
    "    age: int"
   ]
  },
  {
   "cell_type": "code",
   "execution_count": 15,
   "id": "7aa85bf5ab4766a2",
   "metadata": {
    "ExecuteTime": {
     "end_time": "2025-06-01T21:21:46.124183Z",
     "start_time": "2025-06-01T21:21:46.122267Z"
    }
   },
   "outputs": [],
   "source": [
    "model = \"gpt-4.1-mini\"\n",
    "os.environ[\"AZURE_API_BASE\"] = os.environ[\"AZURE_API_URL\"] + f\"/{model}\""
   ]
  },
  {
   "cell_type": "code",
   "execution_count": 16,
   "id": "b1cefab5-871f-4c74-8494-a077beb19658",
   "metadata": {
    "ExecuteTime": {
     "end_time": "2025-06-01T21:21:47.119117Z",
     "start_time": "2025-06-01T21:21:47.116822Z"
    }
   },
   "outputs": [],
   "source": [
    "def extract_user(text: str) -> User:\n",
    "    return client.chat.completions.create(\n",
    "        model=f\"azure/{model}\",\n",
    "        response_model=User,\n",
    "        messages=[\n",
    "            {\n",
    "                \"role\": \"user\",\n",
    "                \"content\": text,\n",
    "            },\n",
    "        ],\n",
    "        max_retries=3,\n",
    "    )"
   ]
  },
  {
   "cell_type": "code",
   "execution_count": 20,
   "id": "1311907a-6819-4fc2-9bec-34eb22ecfecc",
   "metadata": {
    "ExecuteTime": {
     "end_time": "2025-06-01T21:21:54.769511Z",
     "start_time": "2025-06-01T21:21:54.765055Z"
    }
   },
   "outputs": [],
   "source": [
    "user = extract_user(\"Jason is 25 years old\")"
   ]
  },
  {
   "cell_type": "code",
   "execution_count": 21,
   "id": "5752021e-e543-4134-ac3c-854804ab507d",
   "metadata": {
    "ExecuteTime": {
     "end_time": "2025-06-01T21:21:55.246142Z",
     "start_time": "2025-06-01T21:21:55.243481Z"
    }
   },
   "outputs": [
    {
     "data": {
      "text/plain": [
       "True"
      ]
     },
     "execution_count": 21,
     "metadata": {},
     "output_type": "execute_result"
    }
   ],
   "source": [
    "isinstance(user, User)"
   ]
  },
  {
   "cell_type": "code",
   "execution_count": 22,
   "id": "11e85caf-1db1-4a9e-9ef0-efbcc564138d",
   "metadata": {
    "ExecuteTime": {
     "end_time": "2025-06-01T21:21:55.906236Z",
     "start_time": "2025-06-01T21:21:55.903335Z"
    }
   },
   "outputs": [
    {
     "data": {
      "text/html": [
       "<pre style=\"white-space:pre;overflow-x:auto;line-height:normal;font-family:Menlo,'DejaVu Sans Mono',consolas,'Courier New',monospace\"><span style=\"color: #800080; text-decoration-color: #800080; font-weight: bold\">User</span><span style=\"font-weight: bold\">(</span>\n",
       "<span style=\"color: #7fbf7f; text-decoration-color: #7fbf7f\">│   </span><span style=\"color: #808000; text-decoration-color: #808000\">name</span>=<span style=\"color: #008000; text-decoration-color: #008000\">'Jason'</span>,\n",
       "<span style=\"color: #7fbf7f; text-decoration-color: #7fbf7f\">│   </span><span style=\"color: #808000; text-decoration-color: #808000\">age</span>=<span style=\"color: #008080; text-decoration-color: #008080; font-weight: bold\">25</span>\n",
       "<span style=\"font-weight: bold\">)</span>\n",
       "</pre>\n"
      ],
      "text/plain": [
       "\u001b[1;35mUser\u001b[0m\u001b[1m(\u001b[0m\n",
       "\u001b[2;32m│   \u001b[0m\u001b[33mname\u001b[0m=\u001b[32m'Jason'\u001b[0m,\n",
       "\u001b[2;32m│   \u001b[0m\u001b[33mage\u001b[0m=\u001b[1;36m25\u001b[0m\n",
       "\u001b[1m)\u001b[0m\n"
      ]
     },
     "metadata": {},
     "output_type": "display_data"
    }
   ],
   "source": [
    "pprint(user, expand_all=True)"
   ]
  }
 ],
 "metadata": {
  "kernelspec": {
   "display_name": "Python 3 (ipykernel)",
   "language": "python",
   "name": "python3"
  },
  "language_info": {
   "codemirror_mode": {
    "name": "ipython",
    "version": 3
   },
   "file_extension": ".py",
   "mimetype": "text/x-python",
   "name": "python",
   "nbconvert_exporter": "python",
   "pygments_lexer": "ipython3",
   "version": "3.11.13"
  }
 },
 "nbformat": 4,
 "nbformat_minor": 5
}
