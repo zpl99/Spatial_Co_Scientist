{
 "cells": [
  {
   "cell_type": "markdown",
   "id": "0d27da68-46eb-4db6-ab5b-6930fba8af30",
   "metadata": {},
   "source": [
    "# Notebook to demo the usage of MCPAgent.\n",
    "\n",
    "In this notebook we are lanching 2 MCP servers via [docker](https://www.docker.com/). One to get the time and the second to enable file system access.\n",
    "\n",
    "We will ask the agent to create a file with the local current time.\n",
    "\n",
    "Make sure to docker pull the models before executing the following cells:\n",
    "\n",
    "```bash\n",
    "docker pull mcp/time\n",
    "docker pull mcp/filesystem\n",
    "```\n",
    "\n",
    "## References\n",
    "- https://hub.docker.com/r/mcp/time\n",
    "- https://hub.docker.com/r/mcp/filesystem\n",
    "\n",
    "```json\n",
    "{\n",
    "  \"mcpServers\": {\n",
    "    \"time\": {\n",
    "      \"command\": \"docker\",\n",
    "      \"args\": [\n",
    "        \"run\",\n",
    "        \"-i\",\n",
    "        \"--rm\",\n",
    "        \"mcp/time\"\n",
    "      ]\n",
    "    }\n",
    "  }\n",
    "}\n",
    "```\n",
    "\n",
    "```json\n",
    "{\n",
    "  \"mcpServers\": {\n",
    "    \"filesystem\": {\n",
    "      \"command\": \"docker\",\n",
    "      \"args\": [\n",
    "        \"run\",\n",
    "        \"-i\",\n",
    "        \"--rm\",\n",
    "        \"-v\",\n",
    "        \"/local-directory:/local-directory\",\n",
    "        \"mcp/filesystem\",\n",
    "        \"/local-directory\"\n",
    "      ]\n",
    "    }\n",
    "  }\n",
    "}\n",
    "```"
   ]
  },
  {
   "cell_type": "code",
   "execution_count": 1,
   "id": "5e68ac75-53ab-4c2e-900e-2fe492f358ee",
   "metadata": {},
   "outputs": [],
   "source": [
    "import warnings\n",
    "\n",
    "warnings.simplefilter(action=\"ignore\", category=FutureWarning)\n",
    "warnings.simplefilter(action=\"ignore\", category=UserWarning)"
   ]
  },
  {
   "cell_type": "markdown",
   "id": "5a546659-eb8a-4387-b0b8-47071ca3dcc3",
   "metadata": {},
   "source": [
    "## Import the usual suspects."
   ]
  },
  {
   "cell_type": "code",
   "execution_count": 2,
   "id": "5a039983-c8aa-4128-a44c-c8a111bc7e15",
   "metadata": {},
   "outputs": [],
   "source": [
    "import logging\n",
    "import os\n",
    "import shutil\n",
    "from contextlib import AsyncExitStack\n",
    "\n",
    "from gait import AMAO, MCPAgent, MCPServerStdio, AObserverLoguru\n",
    "from rich.pretty import pprint"
   ]
  },
  {
   "cell_type": "markdown",
   "id": "714064d7-6786-4ec0-b75c-619064c9c226",
   "metadata": {},
   "source": [
    "## Get the full path of the docker command."
   ]
  },
  {
   "cell_type": "code",
   "execution_count": 3,
   "id": "d8fbd236-a77e-47ac-82f9-3ba8c3fcdb71",
   "metadata": {},
   "outputs": [
    {
     "name": "stdout",
     "output_type": "stream",
     "text": [
      "/Users/mraad/.local/bin/docker\n"
     ]
    }
   ],
   "source": [
    "docker = shutil.which(\"docker\")\n",
    "assert docker, \"docker not found\"\n",
    "print(docker)"
   ]
  },
  {
   "cell_type": "markdown",
   "id": "0bbf5c0e-1668-41e0-b24f-55f2d50057da",
   "metadata": {},
   "source": [
    "## Create the `mcp_filesystem` folder in the home directory."
   ]
  },
  {
   "cell_type": "code",
   "execution_count": 4,
   "id": "48dda7b2-9b25-43ec-b64e-749b42e9653b",
   "metadata": {},
   "outputs": [],
   "source": [
    "mcp_filesystem_path = os.path.expanduser(os.path.join(\"~\", \"mcp_filesystem\"))\n",
    "os.makedirs(mcp_filesystem_path, exist_ok=True)"
   ]
  },
  {
   "cell_type": "markdown",
   "id": "0b69bfbf-209c-4db2-bc80-c2bd628465b5",
   "metadata": {},
   "source": [
    "## Let's ask question."
   ]
  },
  {
   "cell_type": "code",
   "execution_count": 5,
   "id": "2687af0e-18d3-43c7-b760-5ab0d39927c6",
   "metadata": {},
   "outputs": [
    {
     "name": "stderr",
     "output_type": "stream",
     "text": [
      "07:27:05 | INFO | GAIT started.\n",
      "07:27:05 | INFO | Iteration 1 (MCPAgent-azure/gpt-4.1) started.\n",
      "07:27:07 | INFO | Content: None\n",
      "07:27:07 | INFO | Function: get_current_time({\"timezone\":\"America/New_York\"})\n",
      "07:27:07 | INFO | Observation: {\n",
      "  \"timezone\": \"America/New_York\",\n",
      "  \"datetime\": \"2025-06-21T07:27:07-04:00\",\n",
      "  \"is_dst\": true\n",
      "}\n",
      "07:27:07 | INFO | Iteration 2 (MCPAgent-azure/gpt-4.1) started.\n",
      "07:27:07 | INFO | Content: None\n",
      "07:27:07 | INFO | Function: write_file({\"path\":\"current_time.txt\",\"content\":\"Current time in Atlanta, GA: 2025-06-21 07:27:07 EDT\"})\n",
      "07:27:07 | INFO | Observation: Error calling tool write_file\n",
      "Error: Access denied - path outside allowed directories: /app/current_time.txt not in /mcp_filesystem\n",
      "07:27:07 | INFO | Iteration 3 (MCPAgent-azure/gpt-4.1) started.\n",
      "07:27:08 | INFO | Content: None\n",
      "07:27:08 | INFO | Function: write_file({\"path\":\"/mcp_filesystem/current_time.txt\",\"content\":\"Current time in Atlanta, GA: 2025-06-21 07:27:07 EDT\"})\n",
      "07:27:08 | INFO | Observation: Successfully wrote to /mcp_filesystem/current_time.txt\n",
      "07:27:08 | INFO | Iteration 4 (MCPAgent-azure/gpt-4.1) started.\n",
      "07:27:09 | INFO | Content: The file current_time.txt has been created with the current time in Atlanta, GA. If you need to view or download the file, let me know!\n",
      "07:27:09 | INFO | GAIT ended after 4 iterations.\n"
     ]
    }
   ],
   "source": [
    "async with AsyncExitStack() as stack:\n",
    "    # Launch the MCP time server.\n",
    "    mcp_time = await stack.enter_async_context(\n",
    "        MCPServerStdio(\n",
    "            command=docker,\n",
    "            args=[\n",
    "                \"run\",\n",
    "                \"-i\",\n",
    "                \"--rm\",\n",
    "                \"mcp/time\",\n",
    "            ],\n",
    "        )\n",
    "    )\n",
    "    # Launch the MCP filesystem server.\n",
    "    mcp_file = await stack.enter_async_context(\n",
    "        MCPServerStdio(\n",
    "            command=docker,\n",
    "            args=[\n",
    "                \"run\",\n",
    "                \"-i\",\n",
    "                \"--rm\",\n",
    "                # Note how we are mapping a volume from the \"outside\" to the \"inside\"\n",
    "                \"-v\",\n",
    "                f\"{mcp_filesystem_path}:/mcp_filesystem\",\n",
    "                \"mcp/filesystem\",\n",
    "                \"/mcp_filesystem\",\n",
    "            ],\n",
    "        )\n",
    "    )\n",
    "    # Create the agent.\n",
    "    async with MCPAgent(\n",
    "        model=\"azure/\" + os.environ[\"AZURE_API_DEPLOYMENT\"],\n",
    "        # Reference the servers.\n",
    "        mcp_servers=[\n",
    "            mcp_time,\n",
    "            mcp_file,\n",
    "        ],\n",
    "    ) as agent:\n",
    "        # Start the orchestration with an observer.\n",
    "        mao = AMAO(\n",
    "            agent,\n",
    "            observer=AObserverLoguru(),\n",
    "        )\n",
    "        async for _ in mao(\n",
    "            \"Create a file named current_time.txt and write in it the current time in Atlanta, GA.\",\n",
    "        ):\n",
    "            # Terminate the loop when the file is created.\n",
    "            if _.content:\n",
    "                mao.terminate()"
   ]
  },
  {
   "cell_type": "markdown",
   "id": "935ac17d-1ddd-41fd-bb49-0be5b249dcc5",
   "metadata": {},
   "source": [
    "## Let's see the content of the file."
   ]
  },
  {
   "cell_type": "code",
   "execution_count": 6,
   "id": "3b9356cb-ded8-41cb-b51c-bfa1b8a1ab16",
   "metadata": {},
   "outputs": [
    {
     "name": "stdout",
     "output_type": "stream",
     "text": [
      "Current time in Atlanta, GA: 2025-06-21 07:27:07 EDT\n"
     ]
    }
   ],
   "source": [
    "file_name = os.path.join(mcp_filesystem_path, \"current_time.txt\")\n",
    "if os.path.exists(file_name):\n",
    "    with open(file_name, mode=\"r\") as fp:\n",
    "        print(fp.read())\n",
    "else:\n",
    "    print(f\"{file_name} was not created :-(\")"
   ]
  }
 ],
 "metadata": {
  "kernelspec": {
   "display_name": "Python 3 (ipykernel)",
   "language": "python",
   "name": "python3"
  },
  "language_info": {
   "codemirror_mode": {
    "name": "ipython",
    "version": 3
   },
   "file_extension": ".py",
   "mimetype": "text/x-python",
   "name": "python",
   "nbconvert_exporter": "python",
   "pygments_lexer": "ipython3",
   "version": "3.11.13"
  }
 },
 "nbformat": 4,
 "nbformat_minor": 5
}
