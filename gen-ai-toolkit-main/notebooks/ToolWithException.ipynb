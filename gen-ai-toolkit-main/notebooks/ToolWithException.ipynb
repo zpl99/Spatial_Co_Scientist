{
 "cells": [
  {
   "cell_type": "markdown",
   "id": "7cde6a6e-e33f-426f-9eaf-b7ae942cfb8f",
   "metadata": {},
   "source": [
    "# Notebook to demo tool calling that raises an exception."
   ]
  },
  {
   "cell_type": "code",
   "execution_count": 1,
   "id": "a1c8ea62-089a-46aa-b5cc-67e68e737a9b",
   "metadata": {},
   "outputs": [],
   "source": [
    "import os\n",
    "import warnings\n",
    "\n",
    "warnings.simplefilter(action=\"ignore\", category=FutureWarning)\n",
    "warnings.simplefilter(action=\"ignore\", category=UserWarning)"
   ]
  },
  {
   "cell_type": "code",
   "execution_count": 2,
   "id": "e8d71917-1005-42d5-8966-4158161e2fbb",
   "metadata": {},
   "outputs": [],
   "source": [
    "import gait as G\n",
    "from rich.pretty import pprint"
   ]
  },
  {
   "cell_type": "markdown",
   "id": "ffceefdd-ed2b-429c-94f4-24e1bb73dca3",
   "metadata": {},
   "source": [
    "## Define a function that raises an exception on purpose."
   ]
  },
  {
   "cell_type": "code",
   "execution_count": 3,
   "id": "b38b331b-3de5-40c3-b4a2-087eb03b795b",
   "metadata": {},
   "outputs": [],
   "source": [
    "def get_temperature(location: str) -> str:\n",
    "    \"\"\"Get the temperature at a location.\n",
    "\n",
    "    :param location: Location can be a place, address, city, state, zipcode or a country.\n",
    "    :return: The temperature at the location.\n",
    "    \"\"\"\n",
    "    raise ValueError(\"Exception in function get_temperature.\")"
   ]
  },
  {
   "cell_type": "code",
   "execution_count": 4,
   "id": "dc451bb4-1ef3-4b07-a34a-18255410ec90",
   "metadata": {},
   "outputs": [
    {
     "name": "stdout",
     "output_type": "stream",
     "text": [
      "It seems like there was an error in calling the temperature tool for Florence, Italy. The tool returned an error message instead of providing the current temperature.\n",
      "\n",
      "Unfortunately, I don't have real-time access to current weather conditions or temperatures. However, I can suggest some alternatives to find out the current temperature in Florence, Italy:\n",
      "\n",
      "1. Check online weather websites: You can check websites like AccuWeather, Weather.com, or the National Weather Service (NWS) for the current temperature and forecast in Florence, Italy.\n",
      "2. Use a virtual assistant: You can ask virtual assistants like Siri, Google Assistant, or Alexa to provide you with the current temperature in Florence, Italy.\n",
      "3. Check social media: You can also check social media platforms like Twitter or Facebook for updates on the current temperature in Florence, Italy.\n",
      "\n",
      "I apologize for any inconvenience caused by the error, and I hope this information helps you find the current temperature in Florence, Italy.\n"
     ]
    }
   ],
   "source": [
    "mao = G.MAO(\n",
    "    G.Agent(\n",
    "        functions=[get_temperature],\n",
    "        temperature=0.0,\n",
    "    )\n",
    ")\n",
    "\n",
    "for _ in mao(\"That is the temperature in Florence, Italy\"):\n",
    "    if _.content:\n",
    "        mao.terminate()\n",
    "        print(_.content)"
   ]
  }
 ],
 "metadata": {
  "kernelspec": {
   "display_name": "Python 3 (ipykernel)",
   "language": "python",
   "name": "python3"
  },
  "language_info": {
   "codemirror_mode": {
    "name": "ipython",
    "version": 3
   },
   "file_extension": ".py",
   "mimetype": "text/x-python",
   "name": "python",
   "nbconvert_exporter": "python",
   "pygments_lexer": "ipython3",
   "version": "3.11.13"
  }
 },
 "nbformat": 4,
 "nbformat_minor": 5
}
