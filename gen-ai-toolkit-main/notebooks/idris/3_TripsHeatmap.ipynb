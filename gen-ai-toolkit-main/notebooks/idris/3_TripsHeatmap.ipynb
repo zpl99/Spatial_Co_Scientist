{
 "cells": [
  {
   "cell_type": "markdown",
   "id": "1831c4f1-bb48-4166-8206-69ebf0d59f3a",
   "metadata": {},
   "source": [
    "## Notebook to demo heatmap table macro using DuckDB."
   ]
  },
  {
   "cell_type": "code",
   "execution_count": null,
   "id": "681f7d5b-ca2e-4326-be92-7e8c933e5654",
   "metadata": {},
   "outputs": [],
   "source": [
    "import os\n",
    "\n",
    "import duckdb\n",
    "import geopandas as gpd\n",
    "import xyzservices.providers as xyz\n",
    "from shapely import wkb"
   ]
  },
  {
   "cell_type": "code",
   "execution_count": null,
   "id": "c4978d1b-0504-45d6-a88d-00050df00ac5",
   "metadata": {},
   "outputs": [],
   "source": [
    "database = os.path.expanduser(\"~/data/nyc-taxi-trip-duration/trips.db\")"
   ]
  },
  {
   "cell_type": "code",
   "execution_count": null,
   "id": "81ed145c-6ae5-46e6-b39d-56b4412fa1af",
   "metadata": {},
   "outputs": [],
   "source": [
    "conn = duckdb.connect(database=database, read_only=True)"
   ]
  },
  {
   "cell_type": "code",
   "execution_count": null,
   "id": "21f67c7a-b2cb-4507-a582-9cd860a55fcc",
   "metadata": {},
   "outputs": [],
   "source": [
    "_ = conn.execute(\"INSTALL spatial;LOAD spatial;\")"
   ]
  },
  {
   "cell_type": "code",
   "execution_count": null,
   "id": "cb91fd38-863c-4f1d-b263-0a3298ec322a",
   "metadata": {},
   "outputs": [],
   "source": [
    "conn.sql(\"describe trips\").df()"
   ]
  },
  {
   "cell_type": "code",
   "execution_count": null,
   "id": "166425dc-56e6-4eb6-84b5-a4045a1b4474",
   "metadata": {},
   "outputs": [],
   "source": [
    "pdf = conn.sql(\n",
    "    \"from heatmap(hour_of_day between 2 and 6 and day_of_week in (1,2))\"\n",
    ").df()"
   ]
  },
  {
   "cell_type": "code",
   "execution_count": null,
   "id": "25fe334f-03ee-41fb-b9ea-1f18a8f71f0d",
   "metadata": {},
   "outputs": [],
   "source": [
    "pdf.geometry = pdf.geometry.apply(bytes)\n",
    "pdf.geometry = pdf.geometry.apply(wkb.loads)\n",
    "gdf = gpd.GeoDataFrame(pdf, crs=\"EPSG:3857\")"
   ]
  },
  {
   "cell_type": "code",
   "execution_count": null,
   "id": "28e8f1d0-bc95-43c4-a402-7dc003c22054",
   "metadata": {},
   "outputs": [],
   "source": [
    "gdf.explore(\n",
    "    \"z_score\",\n",
    "    cmap=\"coolwarm\",  # https://matplotlib.org/stable/tutorials/colors/colormaps.html\n",
    "    vmin=-3.0,\n",
    "    vmax=3.0,\n",
    "    tiles=xyz.Esri.WorldGrayCanvas,\n",
    ")"
   ]
  }
 ],
 "metadata": {
  "kernelspec": {
   "display_name": "Python 3 (ipykernel)",
   "language": "python",
   "name": "python3"
  },
  "language_info": {
   "codemirror_mode": {
    "name": "ipython",
    "version": 3
   },
   "file_extension": ".py",
   "mimetype": "text/x-python",
   "name": "python",
   "nbconvert_exporter": "python",
   "pygments_lexer": "ipython3",
   "version": "3.11.11"
  }
 },
 "nbformat": 4,
 "nbformat_minor": 5
}
