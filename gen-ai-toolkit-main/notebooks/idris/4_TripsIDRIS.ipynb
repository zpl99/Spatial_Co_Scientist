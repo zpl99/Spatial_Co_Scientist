{
 "cells": [
  {
   "cell_type": "markdown",
   "id": "d1d7b119-77f3-4889-9c6c-aa332764e09e",
   "metadata": {},
   "source": [
    "## Notebook to demo IDRIS on NYC Taxi Data.\n",
    "\n",
    "This IDRIS is based on [Ollama](https://ollama.com/) and [DuckDB](https://duckdb.org/).\n",
    "\n",
    "The original data can be download from https://www.kaggle.com/c/nyc-taxi-trip-duration/data.\n",
    "A post-processed data can be download from [here](https://esriis-my.sharepoint.com/:u:/g/personal/mraad_esri_com/EbLCLK2xevxJmmGofsNiPZsBle6vGdJiKjJkeo1whrdtww?e=KZR3gR).\n",
    "\n",
    "Install the following modules:\n",
    "```shell\n",
    "uv pip install -U duckdb folium matplotlib mapclassify xyzservices geopandas\n",
    "```\n",
    "\n",
    "Pull the following ollama [model](https://ollama.com/library/duckdb-nsql):\n",
    "```shell\n",
    "ollama pull duckdb-nsql\n",
    "```"
   ]
  },
  {
   "cell_type": "code",
   "execution_count": 1,
   "id": "622fb2d4-6406-49db-8881-00846e603983",
   "metadata": {},
   "outputs": [],
   "source": [
    "import os\n",
    "\n",
    "import gait as G\n",
    "import geopandas as gpd\n",
    "import xyzservices.providers as xyz\n",
    "from shapely import wkb"
   ]
  },
  {
   "cell_type": "markdown",
   "id": "3b2b1aef-b8a8-4c38-bf6a-04e09d926505",
   "metadata": {},
   "source": [
    "### Adjust accordingly to where you downloaded the data."
   ]
  },
  {
   "cell_type": "code",
   "execution_count": 2,
   "id": "8f4eeb98-a7bf-4dc6-9217-16c3204bdbbd",
   "metadata": {},
   "outputs": [
    {
     "data": {
      "text/plain": [
       "True"
      ]
     },
     "execution_count": 2,
     "metadata": {},
     "output_type": "execute_result"
    }
   ],
   "source": [
    "base = os.path.expanduser(os.path.join(\"~\", \"data\", \"nyc-taxi-trip-duration\"))\n",
    "os.path.exists(base)"
   ]
  },
  {
   "cell_type": "markdown",
   "id": "83fc4519-580b-4e10-a2a7-5e954f71470f",
   "metadata": {},
   "source": [
    "### Create IDRIS instance using Ollama and DuckDB."
   ]
  },
  {
   "cell_type": "code",
   "execution_count": 3,
   "id": "08c70eba-3a28-4b81-b727-e9a8f293edc4",
   "metadata": {},
   "outputs": [],
   "source": [
    "rdb = G.IdrisDuckDB(database=os.path.join(base, \"trips.db\"))\n",
    "\n",
    "emb = G.IdrisLiteEmb(\n",
    "    model_name=\"azure/text-embedding-ada-002\",\n",
    "    api_base=os.environ[\"AZURE_API_URL\"] + \"/text-embedding-ada-002\",\n",
    "    api_version=\"2024-06-01\",\n",
    "    # model_name=\"openai/mxbai-embed-large:latest\",\n",
    "    # api_base=\"http://localhost:11434/v1\",\n",
    "    # api_key=\"ollama\",\n",
    ")\n",
    "\n",
    "llm = G.IdrisLiteLLM(\n",
    "    model_name=\"ollama_chat/mistral:7b-instruct-v0.3-q8_0\",\n",
    "    #\n",
    "    # model_name=\"azure/gpt-4o-mini\",\n",
    "    # api_base=os.environ[\"AZURE_API_URL\"] + \"/gpt-4o-mini\",\n",
    "    # api_version=\"2024-06-01\",\n",
    "    #\n",
    "    # model_name=\"openai/duckdb-nsql:7b-q8_0\",\n",
    "    # api_base=\"http://localhost:11434/v1\",\n",
    "    # api_key=\"ollama\",\n",
    ")\n",
    "\n",
    "idris = G.Idris(rdb, emb, llm)"
   ]
  },
  {
   "cell_type": "markdown",
   "id": "7bfdfa83-a2d2-40c6-bc4c-2c4c0284534f",
   "metadata": {},
   "source": [
    "### Add the trips table description."
   ]
  },
  {
   "cell_type": "code",
   "execution_count": 4,
   "id": "41cda5a9-523d-4947-bbf0-e82d6e7124eb",
   "metadata": {},
   "outputs": [],
   "source": [
    "idris.add_describe_table(\"trips\")"
   ]
  },
  {
   "cell_type": "markdown",
   "id": "3d97b11c-d8fb-4d55-ac87-82b140c6cc89",
   "metadata": {},
   "source": [
    "### Load addition context."
   ]
  },
  {
   "cell_type": "code",
   "execution_count": 5,
   "id": "9860f58f-bada-480e-9626-ff0663a491f2",
   "metadata": {},
   "outputs": [],
   "source": [
    "idris.load_context_json(os.path.join(base, \"context.json\"))"
   ]
  },
  {
   "cell_type": "markdown",
   "id": "07ee1b66-fa8c-4aaa-86bd-fdab563063d5",
   "metadata": {},
   "source": [
    "### Load Question/SQL samples."
   ]
  },
  {
   "cell_type": "code",
   "execution_count": 6,
   "id": "cedc65e6-b584-4182-853b-07bbba22c211",
   "metadata": {},
   "outputs": [],
   "source": [
    "idris.load_question_sql_json(os.path.join(base, \"question_sql.json\"))"
   ]
  },
  {
   "cell_type": "markdown",
   "id": "bffc5cb9-d6fd-4727-a568-e8a93402e52a",
   "metadata": {},
   "source": [
    "### Starting asking questions :-)"
   ]
  },
  {
   "cell_type": "code",
   "execution_count": 7,
   "id": "ab6578af-d1c1-4ae8-89f0-bb7037542ac0",
   "metadata": {},
   "outputs": [
    {
     "data": {
      "text/plain": [
       "'SELECT DISTINCT pickup_boro FROM trips WHERE pickup_boro IS NOT NULL'"
      ]
     },
     "execution_count": 7,
     "metadata": {},
     "output_type": "execute_result"
    }
   ],
   "source": [
    "sql = idris.generate_sql(\"list the pickup boroughs\")\n",
    "sql"
   ]
  },
  {
   "cell_type": "markdown",
   "id": "6921d945-051a-43c9-a67b-6aff2dd5e259",
   "metadata": {},
   "source": [
    "### Check if the SQL is valid and execute it."
   ]
  },
  {
   "cell_type": "code",
   "execution_count": 8,
   "id": "d4f8bb4b-c0b6-4956-8a07-3214e8cb44de",
   "metadata": {},
   "outputs": [
    {
     "data": {
      "text/plain": [
       "True"
      ]
     },
     "execution_count": 8,
     "metadata": {},
     "output_type": "execute_result"
    }
   ],
   "source": [
    "G.is_sql_valid(sql)"
   ]
  },
  {
   "cell_type": "code",
   "execution_count": 9,
   "id": "6a645c8a-e53d-41bf-91e2-a48032e46bef",
   "metadata": {},
   "outputs": [
    {
     "data": {
      "text/html": [
       "<div>\n",
       "<style scoped>\n",
       "    .dataframe tbody tr th:only-of-type {\n",
       "        vertical-align: middle;\n",
       "    }\n",
       "\n",
       "    .dataframe tbody tr th {\n",
       "        vertical-align: top;\n",
       "    }\n",
       "\n",
       "    .dataframe thead th {\n",
       "        text-align: right;\n",
       "    }\n",
       "</style>\n",
       "<table border=\"1\" class=\"dataframe\">\n",
       "  <thead>\n",
       "    <tr style=\"text-align: right;\">\n",
       "      <th></th>\n",
       "      <th>pickup_boro</th>\n",
       "    </tr>\n",
       "  </thead>\n",
       "  <tbody>\n",
       "    <tr>\n",
       "      <th>0</th>\n",
       "      <td>Staten Island</td>\n",
       "    </tr>\n",
       "    <tr>\n",
       "      <th>1</th>\n",
       "      <td>Brooklyn</td>\n",
       "    </tr>\n",
       "    <tr>\n",
       "      <th>2</th>\n",
       "      <td>Bronx</td>\n",
       "    </tr>\n",
       "    <tr>\n",
       "      <th>3</th>\n",
       "      <td>Queens</td>\n",
       "    </tr>\n",
       "    <tr>\n",
       "      <th>4</th>\n",
       "      <td>Manhattan</td>\n",
       "    </tr>\n",
       "  </tbody>\n",
       "</table>\n",
       "</div>"
      ],
      "text/plain": [
       "     pickup_boro\n",
       "0  Staten Island\n",
       "1       Brooklyn\n",
       "2          Bronx\n",
       "3         Queens\n",
       "4      Manhattan"
      ]
     },
     "execution_count": 9,
     "metadata": {},
     "output_type": "execute_result"
    }
   ],
   "source": [
    "idris.execute_sql(sql)"
   ]
  },
  {
   "cell_type": "markdown",
   "id": "134c3ed3-ebfb-4e89-bcbd-72d27594d1a0",
   "metadata": {},
   "source": [
    "### Generate geometry output and let's map it.\n",
    "\n",
    "Note how here we are calling idris directly and it will return a pandas dataframe if the generate sql is valid."
   ]
  },
  {
   "cell_type": "code",
   "execution_count": 10,
   "id": "cdcd55ae-dd80-4516-9895-9a951f40e991",
   "metadata": {},
   "outputs": [],
   "source": [
    "pdf = idris(\"Show heatmap of trips from Manhattan at 2AM\")"
   ]
  },
  {
   "cell_type": "markdown",
   "id": "c8fd2ad5-4dfe-46fd-ba8d-39a6941170d1",
   "metadata": {},
   "source": [
    "### Create geometry column from WKB content and explore it."
   ]
  },
  {
   "cell_type": "code",
   "execution_count": 11,
   "id": "6be76f50-1490-48ef-8bd7-a7dd32f52e97",
   "metadata": {},
   "outputs": [],
   "source": [
    "pdf.geometry = pdf.geometry.apply(bytes)\n",
    "pdf.geometry = pdf.geometry.apply(wkb.loads)\n",
    "gdf = gpd.GeoDataFrame(pdf, crs=\"EPSG:3857\")"
   ]
  },
  {
   "cell_type": "code",
   "execution_count": null,
   "id": "f1ed8f09-818b-48a3-bcd5-f3c955bce0eb",
   "metadata": {},
   "outputs": [],
   "source": [
    "gdf.explore(\n",
    "    \"z_score\",\n",
    "    cmap=\"coolwarm\",  # https://matplotlib.org/stable/tutorials/colors/colormaps.html\n",
    "    vmin=-3.0,\n",
    "    vmax=3.0,\n",
    "    tiles=xyz.Esri.WorldGrayCanvas,\n",
    ")"
   ]
  }
 ],
 "metadata": {
  "kernelspec": {
   "display_name": "Python 3 (ipykernel)",
   "language": "python",
   "name": "python3"
  },
  "language_info": {
   "codemirror_mode": {
    "name": "ipython",
    "version": 3
   },
   "file_extension": ".py",
   "mimetype": "text/x-python",
   "name": "python",
   "nbconvert_exporter": "python",
   "pygments_lexer": "ipython3",
   "version": "3.11.11"
  }
 },
 "nbformat": 4,
 "nbformat_minor": 5
}
