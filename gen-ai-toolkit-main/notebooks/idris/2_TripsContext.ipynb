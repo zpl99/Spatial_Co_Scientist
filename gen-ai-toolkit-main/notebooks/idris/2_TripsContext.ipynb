{
 "cells": [
  {
   "cell_type": "markdown",
   "id": "8148f2e4-8443-4adf-b099-051c99233cc4",
   "metadata": {},
   "source": [
    "## Sample notebook to demo the creation of in-memory `context` and `question_sql` from NYC Taxi Trips."
   ]
  },
  {
   "cell_type": "code",
   "execution_count": null,
   "id": "a9b678fa-46be-4762-ad4c-9565d4ddd911",
   "metadata": {},
   "outputs": [],
   "source": [
    "import warnings\n",
    "import logging\n",
    "\n",
    "warnings.simplefilter(action=\"ignore\", category=FutureWarning)\n",
    "warnings.simplefilter(action=\"ignore\", category=UserWarning)"
   ]
  },
  {
   "cell_type": "code",
   "execution_count": null,
   "id": "82183b24-2a6c-4dd6-a037-ecbdded35446",
   "metadata": {},
   "outputs": [],
   "source": [
    "import os\n",
    "import random\n",
    "from typing import Tuple\n",
    "\n",
    "import gait as G\n",
    "import pyspark.sql.functions as F\n",
    "import wordninja\n",
    "from rich.pretty import pprint"
   ]
  },
  {
   "cell_type": "code",
   "execution_count": null,
   "id": "e1c6a968-1674-4009-a779-20f724f7a01b",
   "metadata": {},
   "outputs": [],
   "source": [
    "logging.basicConfig(level=\"WARN\", format=\"%(message)s\")"
   ]
  },
  {
   "cell_type": "markdown",
   "id": "37e04d0a-41df-4e0b-b803-6fb6d398ab16",
   "metadata": {},
   "source": [
    "### Read the trips as a spark dataframe."
   ]
  },
  {
   "cell_type": "code",
   "execution_count": null,
   "id": "9b2c2a01-b9c8-4d6a-aa02-5be5efdbbb8d",
   "metadata": {},
   "outputs": [],
   "source": [
    "filename = os.path.expanduser(\"~/data/nyc-taxi-trip-duration/train.prq\")\n",
    "trips = spark.read.parquet(filename).cache()"
   ]
  },
  {
   "cell_type": "markdown",
   "id": "c68bbc76-9f2b-4fae-a8d3-85ecaceed577",
   "metadata": {},
   "source": [
    "### Create a SQL view of the spark dataframe."
   ]
  },
  {
   "cell_type": "code",
   "execution_count": null,
   "id": "21434138-8a37-47e0-a68e-48f1a887533a",
   "metadata": {},
   "outputs": [],
   "source": [
    "trips.createOrReplaceTempView(\"trips\")"
   ]
  },
  {
   "cell_type": "code",
   "execution_count": null,
   "id": "7bb88c68-7821-4ade-b5b8-64fa886e8760",
   "metadata": {},
   "outputs": [],
   "source": [
    "trips.printSchema()"
   ]
  },
  {
   "cell_type": "markdown",
   "id": "d0ca0c46-7ff8-40a1-b8b7-cb5a09c04797",
   "metadata": {},
   "source": [
    "### Get the dataframe relevant column names and types."
   ]
  },
  {
   "cell_type": "code",
   "execution_count": null,
   "id": "6cfb1f5e-0f30-4de3-b868-b823e2461760",
   "metadata": {},
   "outputs": [],
   "source": [
    "exclude = {\n",
    "    \"pickup_timestamp\",\n",
    "    \"dropoff_timestamp\",\n",
    "    \"pickup_q\",\n",
    "    \"pickup_r\",\n",
    "    \"dropoff_q\",\n",
    "    \"dropoff_r\",\n",
    "}\n",
    "name_type = [\n",
    "    (f.name, f.dataType.typeName())\n",
    "    for f in trips.schema.fields\n",
    "    if f.name not in exclude\n",
    "]\n",
    "name_type"
   ]
  },
  {
   "cell_type": "markdown",
   "id": "2cdeb1ee-543e-43f1-9595-46df1b7b9090",
   "metadata": {},
   "source": [
    "### Create a context from the field names.\n",
    "\n",
    "Note how we are using `wordninja` to create \"nice\" names of the field names ;-)"
   ]
  },
  {
   "cell_type": "code",
   "execution_count": null,
   "id": "6b97e3dd-647f-428e-b710-7e04bc4e1bc1",
   "metadata": {},
   "outputs": [],
   "source": [
    "context = []\n",
    "\n",
    "for field_name, field_type in name_type:\n",
    "    a = \" \".join(wordninja.split(field_name))\n",
    "    c = f\"Use column '{field_name}' in reference to {a}.\"\n",
    "    context.append(c)\n",
    "\n",
    "context.append(\"Set pickup_boro='Manhattan' whenever from Manhattan is used.\")\n",
    "context.append(\"Set dropoff_airport='LGA' whenever to LaGuardia or LGA is used.\")\n",
    "\n",
    "context"
   ]
  },
  {
   "cell_type": "markdown",
   "id": "ae089447-5a81-48ec-9fb0-3f61b7e7d2b1",
   "metadata": {},
   "source": [
    "### Calculate the count of distinct values of each column."
   ]
  },
  {
   "cell_type": "code",
   "execution_count": null,
   "id": "75f808e6-bf3e-4b3d-9760-0bae70d2a7a9",
   "metadata": {},
   "outputs": [],
   "source": [
    "# field_names = []\n",
    "\n",
    "# for n, t in name_type:\n",
    "#     rows = (\n",
    "#         trips.filter(F.col(n).isNotNull())\n",
    "#         .select(F.countDistinct(n).alias(\"countDistinct\"))\n",
    "#         .collect()\n",
    "#     )\n",
    "#     countDistinct = rows[0].countDistinct\n",
    "#     field_names.append((n, t, countDistinct))\n",
    "\n",
    "\n",
    "# field_names"
   ]
  },
  {
   "cell_type": "markdown",
   "id": "b993b20d-e492-49d9-a83c-9b64838f623f",
   "metadata": {},
   "source": [
    "### Create sample question/sql for each column."
   ]
  },
  {
   "cell_type": "code",
   "execution_count": null,
   "id": "2fafb76c-ddda-41aa-8225-a368c85ea626",
   "metadata": {},
   "outputs": [],
   "source": [
    "question_sql = []\n",
    "\n",
    "\n",
    "def get_ops(t: str, k: str) -> Tuple[str, str]:\n",
    "    if t == \"string\" or k in (\"UNK\"):\n",
    "        if random.random() < 0.5:\n",
    "            return \"is not\", \"!=\"\n",
    "        else:\n",
    "            return \"is\", \"=\"\n",
    "    else:\n",
    "        return {\n",
    "            1: (\"is less than\", \"<\"),\n",
    "            2: (\"is\", \"=\"),\n",
    "            3: (\"is greater than\", \">\"),\n",
    "        }[random.randint(1, 3)]\n",
    "\n",
    "\n",
    "for field_name, field_type in name_type:\n",
    "    rows = (\n",
    "        trips.filter(F.col(field_name).isNotNull())\n",
    "        .select(field_name)\n",
    "        .distinct()\n",
    "        .orderBy(F.rand())\n",
    "        .limit(10)\n",
    "        .collect()\n",
    "    )\n",
    "    field_word = \" \".join(wordninja.split(field_name))\n",
    "    for (v,) in rows:\n",
    "        op1, op2 = get_ops(field_type, field_name)\n",
    "        o = v if field_type in (\"integer\", \"double\", \"timestamp\") else v.lower()\n",
    "        q = f\"Show trips where {field_word} {op1} {o}\"\n",
    "        w = v if field_type in (\"integer\", \"double\") else f\"'{v}'\"\n",
    "        s = f\"SELECT * FROM trips where {field_name}{op2}{w}\"\n",
    "        question_sql.append((q, s))"
   ]
  },
  {
   "cell_type": "code",
   "execution_count": null,
   "id": "75143f94-3bf2-40ae-96b3-00ba2b5619c6",
   "metadata": {},
   "outputs": [],
   "source": [
    "for _ in random.choices(question_sql, k=5):\n",
    "    pprint(_, expand_all=True)"
   ]
  },
  {
   "cell_type": "markdown",
   "id": "488b23a6-ecfe-4343-946c-b75e67f0b4d8",
   "metadata": {},
   "source": [
    "### Create IDRIS Instance back by Apache Spark SQL."
   ]
  },
  {
   "cell_type": "code",
   "execution_count": null,
   "id": "678ba265-b5b9-422b-9811-246827ef3f59",
   "metadata": {},
   "outputs": [],
   "source": [
    "rdb = G.IdrisSparkSQL()\n",
    "\n",
    "emb = G.IdrisLiteEmb(\n",
    "    # model_name=\"openai/mxbai-embed-large:latest\",\n",
    "    # api_base=\"http://localhost:11434/v1\",\n",
    "    # api_key=\"ollama\",\n",
    "    model_name=\"azure/text-embedding-ada-002\",\n",
    "    api_base=os.environ[\"AZURE_API_URL\"] + \"/text-embedding-ada-002\",\n",
    ")\n",
    "\n",
    "llm = G.IdrisLiteLLM(\n",
    "    # model_name=\"openai/phi4:14b-q8_0\",\n",
    "    # api_base=\"http://localhost:11434/v1\",\n",
    "    # api_key=\"ollama\",\n",
    "    model_name=\"azure/gpt-4o-mini\",\n",
    "    api_base=os.environ[\"AZURE_API_URL\"] + \"/gpt-4o-mini\",\n",
    ")\n",
    "\n",
    "idris = G.Idris(rdb, emb, llm)"
   ]
  },
  {
   "cell_type": "markdown",
   "id": "03820fc0-52bc-447f-9b9d-d372eb70e2a5",
   "metadata": {},
   "source": [
    "### Add context information."
   ]
  },
  {
   "cell_type": "code",
   "execution_count": null,
   "id": "b7e71d3e-c263-4deb-a9ba-bbdca13b96a0",
   "metadata": {},
   "outputs": [],
   "source": [
    "idris.add_describe_table(\"trips\")\n",
    "idris.load_context(context)\n",
    "idris.load_question_sql(question_sql)"
   ]
  },
  {
   "cell_type": "markdown",
   "id": "90806159-4b54-42b0-bc9e-28d134ca9320",
   "metadata": {},
   "source": [
    "### Let's talk to it :-)"
   ]
  },
  {
   "cell_type": "code",
   "execution_count": null,
   "id": "18aea6a8-6674-4a46-90c6-524052751c3a",
   "metadata": {},
   "outputs": [],
   "source": [
    "sql = idris.generate_sql(\n",
    "    \"What is the average trip duration and distance from Manhattan to LGA between 4AM and 8AM\"\n",
    ")\n",
    "print(sql)"
   ]
  },
  {
   "cell_type": "code",
   "execution_count": null,
   "id": "b4d88a8c-e6fe-4ee6-aae8-f95581831ac6",
   "metadata": {},
   "outputs": [],
   "source": [
    "G.is_sql_valid(sql)"
   ]
  },
  {
   "cell_type": "code",
   "execution_count": null,
   "id": "4fadd4ca-6873-4907-911d-95ef35b9d7e4",
   "metadata": {},
   "outputs": [],
   "source": [
    "idris.execute_sql(sql)"
   ]
  }
 ],
 "metadata": {
  "kernelspec": {
   "display_name": "Python 3 (ipykernel)",
   "language": "python",
   "name": "python3"
  },
  "language_info": {
   "codemirror_mode": {
    "name": "ipython",
    "version": 3
   },
   "file_extension": ".py",
   "mimetype": "text/x-python",
   "name": "python",
   "nbconvert_exporter": "python",
   "pygments_lexer": "ipython3",
   "version": "3.11.11"
  }
 },
 "nbformat": 4,
 "nbformat_minor": 5
}
