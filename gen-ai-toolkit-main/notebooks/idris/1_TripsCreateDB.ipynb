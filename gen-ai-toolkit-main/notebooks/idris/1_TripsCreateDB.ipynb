{
 "cells": [
  {
   "cell_type": "markdown",
   "id": "c6ef5d7d-e17f-474b-9b87-393d0ba4fbfd",
   "metadata": {},
   "source": [
    "# Notebook using SparkGEO to create \"silver\" data of the NYC taxi data.\n",
    "\n",
    "You can download the NYC taxi data from [here](https://www.kaggle.com/c/nyc-taxi-trip-duration/data).\n",
    "\n",
    "Here, we preprocess additional table columns value such as:\n",
    "- Hour of day.\n",
    "- Day of week.\n",
    "- Pick up borough.\n",
    "- Dropoff airport.\n",
    "\n",
    "Make sure to install these additional modules:\n",
    "```shell\n",
    "uv pip install -U duckdb folium matplotlib mapclassify xyzservices\n",
    "```"
   ]
  },
  {
   "cell_type": "code",
   "execution_count": null,
   "id": "4200136b-85d3-4dcf-bdf7-b101fd9388c9",
   "metadata": {},
   "outputs": [],
   "source": [
    "import os\n",
    "\n",
    "import duckdb\n",
    "import matplotlib.pyplot as plt\n",
    "import pyspark.sql.functions as F\n",
    "import sparkgeo.functions as S\n",
    "import sparkgeo.processors as P"
   ]
  },
  {
   "cell_type": "code",
   "execution_count": null,
   "id": "110ed9689972f4b0",
   "metadata": {},
   "outputs": [],
   "source": [
    "spark"
   ]
  },
  {
   "cell_type": "code",
   "execution_count": null,
   "id": "cbb860b2-66aa-44da-b714-683683a0b0b7",
   "metadata": {},
   "outputs": [],
   "source": [
    "# import warnings\n",
    "# warnings.filterwarnings(\"ignore\", category=UserWarning, message=\"to_numpy\")\n",
    "\n",
    "# import logging\n",
    "# logging.getLogger('py4j').setLevel(logging.ERROR)"
   ]
  },
  {
   "cell_type": "code",
   "execution_count": null,
   "id": "a9acd078-efbe-4fb5-aac3-774941aa9f04",
   "metadata": {},
   "outputs": [],
   "source": [
    "#  Adjust to where you downloaded the data.\n",
    "base = os.path.expanduser(\"~/data/nyc-taxi-trip-duration\")"
   ]
  },
  {
   "cell_type": "markdown",
   "id": "fd0dd6fc-4235-4395-b374-a1705757a265",
   "metadata": {},
   "source": [
    "### Read Airport Polygons.\n",
    "\n",
    "You can download them from [here](https://data.cityofnewyork.us/City-Government/Airport-Polygon/xfhz-rhsk)."
   ]
  },
  {
   "cell_type": "code",
   "execution_count": null,
   "id": "732616c9-75ab-4b12-b798-b7fbb8467522",
   "metadata": {},
   "outputs": [],
   "source": [
    "schema = \",\".join(\n",
    "    [\n",
    "        \"`the_geom` string\",\n",
    "        \"`NAME` string\",\n",
    "        \"`GEOSERVER_` string\",\n",
    "        \"`URL` string\",\n",
    "        \"`SHAPE_AREA` string\",\n",
    "        \"`SHAPE_LEN` string\",\n",
    "    ]\n",
    ")\n",
    "\n",
    "airports = (\n",
    "    spark.read.csv(\n",
    "        os.path.join(base, \"AIRPORT_POLYGON_20240519.csv\"),\n",
    "        schema=schema,\n",
    "        header=True,\n",
    "        mode=\"DROPMALFORMED\",\n",
    "    )\n",
    "    .select(\n",
    "        S.st_wgs84(\n",
    "            S.st_buffer(\n",
    "                S.st_mercator(S.st_from_text(\"the_geom\")),\n",
    "                dist=600.0,\n",
    "                wkid=3857,\n",
    "                max_vertices=16,\n",
    "            )\n",
    "        ),\n",
    "        (\n",
    "            F.when(F.col(\"NAME\") == \"La Guardia Airport\", \"LGA\")\n",
    "            .when(F.col(\"NAME\") == \"John F. Kennedy International Airport\", \"JFK\")\n",
    "            .otherwise(F.col(\"NAME\"))\n",
    "            .alias(\"airport\")\n",
    "        ),\n",
    "        # F.col(\"NAME\").alias(\"airport_name\"),\n",
    "    )\n",
    "    .cache()\n",
    ")"
   ]
  },
  {
   "cell_type": "code",
   "execution_count": null,
   "id": "5bd4ab5c-3136-49f0-9c87-4d01a4d2c464",
   "metadata": {},
   "outputs": [],
   "source": [
    "airports.select(\"airport\").show(vertical=True, truncate=False)"
   ]
  },
  {
   "cell_type": "code",
   "execution_count": null,
   "id": "64cb0484-476b-46cb-a37d-1e207d4449a6",
   "metadata": {},
   "outputs": [],
   "source": [
    "# gdf = airports.st_project().toGeoPandas()\n",
    "# gdf.explore(tiles=xyz.Esri.WorldGrayCanvas)"
   ]
  },
  {
   "cell_type": "markdown",
   "id": "4cca5751-f5c1-409e-9af2-78c54d5535bf",
   "metadata": {},
   "source": [
    "### Read Borough Polygons.\n",
    "\n",
    "You can download them from [here](https://data.cityofnewyork.us/City-Government/Borough-Boundaries/tqmj-j8zm)."
   ]
  },
  {
   "cell_type": "code",
   "execution_count": null,
   "id": "097c25c1-7295-4435-8512-509d69fd7aac",
   "metadata": {},
   "outputs": [],
   "source": [
    "boro = (\n",
    "    spark.read.format(\"shp\")\n",
    "    .select(\n",
    "        S.st_dump_explode(\"shape\"),\n",
    "        F.col(\"boro_name\").alias(\"boro\"),\n",
    "    )\n",
    ")"
   ]
  },
  {
   "cell_type": "code",
   "execution_count": null,
   "id": "275dde5a-fefc-455c-8733-bf004ec555e8",
   "metadata": {},
   "outputs": [],
   "source": [
    "boro.select(\"boro\").distinct().show(truncate=False)"
   ]
  },
  {
   "cell_type": "code",
   "execution_count": null,
   "id": "72f67c7f-098d-4732-bd58-1c0e8077f628",
   "metadata": {},
   "outputs": [],
   "source": [
    "# gdf = boro.st_project().toGeoPandas()\n",
    "# gdf.explore(tiles=xyz.Esri.WorldGrayCanvas)"
   ]
  },
  {
   "cell_type": "markdown",
   "id": "7ca88193-13fe-45aa-bac4-740ef6a98c83",
   "metadata": {},
   "source": [
    "### Define dataframe schema when reading CSV file."
   ]
  },
  {
   "cell_type": "code",
   "execution_count": null,
   "id": "dd92d35d-ba6f-464f-9cb8-530cced4fd9d",
   "metadata": {},
   "outputs": [],
   "source": [
    "schema = \",\".join(\n",
    "    [\n",
    "        \"`id` string\",\n",
    "        \"`vendor_id` string\",\n",
    "        \"`pickup_datetime` timestamp\",\n",
    "        \"`dropoff_datetime` timestamp\",\n",
    "        \"`passenger_count` int\",\n",
    "        \"`pickup_longitude` double\",\n",
    "        \"`pickup_latitude` double\",\n",
    "        \"`dropoff_longitude` double\",\n",
    "        \"`dropoff_latitude` double\",\n",
    "        \"`store_and_fwd_flag` string\",\n",
    "        \"`trip_duration` double\",\n",
    "    ]\n",
    ")"
   ]
  },
  {
   "cell_type": "markdown",
   "id": "638c55c8-6afe-42b2-993b-2c89e31209c9",
   "metadata": {},
   "source": [
    "### Define spatial extent and aggregation cell dimension."
   ]
  },
  {
   "cell_type": "code",
   "execution_count": null,
   "id": "ad56fc4a-7a9d-4ae9-b3a0-4ba9437afd7d",
   "metadata": {},
   "outputs": [],
   "source": [
    "xmin, xmax, ymin, ymax = (\n",
    "    -74.28268900920182,\n",
    "    -73.04544707296462,\n",
    "    40.49710075083063,\n",
    "    41.18590742469119,\n",
    ")\n",
    "\n",
    "cell = 100.0"
   ]
  },
  {
   "cell_type": "code",
   "execution_count": null,
   "id": "b9bd8ff8-7a9b-441a-85ff-bfba5d4d0c01",
   "metadata": {},
   "outputs": [],
   "source": [
    "df = (\n",
    "    spark.read.csv(\n",
    "        os.path.join(base, \"train.csv\"),\n",
    "        schema=schema,\n",
    "        header=True,\n",
    "        mode=\"DROPMALFORMED\",\n",
    "    )\n",
    "    # get trips in the spatial extent.\n",
    "    .filter(\n",
    "        F.col(\"pickup_longitude\").between(xmin, xmax)\n",
    "        & F.col(\"pickup_latitude\").between(ymin, ymax)\n",
    "        & F.col(\"dropoff_longitude\").between(xmin, xmax)\n",
    "        & F.col(\"dropoff_latitude\").between(ymin, ymax)\n",
    "    )\n",
    "    .withColumnRenamed(\"pickup_datetime\", \"pickup_timestamp\")\n",
    "    .withColumnRenamed(\"dropoff_datetime\", \"dropoff_timestamp\")\n",
    "    .withColumnRenamed(\"trip_duration\", \"seconds\")\n",
    "    # Calculate trip distance.\n",
    "    .withColumn(\n",
    "        \"meters\",\n",
    "        S.haversine(\n",
    "            \"pickup_longitude\",\n",
    "            \"pickup_latitude\",\n",
    "            \"dropoff_longitude\",\n",
    "            \"dropoff_latitude\",\n",
    "        ),\n",
    "    )\n",
    "    .drop(\n",
    "        \"vendor_id\",\n",
    "        \"id\",\n",
    "        \"store_and_fwd_flag\",\n",
    "    )\n",
    "    # Calculate pickup/dropff Q/R values.\n",
    "    .withColumn(\"pickup_q\", S.lon_to_q(\"pickup_longitude\", cell))\n",
    "    .withColumn(\"pickup_r\", S.lat_to_r(\"pickup_latitude\", cell))\n",
    "    .withColumn(\"dropoff_q\", S.lon_to_q(\"dropoff_longitude\", cell))\n",
    "    .withColumn(\"dropoff_r\", S.lat_to_r(\"dropoff_latitude\", cell))\n",
    "    # Calculate temporal columns.\n",
    "    .withColumn(\"day_of_week\", F.dayofweek(\"pickup_timestamp\"))\n",
    "    .withColumn(\"hour_of_day\", F.hour(\"pickup_timestamp\"))\n",
    "    .withColumn(\"minutes\", F.col(\"seconds\") / F.lit(60.0))\n",
    "    # Finally, filter by distance and time.\n",
    "    .filter(F.col(\"meters\").between(10, 15_000) & F.col(\"seconds\").between(1, 3600))\n",
    "    .cache()\n",
    ")"
   ]
  },
  {
   "cell_type": "markdown",
   "id": "3db59d82-1b5f-4030-b50d-822e2bbf3693",
   "metadata": {},
   "source": [
    "### Get trip distance and duration statistics"
   ]
  },
  {
   "cell_type": "code",
   "execution_count": null,
   "id": "d7f5f93f-c0fe-41b4-94bf-4b0084113ddf",
   "metadata": {},
   "outputs": [],
   "source": [
    "df.select(\"meters\", \"minutes\").summary().show()"
   ]
  },
  {
   "cell_type": "markdown",
   "id": "4a37975d-82b1-4d17-8600-1cb900d031b2",
   "metadata": {},
   "source": [
    "### Let's plot the distributions."
   ]
  },
  {
   "cell_type": "code",
   "execution_count": null,
   "id": "ab2ddf54-52fb-4ea3-aaf1-c240c4e0047a",
   "metadata": {},
   "outputs": [],
   "source": [
    "pdf = df.select(\n",
    "    \"meters\",\n",
    "    \"minutes\",\n",
    ").toPandas()"
   ]
  },
  {
   "cell_type": "code",
   "execution_count": null,
   "id": "273bb0d3-e37a-4b45-90cf-12c3fe13aec9",
   "metadata": {},
   "outputs": [],
   "source": [
    "plt.figure(figsize=(12, 5))\n",
    "\n",
    "plt.subplot(1, 2, 1)\n",
    "plt.hist(pdf[\"meters\"], bins=30, alpha=0.7, color=\"blue\", edgecolor=\"black\")\n",
    "plt.title(\"Meter Series Distribution\")\n",
    "plt.xlabel(\"Meter\")\n",
    "plt.ylabel(\"Frequency\")\n",
    "\n",
    "plt.subplot(1, 2, 2)\n",
    "plt.hist(pdf[\"minutes\"], bins=30, alpha=0.7, color=\"green\", edgecolor=\"black\")\n",
    "plt.title(\"Minute Series Distribution\")\n",
    "plt.xlabel(\"Minute\")\n",
    "plt.ylabel(\"Frequency\")\n",
    "\n",
    "plt.tight_layout()\n",
    "plt.show()"
   ]
  },
  {
   "cell_type": "markdown",
   "id": "a43a9f8e-2118-4a41-a392-7689d88ac048",
   "metadata": {},
   "source": [
    "### Precalculate Airport and Borough columns."
   ]
  },
  {
   "cell_type": "code",
   "execution_count": null,
   "id": "2ffda7fb-9242-43cf-a4fb-f80d15e8292a",
   "metadata": {},
   "outputs": [],
   "source": [
    "df = (\n",
    "    df.xy_in_polygon(\n",
    "        airports.withColumnRenamed(\"airport\", \"pickup_airport\"),\n",
    "        point_x=\"pickup_longitude\",\n",
    "        point_y=\"pickup_latitude\",\n",
    "        keep_all_points=True,\n",
    "        wkid=4326,\n",
    "    )\n",
    "    .xy_in_polygon(\n",
    "        airports.withColumnRenamed(\"airport\", \"dropoff_airport\"),\n",
    "        point_x=\"dropoff_longitude\",\n",
    "        point_y=\"dropoff_latitude\",\n",
    "        keep_all_points=True,\n",
    "        wkid=4326,\n",
    "    )\n",
    "    .xy_in_polygon(\n",
    "        boro.withColumnRenamed(\"boro\", \"dropoff_boro\"),\n",
    "        point_x=\"dropoff_longitude\",\n",
    "        point_y=\"dropoff_latitude\",\n",
    "        keep_all_points=True,\n",
    "        wkid=4326,\n",
    "    )\n",
    "    .xy_in_polygon(\n",
    "        boro.withColumnRenamed(\"boro\", \"pickup_boro\"),\n",
    "        point_x=\"pickup_longitude\",\n",
    "        point_y=\"pickup_latitude\",\n",
    "        keep_all_points=True,\n",
    "        wkid=4326,\n",
    "    )\n",
    ")"
   ]
  },
  {
   "cell_type": "markdown",
   "id": "ca82efdb-73ae-43b9-8a4c-610a52ebdda3",
   "metadata": {},
   "source": [
    "### Perform final clean up."
   ]
  },
  {
   "cell_type": "code",
   "execution_count": null,
   "id": "0b3bc92c-d7d8-4150-beba-f1572188476b",
   "metadata": {},
   "outputs": [],
   "source": [
    "df = (\n",
    "    df.drop(\n",
    "        \"pickup_longitude\",\n",
    "        \"pickup_latitude\",\n",
    "        \"dropoff_longitude\",\n",
    "        \"dropoff_latitude\",\n",
    "        \"seconds\",\n",
    "    )\n",
    "    .withColumnRenamed(\"minutes\", \"trip_duration_in_minutes\")\n",
    "    .withColumnRenamed(\"meters\", \"trip_distance_in_meters\")\n",
    ")"
   ]
  },
  {
   "cell_type": "markdown",
   "id": "4f454d0e-6479-43c5-a61c-4adb2617594b",
   "metadata": {},
   "source": [
    "### Persist dataframe as a parquet file.\n",
    "\n",
    "**Note**: Typically, multiple parquet files should be created. But here, we are creating 1 output parquet file for ease of use with DuckDB Web Shell."
   ]
  },
  {
   "cell_type": "code",
   "execution_count": null,
   "id": "0e1692ed-b741-4323-bfed-b6fb47913420",
   "metadata": {},
   "outputs": [],
   "source": [
    "# df.printSchema()"
   ]
  },
  {
   "cell_type": "code",
   "execution_count": null,
   "id": "ce7d0a69-6815-46b3-b74f-075aae2260d7",
   "metadata": {},
   "outputs": [],
   "source": [
    "parquet = os.path.join(base, \"train.prq\")"
   ]
  },
  {
   "cell_type": "code",
   "execution_count": null,
   "id": "845fbbd4-5321-42eb-a775-50b9cdd2d897",
   "metadata": {},
   "outputs": [],
   "source": [
    "(\n",
    "    df\n",
    "    # .repartition(1)\n",
    "    .write.parquet(parquet, mode=\"overwrite\")\n",
    ")"
   ]
  },
  {
   "cell_type": "markdown",
   "id": "11f74261-84d3-41a7-b3e1-01985286ec05",
   "metadata": {},
   "source": [
    "### Create DuckDB database."
   ]
  },
  {
   "cell_type": "code",
   "execution_count": null,
   "id": "59d6f361-3363-45eb-9574-b4e49de18bb4",
   "metadata": {},
   "outputs": [],
   "source": [
    "def create_ijw_table(conn) -> None:\n",
    "    conn.execute(\n",
    "        \"\"\"\n",
    "create or replace table ijw as (\n",
    "select x.i,y.j,if(i==0 and j==0,1.0,0.5) w\n",
    "from\n",
    "range(-1,2) as x(i),\n",
    "range(-1,2) as y(j))\n",
    "    \"\"\".strip()\n",
    "    )\n",
    "\n",
    "\n",
    "def create_hotspot_macro(conn) -> None:\n",
    "    conn.sql(\n",
    "        \"\"\"\n",
    "create or replace macro hotspot(_where) as table\n",
    "with\n",
    "t1 as (select pickup_q q,pickup_r r,count(*) qr_count from trips where _where group by q,r),\n",
    "t2 as (select q+i q, r+j r, qr_count*w qr_count from t1,ijw),\n",
    "t3 as (select q,r,sum(qr_count) qr_sum from t2 group by q,r),\n",
    "t4 as (select t3.q q,t3.r r,t3.qr_sum qr_sum,t1.qr_count qr_count from t3 join t1 using (q,r)),\n",
    "t5 as (select mean(qr_sum) mu,stddev(qr_sum) sd from t4)\n",
    "select\n",
    "st_aswkb(st_makeenvelope(t4.q*100.0,t4.r*100.0,t4.q*100.0+100.0,t4.r*100.0+100.0)) as geometry,\n",
    "t4.qr_count qr_count,\n",
    "(t4.qr_sum-t5.mu)/t5.sd z_score\n",
    "from t4,t5\n",
    "order by z_score\n",
    "    \"\"\".strip()\n",
    "    )\n",
    "\n",
    "\n",
    "def create_heatmap_macro(conn) -> None:\n",
    "    conn.sql(\n",
    "        \"\"\"\n",
    "create or replace macro heatmap(_where) as table\n",
    "with\n",
    "t1 as (select pickup_q q,pickup_r r,count(*) c from trips where _where group by q,r),\n",
    "t2 as (select mean(c) mu,stddev(c) sd from t1)\n",
    "select\n",
    "st_aswkb(st_makeenvelope(t1.q*100.0,t1.r*100.0,t1.q*100.0+100.0,t1.r*100.0+100.0)) as geometry,\n",
    "t1.c count,\n",
    "(t1.c - t2.mu) / t2.sd z_score\n",
    "from t1,t2\n",
    "order by z_score\n",
    "    \"\"\".strip()\n",
    "    )\n",
    "\n",
    "\n",
    "with duckdb.connect(database=os.path.join(base, \"trips.db\")) as conn:\n",
    "    # create_ijw_table(conn)\n",
    "    # create_hotspot_macro(conn)\n",
    "    create_heatmap_macro(conn)\n",
    "    conn.execute(\n",
    "        f\"create or replace table trips as select * from '{parquet}/*.parquet'\"\n",
    "    )"
   ]
  }
 ],
 "metadata": {
  "kernelspec": {
   "display_name": "Python 3 (ipykernel)",
   "language": "python",
   "name": "python3"
  },
  "language_info": {
   "codemirror_mode": {
    "name": "ipython",
    "version": 3
   },
   "file_extension": ".py",
   "mimetype": "text/x-python",
   "name": "python",
   "nbconvert_exporter": "python",
   "pygments_lexer": "ipython3",
   "version": "3.11.11"
  }
 },
 "nbformat": 4,
 "nbformat_minor": 5
}
