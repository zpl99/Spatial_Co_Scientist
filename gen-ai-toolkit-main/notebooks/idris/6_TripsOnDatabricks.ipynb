{
 "cells": [
  {
   "cell_type": "markdown",
   "id": "d6d838a0-2dea-414d-9071-8389b0471656",
   "metadata": {},
   "source": [
    "## Notebook to demo IDRIS on Databricks with AzureOpenAI endpoint.\n",
    "\n",
    "Please make sure to install the below modules:\n",
    "```shell\n",
    "uv pip install -U databricks\n",
    "```\n",
    "\n",
    "- https://learn.microsoft.com/en-us/azure/databricks/dev-tools/python-sql-connector\n",
    "\n",
    "### TODO\n",
    "\n",
    "- Add dump_xxxx methods to save create_table/context/question_sql"
   ]
  },
  {
   "cell_type": "code",
   "execution_count": null,
   "id": "11b3d687-b364-4a09-a3d3-352997f3b9a4",
   "metadata": {},
   "outputs": [],
   "source": [
    "import os\n",
    "import re\n",
    "\n",
    "import gait as G\n",
    "from databricks import sql\n",
    "from rich import print"
   ]
  },
  {
   "cell_type": "code",
   "execution_count": null,
   "id": "6689a689-d843-4409-badb-5ce440ab2afe",
   "metadata": {},
   "outputs": [],
   "source": [
    "rdb = idr.IdrisDatabricks(\n",
    "    server_hostname=os.environ[\"DATABRICKS_SERVER_HOSTNAME\"],\n",
    "    http_path=os.environ[\"DATABRICKS_HTTP_PATH\"],\n",
    "    access_token=os.environ[\"DATABRICKS_TOKEN\"],\n",
    ")\n",
    "\n",
    "emb = G.IdrisLiteEmb(\n",
    "    # model_name=\"openai/mxbai-embed-large:latest\",\n",
    "    # api_base=\"http://localhost:11434/v1\",\n",
    "    # api_key=\"ollama\",\n",
    "    model_name=\"azure/text-embedding-ada-002\",\n",
    "    api_base=os.environ[\"AZURE_API_URL\"] + \"/text-embedding-ada-002\",\n",
    ")\n",
    "\n",
    "llm = G.IdrisLiteLLM(\n",
    "    # model_name=\"openai/phi4:14b-q8_0\",\n",
    "    # api_base=\"http://localhost:11434/v1\",\n",
    "    # api_key=\"ollama\",\n",
    "    model_name=\"azure/gpt-4o-mini\",\n",
    "    api_base=os.environ[\"AZURE_API_URL\"] + \"/gpt-4o-mini\",\n",
    ")\n",
    "\n",
    "idris = Idris(rdb, emb, llm)"
   ]
  },
  {
   "cell_type": "code",
   "execution_count": null,
   "id": "719dbf2c-3ee6-4dfb-bb30-51eb6e0b7a2f",
   "metadata": {},
   "outputs": [],
   "source": [
    "# rdb.execute_sql(\"select count(*) from samples.nyctaxi.trips\")"
   ]
  },
  {
   "cell_type": "markdown",
   "id": "bdd64d8c-2258-4cff-a462-05d0154b35c8",
   "metadata": {},
   "source": [
    "### Read the data as a Pandas dataframe so we can train on it.\n",
    "\n",
    "**MAKE SURE TO GET A SAMPLE OF THE DATA**\n",
    "\n",
    "- https://docs.databricks.com/en/sql/language-manual/sql-ref-syntax-qry-select-sampling.html"
   ]
  },
  {
   "cell_type": "code",
   "execution_count": null,
   "id": "9022b9a5-7d1c-47ae-b394-f1683f84986d",
   "metadata": {},
   "outputs": [],
   "source": [
    "pdf = rdb.execute_sql(\"select * from samples.nyctaxi.trips limit 10000\")"
   ]
  },
  {
   "cell_type": "code",
   "execution_count": null,
   "id": "eec4ea7f-9a6b-43fe-b241-84c7f5b8f0f7",
   "metadata": {},
   "outputs": [],
   "source": [
    "pdf[:10]"
   ]
  },
  {
   "cell_type": "markdown",
   "id": "06088a47-2068-43f4-a550-b84166b3b568",
   "metadata": {},
   "source": [
    "### Create an alias mapping for columns and column:value."
   ]
  },
  {
   "cell_type": "code",
   "execution_count": null,
   "id": "391de4be-838d-4283-a72f-466ab3a07fdc",
   "metadata": {},
   "outputs": [],
   "source": [
    "aliases = {\n",
    "    \"_col:tpep_pickup_datetime\": \"pickup datetime\",\n",
    "    \"_col:tpep_dropoff_datetime\": \"dropodd datetime\",\n",
    "    \"_col:trip_distance\": \"trip distance in miles\",\n",
    "    \"_col:fare_amount\": \"fare_amount in dollars\",\n",
    "    \"_col:pickup_zip\": \"pickup zipcode\",\n",
    "    \"_col:dropoff_zip\": \"dropoff zipcode\",\n",
    "    #\n",
    "    # What to substitude when we see a value for a field.\n",
    "    #\n",
    "    \"field_name:field_value\": \"new_value\",\n",
    "}"
   ]
  },
  {
   "cell_type": "code",
   "execution_count": null,
   "id": "d5a64c47-6228-42a0-8ec0-de839e081228",
   "metadata": {},
   "outputs": [],
   "source": [
    "train_result = G.IdrisTrainer(aliases).train(\n",
    "    pdf,\n",
    "    table_name=\"samples.nyctaxi.trips\",\n",
    "    alias_name=\"trips\",\n",
    ")"
   ]
  },
  {
   "cell_type": "code",
   "execution_count": null,
   "id": "e43d244b-e89a-46a9-bdd2-6b7f70b81995",
   "metadata": {},
   "outputs": [],
   "source": [
    "print(train_result.create_table)"
   ]
  },
  {
   "cell_type": "code",
   "execution_count": null,
   "id": "16f387d4-db0d-442b-8dd1-4231dac59190",
   "metadata": {},
   "outputs": [],
   "source": [
    "print(train_result.context)"
   ]
  },
  {
   "cell_type": "code",
   "execution_count": null,
   "id": "7658800d-1c0c-44e0-957f-d02fc029d2b4",
   "metadata": {},
   "outputs": [],
   "source": [
    "print(train_result.question_sql)"
   ]
  },
  {
   "cell_type": "markdown",
   "id": "86132be0-72ec-4359-be95-ac0b3c84dedd",
   "metadata": {},
   "source": [
    "### Load training data into IDRIS."
   ]
  },
  {
   "cell_type": "code",
   "execution_count": null,
   "id": "874c2679-4970-430d-bb71-e0f6c4937b32",
   "metadata": {},
   "outputs": [],
   "source": [
    "idris.add_create_table(train_result.create_table)\n",
    "idris.load_context(train_result.context)\n",
    "idris.load_question_sql(train_result.question_sql)"
   ]
  },
  {
   "cell_type": "markdown",
   "id": "5d2e748b-f1e8-414e-a4b3-7f88abd757af",
   "metadata": {},
   "source": [
    "### Let's start asking question."
   ]
  },
  {
   "cell_type": "code",
   "execution_count": null,
   "id": "b46c610f-4bc2-4b52-a45f-69ee41ba0f9a",
   "metadata": {},
   "outputs": [],
   "source": [
    "def clean_sql(sql: str) -> str:\n",
    "    return re.sub(r\"^```sql\\s*|\\s*```$\", \"\", sql)"
   ]
  },
  {
   "cell_type": "code",
   "execution_count": null,
   "id": "962f52ee-702d-4cfe-bc05-33b0faeb14c0",
   "metadata": {},
   "outputs": [],
   "source": [
    "sql = idris.generate_sql(\n",
    "    # \"What is the average fare at dropoff zip code 10803 on Monday?\"\n",
    "    \"\"\"\n",
    "    What is the average fare on Mondays broken down by 1 mile increments?\n",
    "    Please make sure to put a dollar sign on the fare.\n",
    "    \"\"\"\n",
    ")\n",
    "sql = clean_sql(sql)\n",
    "print(sql)"
   ]
  },
  {
   "cell_type": "code",
   "execution_count": null,
   "id": "054dcd05-5fae-4a09-b4d3-8f5ac6c50fe3",
   "metadata": {},
   "outputs": [],
   "source": [
    "idris.execute_sql(sql)"
   ]
  }
 ],
 "metadata": {
  "kernelspec": {
   "display_name": "Python 3 (ipykernel)",
   "language": "python",
   "name": "python3"
  },
  "language_info": {
   "codemirror_mode": {
    "name": "ipython",
    "version": 3
   },
   "file_extension": ".py",
   "mimetype": "text/x-python",
   "name": "python",
   "nbconvert_exporter": "python",
   "pygments_lexer": "ipython3",
   "version": "3.11.11"
  }
 },
 "nbformat": 4,
 "nbformat_minor": 5
}
