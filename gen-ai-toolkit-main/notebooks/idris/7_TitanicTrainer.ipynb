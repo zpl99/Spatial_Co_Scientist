{
 "cells": [
  {
   "cell_type": "markdown",
   "id": "e9286ed9-bc33-402b-a09d-817a1e28a78b",
   "metadata": {},
   "source": [
    "## Notebook to demo the usage of `Trainer` on Titanic dataset.\n",
    "\n",
    "Make sure to install the following modules:\n",
    "\n",
    "```bash\n",
    "uv pip install \".[jupyter]\"\n",
    "```\n",
    "\n",
    "You can download the Titanic passenger data from [here](https://www.kaggle.com/c/titanic/data).\n",
    "\n",
    "The following is a sample bash script to start a Spark instance:\n",
    "\n",
    "```bash\n",
    "#!/usr/bin/env bash\n",
    "\n",
    "export SPARK_MAJOR=\"3.5\"\n",
    "export SPARK_MINOR=\"${SPARK_MAJOR}.5\"\n",
    "export HADOOP_VER=\"3\"\n",
    "export SPARK_HOME=\"${HOME}/spark-${SPARK_MINOR}-bin-hadoop${HADOOP_VER}\"\n",
    "export PYSPARK=\"${SPARK_HOME}/bin/pyspark\"\n",
    "export PYSPARK_DRIVER_PYTHON=\"jupyter\"\n",
    "export PYSPARK_DRIVER_PYTHON_OPTS='lab --ip=0.0.0.0 --port 8989 --allow-root --no-browser --IdentityProvider.token=\"\"'\n",
    "export PYARROW_IGNORE_TIMEZONE=1\n",
    "export SPARK_LOCAL_IP=\"localhost\"\n",
    "export EXTRA_JAVA_OPTIONS=\"-XX:+AggressiveHeap -XX:ParallelGCThreads=20 -Djava.awt.headless=true\"\n",
    "export MASTER=\"local[*]\"\n",
    "\n",
    "$PYSPARK \\\n",
    "  --master \"${MASTER}\" \\\n",
    "  --conf spark.default.parallelism=20 \\\n",
    "  --conf spark.driver.extraJavaOptions=\"${EXTRA_JAVA_OPTIONS}\" \\\n",
    "  --conf spark.executor.extraJavaOptions=\"${EXTRA_JAVA_OPTIONS}\" \\\n",
    "  --conf spark.driver.maxResultSize=2G \\\n",
    "  --conf spark.driver.memory=64G \\\n",
    "  --conf spark.executor.cores=10 \\\n",
    "  --conf spark.executor.memory=64G \\\n",
    "  --conf spark.kryo.unsafe=true \\\n",
    "  --conf spark.kryoserializer.buffer.max=256M \\\n",
    "  --conf spark.memory.offHeap.enabled=true \\\n",
    "  --conf spark.memory.offHeap.size=64G \\\n",
    "  --conf spark.serializer=org.apache.spark.serializer.KryoSerializer \\\n",
    "  --conf spark.sql.catalogImplementation=in-memory \\\n",
    "  --conf spark.sql.execution.arrow.pyspark.enabled=true \\\n",
    "  --conf spark.sql.shuffle.partitions=200 \\\n",
    "  --conf spark.cleaner.referenceTracking.cleanCheckpoints=true \\\n",
    "  --conf spark.ui.enabled=false \\\n",
    "  --conf spark.ui.showConsoleProgress=true\n",
    "```\n",
    "\n",
    "### References:\n",
    "- https://www.kaggle.com/competitions/titanic/data\n",
    "- https://python.langchain.com/docs/integrations/tools/spark_sql/"
   ]
  },
  {
   "cell_type": "markdown",
   "id": "0c966be6-a7a9-4a01-ad03-bf1341698d8a",
   "metadata": {},
   "source": [
    "### Show spark instance."
   ]
  },
  {
   "cell_type": "code",
   "execution_count": 1,
   "id": "57f75a1e-ba47-45e2-8573-ac4d1420d23c",
   "metadata": {},
   "outputs": [
    {
     "data": {
      "text/html": [
       "\n",
       "            <div>\n",
       "                <p><b>SparkSession - in-memory</b></p>\n",
       "                \n",
       "        <div>\n",
       "            <p><b>SparkContext</b></p>\n",
       "\n",
       "            <p><a href=\"None\">Spark UI</a></p>\n",
       "\n",
       "            <dl>\n",
       "              <dt>Version</dt>\n",
       "                <dd><code>v3.5.5</code></dd>\n",
       "              <dt>Master</dt>\n",
       "                <dd><code>local[*]</code></dd>\n",
       "              <dt>AppName</dt>\n",
       "                <dd><code>PySparkShell</code></dd>\n",
       "            </dl>\n",
       "        </div>\n",
       "        \n",
       "            </div>\n",
       "        "
      ],
      "text/plain": [
       "<pyspark.sql.session.SparkSession at 0x10a01b210>"
      ]
     },
     "execution_count": 1,
     "metadata": {},
     "output_type": "execute_result"
    }
   ],
   "source": [
    "spark"
   ]
  },
  {
   "cell_type": "code",
   "execution_count": 2,
   "id": "97514a7c72d7ad52",
   "metadata": {},
   "outputs": [],
   "source": [
    "import os\n",
    "import re\n",
    "\n",
    "from gait import Idris, IdrisLiteEmb, IdrisLiteLLM, IdrisSparkSQL, IdrisTrainer\n",
    "from pyspark.sql import functions as F\n",
    "from pyspark.sql import types as T\n",
    "from rich.pretty import pprint"
   ]
  },
  {
   "cell_type": "markdown",
   "id": "71397f1b-2801-4bc7-9148-1671f350b9fc",
   "metadata": {},
   "source": [
    "### Define Titanic passenger CSV dataset schema."
   ]
  },
  {
   "cell_type": "code",
   "execution_count": 3,
   "id": "27a8799b-4348-4b9e-8054-d4bd05f0ea0d",
   "metadata": {},
   "outputs": [],
   "source": [
    "schema = \",\".join(\n",
    "    [\n",
    "        \"`PassengerId` string\",\n",
    "        \"`Survived` integer\",\n",
    "        \"`Pclass` integer\",\n",
    "        \"`Name` string\",\n",
    "        \"`Sex` string\",\n",
    "        \"`Age` float\",\n",
    "        \"`SibSp` integer\",\n",
    "        \"`Parch` integer\",\n",
    "        \"`Ticket` string\",\n",
    "        \"`Fare` float\",\n",
    "        \"`Cabin` string\",\n",
    "        \"`Embarked` string\",\n",
    "    ]\n",
    ")"
   ]
  },
  {
   "cell_type": "markdown",
   "id": "28cc1371-2a0e-46ed-9e9e-786769836e58",
   "metadata": {},
   "source": [
    "### Read the data and create the `passengers` table.\n",
    "\n",
    "Adjust the path to where you downloaded the data."
   ]
  },
  {
   "cell_type": "code",
   "execution_count": 4,
   "id": "e5f9bfee-fa9e-4600-ba7d-e3ce54cee6f9",
   "metadata": {},
   "outputs": [],
   "source": [
    "path = os.path.expanduser(\"~/data/titanic/train.csv\")\n",
    "\n",
    "pdf = (\n",
    "    spark.read.csv(\n",
    "        path=path,\n",
    "        schema=schema,\n",
    "        sep=\",\",\n",
    "        header=True,\n",
    "        encoding=\"utf-8\",\n",
    "    )\n",
    "    .drop(\"PassengerId\", \"Ticket\")\n",
    "    .cache()\n",
    ")\n",
    "\n",
    "pdf.createOrReplaceTempView(\"passengers\")\n",
    "\n",
    "pdf = pdf.toPandas()"
   ]
  },
  {
   "cell_type": "markdown",
   "id": "de860d58-61a5-49e2-8bcf-003db6032c14",
   "metadata": {},
   "source": [
    "### Optional - check if we can see the data in DuckDB.\n",
    "\n",
    "Note: the table is the pandas dataframe variable name. Neato !"
   ]
  },
  {
   "cell_type": "code",
   "execution_count": 5,
   "id": "c3275fe4-96c3-4184-b2ab-436d8de3d7bb",
   "metadata": {},
   "outputs": [],
   "source": [
    "# import duckdb\n",
    "\n",
    "# with duckdb.connect(\":memory:\") as conn:\n",
    "#     _ = conn.execute(\"create or replace view idris as select * from pdf\")\n",
    "#     print(conn.sql(\"DESCRIBE idris\").df())"
   ]
  },
  {
   "cell_type": "markdown",
   "id": "82b0afdc-2a23-4a47-9d50-363e7af84440",
   "metadata": {},
   "source": [
    "### Create context information by training the model.\n",
    "\n",
    "Here we create a an alias look up table.  The prefix `_col` referes to the field alias."
   ]
  },
  {
   "cell_type": "code",
   "execution_count": 6,
   "id": "3aa94f0d52ab4bf2",
   "metadata": {},
   "outputs": [],
   "source": [
    "aliases = {\n",
    "    \"_col:Survived\": \"survived\",  # 0 = No, 1 = Yes\n",
    "    \"_col:Pclass\": \"ticket class\",  # 1 = 1st, 2 = 2nd, 3 = 3rd\n",
    "    \"_col:SibSp\": \"number of siblings / spouses aboard\",\n",
    "    \"_col:Parch\": \"number of parents / children aboard\",\n",
    "    \"_col:Fare\": \"passenger fare\",\n",
    "    \"_col:Embarked\": \"port of embarkation\",  # C = Cherbourg, Q = Queenstown, S = Southampton\n",
    "    #\n",
    "    # What to substitute when we see a value for a field.\n",
    "    #\n",
    "    \"Survived:1\": \"yes\",\n",
    "    \"Survived:0\": \"no\",\n",
    "    \"Pclass:1\": \"first\",\n",
    "    \"Pclass:2\": \"2nd\",\n",
    "    \"Pclass:3\": \"3rd\",\n",
    "    \"Embarked:C\": \"Cherbourg\",\n",
    "    \"Embarked:Q\": \"Queenstown\",\n",
    "    \"Embarked:S\": \"Southampton\",\n",
    "}"
   ]
  },
  {
   "cell_type": "markdown",
   "id": "e648347f12912140",
   "metadata": {},
   "source": [
    "### Train the model."
   ]
  },
  {
   "cell_type": "code",
   "execution_count": 7,
   "id": "7678ef0f813c4ad6",
   "metadata": {},
   "outputs": [],
   "source": [
    "train_result = IdrisTrainer(aliases).train(pdf, \"passengers\")"
   ]
  },
  {
   "cell_type": "code",
   "execution_count": 8,
   "id": "368d349a8a968a9d",
   "metadata": {},
   "outputs": [],
   "source": [
    "# print(train_result.create_table)"
   ]
  },
  {
   "cell_type": "code",
   "execution_count": 9,
   "id": "9f027275-59d0-4e56-a527-cb6bc311b8a7",
   "metadata": {},
   "outputs": [],
   "source": [
    "# Add more instructions here.\n",
    "train_result.context.extend(\n",
    "    [\n",
    "        \"Alias COUNT(*) to 'number_of_passengers'.\",\n",
    "        \"Use 1 if the passenger survived. Use 0 if the passenger did not survive.\",\n",
    "        \"Use 'male' and 'female' for sex.\",\n",
    "    ]\n",
    ")\n",
    "\n",
    "# pprint(train_result.context, expand_all=True)"
   ]
  },
  {
   "cell_type": "code",
   "execution_count": 10,
   "id": "ea8240da-ce61-4b75-874d-1fde9cbd03f3",
   "metadata": {},
   "outputs": [],
   "source": [
    "# pprint(train_result.question_sql, expand_all=True)"
   ]
  },
  {
   "cell_type": "code",
   "execution_count": 11,
   "id": "e172d222-2d28-4a04-8b23-934a523472af",
   "metadata": {},
   "outputs": [],
   "source": [
    "# response = embedding(\n",
    "#     model=\"openai/mxbai-embed-large:latest\",\n",
    "#     input=[\"good morning from litellm\"],\n",
    "#     api_base=\"http://localhost:11434/v1\",\n",
    "#     api_key=\"ollama\",\n",
    "# )\n",
    "# pprint(response, expand_all=True)"
   ]
  },
  {
   "cell_type": "markdown",
   "id": "736ffb4c59030278",
   "metadata": {},
   "source": [
    "### Create an IDRIS instance using Ollama services."
   ]
  },
  {
   "cell_type": "code",
   "execution_count": 12,
   "id": "b8752b43e04d1d51",
   "metadata": {},
   "outputs": [],
   "source": [
    "rdb = IdrisSparkSQL()\n",
    "\n",
    "emb = IdrisLiteEmb(\n",
    "    model_name=\"openai/mxbai-embed-large:latest\",\n",
    "    api_base=\"http://localhost:11434/v1\",\n",
    "    api_key=\"ollama\",\n",
    ")\n",
    "\n",
    "llm = IdrisLiteLLM(\n",
    "    # model_name=\"openai/phi4:14b-q8_0\",\n",
    "    model_name=\"openai/gemma3:4b\",\n",
    "    api_base=\"http://localhost:11434/v1\",\n",
    "    api_key=\"ollama\",\n",
    ")\n",
    "\n",
    "idris = Idris(rdb, emb, llm)"
   ]
  },
  {
   "cell_type": "markdown",
   "id": "e2fb8dae-9ccc-4f89-b4a2-ce0063ea623c",
   "metadata": {},
   "source": [
    "### Load initial trained data."
   ]
  },
  {
   "cell_type": "code",
   "execution_count": 13,
   "id": "0762773d-0db5-4ed3-a540-3f79668ccb90",
   "metadata": {},
   "outputs": [],
   "source": [
    "idris.add_create_table(train_result.create_table)\n",
    "idris.load_context(train_result.context)\n",
    "idris.load_question_sql(train_result.question_sql)"
   ]
  },
  {
   "cell_type": "code",
   "execution_count": 14,
   "id": "5cedf2b4-f7c8-416d-92e9-625ef31a5772",
   "metadata": {},
   "outputs": [],
   "source": [
    "def clean_sql(sql: str) -> str:\n",
    "    return re.sub(r\"^```sql\\s*|\\s*```$\", \"\", sql)"
   ]
  },
  {
   "cell_type": "markdown",
   "id": "941bf436-4cfc-46ab-9070-79d6af17ec38",
   "metadata": {},
   "source": [
    "### Start asking questions."
   ]
  },
  {
   "cell_type": "code",
   "execution_count": 15,
   "id": "a349bd54-b88b-454c-92d2-e8f671931bab",
   "metadata": {},
   "outputs": [
    {
     "name": "stdout",
     "output_type": "stream",
     "text": [
      "SELECT Name, Age FROM passengers WHERE Survived=1 ORDER BY Age DESC LIMIT 1\n"
     ]
    },
    {
     "data": {
      "text/html": [
       "<div>\n",
       "<style scoped>\n",
       "    .dataframe tbody tr th:only-of-type {\n",
       "        vertical-align: middle;\n",
       "    }\n",
       "\n",
       "    .dataframe tbody tr th {\n",
       "        vertical-align: top;\n",
       "    }\n",
       "\n",
       "    .dataframe thead th {\n",
       "        text-align: right;\n",
       "    }\n",
       "</style>\n",
       "<table border=\"1\" class=\"dataframe\">\n",
       "  <thead>\n",
       "    <tr style=\"text-align: right;\">\n",
       "      <th></th>\n",
       "      <th>Name</th>\n",
       "      <th>Age</th>\n",
       "    </tr>\n",
       "  </thead>\n",
       "  <tbody>\n",
       "    <tr>\n",
       "      <th>0</th>\n",
       "      <td>Barkworth, Mr. Algernon Henry Wilson</td>\n",
       "      <td>80.0</td>\n",
       "    </tr>\n",
       "  </tbody>\n",
       "</table>\n",
       "</div>"
      ],
      "text/plain": [
       "                                   Name   Age\n",
       "0  Barkworth, Mr. Algernon Henry Wilson  80.0"
      ]
     },
     "execution_count": 15,
     "metadata": {},
     "output_type": "execute_result"
    }
   ],
   "source": [
    "sql = idris.generate_sql(\"What's the name and age of the oldest surviving passenger?\")\n",
    "sql = clean_sql(sql)\n",
    "print(sql)\n",
    "idris.execute_sql(sql)"
   ]
  },
  {
   "cell_type": "code",
   "execution_count": 16,
   "id": "2f28cf04-1b22-42f4-b7a4-7d33d0d4b85c",
   "metadata": {},
   "outputs": [
    {
     "name": "stdout",
     "output_type": "stream",
     "text": [
      "SELECT count(*) FROM passengers WHERE Survived = 1 AND Pclass = 3 AND Sex = 'female'\n"
     ]
    },
    {
     "data": {
      "text/html": [
       "<div>\n",
       "<style scoped>\n",
       "    .dataframe tbody tr th:only-of-type {\n",
       "        vertical-align: middle;\n",
       "    }\n",
       "\n",
       "    .dataframe tbody tr th {\n",
       "        vertical-align: top;\n",
       "    }\n",
       "\n",
       "    .dataframe thead th {\n",
       "        text-align: right;\n",
       "    }\n",
       "</style>\n",
       "<table border=\"1\" class=\"dataframe\">\n",
       "  <thead>\n",
       "    <tr style=\"text-align: right;\">\n",
       "      <th></th>\n",
       "      <th>count(1)</th>\n",
       "    </tr>\n",
       "  </thead>\n",
       "  <tbody>\n",
       "    <tr>\n",
       "      <th>0</th>\n",
       "      <td>72</td>\n",
       "    </tr>\n",
       "  </tbody>\n",
       "</table>\n",
       "</div>"
      ],
      "text/plain": [
       "   count(1)\n",
       "0        72"
      ]
     },
     "execution_count": 16,
     "metadata": {},
     "output_type": "execute_result"
    }
   ],
   "source": [
    "# Number of female passengers in 3rd class that survived.\n",
    "sql = idris.generate_sql(\"생존한 3등석 여성승객 수\")\n",
    "sql = clean_sql(sql)\n",
    "print(sql)\n",
    "idris.execute_sql(sql)"
   ]
  },
  {
   "cell_type": "code",
   "execution_count": 17,
   "id": "25a2fc8b-c211-40df-b784-7eb64e43c494",
   "metadata": {},
   "outputs": [
    {
     "name": "stdout",
     "output_type": "stream",
     "text": [
      "SELECT COUNT(*) FROM passengers WHERE Survived = 0 AND Embarked = 'S'\n"
     ]
    },
    {
     "data": {
      "text/html": [
       "<div>\n",
       "<style scoped>\n",
       "    .dataframe tbody tr th:only-of-type {\n",
       "        vertical-align: middle;\n",
       "    }\n",
       "\n",
       "    .dataframe tbody tr th {\n",
       "        vertical-align: top;\n",
       "    }\n",
       "\n",
       "    .dataframe thead th {\n",
       "        text-align: right;\n",
       "    }\n",
       "</style>\n",
       "<table border=\"1\" class=\"dataframe\">\n",
       "  <thead>\n",
       "    <tr style=\"text-align: right;\">\n",
       "      <th></th>\n",
       "      <th>count(1)</th>\n",
       "    </tr>\n",
       "  </thead>\n",
       "  <tbody>\n",
       "    <tr>\n",
       "      <th>0</th>\n",
       "      <td>427</td>\n",
       "    </tr>\n",
       "  </tbody>\n",
       "</table>\n",
       "</div>"
      ],
      "text/plain": [
       "   count(1)\n",
       "0       427"
      ]
     },
     "execution_count": 17,
     "metadata": {},
     "output_type": "execute_result"
    }
   ],
   "source": [
    "sql = idris.generate_sql(\n",
    "    \"Quel est le nombre de passagers qui n'ont pas survécu et sont montés à bord depuis Southhampton?\"\n",
    ")\n",
    "sql = clean_sql(sql)\n",
    "print(sql)\n",
    "idris.execute_sql(sql)"
   ]
  },
  {
   "cell_type": "code",
   "execution_count": 18,
   "id": "17fa08b9c8d05632",
   "metadata": {},
   "outputs": [
    {
     "name": "stdout",
     "output_type": "stream",
     "text": [
      "SELECT AVG(Age) FROM passengers WHERE Pclass = 1 AND Survived = 1 GROUP BY Sex\n"
     ]
    },
    {
     "data": {
      "text/html": [
       "<div>\n",
       "<style scoped>\n",
       "    .dataframe tbody tr th:only-of-type {\n",
       "        vertical-align: middle;\n",
       "    }\n",
       "\n",
       "    .dataframe tbody tr th {\n",
       "        vertical-align: top;\n",
       "    }\n",
       "\n",
       "    .dataframe thead th {\n",
       "        text-align: right;\n",
       "    }\n",
       "</style>\n",
       "<table border=\"1\" class=\"dataframe\">\n",
       "  <thead>\n",
       "    <tr style=\"text-align: right;\">\n",
       "      <th></th>\n",
       "      <th>avg(Age)</th>\n",
       "    </tr>\n",
       "  </thead>\n",
       "  <tbody>\n",
       "    <tr>\n",
       "      <th>0</th>\n",
       "      <td>34.939024</td>\n",
       "    </tr>\n",
       "    <tr>\n",
       "      <th>1</th>\n",
       "      <td>36.248000</td>\n",
       "    </tr>\n",
       "  </tbody>\n",
       "</table>\n",
       "</div>"
      ],
      "text/plain": [
       "    avg(Age)\n",
       "0  34.939024\n",
       "1  36.248000"
      ]
     },
     "execution_count": 18,
     "metadata": {},
     "output_type": "execute_result"
    }
   ],
   "source": [
    "sql = idris.generate_sql(\n",
    "    \"What is the average age of passengers in first class that survived by sex?\"\n",
    ")\n",
    "sql = clean_sql(sql)\n",
    "print(sql)\n",
    "idris.execute_sql(sql)"
   ]
  }
 ],
 "metadata": {
  "kernelspec": {
   "display_name": "Python 3 (ipykernel)",
   "language": "python",
   "name": "python3"
  },
  "language_info": {
   "codemirror_mode": {
    "name": "ipython",
    "version": 3
   },
   "file_extension": ".py",
   "mimetype": "text/x-python",
   "name": "python",
   "nbconvert_exporter": "python",
   "pygments_lexer": "ipython3",
   "version": "3.11.11"
  }
 },
 "nbformat": 4,
 "nbformat_minor": 5
}
