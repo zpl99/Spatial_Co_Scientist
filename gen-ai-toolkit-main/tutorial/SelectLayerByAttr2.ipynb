{
 "cells": [
  {
   "cell_type": "code",
   "id": "98321046-8dec-4715-8c60-a15b588af8f1",
   "metadata": {},
   "source": [
    "from ollama import chat\n",
    "from pydantic import BaseModel, Field\n",
    "import arcpy"
   ],
   "outputs": [],
   "execution_count": null
  },
  {
   "cell_type": "code",
   "id": "083d386a-0215-482c-b083-b02ab069e2f1",
   "metadata": {},
   "source": [
    "# Get the current ArcGIS Pro project and active map\n",
    "aprx = arcpy.mp.ArcGISProject(\"CURRENT\")\n",
    "map_view = aprx.activeMap"
   ],
   "outputs": [],
   "execution_count": null
  },
  {
   "cell_type": "code",
   "id": "ed1475a2-4376-44a2-879d-719dd4548b8f",
   "metadata": {},
   "source": [
    "# Access current ArcGIS Pro project and map\n",
    "aprx = arcpy.mp.ArcGISProject(\"CURRENT\")\n",
    "map_view = aprx.activeMap\n",
    "\n",
    "# Print all layer names\n",
    "for lyr in map_view.listLayers():\n",
    "    print(lyr.name)"
   ],
   "outputs": [],
   "execution_count": null
  },
  {
   "cell_type": "code",
   "id": "d6d01e3a-9ae5-434b-bcd6-7a41c31a1287",
   "metadata": {},
   "source": [
    "class LayerWhere(BaseModel):\n",
    "    layer: str = Field(\n",
    "        ...,\n",
    "        description=\"The name of the layer.\",\n",
    "    )\n",
    "    where: str = Field(\n",
    "        ..., \n",
    "        description=\"An SQL expression used to select a subset of records.\"\n",
    "    )\n",
    "    "
   ],
   "outputs": [],
   "execution_count": null
  },
  {
   "cell_type": "code",
   "id": "acf6cbfb-9e31-45b9-91ec-2530f94cb119",
   "metadata": {},
   "source": [
    "instructions = [\n",
    "    \"You are an expert at converting a user question to a structured JSON output.\", \n",
    "    \"The JSON output consists of two properties:\",\n",
    "    \" - layer: Thiss will contain the name of the layer or the table to query.\",\n",
    "    \" - where: This will contain a SQL expression that will be used to select a subset of records from the layer.\",\n",
    "    \"The following is the metadata for the layers\",\n",
    "    \"Use the layer named Events By Magnitude to analyze earthquakes\",\n",
    "    \"Layer Events By Magnitude: represents earthquakes\",\n",
    "    \" - Field: mag (Float) – Earthquake magnitude\",\n",
    "    \" - Field: place (String) – Location description\",\n",
    "    \" - Field: time (Date) – Event timestamp\",\n",
    "    \"Use this schema to understand how to build SQL queries against these layers.\",\n",
    "]\n"
   ],
   "outputs": [],
   "execution_count": null
  },
  {
   "cell_type": "code",
   "id": "2565dfa1-0ce2-498d-9bb9-065dbf4a838a",
   "metadata": {},
   "source": [
    "messages = [\n",
    "    {\n",
    "        \"role\": \"system\", \n",
    "        \"content\": \"\\n\".join(instructions),\n",
    "    },\n",
    "    {\n",
    "        \"role\": \"user\", \n",
    "        \"content\" : \"Show earthquakes with magnitude greater than 5.0\",\n",
    "    },\n",
    "]"
   ],
   "outputs": [],
   "execution_count": null
  },
  {
   "cell_type": "code",
   "id": "809a0b53-9656-4523-9e0a-7ac1db1842b5",
   "metadata": {},
   "source": [
    "response = chat(\n",
    "    model = \"llama3.2:latest\",\n",
    "    messages=messages, \n",
    "    format = LayerWhere.model_json_schema(),\n",
    "    options ={\n",
    "        \"temperature\": 0,\n",
    "    },\n",
    ")\n",
    "\n",
    "layer_where = LayerWhere.model_validate_json(response.message.content)\n",
    "print(layer_where)"
   ],
   "outputs": [],
   "execution_count": null
  },
  {
   "cell_type": "code",
   "id": "bca01806-80c5-46ae-b831-bd18fe98e339",
   "metadata": {},
   "source": [
    "layer_name = layer_where.layer  # <-- This line defines the variable\n"
   ],
   "outputs": [],
   "execution_count": null
  },
  {
   "cell_type": "code",
   "id": "d9222353-154c-401e-91ac-d20fa6c07179",
   "metadata": {},
   "source": [
    "layer = next((lyr for lyr in map_view.listLayers() if lyr.name == layer_name), None)\n",
    "\n",
    "if not layer:\n",
    "    raise ValueError(f\"Layer '{layer_name}' not found in the current map.\")"
   ],
   "outputs": [],
   "execution_count": null
  },
  {
   "cell_type": "code",
   "id": "5775d9e9-9871-4192-a192-de4b9b2d7f0d",
   "metadata": {},
   "source": [
    "arcpy.management.SelectLayerByAttribute(\n",
    "    in_layer_or_view=layer_where.layer,\n",
    "    selection_type=\"NEW_SELECTION\",\n",
    "    where_clause=layer_where.where\n",
    ")\n"
   ],
   "outputs": [],
   "execution_count": null
  },
  {
   "cell_type": "code",
   "id": "745a9aff-e404-4bea-b85c-6e064d3fbc81",
   "metadata": {},
   "source": [],
   "outputs": [],
   "execution_count": null
  }
 ],
 "metadata": {
  "kernelspec": {
   "display_name": "Python 3 (ipykernel)",
   "language": "python",
   "name": "python3"
  },
  "language_info": {
   "codemirror_mode": {
    "name": "ipython",
    "version": 3
   },
   "file_extension": ".py",
   "mimetype": "text/x-python",
   "name": "python",
   "nbconvert_exporter": "python",
   "pygments_lexer": "ipython3",
   "version": "3.11.12"
  }
 },
 "nbformat": 4,
 "nbformat_minor": 5
}
