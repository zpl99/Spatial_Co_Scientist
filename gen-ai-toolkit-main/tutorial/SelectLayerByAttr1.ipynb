{
 "cells": [
  {
   "cell_type": "markdown",
   "id": "aeb1d652-a668-45d0-b853-dc055518c2d9",
   "metadata": {},
   "source": "# SelectByAttribute"
  },
  {
   "cell_type": "code",
   "id": "41ac633c-d00a-49af-8d5a-89b6a0ec0396",
   "metadata": {},
   "source": [
    "from ollama import chat\n",
    "from pydantic import BaseModel, Field\n",
    "import arcpy"
   ],
   "outputs": [],
   "execution_count": null
  },
  {
   "cell_type": "code",
   "id": "e9971d08-c2bf-45c5-85dc-1df108a251f9",
   "metadata": {},
   "source": [
    "class LayerWhere(BaseModel):\n",
    "    layer: str = Field(\n",
    "        ...,\n",
    "        description=\"The name of the layer.\"\n",
    "    )\n",
    "    where: str= Field(\n",
    "        ...,\n",
    "        description=\"An SQL expression used to select a subset of records.\"\n",
    "    )"
   ],
   "outputs": [],
   "execution_count": null
  },
  {
   "cell_type": "code",
   "id": "a0cf88a3-e35a-4e31-bd3d-2b070233e7bd",
   "metadata": {},
   "source": [
    "instructions = [\n",
    "    \"You are an expert at converting a user question to a structures JSON output\",\n",
    "    \"The JSON output consists of two properties:\",\n",
    "    \" - layer : This will contain the name of the layer or the table to query.\"\n",
    "    \" - where : This will contain a SQL expression that will be select a subset of records from the layer.\",\n",
    "    \"The following is the metadata for the layers:\",\n",
    "    \"Layer Events by Magnitude:\",\n",
    "    \"Use the field 'mag' to represent the magnitude.\",\n",
    "]"
   ],
   "outputs": [],
   "execution_count": null
  },
  {
   "cell_type": "code",
   "id": "810259ab-2463-41dc-a8a7-0985f9f1bc3e",
   "metadata": {},
   "source": [
    "messages = [\n",
    "    {\n",
    "        \"role\": \"system\",\n",
    "        \"content\": \"\\n\".join(instructions),\n",
    "    },\n",
    "    {\n",
    "        \"role\": \"user\",\n",
    "        \"content\": \"Show earthquakes with magnitude greater than 7.0\",\n",
    "    },\n",
    "]"
   ],
   "outputs": [],
   "execution_count": null
  },
  {
   "cell_type": "code",
   "id": "1399497d-8c0d-4805-9fe7-94e7414f06d4",
   "metadata": {},
   "source": [
    "response = chat(\n",
    "    model=\"llama3.2:latest\",\n",
    "    messages=messages,\n",
    "    format=LayerWhere.model_json_schema(),\n",
    "    options={\n",
    "        \"temperature\": 0, # Low temp mean more deterministic output.\n",
    "    },\n",
    ")\n",
    "\n",
    "layer_where = LayerWhere.model_validate_json(response.message.content)\n",
    "print(layer_where)"
   ],
   "outputs": [],
   "execution_count": null
  },
  {
   "cell_type": "code",
   "id": "fff23673-5b7c-477b-a24c-7f65c9ba5573",
   "metadata": {},
   "source": [
    "arcpy.env.workspace = r\"C:\\Users\\cheye\\OneDrive\\Documents\\JHU\\Artificial Intelligence and Machine Learning\\Assignments\\Module 15\\Feltman_M15_Homework\\Feltman_M15_Homework.gdb\""
   ],
   "outputs": [],
   "execution_count": null
  },
  {
   "cell_type": "code",
   "id": "58d0e796-121e-4d2f-b2c5-2a3f62c46e33",
   "metadata": {},
   "source": [
    "magnitude_7 = arcpy.management.SelectLayerByAttribute(\"Events_by_Magnitude\", \"NEW_SELECTION\", '\"mag\" > 7')"
   ],
   "outputs": [],
   "execution_count": null
  },
  {
   "cell_type": "code",
   "id": "b0a4d057-f803-460a-864b-e8d2efc564c4",
   "metadata": {},
   "source": [
    "arcpy.management.CopyFeatures(magnitude_7, \"Magnitude_7_Layer\")"
   ],
   "outputs": [],
   "execution_count": null
  },
  {
   "cell_type": "code",
   "id": "f9644b20-9ea8-4eef-89b3-3dbc55a69c39",
   "metadata": {},
   "source": [],
   "outputs": [],
   "execution_count": null
  }
 ],
 "metadata": {
  "kernelspec": {
   "display_name": "Python 3 (ipykernel)",
   "language": "python",
   "name": "python3"
  },
  "language_info": {
   "codemirror_mode": {
    "name": "ipython",
    "version": 3
   },
   "file_extension": ".py",
   "mimetype": "text/x-python",
   "name": "python",
   "nbconvert_exporter": "python",
   "pygments_lexer": "ipython3",
   "version": "3.11.12"
  }
 },
 "nbformat": 4,
 "nbformat_minor": 5
}
