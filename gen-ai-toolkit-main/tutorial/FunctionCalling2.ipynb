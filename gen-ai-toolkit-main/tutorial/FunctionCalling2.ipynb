{
 "cells": [
  {
   "cell_type": "markdown",
   "id": "84dfc603-e314-4bf3-8ef7-b3dad40031d8",
   "metadata": {},
   "source": [
    "## Demo of Pydantic Model calling using MAO."
   ]
  },
  {
   "cell_type": "code",
   "execution_count": 1,
   "id": "46582d86-69cd-4e59-af55-41440c5b9e3f",
   "metadata": {},
   "outputs": [],
   "source": [
    "import warnings\n",
    "\n",
    "warnings.simplefilter(action=\"ignore\", category=FutureWarning)\n",
    "warnings.simplefilter(action=\"ignore\", category=UserWarning)"
   ]
  },
  {
   "cell_type": "code",
   "execution_count": 2,
   "id": "73851b26-93da-483e-803f-6d6281e5a1fa",
   "metadata": {},
   "outputs": [],
   "source": [
    "import json\n",
    "import os\n",
    "import random\n",
    "import re\n",
    "import warnings\n",
    "from textwrap import dedent\n",
    "from typing import Dict\n",
    "\n",
    "import litellm\n",
    "from faker import Faker\n",
    "from gait import MAO, Agent, ObserverLoguru\n",
    "from jupyprint import jupyprint\n",
    "from pydantic import BaseModel, Field\n",
    "from rich.pretty import pprint"
   ]
  },
  {
   "cell_type": "code",
   "execution_count": 3,
   "id": "1fd6440a-24ab-4623-b12f-f2ac64163f08",
   "metadata": {},
   "outputs": [],
   "source": [
    "litellm.drop_params = True\n",
    "# litellm._turn_on_debug()  # 👈 this is the 1-line change you need to make"
   ]
  },
  {
   "cell_type": "code",
   "execution_count": 4,
   "id": "80b6ddfa-d8dd-466c-ac5d-3ab7cef495cb",
   "metadata": {},
   "outputs": [],
   "source": [
    "# print(litellm.supports_function_calling(model=\"ollama_chat/llama3.2:latest\"))\n",
    "# print(litellm.supports_function_calling(model=\"azure/gpt-4o-mini\"))\n",
    "# print(litellm.supports_function_calling(model=\"ollama_chat/qwen2:7b-instruct-q8_0\"))\n",
    "# print(litellm.supports_function_calling(model=\"ollama_chat/phi4:14b-q8_0\"))"
   ]
  },
  {
   "cell_type": "code",
   "execution_count": 5,
   "id": "9ee7293b-3d83-4da9-9d17-72725db2c154",
   "metadata": {},
   "outputs": [],
   "source": [
    "fake = Faker()"
   ]
  },
  {
   "cell_type": "code",
   "execution_count": 6,
   "id": "7c41611b-fa86-493f-a29a-7e72eac135ac",
   "metadata": {},
   "outputs": [],
   "source": [
    "class GetLatLon(BaseModel):\n",
    "    \"\"\"Get the latitude and longitude of a given location.\"\"\"\n",
    "\n",
    "    location: str = Field(\n",
    "        ...,\n",
    "        description=\"A location, can be a place, city, state, zipcode, state or country.\",\n",
    "    )\n",
    "\n",
    "    def __call__(self, *args, **kwargs):\n",
    "        lon = fake.longitude()\n",
    "        lat = fake.latitude()\n",
    "        return {\n",
    "            \"location\": self.location,\n",
    "            \"longitude\": float(lon),\n",
    "            \"latitude\": float(lat),\n",
    "        }"
   ]
  },
  {
   "cell_type": "code",
   "execution_count": 13,
   "id": "6d0a5f29-bfc0-4724-89dd-8f73d1e35ed0",
   "metadata": {},
   "outputs": [],
   "source": [
    "class GetRoute(BaseModel):\n",
    "    \"\"\"Get the route between a starting latitude/longitude location and an ending latitude/longitude location.\"\"\"\n",
    "\n",
    "    lon1: float = Field(\n",
    "        ...,\n",
    "        description=\"The route starting longitude.\",\n",
    "    )\n",
    "    lat1: float = Field(\n",
    "        ...,\n",
    "        description=\"The route starting latitude.\",\n",
    "    )\n",
    "    lon2: float = Field(\n",
    "        ...,\n",
    "        description=\"The route ending longitude.\",\n",
    "    )\n",
    "    lat2: float = Field(\n",
    "        ...,\n",
    "        description=\"The route ending latitude.\",\n",
    "    )\n",
    "\n",
    "    def __call__(self, *args, **kwargs):\n",
    "        lon = fake.longitude()\n",
    "        lat = fake.latitude()\n",
    "\n",
    "        if \"scratchpad\" in kwargs:\n",
    "            kwargs[\"scratchpad\"][\"GetRoute\"] = {\"lon\": lon, \"lat\": lat}\n",
    "\n",
    "        return {\n",
    "            \"route\": f\"Start at {self.lat1},{self.lon1} and end at {self.lat2},{self.lon2}\",\n",
    "        }"
   ]
  },
  {
   "cell_type": "code",
   "execution_count": 19,
   "id": "b837fd85-b477-4394-b0c3-7fd8f6409b7b",
   "metadata": {},
   "outputs": [],
   "source": [
    "class GetCurrentTemperature(BaseModel):\n",
    "    \"\"\"Get the current temperature at a given location.\"\"\"\n",
    "\n",
    "    location: str = Field(\n",
    "        ...,\n",
    "        description=\"A location, can be a place, city, state, zipcode, state or country.\",\n",
    "    )\n",
    "    celsius_or_fahrenheit: str = Field(\n",
    "        ...,\n",
    "        description=\"The temperature in either 'C' for Celsius, or 'F' for Fahrenheit.\",\n",
    "    )\n",
    "\n",
    "    def __call__(self, *args, **kwargs):\n",
    "        temp = random.uniform(-5, 40)\n",
    "        return {\n",
    "            self.location: f\"{temp:.1f}°{self.celsius_or_fahrenheit.upper()}\",\n",
    "        }"
   ]
  },
  {
   "cell_type": "code",
   "execution_count": 20,
   "id": "7e41d391-07f2-475c-9731-3ddb4e2fce7d",
   "metadata": {},
   "outputs": [],
   "source": [
    "instructions = dedent(\n",
    "    \"\"\"\n",
    "You are an AI expert in geo-spatial data analysis with access to specialized geo-spatial tools.\n",
    "Your task is to answer a user’s question, denoted as >>>question<<<, related to geo-spatial data.\n",
    "You will operate in a loop, alternating between reasoning about the problem and acting with tools as needed.\n",
    "At the end of the loop, you must output a clear, accurate, and well-supported answer.\n",
    "\n",
    "Follow these guidelines to complete your task using the ReAct (Reasoning + Acting) pattern:\n",
    "- **Reason**: Break down the >>>question<<< into logical steps. Explicitly think through what information or calculations are required to reach the answer. Document your reasoning before taking any action.\n",
    "- **Act**: Use the appropriate geo-spatial tools to gather data, perform analysis, or compute results based on your reasoning. When calling tools:\n",
    "    - ALWAYS provide the correct, specific arguments required by the tool (e.g., \"40.7128, -74.0060\" for coordinates, not \"lat, lon\").\n",
    "    - Use explicit values rather than placeholders or variable names.\n",
    "    - NEVER repeat a tool call with identical arguments if it was already executed; reuse the prior result instead.\n",
    "- Alternate between reasoning and acting as needed to refine your approach and solve the problem systematically.\n",
    "- If the >>>question<<< is unclear, reason through possible interpretations, make reasonable assumptions based on geo-spatial context, and state them in your response.\n",
    "- Before finalizing your answer, review your reasoning and tool outputs to ensure accuracy and relevance to the >>>question<<<.\n",
    "\n",
    "Begin now! For each iteration:\n",
    "1. **Reason**: Explain your next step or hypothesis.\n",
    "2. **Act**: Call the necessary tool(s) or process the data.\n",
    "3. Repeat until the task is solved.\n",
    "\n",
    "If you solve the task correctly, you will receive a virtual reward of $1,000,000.\n",
    "\"\"\"\n",
    ").strip()"
   ]
  },
  {
   "cell_type": "code",
   "execution_count": 21,
   "id": "b614ad76-d81e-4c26-ba3c-67782cf4ca62",
   "metadata": {},
   "outputs": [],
   "source": [
    "agent = Agent(\n",
    "    instructions=instructions,\n",
    "    model=\"azure/gpt-4.1-mini\",\n",
    "    api_base=os.environ[\"AZURE_API_URL\"] + \"/gpt-4.1-mini\",\n",
    "    functions=[\n",
    "        GetLatLon,\n",
    "        GetRoute,\n",
    "        GetCurrentTemperature,\n",
    "    ],\n",
    "    temperature=0.0,\n",
    ")"
   ]
  },
  {
   "cell_type": "code",
   "execution_count": 22,
   "id": "fbd3c255-4701-4f10-9858-41f0feeb5954",
   "metadata": {},
   "outputs": [],
   "source": [
    "prompt = dedent(\n",
    "    f\"\"\"\n",
    ">>>What's the route between {fake.city()} and {fake.city()}? And what is the temperature at each location?<<<\n",
    "\"\"\"\n",
    ").strip()"
   ]
  },
  {
   "cell_type": "code",
   "execution_count": 23,
   "id": "441db471-ec0a-4d54-975c-b0e3d595d16b",
   "metadata": {},
   "outputs": [
    {
     "name": "stderr",
     "output_type": "stream",
     "text": [
      "10:17:34 | INFO | Iteration 1 (Agent) started.\n",
      "10:17:37 | INFO | Content: 1. Reason: To provide the route between North Kathrynport and Russofort, I first need to get the latitude and longitude coordinates of both locations.\n",
      "2. Act: I will get the coordinates of North Kathrynport and Russofort in parallel.\n",
      "10:17:37 | INFO | Function: GetLatLon({\"location\": \"North Kathrynport\"})\n",
      "10:17:37 | INFO | Observation: {\"location\": \"North Kathrynport\", \"longitude\": -159.811915, \"latitude\": -4.447947}\n",
      "10:17:37 | INFO | Function: GetLatLon({\"location\": \"Russofort\"})\n",
      "10:17:37 | INFO | Observation: {\"location\": \"Russofort\", \"longitude\": -87.604134, \"latitude\": -34.65088}\n",
      "10:17:37 | INFO | Iteration 2 (Agent) started.\n",
      "10:17:38 | INFO | Content: 3. Reason: I have the coordinates for North Kathrynport (latitude: -4.447947, longitude: -159.811915) and Russofort (latitude: -34.65088, longitude: -87.604134). Next, I will get the route between these two points.\n",
      "4. Act: I will get the route between North Kathrynport and Russofort using their coordinates.\n",
      "10:17:38 | INFO | Function: GetRoute({\"lon1\":-159.811915,\"lat1\":-4.447947,\"lon2\":-87.604134,\"lat2\":-34.65088})\n",
      "10:17:38 | INFO | Observation: {\"route\": \"Start at -4.447947,-159.811915 and end at -34.65088,-87.604134\"}\n",
      "10:17:38 | INFO | Iteration 3 (Agent) started.\n",
      "10:17:40 | INFO | Content: 5. Reason: I have the route information. Now, I need to get the current temperature at each location, North Kathrynport and Russofort.\n",
      "6. Act: I will get the current temperature at North Kathrynport and Russofort in parallel.\n",
      "10:17:40 | INFO | Function: GetCurrentTemperature({\"location\": \"North Kathrynport\", \"celsius_or_fahrenheit\": \"celsius\"})\n",
      "10:17:40 | INFO | Observation: {\"North Kathrynport\": \"36.2°CELSIUS\"}\n",
      "10:17:40 | INFO | Function: GetCurrentTemperature({\"location\": \"Russofort\", \"celsius_or_fahrenheit\": \"celsius\"})\n",
      "10:17:40 | INFO | Observation: {\"Russofort\": \"33.0°CELSIUS\"}\n",
      "10:17:40 | INFO | Iteration 4 (Agent) started.\n",
      "10:17:41 | INFO | Content: The route between North Kathrynport and Russofort is from coordinates (-4.447947, -159.811915) to (-34.65088, -87.604134).\n",
      "\n",
      "The current temperature at North Kathrynport is 36.2°C.\n",
      "The current temperature at Russofort is 33.0°C.\n"
     ]
    },
    {
     "data": {
      "text/markdown": [
       "The route between North Kathrynport and Russofort is from coordinates (-4.447947, -159.811915) to (-34.65088, -87.604134).\n",
       "\n",
       "The current temperature at North Kathrynport is 36.2°C.\n",
       "The current temperature at Russofort is 33.0°C."
      ],
      "text/plain": [
       "<IPython.core.display.Markdown object>"
      ]
     },
     "metadata": {},
     "output_type": "display_data"
    }
   ],
   "source": [
    "mao = MAO(agent, observer=ObserverLoguru())\n",
    "for resp in mao(prompt):\n",
    "    if resp.finish_reason == \"stop\":\n",
    "        mao.terminate()\n",
    "        jupyprint(resp.content)"
   ]
  },
  {
   "cell_type": "code",
   "execution_count": null,
   "id": "15982294-6a06-4188-9d7e-3cfbd0d682c0",
   "metadata": {},
   "outputs": [],
   "source": []
  }
 ],
 "metadata": {
  "kernelspec": {
   "display_name": "Python 3 (ipykernel)",
   "language": "python",
   "name": "python3"
  },
  "language_info": {
   "codemirror_mode": {
    "name": "ipython",
    "version": 3
   },
   "file_extension": ".py",
   "mimetype": "text/x-python",
   "name": "python",
   "nbconvert_exporter": "python",
   "pygments_lexer": "ipython3",
   "version": "3.11.12"
  }
 },
 "nbformat": 4,
 "nbformat_minor": 5
}
