{
 "cells": [
  {
   "cell_type": "code",
   "execution_count": null,
   "id": "460aacfa1fe156",
   "metadata": {},
   "outputs": [],
   "source": [
    "import json\n",
    "from textwrap import dedent\n",
    "\n",
    "from faker import Faker\n",
    "from pydantic import BaseModel, Field\n",
    "from rich.pretty import pprint\n",
    "\n",
    "import gait as G"
   ]
  },
  {
   "cell_type": "code",
   "execution_count": null,
   "id": "0b3cad24-fb1a-4b5c-8813-a892261f3acf",
   "metadata": {},
   "outputs": [],
   "source": [
    "fake = Faker()"
   ]
  },
  {
   "cell_type": "code",
   "execution_count": null,
   "id": "c5e8a32d-2ed0-43b5-9e1c-1285234f8262",
   "metadata": {},
   "outputs": [],
   "source": [
    "class RouteModel(BaseModel):\n",
    "    oper: str = Field(\n",
    "        ...,\n",
    "        description=\"The operation. Can be either ROUTE, GEOCODE or TEMPERATURE\",\n",
    "    )"
   ]
  },
  {
   "cell_type": "code",
   "execution_count": null,
   "id": "0aaa808f-b470-483b-9cb5-988b67c67d0a",
   "metadata": {},
   "outputs": [],
   "source": [
    "description_old = dedent(\n",
    "    \"\"\"\n",
    "You are an expert in generating simple and strictly formatted JSON documents that recommend one of three possible solutions.\n",
    "\n",
    "Possible SOLUTIONS:\n",
    "1.\tROUTE – Select this when the task requires routing between two points on a road network.\n",
    "2.\tGEOCODE – Select this when the task involves converting a text address into an (x, y) coordinate.\n",
    "3.\tTEMPERATURE – Select this when the task involves providing the temperature or weather information for a specific location.\n",
    "\n",
    "Strict Guidelines:\n",
    "•\tOutput Format: The response must only be a JSON object structured as {\"oper\": SOLUTION}, where SOLUTION is one of the three predefined options: \"ROUTE\", \"GEOCODE\", or \"TEMPERATURE\".\n",
    "•\tNo Code: Do not generate any programming code or additional explanatory text.\n",
    "•\tSingle Recommendation: Only recommend one of the three possible solutions per response.\n",
    "•\tContext Understanding: Infer and determine the correct solution based on the provided input.\n",
    "\n",
    "Failure to comply with these constraints is not allowed.\n",
    "The output must be valid JSON and follow the given format precisely.\n",
    "\n",
    "Now Begin! If you solve the task correctly, you will receive a reward of $1,000,000.\n",
    "\"\"\"\n",
    ").strip()"
   ]
  },
  {
   "cell_type": "code",
   "execution_count": null,
   "id": "a1132bbf60478812",
   "metadata": {},
   "outputs": [],
   "source": [
    "description = dedent(\"\"\"\n",
    "You are an expert in generating simple, strictly formatted JSON documents recommending one of three solutions based on the task.\n",
    "\n",
    "**Available Solutions:**\n",
    "1. **ROUTE** – Use for tasks requiring navigation or routing between two points on a road network.\n",
    "2. **GEOCODE** – Use for tasks converting a text address into (x, y) coordinates.\n",
    "3. **TEMPERATURE** – Use for tasks requesting temperature or weather data for a specific location.\n",
    "\n",
    "**Output Rules:**\n",
    "- **Format:** Respond only with a JSON object: `{\"oper\": \"SOLUTION\"}`, where `SOLUTION` is \"ROUTE\", \"GEOCODE\", or \"TEMPERATURE\".\n",
    "- **No Extras:** Do not include code, explanations, or additional text beyond the JSON object.\n",
    "- **Single Choice:** Recommend exactly one solution per response.\n",
    "- **Task Analysis:** Infer the appropriate solution from the input context.\n",
    "\n",
    "**Compliance:**\n",
    "- Output must be valid JSON and adhere strictly to the specified format.\n",
    "- Non-compliance is not permitted.\n",
    "\n",
    "Begin now! Correct responses align with the $1,000,000 reward criteria.\n",
    "You\"\"\").strip()"
   ]
  },
  {
   "cell_type": "code",
   "execution_count": null,
   "id": "f667cc2a-5e85-4a8e-8127-90b3ecb409ad",
   "metadata": {},
   "outputs": [],
   "source": [
    "agent = G.Agent(\n",
    "    model=\"ollama_chat/phi4:14b-q8_0\",\n",
    "    description=description,\n",
    "    temperature=0.0,\n",
    "    response_format=RouteModel,\n",
    ")"
   ]
  },
  {
   "cell_type": "code",
   "execution_count": null,
   "id": "76350a37265477f8",
   "metadata": {},
   "outputs": [],
   "source": [
    "# prompt = f\"What's the route between {fake.city()} and {fake.city()} in Celcius?\"\n",
    "# prompt = f\"What are the coordinates of {fake.city()}?\"\n",
    "prompt = f\"What is the current temperature in {fake.city()}?\""
   ]
  },
  {
   "cell_type": "code",
   "execution_count": null,
   "id": "b20d2a4f253737b0",
   "metadata": {},
   "outputs": [],
   "source": [
    "resp = agent(prompt)"
   ]
  },
  {
   "cell_type": "code",
   "execution_count": null,
   "id": "575323d6c9725a92",
   "metadata": {},
   "outputs": [],
   "source": [
    "pprint(\n",
    "    json.loads(resp.content),\n",
    "    expand_all=True,\n",
    ")"
   ]
  }
 ],
 "metadata": {
  "kernelspec": {
   "display_name": "Python 3 (ipykernel)",
   "language": "python",
   "name": "python3"
  },
  "language_info": {
   "codemirror_mode": {
    "name": "ipython",
    "version": 3
   },
   "file_extension": ".py",
   "mimetype": "text/x-python",
   "name": "python",
   "nbconvert_exporter": "python",
   "pygments_lexer": "ipython3",
   "version": "3.11.12"
  }
 },
 "nbformat": 4,
 "nbformat_minor": 5
}
