{
 "cells": [
  {
   "cell_type": "markdown",
   "id": "b4203589-6d2a-456f-9056-b7bac67e08b6",
   "metadata": {},
   "source": [
    "- https://huggingface.co/microsoft/Phi-4-mini-instruct"
   ]
  },
  {
   "cell_type": "code",
   "execution_count": null,
   "id": "9cdcd98a-6a37-4e16-997b-350fe7454600",
   "metadata": {},
   "outputs": [],
   "source": [
    "import json\n",
    "import os\n",
    "from textwrap import dedent\n",
    "\n",
    "import gait as G\n",
    "import openai\n",
    "from faker import Faker\n",
    "from pydantic import BaseModel, Field\n",
    "from rich.pretty import pprint\n",
    "from vllm import LLM, SamplingParams"
   ]
  },
  {
   "cell_type": "code",
   "execution_count": null,
   "id": "394616e3-e087-4887-89a7-ff7ca0959abb",
   "metadata": {},
   "outputs": [],
   "source": [
    "llm = LLM(\n",
    "    # model=\"microsoft/Phi-4-mini-instruct\",\n",
    "    # model=\"microsoft/phi-4\",\n",
    "    # model=\"meta-llama/Llama-3.2-3B-Instruct\",\n",
    "    model=\"Qwen/Qwen2.5-3B-Instruct\",\n",
    "    trust_remote_code=True,\n",
    "    max_model_len=16384,\n",
    "    dtype=\"float16\",  # MacOS\n",
    ")"
   ]
  },
  {
   "cell_type": "code",
   "execution_count": null,
   "id": "7f9b47e0-cff6-42de-9264-7b6e90212f1d",
   "metadata": {},
   "outputs": [],
   "source": [
    "sampling_params = SamplingParams(\n",
    "    max_tokens=2048,\n",
    "    temperature=0.0,\n",
    ")"
   ]
  },
  {
   "cell_type": "code",
   "execution_count": null,
   "id": "a378ae03-237e-4d17-85d2-e7afcc1962e2",
   "metadata": {},
   "outputs": [],
   "source": [
    "messages = [\n",
    "    {\n",
    "        \"role\": \"system\",\n",
    "        \"content\": \"You are a helpful AI assistant.\",\n",
    "    },\n",
    "    {\n",
    "        \"role\": \"user\",\n",
    "        \"content\": \"Can you provide ways to eat combinations of bananas and dragonfruits?\",\n",
    "    },\n",
    "    {\n",
    "        \"role\": \"assistant\",\n",
    "        \"content\": \"Sure! Here are some ways to eat bananas and dragonfruits together: 1. Banana and dragonfruit smoothie: Blend bananas and dragonfruits together with some milk and honey. 2. Banana and dragonfruit salad: Mix sliced bananas and dragonfruits together with some lemon juice and honey.\",\n",
    "    },\n",
    "    {\n",
    "        \"role\": \"user\",\n",
    "        \"content\": \"What about solving an 2x + 3 = 7 equation?\",\n",
    "    },\n",
    "]\n",
    "\n",
    "\n",
    "output = llm.chat(\n",
    "    messages=messages,\n",
    "    sampling_params=sampling_params,\n",
    ")\n",
    "print(output[0].outputs[0].text)"
   ]
  },
  {
   "cell_type": "code",
   "execution_count": null,
   "id": "d73a9ddb-1de8-4be7-9cad-506df5fe4edc",
   "metadata": {},
   "outputs": [],
   "source": [
    "system = dedent(\n",
    "    \"\"\"\n",
    "You are an expert at generating simple JSON documents that recommend one of three possible solutions.\n",
    "\n",
    "A possible >>>SOLUTION<<< is either:\n",
    "\n",
    "1. ROUTE\n",
    "2. GEOCODE\n",
    "3. TEMPERATURE\n",
    "\n",
    "ROUTE is when you have to route between two addresses, places or cities on a road network.\n",
    "GEOCODE is when you have to convert an address, city, state, zip code or country to an x,y point.\n",
    "TEMPERATURE is when you have to tell the temperature or tell the weather for any place on earth.\n",
    "\n",
    "Make sure to:\n",
    "\n",
    "1. Not generate ANY code in the answer.\n",
    "2. Only output a simple JSON document like {\"oper\":>>>SOLUTION<<<}\n",
    "3. Only recommend ONE of the possible answers.\n",
    "4. Infer and learn the correct solution based on the input.\n",
    "\"\"\"\n",
    ").strip()"
   ]
  },
  {
   "cell_type": "code",
   "execution_count": null,
   "id": "0a10ab2d-9968-45e9-baa5-8f31b5729b7a",
   "metadata": {},
   "outputs": [],
   "source": [
    "messages = [\n",
    "    G.s_message(system),\n",
    "    G.u_message(\"Show the route to San Diegeo from San Francisco\"),\n",
    "    # G.u_message(\"What is the location of Florence, Italy?\"),\n",
    "    # G.u_message(\"What is the current temperature of Florence, Italy?\"),\n",
    "]\n",
    "output = llm.chat(\n",
    "    messages=messages,\n",
    "    sampling_params=sampling_params,\n",
    "    use_tqdm=False,\n",
    ")\n",
    "# pprint(output[0].outputs[0], expand_all=True)"
   ]
  },
  {
   "cell_type": "code",
   "execution_count": null,
   "id": "fdbdc07e-a538-46ce-916b-7d7aa8401e24",
   "metadata": {},
   "outputs": [],
   "source": [
    "text = output[0].outputs[0].text.replace(\"\\n\", \"\").replace(\"```json\",\"\").replace(\"```\",\"\")\n",
    "print(text)"
   ]
  },
  {
   "cell_type": "code",
   "execution_count": null,
   "id": "ee61a774-265d-46d8-bd5e-6c7dfee8edb0",
   "metadata": {},
   "outputs": [],
   "source": [
    "pprint(\n",
    "    json.loads(text),\n",
    "    expand_all=True,\n",
    ")"
   ]
  },
  {
   "cell_type": "code",
   "execution_count": null,
   "id": "e7caf479-198d-4ec9-b76f-e79d83a5a540",
   "metadata": {},
   "outputs": [],
   "source": [
    "fake = Faker()"
   ]
  },
  {
   "cell_type": "code",
   "execution_count": null,
   "id": "61c5cd1b-77d7-476a-9f69-b492439f6a72",
   "metadata": {},
   "outputs": [],
   "source": [
    "class GetLatLon(BaseModel):\n",
    "    \"\"\"Get the latitude and longitude of a given location.\"\"\"\n",
    "\n",
    "    location: str = Field(\n",
    "        ...,\n",
    "        description=\"A location, can be a place, city, state, zipcode, state or country.\",\n",
    "    )\n",
    "\n",
    "    def __call__(self, *args, **kwargs):\n",
    "        lon = fake.longitude()\n",
    "        lat = fake.latitude()\n",
    "        return {\n",
    "            \"location\": self.location,\n",
    "            \"longitude\": float(lon),\n",
    "            \"latitude\": float(lat),\n",
    "        }"
   ]
  },
  {
   "cell_type": "code",
   "execution_count": null,
   "id": "1c5f869c-5587-4698-b471-2f2de216d89d",
   "metadata": {},
   "outputs": [],
   "source": [
    "class GetRoute(BaseModel):\n",
    "    \"\"\"Get the route between a starting latitude/longitude location and an ending latitude/longitude location.\"\"\"\n",
    "\n",
    "    lon1: float = Field(\n",
    "        ...,\n",
    "        description=\"The route starting longitude.\",\n",
    "    )\n",
    "    lat1: float = Field(\n",
    "        ...,\n",
    "        description=\"The route starting latitude.\",\n",
    "    )\n",
    "    lon2: float = Field(\n",
    "        ...,\n",
    "        description=\"The route ending longitude.\",\n",
    "    )\n",
    "    lat2: float = Field(\n",
    "        ...,\n",
    "        description=\"The route ending latitude.\",\n",
    "    )\n",
    "\n",
    "    def __call__(self, *args, **kwargs):\n",
    "        lon = fake.longitude()\n",
    "        lat = fake.latitude()\n",
    "\n",
    "        if \"scratchpad\" in kwargs:\n",
    "            kwargs[\"scratchpad\"][\"GetRoute\"] = {\"lon\": lon, \"lat\": lat}\n",
    "\n",
    "        return {\n",
    "            \"route\": f\"{self.lat1},{self.lon1} ---> {self.lat2},{self.lon2}\",\n",
    "        }"
   ]
  },
  {
   "cell_type": "code",
   "execution_count": null,
   "id": "b654738b-b3bc-4eb5-8ebd-20a6a2b92f20",
   "metadata": {},
   "outputs": [],
   "source": [
    "class GetCurrentTemperature(BaseModel):\n",
    "    \"\"\"Get the current temperature at a given location.\"\"\"\n",
    "\n",
    "    location: str = Field(\n",
    "        ...,\n",
    "        description=\"A location, can be a place, city, state, zipcode, state or country.\",\n",
    "    )\n",
    "    celsius_or_fahrenheit: str = Field(\n",
    "        ...,\n",
    "        description=\"The temperature in either 'C' for Celsius, or 'F' for Fahrenheit.\",\n",
    "    )\n",
    "\n",
    "    def __call__(self, *args, **kwargs):\n",
    "        temp = random.uniform(-5, 40)\n",
    "        return {\n",
    "            self.location: f\"{temp:.1f}{self.celsius_or_fahrenheit}\",\n",
    "        }"
   ]
  },
  {
   "cell_type": "code",
   "execution_count": null,
   "id": "529f0a50-f90c-481f-89f0-f9e9af08154b",
   "metadata": {},
   "outputs": [],
   "source": [
    "tools = [\n",
    "    openai.pydantic_function_tool(_)\n",
    "    for _ in [\n",
    "        GetCurrentTemperature,\n",
    "        GetLatLon,\n",
    "        GetRoute,\n",
    "    ]\n",
    "]\n",
    "\n",
    "# pprint(tools, expand_all=True)"
   ]
  },
  {
   "cell_type": "code",
   "execution_count": null,
   "id": "a3bf879e-c857-46e4-951c-a16516260f52",
   "metadata": {},
   "outputs": [],
   "source": [
    "system = \"\"\"\n",
    "You are an AI expert in geo-spatial data analysis with access to geo-spatial tools.\n",
    "You are tasked to answer a user >>>question<<<.\n",
    "You will run in a loop.\n",
    "At the end of the loop you output an answer.\n",
    "\n",
    "Here are the rules you should always follow to solve your task:\n",
    "- ALWAYS use the right arguments for the tools. NEVER use variable names.\n",
    "- ALWAYS use the values instead.\n",
    "- NEVER re-do a tool call that you previously did with the exact same arguments.\n",
    "\n",
    "Now Begin! If you solve the task correctly, you will receive a reward of $1,000,000.\n",
    "\"\"\".strip()\n",
    "\n",
    "# prompt = f\"\"\"\n",
    "# What's the current temperature in {fake.city()} in celsius and {fake.city()} in fahrenheit?\n",
    "# And what is the route between them?\n",
    "# \"\"\"\n",
    "\n",
    "# prompt = dedent(\n",
    "#     f\"\"\"\n",
    "# >>>What's the current temperature in {fake.city()} in celsius? and what are its coordinates?<<\n",
    "# \"\"\"\n",
    "# ).strip()\n",
    "\n",
    "prompt = dedent(\n",
    "    f\"\"\"\n",
    ">>>What's the route between {fake.city()} and {fake.city()}?<<\n",
    "\"\"\"\n",
    ").strip()\n",
    "\n",
    "\n",
    "messages = [\n",
    "    G.s_message(system),\n",
    "    G.u_message(prompt),\n",
    "]"
   ]
  },
  {
   "cell_type": "code",
   "execution_count": null,
   "id": "c21c11da-e1cd-4768-a16f-49ae7c2714e6",
   "metadata": {},
   "outputs": [],
   "source": [
    "outputs = llm.chat(\n",
    "    messages,\n",
    "    sampling_params=sampling_params,\n",
    "    tools=tools,\n",
    "    use_tqdm=False,\n",
    ")\n",
    "output = outputs[0].outputs[0].text.strip()\n",
    "\n",
    "# append the assistant message\n",
    "messages.append(\n",
    "    {\n",
    "        \"role\": \"assistant\",\n",
    "        \"content\": output,\n",
    "    }\n",
    ")"
   ]
  },
  {
   "cell_type": "code",
   "execution_count": null,
   "id": "8c1c4865-6bea-4b8b-88e4-c719b99087b3",
   "metadata": {},
   "outputs": [],
   "source": [
    "print(output)"
   ]
  },
  {
   "cell_type": "code",
   "execution_count": null,
   "id": "28d76f1d-dcfa-4bec-aef1-e9828233291d",
   "metadata": {},
   "outputs": [],
   "source": [
    "pprint(json.loads(output), expand_all=True)"
   ]
  }
 ],
 "metadata": {
  "kernelspec": {
   "display_name": "Python 3 (ipykernel)",
   "language": "python",
   "name": "python3"
  },
  "language_info": {
   "codemirror_mode": {
    "name": "ipython",
    "version": 3
   },
   "file_extension": ".py",
   "mimetype": "text/x-python",
   "name": "python",
   "nbconvert_exporter": "python",
   "pygments_lexer": "ipython3",
   "version": "3.11.12"
  }
 },
 "nbformat": 4,
 "nbformat_minor": 5
}
