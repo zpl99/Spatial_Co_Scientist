{
 "cells": [
  {
   "cell_type": "code",
   "execution_count": 7,
   "id": "1207dbe35293f366",
   "metadata": {},
   "outputs": [],
   "source": [
    "import os\n",
    "from textwrap import dedent\n",
    "\n",
    "import litellm\n",
    "from gait import s_message, u_message\n",
    "from pydantic import BaseModel, Field\n",
    "from rich.pretty import pprint"
   ]
  },
  {
   "cell_type": "code",
   "execution_count": 8,
   "id": "54863587-7848-43e3-95f2-a026f75ba519",
   "metadata": {},
   "outputs": [],
   "source": [
    "class RouteModel(BaseModel):\n",
    "    oper: str = Field(\n",
    "        ...,\n",
    "        description=\"The operation. Can be either ROUTE, GEOCODE or TEMPERATURE\",\n",
    "    )"
   ]
  },
  {
   "cell_type": "code",
   "execution_count": 9,
   "id": "b85524ea-9e7f-4633-bb70-83f5354fa114",
   "metadata": {},
   "outputs": [],
   "source": [
    "system = dedent(\n",
    "    \"\"\"\n",
    "You are an expert at generating simple JSON documents that recommend one of three possible solutions.\n",
    "\n",
    "A possible >>>SOLUTION<<< is either:\n",
    "\n",
    "1. ROUTE\n",
    "2. GEOCODE\n",
    "3. TEMPERATURE\n",
    "\n",
    "ROUTE is when you have to route between two addresses, places or cities on a road network.\n",
    "GEOCODE is when you have to convert an address, city, state, zip code or country to an x,y point.\n",
    "TEMPERATURE is when you have to tell the temperature or tell the weather for any place on earth.\n",
    "\n",
    "Make sure to:\n",
    "\n",
    "1. Not generate ANY code in the answer.\n",
    "2. Only output a simple JSON document like {\"oper\":>>>SOLUTION<<<}\n",
    "3. Only recommend ONE of the possible answers.\n",
    "4. Infer and learn the correct solution based on the input.\n",
    "\"\"\"\n",
    ").strip()"
   ]
  },
  {
   "cell_type": "code",
   "execution_count": 10,
   "id": "5f5105e7-c6c1-400c-b73c-744361120197",
   "metadata": {},
   "outputs": [],
   "source": [
    "messages = [\n",
    "    s_message(system),\n",
    "    # u_message(\"Show the route to San Diego from San Francisco\"),\n",
    "    u_message(\"What is the location of Florence, Italy?\"),\n",
    "    # u_message(\"What is the current temperature of Florence, Italy?\"),\n",
    "]"
   ]
  },
  {
   "cell_type": "code",
   "execution_count": 11,
   "id": "a80d74be-e4fc-4b53-83d1-e005f6b54c07",
   "metadata": {},
   "outputs": [],
   "source": [
    "response = litellm.completion(\n",
    "    # model=\"ollama_chat/phi4:14b-q8_0\",\n",
    "    model=\"azure/gpt-4.1-mini\",\n",
    "    api_base=os.environ[\"AZURE_API_URL\"] + \"/gpt-4.1-mini\",\n",
    "    response_format=RouteModel,\n",
    "    messages=messages,\n",
    "    temperature=0.0,\n",
    "    top_p=1.0,\n",
    "    n=1,\n",
    ")"
   ]
  },
  {
   "cell_type": "code",
   "execution_count": 12,
   "id": "133b7e40-bac4-471e-9988-686a1c5508cb",
   "metadata": {},
   "outputs": [
    {
     "data": {
      "text/html": [
       "<pre style=\"white-space:pre;overflow-x:auto;line-height:normal;font-family:Menlo,'DejaVu Sans Mono',consolas,'Courier New',monospace\"><span style=\"color: #800080; text-decoration-color: #800080; font-weight: bold\">Choices</span><span style=\"font-weight: bold\">(</span>\n",
       "<span style=\"color: #7fbf7f; text-decoration-color: #7fbf7f\">│   </span><span style=\"color: #808000; text-decoration-color: #808000\">finish_reason</span>=<span style=\"color: #008000; text-decoration-color: #008000\">'stop'</span>,\n",
       "<span style=\"color: #7fbf7f; text-decoration-color: #7fbf7f\">│   </span><span style=\"color: #808000; text-decoration-color: #808000\">index</span>=<span style=\"color: #008080; text-decoration-color: #008080; font-weight: bold\">0</span>,\n",
       "<span style=\"color: #7fbf7f; text-decoration-color: #7fbf7f\">│   </span><span style=\"color: #808000; text-decoration-color: #808000\">message</span>=<span style=\"color: #800080; text-decoration-color: #800080; font-weight: bold\">Message</span><span style=\"font-weight: bold\">(</span>\n",
       "<span style=\"color: #7fbf7f; text-decoration-color: #7fbf7f\">│   │   </span><span style=\"color: #808000; text-decoration-color: #808000\">content</span>=<span style=\"color: #008000; text-decoration-color: #008000\">'{\"oper\":\"GEOCODE\"}'</span>,\n",
       "<span style=\"color: #7fbf7f; text-decoration-color: #7fbf7f\">│   │   </span><span style=\"color: #808000; text-decoration-color: #808000\">role</span>=<span style=\"color: #008000; text-decoration-color: #008000\">'assistant'</span>,\n",
       "<span style=\"color: #7fbf7f; text-decoration-color: #7fbf7f\">│   │   </span><span style=\"color: #808000; text-decoration-color: #808000\">tool_calls</span>=<span style=\"color: #800080; text-decoration-color: #800080; font-style: italic\">None</span>,\n",
       "<span style=\"color: #7fbf7f; text-decoration-color: #7fbf7f\">│   │   </span><span style=\"color: #808000; text-decoration-color: #808000\">function_call</span>=<span style=\"color: #800080; text-decoration-color: #800080; font-style: italic\">None</span>,\n",
       "<span style=\"color: #7fbf7f; text-decoration-color: #7fbf7f\">│   │   </span><span style=\"color: #808000; text-decoration-color: #808000\">provider_specific_fields</span>=<span style=\"font-weight: bold\">{</span>\n",
       "<span style=\"color: #7fbf7f; text-decoration-color: #7fbf7f\">│   │   │   </span><span style=\"color: #008000; text-decoration-color: #008000\">'refusal'</span>: <span style=\"color: #800080; text-decoration-color: #800080; font-style: italic\">None</span>\n",
       "<span style=\"color: #7fbf7f; text-decoration-color: #7fbf7f\">│   │   </span><span style=\"font-weight: bold\">}</span>\n",
       "<span style=\"color: #7fbf7f; text-decoration-color: #7fbf7f\">│   </span><span style=\"font-weight: bold\">)</span>\n",
       "<span style=\"font-weight: bold\">)</span>\n",
       "</pre>\n"
      ],
      "text/plain": [
       "\u001b[1;35mChoices\u001b[0m\u001b[1m(\u001b[0m\n",
       "\u001b[2;32m│   \u001b[0m\u001b[33mfinish_reason\u001b[0m=\u001b[32m'stop'\u001b[0m,\n",
       "\u001b[2;32m│   \u001b[0m\u001b[33mindex\u001b[0m=\u001b[1;36m0\u001b[0m,\n",
       "\u001b[2;32m│   \u001b[0m\u001b[33mmessage\u001b[0m=\u001b[1;35mMessage\u001b[0m\u001b[1m(\u001b[0m\n",
       "\u001b[2;32m│   │   \u001b[0m\u001b[33mcontent\u001b[0m=\u001b[32m'\u001b[0m\u001b[32m{\u001b[0m\u001b[32m\"oper\":\"GEOCODE\"\u001b[0m\u001b[32m}\u001b[0m\u001b[32m'\u001b[0m,\n",
       "\u001b[2;32m│   │   \u001b[0m\u001b[33mrole\u001b[0m=\u001b[32m'assistant'\u001b[0m,\n",
       "\u001b[2;32m│   │   \u001b[0m\u001b[33mtool_calls\u001b[0m=\u001b[3;35mNone\u001b[0m,\n",
       "\u001b[2;32m│   │   \u001b[0m\u001b[33mfunction_call\u001b[0m=\u001b[3;35mNone\u001b[0m,\n",
       "\u001b[2;32m│   │   \u001b[0m\u001b[33mprovider_specific_fields\u001b[0m=\u001b[1m{\u001b[0m\n",
       "\u001b[2;32m│   │   │   \u001b[0m\u001b[32m'refusal'\u001b[0m: \u001b[3;35mNone\u001b[0m\n",
       "\u001b[2;32m│   │   \u001b[0m\u001b[1m}\u001b[0m\n",
       "\u001b[2;32m│   \u001b[0m\u001b[1m)\u001b[0m\n",
       "\u001b[1m)\u001b[0m\n"
      ]
     },
     "metadata": {},
     "output_type": "display_data"
    }
   ],
   "source": [
    "pprint(\n",
    "    response.choices[0],\n",
    "    expand_all=True,\n",
    ")"
   ]
  }
 ],
 "metadata": {
  "kernelspec": {
   "display_name": "Python 3 (ipykernel)",
   "language": "python",
   "name": "python3"
  },
  "language_info": {
   "codemirror_mode": {
    "name": "ipython",
    "version": 3
   },
   "file_extension": ".py",
   "mimetype": "text/x-python",
   "name": "python",
   "nbconvert_exporter": "python",
   "pygments_lexer": "ipython3",
   "version": "3.11.12"
  }
 },
 "nbformat": 4,
 "nbformat_minor": 5
}
