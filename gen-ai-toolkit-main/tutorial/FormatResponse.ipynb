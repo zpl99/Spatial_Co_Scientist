{
 "cells": [
  {
   "cell_type": "markdown",
   "id": "9e5961fa-a8e1-42f1-8b19-356e5df2a1b7",
   "metadata": {},
   "source": [
    "## Demo Structured Output (JSON Mode)\n",
    "\n",
    "- https://docs.litellm.ai/docs/completion/json_mode"
   ]
  },
  {
   "cell_type": "code",
   "execution_count": 1,
   "id": "7d52a6dbd6ab99cf",
   "metadata": {},
   "outputs": [],
   "source": [
    "import json\n",
    "import os\n",
    "from textwrap import dedent\n",
    "\n",
    "from litellm import completion, get_supported_openai_params\n",
    "from pydantic import BaseModel, Field\n",
    "from rich.pretty import pprint"
   ]
  },
  {
   "cell_type": "code",
   "execution_count": 2,
   "id": "4609cf53-cb45-4ceb-abd9-fa6014732310",
   "metadata": {},
   "outputs": [],
   "source": [
    "class TruckModel(BaseModel):\n",
    "    number_of_axles: int = Field(\n",
    "        ...,\n",
    "        description=\"Number of axles in the truck.\",\n",
    "    )\n",
    "    truck_height_in_meters: float = Field(\n",
    "        ...,\n",
    "        description=\"Height of the truck in meters.\",\n",
    "    )\n",
    "    truck_width_in_meters: float = Field(\n",
    "        ...,\n",
    "        description=\"Width of the truck in meters.\",\n",
    "    )"
   ]
  },
  {
   "cell_type": "code",
   "execution_count": 3,
   "id": "4508854b-42bd-4ae2-ba41-2d92d5563cc3",
   "metadata": {},
   "outputs": [],
   "source": [
    "# pprint(TruckModel.model_json_schema(), expand_all=True)"
   ]
  },
  {
   "cell_type": "code",
   "execution_count": 4,
   "id": "33c05c7c6bbd43ad",
   "metadata": {},
   "outputs": [],
   "source": [
    "# for _ in TruckModel.model_fields.values():\n",
    "#     pprint(_, expand_all=True)"
   ]
  },
  {
   "cell_type": "code",
   "execution_count": 5,
   "id": "5282c3f9-97ff-499e-aa37-cd3bb769cc98",
   "metadata": {},
   "outputs": [
    {
     "data": {
      "text/html": [
       "<pre style=\"white-space:pre;overflow-x:auto;line-height:normal;font-family:Menlo,'DejaVu Sans Mono',consolas,'Courier New',monospace\"><span style=\"font-weight: bold\">[</span>\n",
       "<span style=\"color: #7fbf7f; text-decoration-color: #7fbf7f\">│   </span><span style=\"color: #008000; text-decoration-color: #008000\">'max_tokens'</span>,\n",
       "<span style=\"color: #7fbf7f; text-decoration-color: #7fbf7f\">│   </span><span style=\"color: #008000; text-decoration-color: #008000\">'max_completion_tokens'</span>,\n",
       "<span style=\"color: #7fbf7f; text-decoration-color: #7fbf7f\">│   </span><span style=\"color: #008000; text-decoration-color: #008000\">'stream'</span>,\n",
       "<span style=\"color: #7fbf7f; text-decoration-color: #7fbf7f\">│   </span><span style=\"color: #008000; text-decoration-color: #008000\">'top_p'</span>,\n",
       "<span style=\"color: #7fbf7f; text-decoration-color: #7fbf7f\">│   </span><span style=\"color: #008000; text-decoration-color: #008000\">'temperature'</span>,\n",
       "<span style=\"color: #7fbf7f; text-decoration-color: #7fbf7f\">│   </span><span style=\"color: #008000; text-decoration-color: #008000\">'seed'</span>,\n",
       "<span style=\"color: #7fbf7f; text-decoration-color: #7fbf7f\">│   </span><span style=\"color: #008000; text-decoration-color: #008000\">'frequency_penalty'</span>,\n",
       "<span style=\"color: #7fbf7f; text-decoration-color: #7fbf7f\">│   </span><span style=\"color: #008000; text-decoration-color: #008000\">'stop'</span>,\n",
       "<span style=\"color: #7fbf7f; text-decoration-color: #7fbf7f\">│   </span><span style=\"color: #008000; text-decoration-color: #008000\">'tools'</span>,\n",
       "<span style=\"color: #7fbf7f; text-decoration-color: #7fbf7f\">│   </span><span style=\"color: #008000; text-decoration-color: #008000\">'tool_choice'</span>,\n",
       "<span style=\"color: #7fbf7f; text-decoration-color: #7fbf7f\">│   </span><span style=\"color: #008000; text-decoration-color: #008000\">'functions'</span>,\n",
       "<span style=\"color: #7fbf7f; text-decoration-color: #7fbf7f\">│   </span><span style=\"color: #008000; text-decoration-color: #008000\">'response_format'</span>\n",
       "<span style=\"font-weight: bold\">]</span>\n",
       "</pre>\n"
      ],
      "text/plain": [
       "\u001b[1m[\u001b[0m\n",
       "\u001b[2;32m│   \u001b[0m\u001b[32m'max_tokens'\u001b[0m,\n",
       "\u001b[2;32m│   \u001b[0m\u001b[32m'max_completion_tokens'\u001b[0m,\n",
       "\u001b[2;32m│   \u001b[0m\u001b[32m'stream'\u001b[0m,\n",
       "\u001b[2;32m│   \u001b[0m\u001b[32m'top_p'\u001b[0m,\n",
       "\u001b[2;32m│   \u001b[0m\u001b[32m'temperature'\u001b[0m,\n",
       "\u001b[2;32m│   \u001b[0m\u001b[32m'seed'\u001b[0m,\n",
       "\u001b[2;32m│   \u001b[0m\u001b[32m'frequency_penalty'\u001b[0m,\n",
       "\u001b[2;32m│   \u001b[0m\u001b[32m'stop'\u001b[0m,\n",
       "\u001b[2;32m│   \u001b[0m\u001b[32m'tools'\u001b[0m,\n",
       "\u001b[2;32m│   \u001b[0m\u001b[32m'tool_choice'\u001b[0m,\n",
       "\u001b[2;32m│   \u001b[0m\u001b[32m'functions'\u001b[0m,\n",
       "\u001b[2;32m│   \u001b[0m\u001b[32m'response_format'\u001b[0m\n",
       "\u001b[1m]\u001b[0m\n"
      ]
     },
     "metadata": {},
     "output_type": "display_data"
    },
    {
     "name": "stdout",
     "output_type": "stream",
     "text": [
      "'response_format' in params=True\n"
     ]
    }
   ],
   "source": [
    "params = get_supported_openai_params(\n",
    "    model=\"phi4:14b-q8_0\",\n",
    "    custom_llm_provider=\"ollama_chat\",\n",
    ")\n",
    "\n",
    "pprint(params, expand_all=True)\n",
    "\n",
    "print(f\"{'response_format' in params=}\")"
   ]
  },
  {
   "cell_type": "code",
   "execution_count": 6,
   "id": "6bab1b37-9cc1-4261-a990-272c7d091cff",
   "metadata": {},
   "outputs": [],
   "source": [
    "response = completion(\n",
    "    model=\"ollama_chat/phi4:14b-q8_0\",\n",
    "    # model=\"azure/gpt-4o-mini\",\n",
    "    # api_base=os.environ[\"AZURE_API_URL\"] + \"/gpt-4o-mini\",\n",
    "    messages=[\n",
    "        {\n",
    "            \"role\": \"system\",\n",
    "            \"content\": dedent(\n",
    "                \"\"\"\n",
    "You are an expert in extracting structured entities from a given >>>CONTENT<<<.\n",
    "\n",
    "Instructions:\n",
    "•\tOutput only the JSON document—do not include any markdown, extra spaces, or newline characters.\n",
    "•\tFollow the provided JSON schema precisely.\n",
    "•\tIf an entity is not found, return 0 for integers and an empty string (\"\") for text fields.\n",
    "•\tEnsure all required fields are present in the output.                \n",
    "            \"\"\"\n",
    "            ).strip(),\n",
    "        },\n",
    "        {\n",
    "            \"role\": \"user\",\n",
    "            \"content\": dedent(\n",
    "                \"\"\"\n",
    "            Extract the entities from >>>for a vehicle that is 2.54 meters high, 6.2 feet wide and with 4 axles<<<\n",
    "            \"\"\"\n",
    "            ).strip(),\n",
    "        },\n",
    "    ],\n",
    "    response_format=TruckModel,\n",
    ")"
   ]
  },
  {
   "cell_type": "code",
   "execution_count": 7,
   "id": "0ab93be5-74e8-4a3a-8d4e-bae268448279",
   "metadata": {},
   "outputs": [
    {
     "data": {
      "text/html": [
       "<pre style=\"white-space:pre;overflow-x:auto;line-height:normal;font-family:Menlo,'DejaVu Sans Mono',consolas,'Courier New',monospace\"><span style=\"font-weight: bold\">{</span>\n",
       "<span style=\"color: #7fbf7f; text-decoration-color: #7fbf7f\">│   </span><span style=\"color: #008000; text-decoration-color: #008000\">'number_of_axles'</span>: <span style=\"color: #008080; text-decoration-color: #008080; font-weight: bold\">4</span>,\n",
       "<span style=\"color: #7fbf7f; text-decoration-color: #7fbf7f\">│   </span><span style=\"color: #008000; text-decoration-color: #008000\">'truck_height_in_meters'</span>: <span style=\"color: #008080; text-decoration-color: #008080; font-weight: bold\">2.54</span>,\n",
       "<span style=\"color: #7fbf7f; text-decoration-color: #7fbf7f\">│   </span><span style=\"color: #008000; text-decoration-color: #008000\">'truck_width_in_meters'</span>: <span style=\"color: #008080; text-decoration-color: #008080; font-weight: bold\">1.89216</span>\n",
       "<span style=\"font-weight: bold\">}</span>\n",
       "</pre>\n"
      ],
      "text/plain": [
       "\u001b[1m{\u001b[0m\n",
       "\u001b[2;32m│   \u001b[0m\u001b[32m'number_of_axles'\u001b[0m: \u001b[1;36m4\u001b[0m,\n",
       "\u001b[2;32m│   \u001b[0m\u001b[32m'truck_height_in_meters'\u001b[0m: \u001b[1;36m2.54\u001b[0m,\n",
       "\u001b[2;32m│   \u001b[0m\u001b[32m'truck_width_in_meters'\u001b[0m: \u001b[1;36m1.89216\u001b[0m\n",
       "\u001b[1m}\u001b[0m\n"
      ]
     },
     "metadata": {},
     "output_type": "display_data"
    }
   ],
   "source": [
    "pprint(\n",
    "    json.loads(response.choices[0].message.content),\n",
    "    expand_all=True,\n",
    ")"
   ]
  },
  {
   "cell_type": "code",
   "execution_count": 15,
   "id": "3998e8505bb1ee41",
   "metadata": {},
   "outputs": [
    {
     "data": {
      "text/html": [
       "<pre style=\"white-space:pre;overflow-x:auto;line-height:normal;font-family:Menlo,'DejaVu Sans Mono',consolas,'Courier New',monospace\"><span style=\"font-weight: bold\">{</span>\n",
       "<span style=\"color: #7fbf7f; text-decoration-color: #7fbf7f\">│   </span><span style=\"color: #008000; text-decoration-color: #008000\">'number_of_axles'</span>: <span style=\"color: #008080; text-decoration-color: #008080; font-weight: bold\">5</span>,\n",
       "<span style=\"color: #7fbf7f; text-decoration-color: #7fbf7f\">│   </span><span style=\"color: #008000; text-decoration-color: #008000\">'truck_height_in_meters'</span>: <span style=\"color: #008080; text-decoration-color: #008080; font-weight: bold\">2.54</span>,\n",
       "<span style=\"color: #7fbf7f; text-decoration-color: #7fbf7f\">│   </span><span style=\"color: #008000; text-decoration-color: #008000\">'truck_width_in_meters'</span>: <span style=\"color: #008080; text-decoration-color: #008080; font-weight: bold\">1.89</span>\n",
       "<span style=\"font-weight: bold\">}</span>\n",
       "</pre>\n"
      ],
      "text/plain": [
       "\u001b[1m{\u001b[0m\n",
       "\u001b[2;32m│   \u001b[0m\u001b[32m'number_of_axles'\u001b[0m: \u001b[1;36m5\u001b[0m,\n",
       "\u001b[2;32m│   \u001b[0m\u001b[32m'truck_height_in_meters'\u001b[0m: \u001b[1;36m2.54\u001b[0m,\n",
       "\u001b[2;32m│   \u001b[0m\u001b[32m'truck_width_in_meters'\u001b[0m: \u001b[1;36m1.89\u001b[0m\n",
       "\u001b[1m}\u001b[0m\n"
      ]
     },
     "metadata": {},
     "output_type": "display_data"
    }
   ],
   "source": [
    "response = completion(\n",
    "    model=\"azure/gpt-4o-mini\",\n",
    "    api_base=os.environ[\"AZURE_API_URL\"] + \"/gpt-4o-mini\",\n",
    "    temperature=0.0,\n",
    "    messages=[\n",
    "        {\n",
    "            \"role\": \"system\",\n",
    "            \"content\": dedent(\n",
    "                \"\"\"\n",
    "Extract the truck entities from >>>CONTENT<<< and emit valid JSON document.\n",
    "            \"\"\"\n",
    "            ).strip(),\n",
    "        },\n",
    "        {\n",
    "            \"role\": \"user\",\n",
    "            \"content\": dedent(\n",
    "                \"\"\"\n",
    "            >>>Find route from San Diego to San Francisco\n",
    "            for a truck that is 2.54 meters high, 6.2 feet wide and with 5 axles<<<\n",
    "            \"\"\"\n",
    "            ).strip(),\n",
    "        },\n",
    "    ],\n",
    "    response_format=TruckModel,\n",
    ")\n",
    "\n",
    "pprint(\n",
    "    json.loads(response.choices[0].message.content),\n",
    "    expand_all=True,\n",
    ")"
   ]
  }
 ],
 "metadata": {
  "kernelspec": {
   "display_name": "Python 3 (ipykernel)",
   "language": "python",
   "name": "python3"
  },
  "language_info": {
   "codemirror_mode": {
    "name": "ipython",
    "version": 3
   },
   "file_extension": ".py",
   "mimetype": "text/x-python",
   "name": "python",
   "nbconvert_exporter": "python",
   "pygments_lexer": "ipython3",
   "version": "3.11.12"
  }
 },
 "nbformat": 4,
 "nbformat_minor": 5
}
