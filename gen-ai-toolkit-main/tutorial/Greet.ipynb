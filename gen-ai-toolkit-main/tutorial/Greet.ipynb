{
 "cells": [
  {
   "cell_type": "code",
   "execution_count": 1,
   "id": "644409e3-7366-4e17-bb79-571a5e8d4ba5",
   "metadata": {},
   "outputs": [],
   "source": [
    "from textwrap import dedent\n",
    "\n",
    "import ollama\n",
    "from rich.pretty import pprint"
   ]
  },
  {
   "cell_type": "code",
   "execution_count": 2,
   "id": "bc5a8597-62bd-4fa4-8ccc-eb5dd0f374cd",
   "metadata": {},
   "outputs": [],
   "source": [
    "LLM_MODEL = \"llama3.2:latest\""
   ]
  },
  {
   "cell_type": "code",
   "execution_count": 10,
   "id": "5c680153-dae0-4ec0-9a64-1d5301191c7d",
   "metadata": {},
   "outputs": [],
   "source": [
    "messages = []"
   ]
  },
  {
   "cell_type": "code",
   "execution_count": 11,
   "id": "6c8bd0af-4eab-4036-88c7-49114fbb1e9b",
   "metadata": {},
   "outputs": [],
   "source": [
    "instructions = dedent(\n",
    "    \"\"\"\n",
    "You are helpful AI assistant.\n",
    "\n",
    "Here is some information about me.\n",
    "My name is Mansour. I am 61 years old and I was born in Beirut, Lebanon.\n",
    "\"\"\"\n",
    ").strip()\n",
    "\n",
    "messages.append(\n",
    "    {\n",
    "        \"role\": \"system\",\n",
    "        \"content\": instructions,\n",
    "    }\n",
    ")"
   ]
  },
  {
   "cell_type": "code",
   "execution_count": 12,
   "id": "824253b2-318a-4b3b-962c-59ad4363abf3",
   "metadata": {},
   "outputs": [],
   "source": [
    "query = \"Please greet me by my name.\"\n",
    "\n",
    "messages.append(\n",
    "    {\n",
    "        \"role\": \"user\",\n",
    "        \"content\": query,\n",
    "    }\n",
    ")"
   ]
  },
  {
   "cell_type": "code",
   "execution_count": 13,
   "id": "14c618a7-ea91-44e1-8934-133d8528d8ff",
   "metadata": {},
   "outputs": [],
   "source": [
    "resp = ollama.chat(\n",
    "    LLM_MODEL,\n",
    "    messages=messages,\n",
    ")"
   ]
  },
  {
   "cell_type": "code",
   "execution_count": 15,
   "id": "aeab8b1f-3e9f-4d1a-970c-48c0f4833d77",
   "metadata": {},
   "outputs": [],
   "source": [
    "# pprint(resp, expand_all=True)"
   ]
  },
  {
   "cell_type": "code",
   "execution_count": 14,
   "id": "b8b72119-fa6b-4df5-a843-583aaa975686",
   "metadata": {},
   "outputs": [
    {
     "name": "stdout",
     "output_type": "stream",
     "text": [
      "Hello Mansour! It's nice to meet you. I'd be happy to chat with you and help with anything you need. Would you like to talk about something in particular or just have a casual conversation?\n"
     ]
    }
   ],
   "source": [
    "print(resp.message.content)"
   ]
  },
  {
   "cell_type": "code",
   "execution_count": 16,
   "id": "f11f0d9b-1b8e-49f7-9f82-cf9aafd2c017",
   "metadata": {},
   "outputs": [
    {
     "name": "stdout",
     "output_type": "stream",
     "text": [
      "Hello Mansour!\n",
      "\n",
      "I'd be happy to learn more about your beautiful homeland, Lebanon. Lebanon is a small but culturally rich and diverse country located in the Middle East, bordered by Syria to the north, Israel to the south, and the Mediterranean Sea to the west.\n",
      "\n",
      "Lebanon has a long and storied history, with many ancient civilizations having called it home, including the Phoenicians, Greeks, Romans, and Ottomans. The country is known for its stunning natural beauty, with mountains, valleys, and coastlines that offer breathtaking views and opportunities for outdoor adventure.\n",
      "\n",
      "In terms of culture, Lebanon is famous for its vibrant arts scene, delicious cuisine (think tabbouleh, hummus, and shawarma!), and warm hospitality towards visitors. The country is also home to many historic sites, such as the ancient city of Byblos and the Roman ruins in Sidon.\n",
      "\n",
      "What are some of your favorite memories or experiences related to Lebanon, Mansour?\n"
     ]
    }
   ],
   "source": [
    "query = \"Please tell me something about my country.\"\n",
    "\n",
    "messages.append(\n",
    "    {\n",
    "        \"role\": \"user\",\n",
    "        \"content\": query,\n",
    "    }\n",
    ")\n",
    "\n",
    "resp = ollama.chat(\n",
    "    LLM_MODEL,\n",
    "    messages=messages,\n",
    ")\n",
    "\n",
    "print(resp.message.content)"
   ]
  },
  {
   "cell_type": "code",
   "execution_count": null,
   "id": "17976b23-fea0-40e0-b061-8c4987865c9a",
   "metadata": {},
   "outputs": [],
   "source": []
  }
 ],
 "metadata": {
  "kernelspec": {
   "display_name": "Python 3 (ipykernel)",
   "language": "python",
   "name": "python3"
  },
  "language_info": {
   "codemirror_mode": {
    "name": "ipython",
    "version": 3
   },
   "file_extension": ".py",
   "mimetype": "text/x-python",
   "name": "python",
   "nbconvert_exporter": "python",
   "pygments_lexer": "ipython3",
   "version": "3.11.12"
  }
 },
 "nbformat": 4,
 "nbformat_minor": 5
}
