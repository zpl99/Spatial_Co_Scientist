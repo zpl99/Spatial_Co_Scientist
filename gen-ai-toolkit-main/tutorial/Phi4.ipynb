{
 "cells": [
  {
   "cell_type": "code",
   "execution_count": 1,
   "id": "075e51a8-94cc-4ab3-9fea-32700e115627",
   "metadata": {},
   "outputs": [],
   "source": [
    "import json\n",
    "import os\n",
    "import random\n",
    "import re\n",
    "from textwrap import dedent\n",
    "from typing import Dict\n",
    "\n",
    "import gait as G\n",
    "import litellm\n",
    "import openai\n",
    "# from docstring_parser import parse\n",
    "from faker import Faker\n",
    "from pydantic import BaseModel, Field\n",
    "from rich.pretty import pprint"
   ]
  },
  {
   "cell_type": "code",
   "execution_count": 2,
   "id": "ee974e7f-d341-4b5a-a402-5f4ce740460f",
   "metadata": {},
   "outputs": [],
   "source": [
    "messages = [\n",
    "    {\n",
    "        \"role\": \"system\",\n",
    "        \"content\": \"You are a helpful AI assistant.\",\n",
    "    },\n",
    "    {\n",
    "        \"role\": \"user\",\n",
    "        \"content\": \"Can you provide ways to eat combinations of bananas and dragonfruits?\",\n",
    "    },\n",
    "    {\n",
    "        \"role\": \"assistant\",\n",
    "        \"content\": \"Sure! Here are some ways to eat bananas and dragonfruits together: 1. Banana and dragonfruit smoothie: Blend bananas and dragonfruits together with some milk and honey. 2. Banana and dragonfruit salad: Mix sliced bananas and dragonfruits together with some lemon juice and honey.\",\n",
    "    },\n",
    "    {\n",
    "        \"role\": \"user\",\n",
    "        \"content\": \"What about solving an 2x + 3 = 7 equation?\",\n",
    "    },\n",
    "]"
   ]
  },
  {
   "cell_type": "code",
   "execution_count": 3,
   "id": "51866255-0e81-432b-86aa-17afdfb58800",
   "metadata": {},
   "outputs": [],
   "source": [
    "response = litellm.completion(\n",
    "    # model=\"ollama_chat/phi4-mini:3.8b-q8_0\",\n",
    "    model=\"ollama_chat/phi4:14b-q8_0\",\n",
    "    messages=messages,\n",
    ")"
   ]
  },
  {
   "cell_type": "code",
   "execution_count": 4,
   "id": "c77234ce-6bdb-4ad1-95fa-049fd6def5f8",
   "metadata": {},
   "outputs": [
    {
     "data": {
      "text/html": [
       "<pre style=\"white-space:pre;overflow-x:auto;line-height:normal;font-family:Menlo,'DejaVu Sans Mono',consolas,'Courier New',monospace\"><span style=\"color: #800080; text-decoration-color: #800080; font-weight: bold\">Message</span><span style=\"font-weight: bold\">(</span>\n",
       "<span style=\"color: #7fbf7f; text-decoration-color: #7fbf7f\">│   </span><span style=\"color: #808000; text-decoration-color: #808000\">content</span>=<span style=\"color: #008000; text-decoration-color: #008000\">'To solve the equation \\\\(2x + 3 = 7\\\\), follow these steps:\\n\\n1. **Subtract 3 from both sides** to isolate the term with \\\\(x\\\\):\\n   \\\\[\\n   2x + 3 - 3 = 7 - 3\\n   \\\\]\\n   Simplifying gives:\\n   \\\\[\\n   2x = 4\\n   \\\\]\\n\\n2. **Divide both sides by 2** to solve for \\\\(x\\\\):\\n   \\\\[\\n   \\\\frac{2x}{2} = \\\\frac{4}{2}\\n   \\\\]\\n   Simplifying gives:\\n   \\\\[\\n   x = 2\\n   \\\\]\\n\\nSo, the solution is \\\\(x = 2\\\\).'</span>,\n",
       "<span style=\"color: #7fbf7f; text-decoration-color: #7fbf7f\">│   </span><span style=\"color: #808000; text-decoration-color: #808000\">role</span>=<span style=\"color: #008000; text-decoration-color: #008000\">'assistant'</span>,\n",
       "<span style=\"color: #7fbf7f; text-decoration-color: #7fbf7f\">│   </span><span style=\"color: #808000; text-decoration-color: #808000\">tool_calls</span>=<span style=\"color: #800080; text-decoration-color: #800080; font-style: italic\">None</span>,\n",
       "<span style=\"color: #7fbf7f; text-decoration-color: #7fbf7f\">│   </span><span style=\"color: #808000; text-decoration-color: #808000\">function_call</span>=<span style=\"color: #800080; text-decoration-color: #800080; font-style: italic\">None</span>,\n",
       "<span style=\"color: #7fbf7f; text-decoration-color: #7fbf7f\">│   </span><span style=\"color: #808000; text-decoration-color: #808000\">provider_specific_fields</span>=<span style=\"color: #800080; text-decoration-color: #800080; font-style: italic\">None</span>\n",
       "<span style=\"font-weight: bold\">)</span>\n",
       "</pre>\n"
      ],
      "text/plain": [
       "\u001b[1;35mMessage\u001b[0m\u001b[1m(\u001b[0m\n",
       "\u001b[2;32m│   \u001b[0m\u001b[33mcontent\u001b[0m=\u001b[32m'To solve the equation \\\\\u001b[0m\u001b[32m(\u001b[0m\u001b[32m2x + 3 = 7\\\\\u001b[0m\u001b[32m)\u001b[0m\u001b[32m, follow these steps:\\n\\n1. **Subtract 3 from both sides** to isolate the term with \\\\\u001b[0m\u001b[32m(\u001b[0m\u001b[32mx\\\\\u001b[0m\u001b[32m)\u001b[0m\u001b[32m:\\n   \\\\\u001b[0m\u001b[32m[\u001b[0m\u001b[32m\\n   2x + 3 - 3 = 7 - 3\\n   \\\\\u001b[0m\u001b[32m]\u001b[0m\u001b[32m\\n   Simplifying gives:\\n   \\\\\u001b[0m\u001b[32m[\u001b[0m\u001b[32m\\n   2x = 4\\n   \\\\\u001b[0m\u001b[32m]\u001b[0m\u001b[32m\\n\\n2. **Divide both sides by 2** to solve for \\\\\u001b[0m\u001b[32m(\u001b[0m\u001b[32mx\\\\\u001b[0m\u001b[32m)\u001b[0m\u001b[32m:\\n   \\\\\u001b[0m\u001b[32m[\u001b[0m\u001b[32m\\n   \\\\frac\u001b[0m\u001b[32m{\u001b[0m\u001b[32m2x\u001b[0m\u001b[32m}\u001b[0m\u001b[32m{\u001b[0m\u001b[32m2\u001b[0m\u001b[32m}\u001b[0m\u001b[32m = \\\\frac\u001b[0m\u001b[32m{\u001b[0m\u001b[32m4\u001b[0m\u001b[32m}\u001b[0m\u001b[32m{\u001b[0m\u001b[32m2\u001b[0m\u001b[32m}\u001b[0m\u001b[32m\\n   \\\\\u001b[0m\u001b[32m]\u001b[0m\u001b[32m\\n   Simplifying gives:\\n   \\\\\u001b[0m\u001b[32m[\u001b[0m\u001b[32m\\n   x = 2\\n   \\\\\u001b[0m\u001b[32m]\u001b[0m\u001b[32m\\n\\nSo, the solution is \\\\\u001b[0m\u001b[32m(\u001b[0m\u001b[32mx = 2\\\\\u001b[0m\u001b[32m)\u001b[0m\u001b[32m.'\u001b[0m,\n",
       "\u001b[2;32m│   \u001b[0m\u001b[33mrole\u001b[0m=\u001b[32m'assistant'\u001b[0m,\n",
       "\u001b[2;32m│   \u001b[0m\u001b[33mtool_calls\u001b[0m=\u001b[3;35mNone\u001b[0m,\n",
       "\u001b[2;32m│   \u001b[0m\u001b[33mfunction_call\u001b[0m=\u001b[3;35mNone\u001b[0m,\n",
       "\u001b[2;32m│   \u001b[0m\u001b[33mprovider_specific_fields\u001b[0m=\u001b[3;35mNone\u001b[0m\n",
       "\u001b[1m)\u001b[0m\n"
      ]
     },
     "metadata": {},
     "output_type": "display_data"
    }
   ],
   "source": [
    "pprint(\n",
    "    response.choices[0].message,\n",
    "    expand_all=True,\n",
    ")"
   ]
  },
  {
   "cell_type": "code",
   "execution_count": 5,
   "id": "d4c49ded-037b-4196-b108-20db1273b8d7",
   "metadata": {},
   "outputs": [
    {
     "name": "stdout",
     "output_type": "stream",
     "text": [
      "To solve the equation \\(2x + 3 = 7\\), follow these steps:\n",
      "\n",
      "1. **Subtract 3 from both sides** to isolate the term with \\(x\\):\n",
      "   \\[\n",
      "   2x + 3 - 3 = 7 - 3\n",
      "   \\]\n",
      "   Simplifying gives:\n",
      "   \\[\n",
      "   2x = 4\n",
      "   \\]\n",
      "\n",
      "2. **Divide both sides by 2** to solve for \\(x\\):\n",
      "   \\[\n",
      "   \\frac{2x}{2} = \\frac{4}{2}\n",
      "   \\]\n",
      "   Simplifying gives:\n",
      "   \\[\n",
      "   x = 2\n",
      "   \\]\n",
      "\n",
      "So, the solution is \\(x = 2\\).\n"
     ]
    }
   ],
   "source": [
    "print(response.choices[0].message.content)"
   ]
  },
  {
   "cell_type": "code",
   "execution_count": 3,
   "id": "d2426ffa",
   "metadata": {},
   "outputs": [
    {
     "data": {
      "text/markdown": [
       "\n",
       "To solve the equation $(2x + 3 = 7)$, follow these steps:\n",
       "\n",
       "1. **Subtract 3 from both sides** to isolate the term with $x$:\n",
       "   $$\n",
       "   2x + 3 - 3 = 7 - 3\n",
       "   $$\n",
       "   Simplifying gives:\n",
       "   $$\n",
       "   2x = 4\n",
       "   $$\n",
       "\n",
       "2. **Divide both sides by 2** to solve for $x$:\n",
       "   $$\n",
       "   \\frac{2x}{2} = \\frac{4}{2}\n",
       "   $$\n",
       "   Simplifying gives:\n",
       "   $$\n",
       "   x = 2\n",
       "   $$\n",
       "\n",
       "So, the solution is $x = 2$.\n"
      ],
      "text/plain": [
       "<IPython.core.display.Markdown object>"
      ]
     },
     "metadata": {},
     "output_type": "display_data"
    }
   ],
   "source": [
    "from IPython.display import display, Markdown\n",
    "\n",
    "latex_content = \"\"\"\n",
    "To solve the equation $(2x + 3 = 7)$, follow these steps:\n",
    "\n",
    "1. **Subtract 3 from both sides** to isolate the term with $x$:\n",
    "   $$\n",
    "   2x + 3 - 3 = 7 - 3\n",
    "   $$\n",
    "   Simplifying gives:\n",
    "   $$\n",
    "   2x = 4\n",
    "   $$\n",
    "\n",
    "2. **Divide both sides by 2** to solve for $x$:\n",
    "   $$\n",
    "   \\\\frac{2x}{2} = \\\\frac{4}{2}\n",
    "   $$\n",
    "   Simplifying gives:\n",
    "   $$\n",
    "   x = 2\n",
    "   $$\n",
    "\n",
    "So, the solution is $x = 2$.\n",
    "\"\"\"\n",
    "\n",
    "display(Markdown(latex_content))"
   ]
  }
 ],
 "metadata": {
  "kernelspec": {
   "display_name": "Python 3 (ipykernel)",
   "language": "python",
   "name": "python3"
  },
  "language_info": {
   "codemirror_mode": {
    "name": "ipython",
    "version": 3
   },
   "file_extension": ".py",
   "mimetype": "text/x-python",
   "name": "python",
   "nbconvert_exporter": "python",
   "pygments_lexer": "ipython3",
   "version": "3.11.12"
  }
 },
 "nbformat": 4,
 "nbformat_minor": 5
}
