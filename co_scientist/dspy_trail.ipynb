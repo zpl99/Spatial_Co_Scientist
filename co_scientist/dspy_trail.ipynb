{
 "cells": [
  {
   "cell_type": "code",
   "id": "initial_id",
   "metadata": {
    "collapsed": true,
    "ExecuteTime": {
     "end_time": "2025-06-17T19:37:45.025972Z",
     "start_time": "2025-06-17T19:37:43.874953Z"
    }
   },
   "source": "import dspy\n",
   "outputs": [],
   "execution_count": 1
  },
  {
   "metadata": {
    "ExecuteTime": {
     "end_time": "2025-06-17T19:45:09.551560Z",
     "start_time": "2025-06-17T19:45:09.546796Z"
    }
   },
   "cell_type": "code",
   "source": "lm = dspy.LM('azure/gpt-4.1', api_key='3c744295edda4f13bf0ef198ddb4d24c', api_base='https://ist-apim-aoai.azure-api.net/load-balancing/gpt-4.1')\n",
   "id": "e6b1df89dbbec876",
   "outputs": [],
   "execution_count": 2
  },
  {
   "metadata": {
    "ExecuteTime": {
     "end_time": "2025-06-17T19:45:24.258385Z",
     "start_time": "2025-06-17T19:45:24.256082Z"
    }
   },
   "cell_type": "code",
   "source": "dspy.configure(lm=lm)",
   "id": "dcae132ab463196f",
   "outputs": [],
   "execution_count": 3
  },
  {
   "metadata": {
    "ExecuteTime": {
     "end_time": "2025-06-17T19:45:32.891777Z",
     "start_time": "2025-06-17T19:45:31.231905Z"
    }
   },
   "cell_type": "code",
   "source": [
    "math = dspy.ChainOfThought(\"question -> answer: float\")\n",
    "math(question=\"Two dice are tossed. What is the probability that the sum equals two?\")"
   ],
   "id": "4b267128af56852d",
   "outputs": [
    {
     "data": {
      "text/plain": [
       "Prediction(\n",
       "    reasoning='When two dice are tossed, each die has 6 faces, so there are 6 × 6 = 36 possible outcomes. The sum equals two only if both dice show a 1, i.e., (1,1). This is only 1 outcome out of 36 possible outcomes.\\n\\nProbability = Number of favorable outcomes / Total number of outcomes = 1 / 36 = 0.027777...',\n",
       "    answer=0.027777777777777776\n",
       ")"
      ]
     },
     "execution_count": 4,
     "metadata": {},
     "output_type": "execute_result"
    }
   ],
   "execution_count": 4
  },
  {
   "metadata": {
    "ExecuteTime": {
     "end_time": "2025-06-17T19:53:53.119657Z",
     "start_time": "2025-06-17T19:53:53.114241Z"
    }
   },
   "cell_type": "code",
   "source": "lm.history",
   "id": "a1b1b93d8c06be5c",
   "outputs": [
    {
     "data": {
      "text/plain": [
       "[{'prompt': None,\n",
       "  'messages': [{'role': 'system',\n",
       "    'content': 'Your input fields are:\\n1. `question` (str):\\nYour output fields are:\\n1. `reasoning` (str): \\n2. `answer` (float):\\nAll interactions will be structured in the following way, with the appropriate values filled in.\\n\\n[[ ## question ## ]]\\n{question}\\n\\n[[ ## reasoning ## ]]\\n{reasoning}\\n\\n[[ ## answer ## ]]\\n{answer}        # note: the value you produce must be a single float value\\n\\n[[ ## completed ## ]]\\nIn adhering to this structure, your objective is: \\n        Given the fields `question`, produce the fields `answer`.'},\n",
       "   {'role': 'user',\n",
       "    'content': '[[ ## question ## ]]\\nTwo dice are tossed. What is the probability that the sum equals two?\\n\\nRespond with the corresponding output fields, starting with the field `[[ ## reasoning ## ]]`, then `[[ ## answer ## ]]` (must be formatted as a valid Python float), and then ending with the marker for `[[ ## completed ## ]]`.'}],\n",
       "  'kwargs': {},\n",
       "  'response': ModelResponse(id='chatcmpl-BjWXL3zaDNJ7Zc8FYTFA4YjqipyWj', created=1750189531, model='gpt-4.1-2025-04-14', object='chat.completion', system_fingerprint='fp_07e970ab25', choices=[Choices(finish_reason='stop', index=0, message=Message(content='[[ ## reasoning ## ]]\\nWhen two dice are tossed, each die has 6 faces, so there are 6 × 6 = 36 possible outcomes. The sum equals two only if both dice show a 1, i.e., (1,1). This is only 1 outcome out of 36 possible outcomes.\\n\\nProbability = Number of favorable outcomes / Total number of outcomes = 1 / 36 = 0.027777...\\n\\n[[ ## answer ## ]]\\n0.027777777777777776\\n\\n[[ ## completed ## ]]', role='assistant', tool_calls=None, function_call=None, provider_specific_fields={'refusal': None}, annotations=[]))], usage=Usage(completion_tokens=110, prompt_tokens=203, total_tokens=313, completion_tokens_details=CompletionTokensDetailsWrapper(accepted_prediction_tokens=0, audio_tokens=0, reasoning_tokens=0, rejected_prediction_tokens=0, text_tokens=None), prompt_tokens_details=PromptTokensDetailsWrapper(audio_tokens=0, cached_tokens=0, text_tokens=None, image_tokens=None)), service_tier=None, prompt_filter_results=[{'prompt_index': 0, 'content_filter_results': {'hate': {'filtered': False, 'severity': 'safe'}, 'jailbreak': {'filtered': False, 'detected': False}, 'self_harm': {'filtered': False, 'severity': 'safe'}, 'sexual': {'filtered': False, 'severity': 'safe'}, 'violence': {'filtered': False, 'severity': 'safe'}}}], cache_hit=None),\n",
       "  'outputs': ['[[ ## reasoning ## ]]\\nWhen two dice are tossed, each die has 6 faces, so there are 6 × 6 = 36 possible outcomes. The sum equals two only if both dice show a 1, i.e., (1,1). This is only 1 outcome out of 36 possible outcomes.\\n\\nProbability = Number of favorable outcomes / Total number of outcomes = 1 / 36 = 0.027777...\\n\\n[[ ## answer ## ]]\\n0.027777777777777776\\n\\n[[ ## completed ## ]]'],\n",
       "  'usage': {'completion_tokens': 110,\n",
       "   'prompt_tokens': 203,\n",
       "   'total_tokens': 313,\n",
       "   'completion_tokens_details': CompletionTokensDetailsWrapper(accepted_prediction_tokens=0, audio_tokens=0, reasoning_tokens=0, rejected_prediction_tokens=0, text_tokens=None),\n",
       "   'prompt_tokens_details': PromptTokensDetailsWrapper(audio_tokens=0, cached_tokens=0, text_tokens=None, image_tokens=None)},\n",
       "  'cost': 0.0012859999999999998,\n",
       "  'timestamp': '2025-06-17T14:45:32.885778',\n",
       "  'uuid': '778adc57-45b8-4128-9012-74523bf1c6a1',\n",
       "  'model': 'azure/gpt-4.1',\n",
       "  'response_model': 'gpt-4.1-2025-04-14',\n",
       "  'model_type': 'chat'}]"
      ]
     },
     "execution_count": 5,
     "metadata": {},
     "output_type": "execute_result"
    }
   ],
   "execution_count": 5
  },
  {
   "metadata": {
    "ExecuteTime": {
     "end_time": "2025-06-17T20:13:25.442633Z",
     "start_time": "2025-06-17T20:13:24.432107Z"
    }
   },
   "cell_type": "code",
   "source": [
    "from typing import Literal\n",
    "\n",
    "class Emotion(dspy.Signature):\n",
    "    \"\"\"Classify emotion.\"\"\"\n",
    "    sentence: str = dspy.InputField()\n",
    "    sentiment: Literal['sadness', 'joy', 'love', 'anger', 'fear', 'surprise'] = dspy.OutputField()\n",
    "\n",
    "sentence = \"i started feeling a little vulnerable when the giant spotlight started blinding me\"\n",
    "classify = dspy.Predict(Emotion)\n",
    "classify(sentence=sentence)"
   ],
   "id": "39c73f18665e2d37",
   "outputs": [
    {
     "data": {
      "text/plain": [
       "Prediction(\n",
       "    sentiment='fear'\n",
       ")"
      ]
     },
     "execution_count": 6,
     "metadata": {},
     "output_type": "execute_result"
    }
   ],
   "execution_count": 6
  },
  {
   "metadata": {
    "ExecuteTime": {
     "end_time": "2025-06-18T15:05:46.191180Z",
     "start_time": "2025-06-18T15:05:45.906624Z"
    }
   },
   "cell_type": "code",
   "source": [
    "import dspy\n",
    "\n",
    "# 1. 连接 ColBERTv2 检索服务（Wikipedia DEMO）\n",
    "search = dspy.ColBERTv2(url='http://20.102.90.50:2017/wiki17_abstracts')\n",
    "\n",
    "# 2. 检索问题\n",
    "query = \"Who designed the Eiffel Tower?\"\n",
    "results = search(query, k=3)\n",
    "\n",
    "# 3. 打印检索结果\n",
    "for i, r in enumerate(results):\n",
    "    print(f\"[{i+1}] {r['text']}\")"
   ],
   "id": "278901c96fa177a4",
   "outputs": [
    {
     "name": "stdout",
     "output_type": "stream",
     "text": [
      "[1] Stephen Sauvestre | Charles Léon Stephen Sauvestre (26 December 1847 - 18 June 1919) was a French architect. He is notable for being one of the architects contributing to the design of the world-famous Eiffel Tower, built for the 1889 Universal Exposition in Paris, France.\n",
      "[2] Émile Nouguier | Émile Nouguier (17 February 1840 – 23 November 1897) was a French civil engineer and architect. He is famous for co-designing the Eiffel Tower, built 1887–1889 for the 1889 Universal Exposition in Paris, France, the Garabit viaduct, the highest in the world at the time, near Ruynes-en-Margeride, Cantal, France, and the Faidherbe Bridge over the Sénégal River in Senegal.\n",
      "[3] Eiffel Tower | The Eiffel Tower ( ; French: \"tour Eiffel\" , ] ) is a wrought iron lattice tower on the Champ de Mars in Paris, France. It is named after the engineer Gustave Eiffel, whose company designed and built the tower.\n"
     ]
    }
   ],
   "execution_count": 13
  },
  {
   "metadata": {},
   "cell_type": "code",
   "outputs": [],
   "execution_count": null,
   "source": "",
   "id": "391903db358f714"
  }
 ],
 "metadata": {
  "kernelspec": {
   "display_name": "Python 3",
   "language": "python",
   "name": "python3"
  },
  "language_info": {
   "codemirror_mode": {
    "name": "ipython",
    "version": 2
   },
   "file_extension": ".py",
   "mimetype": "text/x-python",
   "name": "python",
   "nbconvert_exporter": "python",
   "pygments_lexer": "ipython2",
   "version": "2.7.6"
  }
 },
 "nbformat": 4,
 "nbformat_minor": 5
}
